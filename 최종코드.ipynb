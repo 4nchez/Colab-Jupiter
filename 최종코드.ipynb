{
  "nbformat": 4,
  "nbformat_minor": 0,
  "metadata": {
    "colab": {
      "name": "최종코드.ipynb",
      "provenance": [],
      "collapsed_sections": [],
      "authorship_tag": "ABX9TyO70FWWhelEU6jpYccu5eGG",
      "include_colab_link": true
    },
    "kernelspec": {
      "name": "python3",
      "display_name": "Python 3"
    },
    "accelerator": "GPU"
  },
  "cells": [
    {
      "cell_type": "markdown",
      "metadata": {
        "id": "view-in-github",
        "colab_type": "text"
      },
      "source": [
        "<a href=\"https://colab.research.google.com/github/4nchez/Colab-Jupiter/blob/master/%EC%B5%9C%EC%A2%85%EC%BD%94%EB%93%9C.ipynb\" target=\"_parent\"><img src=\"https://colab.research.google.com/assets/colab-badge.svg\" alt=\"Open In Colab\"/></a>"
      ]
    },
    {
      "cell_type": "markdown",
      "metadata": {
        "id": "5m83NRwewjUD"
      },
      "source": [
        "# Kaggle Challenge : Dogs-vs-Cats - Binary Image Classification using Keras\n",
        "해당 포스트는 [Kaggle  Dogs-vs-Cats challenge](https://www.kaggle.com/c/dogs-vs-cats) 해결하기위해 만들었으며, 여러 가지 자료들을 참고하여 만든 포스트 입니다.\n",
        "\n",
        "\n",
        "*   개발 환경 : google colab, Python3, Tensorflow, Keras\n",
        "*   실험 모델 : VGG16(Transfer Learning)\n",
        "*   실험에 쓰인 데이터 : Kaggle Dogs vs Cats challenge\n",
        "*   Test {개: 1,000, 고양이: 1,000} (총 2,000개)\n",
        "*   Training {개: 5,000, 고양이: 5,000} (총 10,000개)\n",
        "*   Validation {개: 2,500, 고양이: 2,500} (총 5,000개)\n",
        "*   IMAGE_HEIGHT, IMAGE_WIDTH, NUM_CHANNELS, BATCH_SIZE = 224, 224, 3, 32"
      ]
    },
    {
      "cell_type": "code",
      "metadata": {
        "id": "TD8EP4SF4BEg",
        "outputId": "e7645f33-95f0-4ad5-abc0-74a383218246",
        "colab": {
          "base_uri": "https://localhost:8080/",
          "height": 369
        }
      },
      "source": [
        "!nvidia-smi"
      ],
      "execution_count": 12,
      "outputs": [
        {
          "output_type": "stream",
          "text": [
            "Thu Oct  8 11:12:59 2020       \n",
            "+-----------------------------------------------------------------------------+\n",
            "| NVIDIA-SMI 455.23.05    Driver Version: 418.67       CUDA Version: 10.1     |\n",
            "|-------------------------------+----------------------+----------------------+\n",
            "| GPU  Name        Persistence-M| Bus-Id        Disp.A | Volatile Uncorr. ECC |\n",
            "| Fan  Temp  Perf  Pwr:Usage/Cap|         Memory-Usage | GPU-Util  Compute M. |\n",
            "|                               |                      |               MIG M. |\n",
            "|===============================+======================+======================|\n",
            "|   0  Tesla T4            Off  | 00000000:00:04.0 Off |                    0 |\n",
            "| N/A   50C    P8    10W /  70W |      0MiB / 15079MiB |      0%      Default |\n",
            "|                               |                      |                 ERR! |\n",
            "+-------------------------------+----------------------+----------------------+\n",
            "                                                                               \n",
            "+-----------------------------------------------------------------------------+\n",
            "| Processes:                                                                  |\n",
            "|  GPU   GI   CI        PID   Type   Process name                  GPU Memory |\n",
            "|        ID   ID                                                   Usage      |\n",
            "|=============================================================================|\n",
            "|  No running processes found                                                 |\n",
            "+-----------------------------------------------------------------------------+\n"
          ],
          "name": "stdout"
        }
      ]
    },
    {
      "cell_type": "markdown",
      "metadata": {
        "id": "ZbIAb6555KJr"
      },
      "source": [
        "실험에 필요한 이미지 파일 다운 & /content 에 압축풀기"
      ]
    },
    {
      "cell_type": "code",
      "metadata": {
        "id": "QrMMQwrLyYOG",
        "outputId": "42f05480-14c7-4615-9af4-8a88a310494f",
        "colab": {
          "base_uri": "https://localhost:8080/",
          "height": 298
        }
      },
      "source": [
        "!wget https://github.com/4nchez/Dataset/raw/main/cats_vs_dogs_images_small.zip #유닉스 wget 명령어 이용\n",
        "!!git clone https://github.com/4nchez/Dataset.git #git 명령어 이용"
      ],
      "execution_count": 13,
      "outputs": [
        {
          "output_type": "stream",
          "text": [
            "--2020-10-08 11:12:59--  https://github.com/4nchez/Dataset/raw/main/cats_vs_dogs_images_small.zip\n",
            "Resolving github.com (github.com)... 140.82.121.3\n",
            "Connecting to github.com (github.com)|140.82.121.3|:443... connected.\n",
            "HTTP request sent, awaiting response... 302 Found\n",
            "Location: https://media.githubusercontent.com/media/4nchez/Dataset/main/cats_vs_dogs_images_small.zip [following]\n",
            "--2020-10-08 11:12:59--  https://media.githubusercontent.com/media/4nchez/Dataset/main/cats_vs_dogs_images_small.zip\n",
            "Resolving media.githubusercontent.com (media.githubusercontent.com)... 151.101.0.133, 151.101.64.133, 151.101.128.133, ...\n",
            "Connecting to media.githubusercontent.com (media.githubusercontent.com)|151.101.0.133|:443... connected.\n",
            "HTTP request sent, awaiting response... 200 OK\n",
            "Length: 548537342 (523M) [application/zip]\n",
            "Saving to: ‘cats_vs_dogs_images_small.zip’\n",
            "\n",
            "cats_vs_dogs_images 100%[===================>] 523.12M   287MB/s    in 1.8s    \n",
            "\n",
            "2020-10-08 11:13:01 (287 MB/s) - ‘cats_vs_dogs_images_small.zip’ saved [548537342/548537342]\n",
            "\n"
          ],
          "name": "stdout"
        }
      ]
    },
    {
      "cell_type": "code",
      "metadata": {
        "id": "4CpUXvp3zMAD",
        "outputId": "e831b073-367d-4675-dbb7-2bf80d758513",
        "colab": {
          "base_uri": "https://localhost:8080/",
          "height": 34
        }
      },
      "source": [
        "import os, shutil\n",
        "import zipfile\n",
        "\n",
        "local_zip = '/content/cats_vs_dogs_images_small.zip' #wget 명령어로 받았을 때\n",
        "local_zip = '/content/Dataset/cats_vs_dogs_images_small.zip' #git 명령어로 받았을 때\n",
        " \n",
        "print('Extracting all images...', flush=True)\n",
        "zip_ref = zipfile.ZipFile(local_zip, 'r')\n",
        " \n",
        "zip_ref.extractall('/content')\n",
        "zip_ref.close()"
      ],
      "execution_count": 14,
      "outputs": [
        {
          "output_type": "stream",
          "text": [
            "Extracting all images...\n"
          ],
          "name": "stdout"
        }
      ]
    },
    {
      "cell_type": "markdown",
      "metadata": {
        "id": "tbb1Zhe5tyO8"
      },
      "source": [
        "## 실험에 쓰일 데이터 파일 연결"
      ]
    },
    {
      "cell_type": "code",
      "metadata": {
        "id": "RZ2LtU_aEZA9",
        "outputId": "6e9a096a-f47b-40ad-b28c-2c629d7a2a5d",
        "colab": {
          "base_uri": "https://localhost:8080/",
          "height": 52
        }
      },
      "source": [
        "import sys, os, random\n",
        "import numpy as np\n",
        "import tensorflow as tf\n",
        "import keras\n",
        "print('Using Tensorflow version ', tf.__version__)\n",
        "print('Using keras version ', keras.__version__)\n",
        " \n",
        "seed = 123\n",
        "random.seed(seed)\n",
        "np.random.seed(seed)\n",
        "# tf.set_random_seed(seed)\n",
        " \n",
        "import warnings\n",
        "warnings.filterwarnings('ignore')  # ignore all warnings"
      ],
      "execution_count": 15,
      "outputs": [
        {
          "output_type": "stream",
          "text": [
            "Using Tensorflow version  2.3.0\n",
            "Using keras version  2.4.3\n"
          ],
          "name": "stdout"
        }
      ]
    },
    {
      "cell_type": "code",
      "metadata": {
        "id": "-_MJbxKm6WV8"
      },
      "source": [
        "import matplotlib.pyplot as plt\n",
        "from tensorflow.keras import backend as K\n",
        "from tensorflow.keras.models import Model\n",
        "from tensorflow.keras.layers import (Input, Conv2D, BatchNormalization, MaxPooling2D, \n",
        "                                     Flatten, Dense, Dropout)\n",
        "from tensorflow.keras.regularizers import l2\n",
        "from tensorflow.keras.optimizers import Adam\n",
        "from tensorflow.keras.preprocessing.image import ImageDataGenerator"
      ],
      "execution_count": 16,
      "outputs": []
    },
    {
      "cell_type": "code",
      "metadata": {
        "id": "leOe8BLVSZl1"
      },
      "source": [
        "images_root = \"/content\"\n",
        "assert os.path.exists(images_root), \"%s folder does not exist!\" % images_root\n",
        " \n",
        "train_root = os.path.join(images_root,'training')\n",
        "train_root_cat = os.path.join(train_root,'cat')\n",
        "train_root_dog = os.path.join(train_root,'dog')\n",
        " \n",
        "eval_root = os.path.join(images_root,'validation')\n",
        "eval_root_cat = os.path.join(eval_root,'cat')\n",
        "eval_root_dog = os.path.join(eval_root,'dog')\n",
        " \n",
        "test_root = os.path.join(images_root,'test')\n",
        "test_root_cat = os.path.join(test_root,'cat')\n",
        "test_root_dog = os.path.join(test_root,'dog')"
      ],
      "execution_count": 17,
      "outputs": []
    },
    {
      "cell_type": "code",
      "metadata": {
        "id": "XTL2Tfh3jxCT"
      },
      "source": [
        "IMAGE_HEIGHT, IMAGE_WIDTH, NUM_CHANNELS, BATCH_SIZE = 224, 224, 3, 32"
      ],
      "execution_count": 18,
      "outputs": []
    },
    {
      "cell_type": "code",
      "metadata": {
        "id": "wMEZewGL2kw0",
        "outputId": "061999ca-390a-45aa-d156-307a25f1e78d",
        "colab": {
          "base_uri": "https://localhost:8080/",
          "height": 70
        }
      },
      "source": [
        "train_datagen = ImageDataGenerator(rescale=1.0/255)\n",
        "eval_datagen = ImageDataGenerator(rescale=1.0/255)\n",
        "test_datagen = ImageDataGenerator(rescale=1.0/255)\n",
        " \n",
        "train_generator = train_datagen.flow_from_directory(\n",
        "    train_root,\n",
        "    target_size=(IMAGE_HEIGHT,IMAGE_WIDTH),  # 이미지 사이즈 변경\n",
        "    batch_size=BATCH_SIZE,\n",
        "    class_mode='binary')\n",
        " \n",
        "eval_generator = eval_datagen.flow_from_directory(\n",
        "    eval_root,\n",
        "    target_size=(IMAGE_HEIGHT,IMAGE_WIDTH),  # 이미지 사이즈 변경\n",
        "    batch_size=BATCH_SIZE,\n",
        "    class_mode='binary')\n",
        " \n",
        "test_generator = test_datagen.flow_from_directory(\n",
        "    test_root,\n",
        "    target_size=(IMAGE_HEIGHT,IMAGE_WIDTH),  # 이미지 사이즈 변경\n",
        "    batch_size=BATCH_SIZE,\n",
        "    class_mode='binary')"
      ],
      "execution_count": 19,
      "outputs": [
        {
          "output_type": "stream",
          "text": [
            "Found 10000 images belonging to 2 classes.\n",
            "Found 5000 images belonging to 2 classes.\n",
            "Found 2000 images belonging to 2 classes.\n"
          ],
          "name": "stdout"
        }
      ]
    },
    {
      "cell_type": "code",
      "metadata": {
        "id": "nA_rvSOe2kw2",
        "outputId": "4728fc85-a6d6-4541-b41f-68f02d90c861",
        "colab": {
          "base_uri": "https://localhost:8080/",
          "height": 34
        }
      },
      "source": [
        "train_steps = train_generator.n // BATCH_SIZE\n",
        "val_steps = eval_generator.n // BATCH_SIZE\n",
        "test_steps = test_generator.n // BATCH_SIZE\n",
        "train_steps, val_steps, test_steps"
      ],
      "execution_count": 20,
      "outputs": [
        {
          "output_type": "execute_result",
          "data": {
            "text/plain": [
              "(312, 156, 62)"
            ]
          },
          "metadata": {
            "tags": []
          },
          "execution_count": 20
        }
      ]
    },
    {
      "cell_type": "markdown",
      "metadata": {
        "id": "g7EirR3hJC_o"
      },
      "source": [
        "# Default VGG16"
      ]
    },
    {
      "cell_type": "code",
      "metadata": {
        "id": "FRLcSK62GFWH",
        "outputId": "2e8e3652-d6c1-4090-c1ec-c9d751bb39e6",
        "colab": {
          "base_uri": "https://localhost:8080/",
          "height": 1000
        }
      },
      "source": [
        "vgg_base = keras.applications.VGG16(include_top=True, weights='imagenet',input_shape=(IMAGE_HEIGHT, IMAGE_WIDTH, NUM_CHANNELS))\n",
        "x = Dense(1, activation='sigmoid', name='predictions')(vgg_base.layers[-2].output)\n",
        "vgg_base.trainable = False\n",
        "model = Model(vgg_base.input,x)\n",
        "\n",
        "model.compile(optimizer=Adam(lr=1e-4, beta_1=0.9, beta_2=0.999),\n",
        "                  loss='binary_crossentropy',#mse, binary_crossentropy\n",
        "                  metrics=['acc'])\n",
        "model.summary()"
      ],
      "execution_count": 22,
      "outputs": [
        {
          "output_type": "stream",
          "text": [
            "Downloading data from https://storage.googleapis.com/tensorflow/keras-applications/vgg16/vgg16_weights_tf_dim_ordering_tf_kernels.h5\n",
            "553467904/553467096 [==============================] - 6s 0us/step\n",
            "Model: \"functional_1\"\n",
            "_________________________________________________________________\n",
            "Layer (type)                 Output Shape              Param #   \n",
            "=================================================================\n",
            "input_1 (InputLayer)         [(None, 224, 224, 3)]     0         \n",
            "_________________________________________________________________\n",
            "block1_conv1 (Conv2D)        (None, 224, 224, 64)      1792      \n",
            "_________________________________________________________________\n",
            "block1_conv2 (Conv2D)        (None, 224, 224, 64)      36928     \n",
            "_________________________________________________________________\n",
            "block1_pool (MaxPooling2D)   (None, 112, 112, 64)      0         \n",
            "_________________________________________________________________\n",
            "block2_conv1 (Conv2D)        (None, 112, 112, 128)     73856     \n",
            "_________________________________________________________________\n",
            "block2_conv2 (Conv2D)        (None, 112, 112, 128)     147584    \n",
            "_________________________________________________________________\n",
            "block2_pool (MaxPooling2D)   (None, 56, 56, 128)       0         \n",
            "_________________________________________________________________\n",
            "block3_conv1 (Conv2D)        (None, 56, 56, 256)       295168    \n",
            "_________________________________________________________________\n",
            "block3_conv2 (Conv2D)        (None, 56, 56, 256)       590080    \n",
            "_________________________________________________________________\n",
            "block3_conv3 (Conv2D)        (None, 56, 56, 256)       590080    \n",
            "_________________________________________________________________\n",
            "block3_pool (MaxPooling2D)   (None, 28, 28, 256)       0         \n",
            "_________________________________________________________________\n",
            "block4_conv1 (Conv2D)        (None, 28, 28, 512)       1180160   \n",
            "_________________________________________________________________\n",
            "block4_conv2 (Conv2D)        (None, 28, 28, 512)       2359808   \n",
            "_________________________________________________________________\n",
            "block4_conv3 (Conv2D)        (None, 28, 28, 512)       2359808   \n",
            "_________________________________________________________________\n",
            "block4_pool (MaxPooling2D)   (None, 14, 14, 512)       0         \n",
            "_________________________________________________________________\n",
            "block5_conv1 (Conv2D)        (None, 14, 14, 512)       2359808   \n",
            "_________________________________________________________________\n",
            "block5_conv2 (Conv2D)        (None, 14, 14, 512)       2359808   \n",
            "_________________________________________________________________\n",
            "block5_conv3 (Conv2D)        (None, 14, 14, 512)       2359808   \n",
            "_________________________________________________________________\n",
            "block5_pool (MaxPooling2D)   (None, 7, 7, 512)         0         \n",
            "_________________________________________________________________\n",
            "flatten (Flatten)            (None, 25088)             0         \n",
            "_________________________________________________________________\n",
            "fc1 (Dense)                  (None, 4096)              102764544 \n",
            "_________________________________________________________________\n",
            "fc2 (Dense)                  (None, 4096)              16781312  \n",
            "_________________________________________________________________\n",
            "predictions (Dense)          (None, 1)                 4097      \n",
            "=================================================================\n",
            "Total params: 134,264,641\n",
            "Trainable params: 4,097\n",
            "Non-trainable params: 134,260,544\n",
            "_________________________________________________________________\n"
          ],
          "name": "stdout"
        }
      ]
    },
    {
      "cell_type": "code",
      "metadata": {
        "id": "RnerMzbBJBO_",
        "outputId": "f9c559af-0e40-4a89-a292-9532d80b8333",
        "colab": {
          "base_uri": "https://localhost:8080/",
          "height": 1000
        }
      },
      "source": [
        "hist = model.fit_generator(\n",
        "    train_generator,\n",
        "    steps_per_epoch=train_steps,\n",
        "    epochs=50,\n",
        "    validation_data=eval_generator,\n",
        "    validation_steps=val_steps)"
      ],
      "execution_count": 24,
      "outputs": [
        {
          "output_type": "stream",
          "text": [
            "WARNING:tensorflow:From <ipython-input-24-9a0d8f8a328f>:6: Model.fit_generator (from tensorflow.python.keras.engine.training) is deprecated and will be removed in a future version.\n",
            "Instructions for updating:\n",
            "Please use Model.fit, which supports generators.\n",
            "Epoch 1/50\n",
            "312/312 [==============================] - 64s 205ms/step - loss: 0.5852 - acc: 0.7358 - val_loss: 0.4984 - val_acc: 0.8075\n",
            "Epoch 2/50\n",
            "312/312 [==============================] - 65s 208ms/step - loss: 0.4523 - acc: 0.8354 - val_loss: 0.4161 - val_acc: 0.8550\n",
            "Epoch 3/50\n",
            "312/312 [==============================] - 65s 208ms/step - loss: 0.3971 - acc: 0.8504 - val_loss: 0.3769 - val_acc: 0.8590\n",
            "Epoch 4/50\n",
            "312/312 [==============================] - 65s 210ms/step - loss: 0.3632 - acc: 0.8618 - val_loss: 0.3501 - val_acc: 0.8690\n",
            "Epoch 5/50\n",
            "312/312 [==============================] - 65s 210ms/step - loss: 0.3410 - acc: 0.8682 - val_loss: 0.3325 - val_acc: 0.8732\n",
            "Epoch 6/50\n",
            "312/312 [==============================] - 65s 208ms/step - loss: 0.3258 - acc: 0.8705 - val_loss: 0.3212 - val_acc: 0.8794\n",
            "Epoch 7/50\n",
            "312/312 [==============================] - 65s 208ms/step - loss: 0.3129 - acc: 0.8768 - val_loss: 0.3128 - val_acc: 0.8698\n",
            "Epoch 8/50\n",
            "312/312 [==============================] - 65s 209ms/step - loss: 0.3033 - acc: 0.8802 - val_loss: 0.2985 - val_acc: 0.8820\n",
            "Epoch 9/50\n",
            "312/312 [==============================] - 65s 208ms/step - loss: 0.2951 - acc: 0.8832 - val_loss: 0.2924 - val_acc: 0.8854\n",
            "Epoch 10/50\n",
            "312/312 [==============================] - 65s 207ms/step - loss: 0.2889 - acc: 0.8844 - val_loss: 0.2849 - val_acc: 0.8870\n",
            "Epoch 11/50\n",
            "312/312 [==============================] - 65s 207ms/step - loss: 0.2824 - acc: 0.8851 - val_loss: 0.2793 - val_acc: 0.8900\n",
            "Epoch 12/50\n",
            "312/312 [==============================] - 65s 208ms/step - loss: 0.2764 - acc: 0.8898 - val_loss: 0.2783 - val_acc: 0.8858\n",
            "Epoch 13/50\n",
            "312/312 [==============================] - 66s 211ms/step - loss: 0.2726 - acc: 0.8889 - val_loss: 0.2702 - val_acc: 0.8926\n",
            "Epoch 14/50\n",
            "312/312 [==============================] - 68s 217ms/step - loss: 0.2688 - acc: 0.8916 - val_loss: 0.2678 - val_acc: 0.8920\n",
            "Epoch 15/50\n",
            "312/312 [==============================] - 67s 214ms/step - loss: 0.2639 - acc: 0.8926 - val_loss: 0.2640 - val_acc: 0.8942\n",
            "Epoch 16/50\n",
            "312/312 [==============================] - 67s 214ms/step - loss: 0.2617 - acc: 0.8925 - val_loss: 0.2603 - val_acc: 0.8962\n",
            "Epoch 17/50\n",
            "312/312 [==============================] - 68s 218ms/step - loss: 0.2579 - acc: 0.8942 - val_loss: 0.2584 - val_acc: 0.8972\n",
            "Epoch 18/50\n",
            "312/312 [==============================] - 67s 215ms/step - loss: 0.2551 - acc: 0.8972 - val_loss: 0.2583 - val_acc: 0.8952\n",
            "Epoch 19/50\n",
            "312/312 [==============================] - 65s 208ms/step - loss: 0.2523 - acc: 0.8970 - val_loss: 0.2579 - val_acc: 0.8928\n",
            "Epoch 20/50\n",
            "312/312 [==============================] - 65s 207ms/step - loss: 0.2498 - acc: 0.9006 - val_loss: 0.2510 - val_acc: 0.8982\n",
            "Epoch 21/50\n",
            "312/312 [==============================] - 64s 206ms/step - loss: 0.2477 - acc: 0.8997 - val_loss: 0.2521 - val_acc: 0.8972\n",
            "Epoch 22/50\n",
            "312/312 [==============================] - 64s 206ms/step - loss: 0.2459 - acc: 0.9001 - val_loss: 0.2530 - val_acc: 0.8946\n",
            "Epoch 23/50\n",
            "312/312 [==============================] - 64s 205ms/step - loss: 0.2435 - acc: 0.8999 - val_loss: 0.2461 - val_acc: 0.9018\n",
            "Epoch 24/50\n",
            "312/312 [==============================] - 64s 205ms/step - loss: 0.2417 - acc: 0.9004 - val_loss: 0.2442 - val_acc: 0.9030\n",
            "Epoch 25/50\n",
            "312/312 [==============================] - 64s 206ms/step - loss: 0.2400 - acc: 0.9023 - val_loss: 0.2525 - val_acc: 0.8926\n",
            "Epoch 26/50\n",
            "312/312 [==============================] - 64s 205ms/step - loss: 0.2399 - acc: 0.9012 - val_loss: 0.2436 - val_acc: 0.8998\n",
            "Epoch 27/50\n",
            "312/312 [==============================] - 64s 206ms/step - loss: 0.2366 - acc: 0.9051 - val_loss: 0.2397 - val_acc: 0.9028\n",
            "Epoch 28/50\n",
            "312/312 [==============================] - 64s 205ms/step - loss: 0.2373 - acc: 0.9027 - val_loss: 0.2395 - val_acc: 0.9026\n",
            "Epoch 29/50\n",
            "312/312 [==============================] - 64s 205ms/step - loss: 0.2340 - acc: 0.9040 - val_loss: 0.2382 - val_acc: 0.9030\n",
            "Epoch 30/50\n",
            "312/312 [==============================] - 64s 205ms/step - loss: 0.2333 - acc: 0.9020 - val_loss: 0.2363 - val_acc: 0.9032\n",
            "Epoch 31/50\n",
            "312/312 [==============================] - 64s 205ms/step - loss: 0.2316 - acc: 0.9048 - val_loss: 0.2355 - val_acc: 0.9034\n",
            "Epoch 32/50\n",
            "312/312 [==============================] - 64s 206ms/step - loss: 0.2308 - acc: 0.9056 - val_loss: 0.2345 - val_acc: 0.9050\n",
            "Epoch 33/50\n",
            "312/312 [==============================] - 64s 205ms/step - loss: 0.2298 - acc: 0.9037 - val_loss: 0.2399 - val_acc: 0.8992\n",
            "Epoch 34/50\n",
            "312/312 [==============================] - 64s 205ms/step - loss: 0.2283 - acc: 0.9048 - val_loss: 0.2414 - val_acc: 0.8978\n",
            "Epoch 35/50\n",
            "312/312 [==============================] - 64s 205ms/step - loss: 0.2278 - acc: 0.9058 - val_loss: 0.2316 - val_acc: 0.9042\n",
            "Epoch 36/50\n",
            "312/312 [==============================] - 64s 205ms/step - loss: 0.2263 - acc: 0.9063 - val_loss: 0.2308 - val_acc: 0.9042\n",
            "Epoch 37/50\n",
            "312/312 [==============================] - 64s 206ms/step - loss: 0.2252 - acc: 0.9078 - val_loss: 0.2320 - val_acc: 0.9030\n",
            "Epoch 38/50\n",
            "312/312 [==============================] - 64s 205ms/step - loss: 0.2244 - acc: 0.9073 - val_loss: 0.2297 - val_acc: 0.9040\n",
            "Epoch 39/50\n",
            "312/312 [==============================] - 64s 205ms/step - loss: 0.2224 - acc: 0.9091 - val_loss: 0.2282 - val_acc: 0.9069\n",
            "Epoch 40/50\n",
            "312/312 [==============================] - 64s 205ms/step - loss: 0.2231 - acc: 0.9074 - val_loss: 0.2323 - val_acc: 0.9022\n",
            "Epoch 41/50\n",
            "312/312 [==============================] - 64s 205ms/step - loss: 0.2229 - acc: 0.9078 - val_loss: 0.2325 - val_acc: 0.9018\n",
            "Epoch 42/50\n",
            "312/312 [==============================] - 64s 206ms/step - loss: 0.2204 - acc: 0.9085 - val_loss: 0.2273 - val_acc: 0.9062\n",
            "Epoch 43/50\n",
            "312/312 [==============================] - 65s 207ms/step - loss: 0.2197 - acc: 0.9100 - val_loss: 0.2252 - val_acc: 0.9079\n",
            "Epoch 44/50\n",
            "312/312 [==============================] - 64s 205ms/step - loss: 0.2192 - acc: 0.9106 - val_loss: 0.2279 - val_acc: 0.9040\n",
            "Epoch 45/50\n",
            "312/312 [==============================] - 64s 205ms/step - loss: 0.2196 - acc: 0.9096 - val_loss: 0.2262 - val_acc: 0.9060\n",
            "Epoch 46/50\n",
            "312/312 [==============================] - 64s 205ms/step - loss: 0.2178 - acc: 0.9109 - val_loss: 0.2246 - val_acc: 0.9071\n",
            "Epoch 47/50\n",
            "312/312 [==============================] - 64s 205ms/step - loss: 0.2171 - acc: 0.9120 - val_loss: 0.2271 - val_acc: 0.9044\n",
            "Epoch 48/50\n",
            "312/312 [==============================] - 64s 205ms/step - loss: 0.2171 - acc: 0.9115 - val_loss: 0.2231 - val_acc: 0.9077\n",
            "Epoch 49/50\n",
            "312/312 [==============================] - 64s 205ms/step - loss: 0.2161 - acc: 0.9104 - val_loss: 0.2286 - val_acc: 0.9040\n",
            "Epoch 50/50\n",
            "312/312 [==============================] - 64s 205ms/step - loss: 0.2150 - acc: 0.9113 - val_loss: 0.2232 - val_acc: 0.9091\n"
          ],
          "name": "stdout"
        }
      ]
    },
    {
      "cell_type": "code",
      "metadata": {
        "id": "N5J3hKz0JlEH"
      },
      "source": [
        "def show_plots(history, plot_title=None, fig_size=None):\n",
        "    \"\"\" Useful function to view plot of loss values & accuracies across the various epochs\n",
        "        Works with the history object returned by the train_model(...) call \"\"\"\n",
        "    assert type(history) is dict\n",
        "\n",
        "    # NOTE: the history object should always have loss & acc (for training data), but MAY have\n",
        "    # val_loss & val_acc for validation data\n",
        "    loss_vals = history['loss']\n",
        "    val_loss_vals = history['val_loss'] if 'val_loss' in history.keys() else None\n",
        "    epochs = range(1, len(history['acc']) + 1)\n",
        "\n",
        "    f, ax = plt.subplots(nrows=1, ncols=2, figsize=((16, 4) if fig_size is None else fig_size))\n",
        "\n",
        "    # plot losses on ax[0]\n",
        "    ax[0].plot(epochs, loss_vals, color='navy', marker='o', linestyle=' ', label='Training Loss')\n",
        "    if val_loss_vals is not None:\n",
        "        ax[0].plot(epochs, val_loss_vals, color='firebrick', marker='*', label='Validation Loss')\n",
        "        ax[0].set_title('Training & Validation Loss')\n",
        "        ax[0].legend(loc='best')\n",
        "    else:\n",
        "        ax[0].set_title('Training Loss')\n",
        "\n",
        "    ax[0].set_xlabel('Epochs')\n",
        "    ax[0].set_ylabel('Loss')\n",
        "    ax[0].grid(True)\n",
        "\n",
        "    # plot accuracies\n",
        "    acc_vals = history['acc']\n",
        "    val_acc_vals = history['val_acc'] if 'val_acc' in history.keys() else None\n",
        "\n",
        "    ax[1].plot(epochs, acc_vals, color='navy', marker='o', ls=' ', label='Training Accuracy')\n",
        "    if val_acc_vals is not None:\n",
        "        ax[1].plot(epochs, val_acc_vals, color='firebrick', marker='*', label='Validation Accuracy')\n",
        "        ax[1].set_title('Training & Validation Accuracy')\n",
        "        ax[1].legend(loc='best')\n",
        "    else:\n",
        "        ax[1].set_title('Training Accuracy')\n",
        "\n",
        "    ax[1].set_xlabel('Epochs')\n",
        "    ax[1].set_ylabel('Accuracy')\n",
        "    ax[1].grid(True)\n",
        "\n",
        "    if plot_title is not None:\n",
        "        plt.suptitle(plot_title)\n",
        "\n",
        "    plt.show()\n",
        "    plt.close()\n",
        "\n",
        "    # delete locals from heap before exiting (to save some memory!)\n",
        "    del loss_vals, epochs, acc_vals\n",
        "    if val_loss_vals is not None:\n",
        "        del val_loss_vals\n",
        "    if val_acc_vals is not None:\n",
        "        del val_acc_vals\n",
        "def save_keras_model(model, base_file_name, save_dir=os.path.join('.','keras_models')):\n",
        "    \"\"\" save the model structure to JSON & weights to HD5 \"\"\"    \n",
        "    # check if save_dir exists, else create it\n",
        "    if not os.path.exists(save_dir):\n",
        "        try:\n",
        "            os.mkdir(save_dir)\n",
        "        except OSError as err:\n",
        "            print(\"Unable to create folder {} to save Keras model. Can't continue!\".format(save_dir))\n",
        "            raise err\n",
        "            \n",
        "    # model structure is saved to $(save_dir)/base_file_name.json\n",
        "    # weights are saved to $(save_dir)/base_file_name.h5\n",
        "    model_json = model.to_json()\n",
        "    json_file_path = os.path.join(save_dir, (base_file_name + \".json\"))\n",
        "    h5_file_path = os.path.join(save_dir, (base_file_name + \".h5\"))            \n",
        "\n",
        "    with open(json_file_path, \"w\") as json_file:\n",
        "        json_file.write(model_json)\n",
        "    # serialize weights to HDF5\\n\",\n",
        "    model.save_weights(h5_file_path)\n",
        "    print(\"Saved model to files %s and %s\" % (json_file_path, h5_file_path))\n",
        "\n",
        "def load_keras_model(base_file_name, load_dir=os.path.join('.', 'keras_models')):\n",
        "    \"\"\" loads model structure & weights from previously saved state \"\"\"\n",
        "    # model structure is loaded $(load_dir)/base_file_name.json\n",
        "    # weights are loaded from $(load_dir)/base_file_name.h5\n",
        "\n",
        "    from tensorflow.keras.models import model_from_json\n",
        "\n",
        "    # load model from save_path\n",
        "    loaded_model = None\n",
        "    json_file_path = os.path.join(load_dir, (base_file_name + \".json\"))\n",
        "    h5_file_path = os.path.join(load_dir, (base_file_name + \".h5\"))\n",
        "\n",
        "    if os.path.exists(json_file_path) and os.path.exists(h5_file_path):\n",
        "        with open(json_file_path, \"r\") as json_file:\n",
        "            loaded_model_json = json_file.read()\n",
        "            loaded_model = model_from_json(loaded_model_json)\n",
        "            loaded_model.load_weights(h5_file_path)\n",
        "        print(\"Loaded model from files %s and %s\" % (json_file_path, h5_file_path))\n",
        "    else:\n",
        "        msg = \"Model file(s) not found in %s! Expecting to find %s and %s in this directory.\" % (\n",
        "            load_dir, (base_file_name + \".json\"), (base_file_name + \".h5\"))\n",
        "        raise IOError(msg)\n",
        "    return loaded_model"
      ],
      "execution_count": 25,
      "outputs": []
    },
    {
      "cell_type": "code",
      "metadata": {
        "id": "gVhbOUA3JBPC",
        "outputId": "cede0b30-bade-41fc-cd17-d2afcbb5b1a2",
        "colab": {
          "base_uri": "https://localhost:8080/",
          "height": 308
        }
      },
      "source": [
        "show_plots(hist.history, plot_title='Using VGG16')"
      ],
      "execution_count": 26,
      "outputs": [
        {
          "output_type": "display_data",
          "data": {
            "image/png": "[encoded data removed]",
            "text/plain": [
              "<Figure size 1152x288 with 2 Axes>"
            ]
          },
          "metadata": {
            "tags": [],
            "needs_background": "light"
          }
        }
      ]
    },
    {
      "cell_type": "code",
      "metadata": {
        "id": "fnAGCBMVJBPE",
        "outputId": "4d4aa441-19f6-4e59-865b-c803cf83bfed",
        "colab": {
          "base_uri": "https://localhost:8080/",
          "height": 175
        }
      },
      "source": [
        "# 성능 평가\n",
        "loss, acc = model.evaluate_generator(train_generator, steps=train_steps, verbose=1)\n",
        "print('Training data  -> loss: %.3f, acc: %.3f' % (loss, acc))\n",
        "loss, acc = model.evaluate_generator(eval_generator, steps=val_steps, verbose=1)\n",
        "print('Cross-val data -> loss: %.3f, acc: %.3f' % (loss, acc))\n",
        "loss, acc = model.evaluate_generator(test_generator, steps=test_steps, verbose=1)\n",
        "print('Testing data   -> loss: %.3f, acc: %.3f' % (loss, acc))"
      ],
      "execution_count": 27,
      "outputs": [
        {
          "output_type": "stream",
          "text": [
            "WARNING:tensorflow:From <ipython-input-27-8e175f620f5c>:2: Model.evaluate_generator (from tensorflow.python.keras.engine.training) is deprecated and will be removed in a future version.\n",
            "Instructions for updating:\n",
            "Please use Model.evaluate, which supports generators.\n",
            "312/312 [==============================] - 43s 136ms/step - loss: 0.2144 - acc: 0.9139\n",
            "Training data  -> loss: 0.214, acc: 0.914\n",
            "156/156 [==============================] - 21s 138ms/step - loss: 0.2230 - acc: 0.9091\n",
            "Cross-val data -> loss: 0.223, acc: 0.909\n",
            "62/62 [==============================] - 8s 135ms/step - loss: 0.2249 - acc: 0.9189\n",
            "Testing data   -> loss: 0.225, acc: 0.919\n"
          ],
          "name": "stdout"
        }
      ]
    },
    {
      "cell_type": "code",
      "metadata": {
        "id": "UCBCwktuJBPG",
        "outputId": "0ebc4a41-0fc1-4209-84a9-c7494688bd5a",
        "colab": {
          "base_uri": "https://localhost:8080/",
          "height": 34
        }
      },
      "source": [
        "import pickle\n",
        "with open('/trainHistoryDict', 'wb') as file_pi:\n",
        "  pickle.dump(hist.history, file_pi)\n",
        "\n",
        "import pandas as pd\n",
        "MODEL_SAVE_DIR='/content'\n",
        "# convert the history.history dict to a pandas DataFrame:     \n",
        "hist_df = pd.DataFrame(hist.history) \n",
        "\n",
        "# save to json:  \n",
        "hist_json_file = MODEL_SAVE_DIR +'/파일명.json' \n",
        "with open(hist_json_file, mode='w') as f:\n",
        "    hist_df.to_json(f)\n",
        "\n",
        "# or save to csv: \n",
        "hist_csv_file = MODEL_SAVE_DIR +'/파일명.csv'\n",
        "with open(hist_csv_file, mode='w') as f:\n",
        "    hist_df.to_csv(f)\n",
        "\n",
        "\n",
        "save_keras_model(model, '파일명', MODEL_SAVE_DIR)\n",
        "del vgg_base\n",
        "del model"
      ],
      "execution_count": 28,
      "outputs": [
        {
          "output_type": "stream",
          "text": [
            "Saved model to files /content/파일명.json and /content/파일명.h5\n"
          ],
          "name": "stdout"
        }
      ]
    }
  ]
}