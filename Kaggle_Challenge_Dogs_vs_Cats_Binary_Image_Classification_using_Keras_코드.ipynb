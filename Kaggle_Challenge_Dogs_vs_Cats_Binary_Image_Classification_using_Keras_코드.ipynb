{
  "nbformat": 4,
  "nbformat_minor": 0,
  "metadata": {
    "colab": {
      "name": "Kaggle Challenge : Dogs-vs-Cats - Binary Image Classification using Keras 코드.ipynb",
      "provenance": [],
      "collapsed_sections": [
        "HE-JTmjLApKN",
        "tbb1Zhe5tyO8",
        "T-3yx8um7usX"
      ],
      "authorship_tag": "ABX9TyPEXFCw8PdY8PJ0HuKIuUlQ",
      "include_colab_link": true
    },
    "kernelspec": {
      "name": "python3",
      "display_name": "Python 3"
    },
    "accelerator": "GPU"
  },
  "cells": [
    {
      "cell_type": "markdown",
      "metadata": {
        "id": "view-in-github",
        "colab_type": "text"
      },
      "source": [
        "<a href=\"https://colab.research.google.com/github/4nchez/Colab-Jupiter/blob/master/Kaggle_Challenge_Dogs_vs_Cats_Binary_Image_Classification_using_Keras_%EC%BD%94%EB%93%9C.ipynb\" target=\"_parent\"><img src=\"https://colab.research.google.com/assets/colab-badge.svg\" alt=\"Open In Colab\"/></a>"
      ]
    },
    {
      "cell_type": "markdown",
      "metadata": {
        "id": "5m83NRwewjUD",
        "colab_type": "text"
      },
      "source": [
        "# Kaggle Challenge : Dogs-vs-Cats - Binary Image Classification using Keras\n",
        "해당 포스트는 [Kaggle  Dogs-vs-Cats challenge](https://www.kaggle.com/c/dogs-vs-cats) 해결하기위해 만들었으며, 여러 가지 자료들을 참고하여 만든 포스트 입니다.\n",
        "\n",
        "\n",
        "*   개발 환경 : google colab, Python3, Tensorflow, Keras\n",
        "*   실험 모델 : VGG16(Transfer Learning)\n",
        "*   실험에 쓰인 데이터 : Kaggle Dogs vs Cats challenge\n",
        "*   Test {개: 1,000, 고양이: 1,000} (총 2,000개)\n",
        "*   Training {개: 5,000, 고양이: 5,000} (총 10,000개)\n",
        "*   Validation {개: 2,500, 고양이: 2,500} (총 5,000개)\n",
        "*   IMAGE_HEIGHT, IMAGE_WIDTH, NUM_CHANNELS, BATCH_SIZE = 150, 150, 3, 32"
      ]
    },
    {
      "cell_type": "markdown",
      "metadata": {
        "id": "QvzEUULo3wfu",
        "colab_type": "text"
      },
      "source": [
        "GPU 사용"
      ]
    },
    {
      "cell_type": "code",
      "metadata": {
        "id": "d4yDQ-Wwwk5I",
        "colab_type": "code",
        "colab": {
          "base_uri": "https://localhost:8080/",
          "height": 372
        },
        "outputId": "78ad4187-8d9d-42fe-ec37-b09d79a37e11"
      },
      "source": [
        "!nvidia-smi"
      ],
      "execution_count": 1,
      "outputs": [
        {
          "output_type": "stream",
          "text": [
            "Thu Sep 24 06:17:29 2020       \n",
            "+-----------------------------------------------------------------------------+\n",
            "| NVIDIA-SMI 450.66       Driver Version: 418.67       CUDA Version: 10.1     |\n",
            "|-------------------------------+----------------------+----------------------+\n",
            "| GPU  Name        Persistence-M| Bus-Id        Disp.A | Volatile Uncorr. ECC |\n",
            "| Fan  Temp  Perf  Pwr:Usage/Cap|         Memory-Usage | GPU-Util  Compute M. |\n",
            "|                               |                      |               MIG M. |\n",
            "|===============================+======================+======================|\n",
            "|   0  Tesla T4            Off  | 00000000:00:04.0 Off |                    0 |\n",
            "| N/A   65C    P8    11W /  70W |      0MiB / 15079MiB |      0%      Default |\n",
            "|                               |                      |                 ERR! |\n",
            "+-------------------------------+----------------------+----------------------+\n",
            "                                                                               \n",
            "+-----------------------------------------------------------------------------+\n",
            "| Processes:                                                                  |\n",
            "|  GPU   GI   CI        PID   Type   Process name                  GPU Memory |\n",
            "|        ID   ID                                                   Usage      |\n",
            "|=============================================================================|\n",
            "|  No running processes found                                                 |\n",
            "+-----------------------------------------------------------------------------+\n"
          ],
          "name": "stdout"
        }
      ]
    },
    {
      "cell_type": "markdown",
      "metadata": {
        "id": "LQtVueKT9Z4x",
        "colab_type": "text"
      },
      "source": [
        "구글 드라이브 연동 코드"
      ]
    },
    {
      "cell_type": "code",
      "metadata": {
        "id": "cXnjXPZTn4Dn",
        "colab_type": "code",
        "colab": {
          "base_uri": "https://localhost:8080/",
          "height": 35
        },
        "outputId": "a945ab32-4b75-494e-e0f4-a60a64bf3c7a"
      },
      "source": [
        "import os\n",
        "from google.colab import drive\n",
        "drive.mount('/content/drive/')"
      ],
      "execution_count": 2,
      "outputs": [
        {
          "output_type": "stream",
          "text": [
            "Mounted at /content/drive/\n"
          ],
          "name": "stdout"
        }
      ]
    },
    {
      "cell_type": "code",
      "metadata": {
        "id": "_KTB9Rt6n5Mv",
        "colab_type": "code",
        "colab": {}
      },
      "source": [
        "import sys\n",
        "MODEL_SAVE_DIR = \"/content/drive/My Drive/Colab Notebooks/model_states\" #실험에 쓴 모델을 저장할 드라이브 경로\n",
        "IMAGES_ZIP_DIR = \"/content/drive/My Drive/Colab Notebooks/data/cats_vs_dogs\" #구글 드라이브에 저장되어 있는 데이터셋(이미지)\n",
        "import sys\n",
        "sys.path.append('./drive/My Drive/Colab Notebooks')\n",
        "import kr_helper_funcs as kru"
      ],
      "execution_count": 3,
      "outputs": []
    },
    {
      "cell_type": "markdown",
      "metadata": {
        "id": "HE-JTmjLApKN",
        "colab_type": "text"
      },
      "source": [
        "## Kaggle  Dogs-vs-Cats challenge Dataset\n",
        "Kaggle train.zip 에는 개와 고양이의 이미지 25,000 개 (고양이 색상 이미지 12,500 개 및 다양한 크기의 개 색상 이미지 12,500 개)가 포함되어 있습니다.\n",
        "\n",
        "train Data 중 별도의 프로그램을 사용하여 고양이와 개에 개에 각각 5,000개의 훈련 이미지, 고양이와 개에 대한 2,500개의 평가 이미지, 고양이와 개에 개에 각각 1,000개의 테스트 이미지로 구성된 작은 데이터 세트를 만들었습니다. 그런 다음 이미지 Dataset.zip 파일을 Google 드라이브에 업로드했습니다.\n",
        "\n",
        "zip 파일 cats_vs_dogs_images_small.zip은 내 Google 드라이브의 IMAGES_ZIP_DIR에서 사용할 수 있습니다. 아래 코드 셀은 로컬로 다운로드하고 /tmp 폴더에 이미지 압축을 풉니다."
      ]
    },
    {
      "cell_type": "code",
      "metadata": {
        "id": "RZ2LtU_aEZA9",
        "colab_type": "code",
        "colab": {
          "base_uri": "https://localhost:8080/",
          "height": 52
        },
        "outputId": "7bd2b1a1-ad8c-4e9e-9136-44686fb34255"
      },
      "source": [
        "import sys, os, random\n",
        "import numpy as np\n",
        "import tensorflow as tf\n",
        "import keras\n",
        "print('Using Tensorflow version ', tf.__version__)\n",
        "print('Using keras version ', keras.__version__)\n",
        "\n",
        "import matplotlib.pyplot as plt\n",
        "%matplotlib inline\n",
        " \n",
        "plt.style.use('seaborn')\n",
        " \n",
        "seed = 123\n",
        "random.seed(seed)\n",
        "np.random.seed(seed)\n",
        "# tf.set_random_seed(seed)\n",
        " \n",
        "import warnings\n",
        "warnings.filterwarnings('ignore')  # ignore all warnings"
      ],
      "execution_count": 4,
      "outputs": [
        {
          "output_type": "stream",
          "text": [
            "Using Tensorflow version  2.3.0\n",
            "Using keras version  2.4.3\n"
          ],
          "name": "stdout"
        }
      ]
    },
    {
      "cell_type": "code",
      "metadata": {
        "id": "8ohb1Hf6FyTO",
        "colab_type": "code",
        "colab": {}
      },
      "source": [
        "from tensorflow.keras import backend as K\n",
        "from tensorflow.keras.models import Model\n",
        "from tensorflow.keras.layers import (Input, Conv2D, BatchNormalization, MaxPooling2D, \n",
        "                                     Flatten, Dense, Dropout)\n",
        "from tensorflow.keras.regularizers import l2\n",
        "from tensorflow.keras.optimizers import Adam\n",
        "from tensorflow.keras.preprocessing.image import ImageDataGenerator"
      ],
      "execution_count": 5,
      "outputs": []
    },
    {
      "cell_type": "code",
      "metadata": {
        "id": "ea0g4CxrAmbA",
        "colab_type": "code",
        "colab": {
          "base_uri": "https://localhost:8080/",
          "height": 52
        },
        "outputId": "3e74a4ff-21c4-4132-cb50-644cc9e8763c"
      },
      "source": [
        "import os, shutil\n",
        "import zipfile\n",
        " \n",
        "#!cp $(IMAGES_ZIP_DIR/images_small.zip\" /tmp\n",
        "source_file = os.path.join(IMAGES_ZIP_DIR, 'cats_vs_dogs_images_small.zip')\n",
        "local_zip = '/tmp/cats_vs_dogs_images_small.zip'\n",
        " \n",
        "print(\"Copying from drive %s to %s...\" % (source_file, local_zip), flush=True)\n",
        "shutil.copyfile(source_file, local_zip)\n",
        " \n",
        "assert os.path.exists(local_zip)\n",
        " \n",
        "print('Extracting all images...', flush=True)\n",
        "zip_ref = zipfile.ZipFile(local_zip, 'r')\n",
        " \n",
        "zip_ref.extractall('/tmp')\n",
        "zip_ref.close()"
      ],
      "execution_count": 6,
      "outputs": [
        {
          "output_type": "stream",
          "text": [
            "Copying from drive /content/drive/My Drive/Colab Notebooks/data/cats_vs_dogs/cats_vs_dogs_images_small.zip to /tmp/cats_vs_dogs_images_small.zip...\n",
            "Extracting all images...\n"
          ],
          "name": "stdout"
        }
      ]
    },
    {
      "cell_type": "markdown",
      "metadata": {
        "id": "tbb1Zhe5tyO8",
        "colab_type": "text"
      },
      "source": [
        "## 실험에 쓰일 데이터 파일 연결"
      ]
    },
    {
      "cell_type": "code",
      "metadata": {
        "id": "leOe8BLVSZl1",
        "colab_type": "code",
        "colab": {}
      },
      "source": [
        "images_root = \"/tmp\" # /content/drive/My Drive/img\n",
        "assert os.path.exists(images_root), \"%s folder does not exist!\" % images_root\n",
        " \n",
        "train_root = os.path.join(images_root,'training')\n",
        "train_root_cat = os.path.join(train_root,'cat')\n",
        "train_root_dog = os.path.join(train_root,'dog')\n",
        " \n",
        "eval_root = os.path.join(images_root,'validation')\n",
        "eval_root_cat = os.path.join(eval_root,'cat')\n",
        "eval_root_dog = os.path.join(eval_root,'dog')\n",
        " \n",
        "test_root = os.path.join(images_root,'test')\n",
        "test_root_cat = os.path.join(test_root,'cat')\n",
        "test_root_dog = os.path.join(test_root,'dog')"
      ],
      "execution_count": 7,
      "outputs": []
    },
    {
      "cell_type": "code",
      "metadata": {
        "id": "XTL2Tfh3jxCT",
        "colab_type": "code",
        "colab": {}
      },
      "source": [
        "IMAGE_HEIGHT, IMAGE_WIDTH, NUM_CHANNELS, BATCH_SIZE = 150, 150, 3, 32"
      ],
      "execution_count": 8,
      "outputs": []
    },
    {
      "cell_type": "code",
      "metadata": {
        "colab_type": "code",
        "id": "wMEZewGL2kw0",
        "colab": {
          "base_uri": "https://localhost:8080/",
          "height": 70
        },
        "outputId": "92efd1bb-4618-4f46-8bfa-91760f0180e8"
      },
      "source": [
        "train_datagen = ImageDataGenerator(rescale=1.0/255)\n",
        "eval_datagen = ImageDataGenerator(rescale=1.0/255)\n",
        "test_datagen = ImageDataGenerator(rescale=1.0/255)\n",
        " \n",
        "train_generator = train_datagen.flow_from_directory(\n",
        "    train_root,\n",
        "    target_size=(IMAGE_HEIGHT,IMAGE_WIDTH),  # 이미지 사이즈 변경\n",
        "    batch_size=BATCH_SIZE,\n",
        "    class_mode='binary')\n",
        " \n",
        "eval_generator = eval_datagen.flow_from_directory(\n",
        "    eval_root,\n",
        "    target_size=(IMAGE_HEIGHT,IMAGE_WIDTH),  # 이미지 사이즈 변경\n",
        "    batch_size=BATCH_SIZE,\n",
        "    class_mode='binary')\n",
        " \n",
        "test_generator = test_datagen.flow_from_directory(\n",
        "    test_root,\n",
        "    target_size=(IMAGE_HEIGHT,IMAGE_WIDTH),  # 이미지 사이즈 변경\n",
        "    batch_size=BATCH_SIZE,\n",
        "    class_mode='binary')"
      ],
      "execution_count": null,
      "outputs": [
        {
          "output_type": "stream",
          "text": [
            "Found 10000 images belonging to 2 classes.\n",
            "Found 5000 images belonging to 2 classes.\n",
            "Found 2000 images belonging to 2 classes.\n"
          ],
          "name": "stdout"
        }
      ]
    },
    {
      "cell_type": "code",
      "metadata": {
        "colab_type": "code",
        "id": "nA_rvSOe2kw2",
        "colab": {
          "base_uri": "https://localhost:8080/",
          "height": 34
        },
        "outputId": "e384db42-0bf6-4ede-b447-ed1194bb8b94"
      },
      "source": [
        "train_steps = train_generator.n // BATCH_SIZE\n",
        "val_steps = eval_generator.n // BATCH_SIZE\n",
        "test_steps = test_generator.n // BATCH_SIZE\n",
        "train_steps, val_steps, test_steps"
      ],
      "execution_count": null,
      "outputs": [
        {
          "output_type": "execute_result",
          "data": {
            "text/plain": [
              "(312, 156, 62)"
            ]
          },
          "metadata": {
            "tags": []
          },
          "execution_count": 47
        }
      ]
    },
    {
      "cell_type": "markdown",
      "metadata": {
        "id": "EiKWhwVE2Utm",
        "colab_type": "text"
      },
      "source": [
        "# 기본 vgg16"
      ]
    },
    {
      "cell_type": "code",
      "metadata": {
        "colab_type": "code",
        "id": "Q0e9SrkM2kwu",
        "colab": {
          "base_uri": "https://localhost:8080/",
          "height": 439
        },
        "outputId": "04247903-11ff-4f7b-aad2-c2bed27a0d74"
      },
      "source": [
        "from keras.activations import softmax, relu, sigmoid\n",
        "\n",
        "vgg_base = keras.applications.VGG16(include_top=False, weights='imagenet',input_shape=(IMAGE_HEIGHT, IMAGE_WIDTH, NUM_CHANNELS))\n",
        "alpha = 0.00002  # weight decay coefficient\n",
        "model = tf.keras.models.Sequential([\n",
        "        vgg_base,\n",
        "        tf.keras.layers.Flatten(),\n",
        "        tf.keras.layers.Dropout(0.50),\n",
        "        tf.keras.layers.Dense(1024, activation='relu'),\n",
        "        tf.keras.layers.Dropout(0.20),        \n",
        "        tf.keras.layers.Dense(512, activation='relu'),\n",
        "        tf.keras.layers.Dropout(0.10),         \n",
        "        tf.keras.layers.Dense(1, activation='sigmoid')    \n",
        "    ])    \n",
        "vgg_base.trainable = False\n",
        "# model_vgg16.layers[-1].activation=None\n",
        "# for layer in model.layers:\n",
        "#     if isinstance(layer, keras.layers.Conv2D) or isinstance(layer, keras.layers.Dense):\n",
        "      # layer.add_loss(keras.regularizers.l2(alpha)(layer.kernel))\n",
        "#       layer.activation = sigmoid\n",
        "    # if hasattr(layer, 'bias_regularizer') and layer.use_bias:\n",
        "    #   layer.add_loss(keras.regularizers.l2(alpha)(layer.bias))\n",
        "\n",
        "model.compile(optimizer=Adam(lr=1e-4),\n",
        "                  loss='binary_crossentropy',#mse, binary_crossentropy\n",
        "                  metrics=['acc'])\n",
        "model.summary()"
      ],
      "execution_count": null,
      "outputs": [
        {
          "output_type": "stream",
          "text": [
            "Model: \"sequential_8\"\n",
            "_________________________________________________________________\n",
            "Layer (type)                 Output Shape              Param #   \n",
            "=================================================================\n",
            "vgg16 (Functional)           (None, 4, 4, 512)         14714688  \n",
            "_________________________________________________________________\n",
            "flatten_8 (Flatten)          (None, 8192)              0         \n",
            "_________________________________________________________________\n",
            "dropout_24 (Dropout)         (None, 8192)              0         \n",
            "_________________________________________________________________\n",
            "dense_24 (Dense)             (None, 1024)              8389632   \n",
            "_________________________________________________________________\n",
            "dropout_25 (Dropout)         (None, 1024)              0         \n",
            "_________________________________________________________________\n",
            "dense_25 (Dense)             (None, 512)               524800    \n",
            "_________________________________________________________________\n",
            "dropout_26 (Dropout)         (None, 512)               0         \n",
            "_________________________________________________________________\n",
            "dense_26 (Dense)             (None, 1)                 513       \n",
            "=================================================================\n",
            "Total params: 23,629,633\n",
            "Trainable params: 8,914,945\n",
            "Non-trainable params: 14,714,688\n",
            "_________________________________________________________________\n"
          ],
          "name": "stdout"
        }
      ]
    },
    {
      "cell_type": "code",
      "metadata": {
        "colab_type": "code",
        "id": "cq_UdcKD2kwy",
        "colab": {
          "base_uri": "https://localhost:8080/",
          "height": 951
        },
        "outputId": "2e2292da-42b9-46b0-ac80-301c24714ef5"
      },
      "source": [
        "from IPython.display import SVG\n",
        "from keras.utils.vis_utils import model_to_dot\n",
        "\n",
        "SVG(model_to_dot(model, show_shapes=True, dpi=70).create(prog='dot', format='svg'))"
      ],
      "execution_count": null,
      "outputs": [
        {
          "output_type": "execute_result",
          "data": {
            "text/plain": [
              "<IPython.core.display.SVG object>"
            ],
            "image/svg+xml": "<svg height=\"699pt\" viewBox=\"0.00 0.00 345.00 719.00\" width=\"335pt\" xmlns=\"http://www.w3.org/2000/svg\" xmlns:xlink=\"http://www.w3.org/1999/xlink\">\n<g class=\"graph\" id=\"graph0\" transform=\"scale(.9722 .9722) rotate(0) translate(4 715)\">\n<title>G</title>\n<polygon fill=\"#ffffff\" points=\"-4,4 -4,-715 341,-715 341,4 -4,4\" stroke=\"transparent\"/>\n<!-- 140535272723904 -->\n<g class=\"node\" id=\"node1\">\n<title>140535272723904</title>\n<polygon fill=\"none\" points=\"0,-664.5 0,-710.5 337,-710.5 337,-664.5 0,-664.5\" stroke=\"#000000\"/>\n<text fill=\"#000000\" font-family=\"Times,serif\" font-size=\"14.00\" text-anchor=\"middle\" x=\"81.5\" y=\"-683.8\">vgg16_input: InputLayer</text>\n<polyline fill=\"none\" points=\"163,-664.5 163,-710.5 \" stroke=\"#000000\"/>\n<text fill=\"#000000\" font-family=\"Times,serif\" font-size=\"14.00\" text-anchor=\"middle\" x=\"192\" y=\"-695.3\">input:</text>\n<polyline fill=\"none\" points=\"163,-687.5 221,-687.5 \" stroke=\"#000000\"/>\n<text fill=\"#000000\" font-family=\"Times,serif\" font-size=\"14.00\" text-anchor=\"middle\" x=\"192\" y=\"-672.3\">output:</text>\n<polyline fill=\"none\" points=\"221,-664.5 221,-710.5 \" stroke=\"#000000\"/>\n<text fill=\"#000000\" font-family=\"Times,serif\" font-size=\"14.00\" text-anchor=\"middle\" x=\"279\" y=\"-695.3\">[(?, 150, 150, 3)]</text>\n<polyline fill=\"none\" points=\"221,-687.5 337,-687.5 \" stroke=\"#000000\"/>\n<text fill=\"#000000\" font-family=\"Times,serif\" font-size=\"14.00\" text-anchor=\"middle\" x=\"279\" y=\"-672.3\">[(?, 150, 150, 3)]</text>\n</g>\n<!-- 140535272571680 -->\n<g class=\"node\" id=\"node2\">\n<title>140535272571680</title>\n<polygon fill=\"none\" points=\"24.5,-581.5 24.5,-627.5 312.5,-627.5 312.5,-581.5 24.5,-581.5\" stroke=\"#000000\"/>\n<text fill=\"#000000\" font-family=\"Times,serif\" font-size=\"14.00\" text-anchor=\"middle\" x=\"86\" y=\"-600.8\">vgg16: Functional</text>\n<polyline fill=\"none\" points=\"147.5,-581.5 147.5,-627.5 \" stroke=\"#000000\"/>\n<text fill=\"#000000\" font-family=\"Times,serif\" font-size=\"14.00\" text-anchor=\"middle\" x=\"176.5\" y=\"-612.3\">input:</text>\n<polyline fill=\"none\" points=\"147.5,-604.5 205.5,-604.5 \" stroke=\"#000000\"/>\n<text fill=\"#000000\" font-family=\"Times,serif\" font-size=\"14.00\" text-anchor=\"middle\" x=\"176.5\" y=\"-589.3\">output:</text>\n<polyline fill=\"none\" points=\"205.5,-581.5 205.5,-627.5 \" stroke=\"#000000\"/>\n<text fill=\"#000000\" font-family=\"Times,serif\" font-size=\"14.00\" text-anchor=\"middle\" x=\"259\" y=\"-612.3\">(?, 150, 150, 3)</text>\n<polyline fill=\"none\" points=\"205.5,-604.5 312.5,-604.5 \" stroke=\"#000000\"/>\n<text fill=\"#000000\" font-family=\"Times,serif\" font-size=\"14.00\" text-anchor=\"middle\" x=\"259\" y=\"-589.3\">(?, 4, 4, 512)</text>\n</g>\n<!-- 140535272723904&#45;&gt;140535272571680 -->\n<g class=\"edge\" id=\"edge1\">\n<title>140535272723904-&gt;140535272571680</title>\n<path d=\"M168.5,-664.3799C168.5,-656.1745 168.5,-646.7679 168.5,-637.8786\" fill=\"none\" stroke=\"#000000\"/>\n<polygon fill=\"#000000\" points=\"172.0001,-637.784 168.5,-627.784 165.0001,-637.784 172.0001,-637.784\" stroke=\"#000000\"/>\n</g>\n<!-- 140535272957096 -->\n<g class=\"node\" id=\"node3\">\n<title>140535272957096</title>\n<polygon fill=\"none\" points=\"37,-498.5 37,-544.5 300,-544.5 300,-498.5 37,-498.5\" stroke=\"#000000\"/>\n<text fill=\"#000000\" font-family=\"Times,serif\" font-size=\"14.00\" text-anchor=\"middle\" x=\"93.5\" y=\"-517.8\">flatten_7: Flatten</text>\n<polyline fill=\"none\" points=\"150,-498.5 150,-544.5 \" stroke=\"#000000\"/>\n<text fill=\"#000000\" font-family=\"Times,serif\" font-size=\"14.00\" text-anchor=\"middle\" x=\"179\" y=\"-529.3\">input:</text>\n<polyline fill=\"none\" points=\"150,-521.5 208,-521.5 \" stroke=\"#000000\"/>\n<text fill=\"#000000\" font-family=\"Times,serif\" font-size=\"14.00\" text-anchor=\"middle\" x=\"179\" y=\"-506.3\">output:</text>\n<polyline fill=\"none\" points=\"208,-498.5 208,-544.5 \" stroke=\"#000000\"/>\n<text fill=\"#000000\" font-family=\"Times,serif\" font-size=\"14.00\" text-anchor=\"middle\" x=\"254\" y=\"-529.3\">(?, 4, 4, 512)</text>\n<polyline fill=\"none\" points=\"208,-521.5 300,-521.5 \" stroke=\"#000000\"/>\n<text fill=\"#000000\" font-family=\"Times,serif\" font-size=\"14.00\" text-anchor=\"middle\" x=\"254\" y=\"-506.3\">(?, 8192)</text>\n</g>\n<!-- 140535272571680&#45;&gt;140535272957096 -->\n<g class=\"edge\" id=\"edge2\">\n<title>140535272571680-&gt;140535272957096</title>\n<path d=\"M168.5,-581.3799C168.5,-573.1745 168.5,-563.7679 168.5,-554.8786\" fill=\"none\" stroke=\"#000000\"/>\n<polygon fill=\"#000000\" points=\"172.0001,-554.784 168.5,-544.784 165.0001,-554.784 172.0001,-554.784\" stroke=\"#000000\"/>\n</g>\n<!-- 140535272658648 -->\n<g class=\"node\" id=\"node4\">\n<title>140535272658648</title>\n<polygon fill=\"none\" points=\"34.5,-415.5 34.5,-461.5 302.5,-461.5 302.5,-415.5 34.5,-415.5\" stroke=\"#000000\"/>\n<text fill=\"#000000\" font-family=\"Times,serif\" font-size=\"14.00\" text-anchor=\"middle\" x=\"105\" y=\"-434.8\">dropout_21: Dropout</text>\n<polyline fill=\"none\" points=\"175.5,-415.5 175.5,-461.5 \" stroke=\"#000000\"/>\n<text fill=\"#000000\" font-family=\"Times,serif\" font-size=\"14.00\" text-anchor=\"middle\" x=\"204.5\" y=\"-446.3\">input:</text>\n<polyline fill=\"none\" points=\"175.5,-438.5 233.5,-438.5 \" stroke=\"#000000\"/>\n<text fill=\"#000000\" font-family=\"Times,serif\" font-size=\"14.00\" text-anchor=\"middle\" x=\"204.5\" y=\"-423.3\">output:</text>\n<polyline fill=\"none\" points=\"233.5,-415.5 233.5,-461.5 \" stroke=\"#000000\"/>\n<text fill=\"#000000\" font-family=\"Times,serif\" font-size=\"14.00\" text-anchor=\"middle\" x=\"268\" y=\"-446.3\">(?, 8192)</text>\n<polyline fill=\"none\" points=\"233.5,-438.5 302.5,-438.5 \" stroke=\"#000000\"/>\n<text fill=\"#000000\" font-family=\"Times,serif\" font-size=\"14.00\" text-anchor=\"middle\" x=\"268\" y=\"-423.3\">(?, 8192)</text>\n</g>\n<!-- 140535272957096&#45;&gt;140535272658648 -->\n<g class=\"edge\" id=\"edge3\">\n<title>140535272957096-&gt;140535272658648</title>\n<path d=\"M168.5,-498.3799C168.5,-490.1745 168.5,-480.7679 168.5,-471.8786\" fill=\"none\" stroke=\"#000000\"/>\n<polygon fill=\"#000000\" points=\"172.0001,-471.784 168.5,-461.784 165.0001,-471.784 172.0001,-471.784\" stroke=\"#000000\"/>\n</g>\n<!-- 140535272659600 -->\n<g class=\"node\" id=\"node5\">\n<title>140535272659600</title>\n<polygon fill=\"none\" points=\"48,-332.5 48,-378.5 289,-378.5 289,-332.5 48,-332.5\" stroke=\"#000000\"/>\n<text fill=\"#000000\" font-family=\"Times,serif\" font-size=\"14.00\" text-anchor=\"middle\" x=\"105\" y=\"-351.8\">dense_21: Dense</text>\n<polyline fill=\"none\" points=\"162,-332.5 162,-378.5 \" stroke=\"#000000\"/>\n<text fill=\"#000000\" font-family=\"Times,serif\" font-size=\"14.00\" text-anchor=\"middle\" x=\"191\" y=\"-363.3\">input:</text>\n<polyline fill=\"none\" points=\"162,-355.5 220,-355.5 \" stroke=\"#000000\"/>\n<text fill=\"#000000\" font-family=\"Times,serif\" font-size=\"14.00\" text-anchor=\"middle\" x=\"191\" y=\"-340.3\">output:</text>\n<polyline fill=\"none\" points=\"220,-332.5 220,-378.5 \" stroke=\"#000000\"/>\n<text fill=\"#000000\" font-family=\"Times,serif\" font-size=\"14.00\" text-anchor=\"middle\" x=\"254.5\" y=\"-363.3\">(?, 8192)</text>\n<polyline fill=\"none\" points=\"220,-355.5 289,-355.5 \" stroke=\"#000000\"/>\n<text fill=\"#000000\" font-family=\"Times,serif\" font-size=\"14.00\" text-anchor=\"middle\" x=\"254.5\" y=\"-340.3\">(?, 1024)</text>\n</g>\n<!-- 140535272658648&#45;&gt;140535272659600 -->\n<g class=\"edge\" id=\"edge4\">\n<title>140535272658648-&gt;140535272659600</title>\n<path d=\"M168.5,-415.3799C168.5,-407.1745 168.5,-397.7679 168.5,-388.8786\" fill=\"none\" stroke=\"#000000\"/>\n<polygon fill=\"#000000\" points=\"172.0001,-388.784 168.5,-378.784 165.0001,-388.784 172.0001,-388.784\" stroke=\"#000000\"/>\n</g>\n<!-- 140535272660104 -->\n<g class=\"node\" id=\"node6\">\n<title>140535272660104</title>\n<polygon fill=\"none\" points=\"34.5,-249.5 34.5,-295.5 302.5,-295.5 302.5,-249.5 34.5,-249.5\" stroke=\"#000000\"/>\n<text fill=\"#000000\" font-family=\"Times,serif\" font-size=\"14.00\" text-anchor=\"middle\" x=\"105\" y=\"-268.8\">dropout_22: Dropout</text>\n<polyline fill=\"none\" points=\"175.5,-249.5 175.5,-295.5 \" stroke=\"#000000\"/>\n<text fill=\"#000000\" font-family=\"Times,serif\" font-size=\"14.00\" text-anchor=\"middle\" x=\"204.5\" y=\"-280.3\">input:</text>\n<polyline fill=\"none\" points=\"175.5,-272.5 233.5,-272.5 \" stroke=\"#000000\"/>\n<text fill=\"#000000\" font-family=\"Times,serif\" font-size=\"14.00\" text-anchor=\"middle\" x=\"204.5\" y=\"-257.3\">output:</text>\n<polyline fill=\"none\" points=\"233.5,-249.5 233.5,-295.5 \" stroke=\"#000000\"/>\n<text fill=\"#000000\" font-family=\"Times,serif\" font-size=\"14.00\" text-anchor=\"middle\" x=\"268\" y=\"-280.3\">(?, 1024)</text>\n<polyline fill=\"none\" points=\"233.5,-272.5 302.5,-272.5 \" stroke=\"#000000\"/>\n<text fill=\"#000000\" font-family=\"Times,serif\" font-size=\"14.00\" text-anchor=\"middle\" x=\"268\" y=\"-257.3\">(?, 1024)</text>\n</g>\n<!-- 140535272659600&#45;&gt;140535272660104 -->\n<g class=\"edge\" id=\"edge5\">\n<title>140535272659600-&gt;140535272660104</title>\n<path d=\"M168.5,-332.3799C168.5,-324.1745 168.5,-314.7679 168.5,-305.8786\" fill=\"none\" stroke=\"#000000\"/>\n<polygon fill=\"#000000\" points=\"172.0001,-305.784 168.5,-295.784 165.0001,-305.784 172.0001,-305.784\" stroke=\"#000000\"/>\n</g>\n<!-- 140535272660384 -->\n<g class=\"node\" id=\"node7\">\n<title>140535272660384</title>\n<polygon fill=\"none\" points=\"48,-166.5 48,-212.5 289,-212.5 289,-166.5 48,-166.5\" stroke=\"#000000\"/>\n<text fill=\"#000000\" font-family=\"Times,serif\" font-size=\"14.00\" text-anchor=\"middle\" x=\"105\" y=\"-185.8\">dense_22: Dense</text>\n<polyline fill=\"none\" points=\"162,-166.5 162,-212.5 \" stroke=\"#000000\"/>\n<text fill=\"#000000\" font-family=\"Times,serif\" font-size=\"14.00\" text-anchor=\"middle\" x=\"191\" y=\"-197.3\">input:</text>\n<polyline fill=\"none\" points=\"162,-189.5 220,-189.5 \" stroke=\"#000000\"/>\n<text fill=\"#000000\" font-family=\"Times,serif\" font-size=\"14.00\" text-anchor=\"middle\" x=\"191\" y=\"-174.3\">output:</text>\n<polyline fill=\"none\" points=\"220,-166.5 220,-212.5 \" stroke=\"#000000\"/>\n<text fill=\"#000000\" font-family=\"Times,serif\" font-size=\"14.00\" text-anchor=\"middle\" x=\"254.5\" y=\"-197.3\">(?, 1024)</text>\n<polyline fill=\"none\" points=\"220,-189.5 289,-189.5 \" stroke=\"#000000\"/>\n<text fill=\"#000000\" font-family=\"Times,serif\" font-size=\"14.00\" text-anchor=\"middle\" x=\"254.5\" y=\"-174.3\">(?, 512)</text>\n</g>\n<!-- 140535272660104&#45;&gt;140535272660384 -->\n<g class=\"edge\" id=\"edge6\">\n<title>140535272660104-&gt;140535272660384</title>\n<path d=\"M168.5,-249.3799C168.5,-241.1745 168.5,-231.7679 168.5,-222.8786\" fill=\"none\" stroke=\"#000000\"/>\n<polygon fill=\"#000000\" points=\"172.0001,-222.784 168.5,-212.784 165.0001,-222.784 172.0001,-222.784\" stroke=\"#000000\"/>\n</g>\n<!-- 140535272660888 -->\n<g class=\"node\" id=\"node8\">\n<title>140535272660888</title>\n<polygon fill=\"none\" points=\"38,-83.5 38,-129.5 299,-129.5 299,-83.5 38,-83.5\" stroke=\"#000000\"/>\n<text fill=\"#000000\" font-family=\"Times,serif\" font-size=\"14.00\" text-anchor=\"middle\" x=\"108.5\" y=\"-102.8\">dropout_23: Dropout</text>\n<polyline fill=\"none\" points=\"179,-83.5 179,-129.5 \" stroke=\"#000000\"/>\n<text fill=\"#000000\" font-family=\"Times,serif\" font-size=\"14.00\" text-anchor=\"middle\" x=\"208\" y=\"-114.3\">input:</text>\n<polyline fill=\"none\" points=\"179,-106.5 237,-106.5 \" stroke=\"#000000\"/>\n<text fill=\"#000000\" font-family=\"Times,serif\" font-size=\"14.00\" text-anchor=\"middle\" x=\"208\" y=\"-91.3\">output:</text>\n<polyline fill=\"none\" points=\"237,-83.5 237,-129.5 \" stroke=\"#000000\"/>\n<text fill=\"#000000\" font-family=\"Times,serif\" font-size=\"14.00\" text-anchor=\"middle\" x=\"268\" y=\"-114.3\">(?, 512)</text>\n<polyline fill=\"none\" points=\"237,-106.5 299,-106.5 \" stroke=\"#000000\"/>\n<text fill=\"#000000\" font-family=\"Times,serif\" font-size=\"14.00\" text-anchor=\"middle\" x=\"268\" y=\"-91.3\">(?, 512)</text>\n</g>\n<!-- 140535272660384&#45;&gt;140535272660888 -->\n<g class=\"edge\" id=\"edge7\">\n<title>140535272660384-&gt;140535272660888</title>\n<path d=\"M168.5,-166.3799C168.5,-158.1745 168.5,-148.7679 168.5,-139.8786\" fill=\"none\" stroke=\"#000000\"/>\n<polygon fill=\"#000000\" points=\"172.0001,-139.784 168.5,-129.784 165.0001,-139.784 172.0001,-139.784\" stroke=\"#000000\"/>\n</g>\n<!-- 140535272722672 -->\n<g class=\"node\" id=\"node9\">\n<title>140535272722672</title>\n<polygon fill=\"none\" points=\"51.5,-.5 51.5,-46.5 285.5,-46.5 285.5,-.5 51.5,-.5\" stroke=\"#000000\"/>\n<text fill=\"#000000\" font-family=\"Times,serif\" font-size=\"14.00\" text-anchor=\"middle\" x=\"108.5\" y=\"-19.8\">dense_23: Dense</text>\n<polyline fill=\"none\" points=\"165.5,-.5 165.5,-46.5 \" stroke=\"#000000\"/>\n<text fill=\"#000000\" font-family=\"Times,serif\" font-size=\"14.00\" text-anchor=\"middle\" x=\"194.5\" y=\"-31.3\">input:</text>\n<polyline fill=\"none\" points=\"165.5,-23.5 223.5,-23.5 \" stroke=\"#000000\"/>\n<text fill=\"#000000\" font-family=\"Times,serif\" font-size=\"14.00\" text-anchor=\"middle\" x=\"194.5\" y=\"-8.3\">output:</text>\n<polyline fill=\"none\" points=\"223.5,-.5 223.5,-46.5 \" stroke=\"#000000\"/>\n<text fill=\"#000000\" font-family=\"Times,serif\" font-size=\"14.00\" text-anchor=\"middle\" x=\"254.5\" y=\"-31.3\">(?, 512)</text>\n<polyline fill=\"none\" points=\"223.5,-23.5 285.5,-23.5 \" stroke=\"#000000\"/>\n<text fill=\"#000000\" font-family=\"Times,serif\" font-size=\"14.00\" text-anchor=\"middle\" x=\"254.5\" y=\"-8.3\">(?, 1)</text>\n</g>\n<!-- 140535272660888&#45;&gt;140535272722672 -->\n<g class=\"edge\" id=\"edge8\">\n<title>140535272660888-&gt;140535272722672</title>\n<path d=\"M168.5,-83.3799C168.5,-75.1745 168.5,-65.7679 168.5,-56.8786\" fill=\"none\" stroke=\"#000000\"/>\n<polygon fill=\"#000000\" points=\"172.0001,-56.784 168.5,-46.784 165.0001,-56.784 172.0001,-56.784\" stroke=\"#000000\"/>\n</g>\n</g>\n</svg>"
          },
          "metadata": {
            "tags": []
          },
          "execution_count": 45
        }
      ]
    },
    {
      "cell_type": "code",
      "metadata": {
        "colab_type": "code",
        "id": "hrWUlGFk2YUG",
        "colab": {
          "base_uri": "https://localhost:8080/",
          "height": 1000
        },
        "outputId": "d3e33685-4242-4a16-b97b-e08de5d794c3"
      },
      "source": [
        "hist = model_xfer.fit_generator(\n",
        "    train_generator,\n",
        "    steps_per_epoch=train_steps,\n",
        "    epochs=50,\n",
        "    validation_data=eval_generator,\n",
        "    validation_steps=val_steps)"
      ],
      "execution_count": null,
      "outputs": [
        {
          "output_type": "stream",
          "text": [
            "WARNING:tensorflow:From <ipython-input-13-35a040ff73b7>:6: Model.fit_generator (from tensorflow.python.keras.engine.training) is deprecated and will be removed in a future version.\n",
            "Instructions for updating:\n",
            "Please use Model.fit, which supports generators.\n",
            "Epoch 1/50\n",
            "312/312 [==============================] - 45s 144ms/step - loss: 0.3643 - acc: 0.8345 - val_loss: 0.2607 - val_acc: 0.8848\n",
            "Epoch 2/50\n",
            "312/312 [==============================] - 44s 143ms/step - loss: 0.2783 - acc: 0.8791 - val_loss: 0.2420 - val_acc: 0.8952\n",
            "Epoch 3/50\n",
            "312/312 [==============================] - 44s 142ms/step - loss: 0.2471 - acc: 0.8933 - val_loss: 0.2281 - val_acc: 0.9022\n",
            "Epoch 4/50\n",
            "312/312 [==============================] - 45s 143ms/step - loss: 0.2358 - acc: 0.9004 - val_loss: 0.2346 - val_acc: 0.9016\n",
            "Epoch 5/50\n",
            "312/312 [==============================] - 44s 142ms/step - loss: 0.2261 - acc: 0.9035 - val_loss: 0.2292 - val_acc: 0.9054\n",
            "Epoch 6/50\n",
            "312/312 [==============================] - 44s 142ms/step - loss: 0.2173 - acc: 0.9070 - val_loss: 0.2258 - val_acc: 0.9048\n",
            "Epoch 7/50\n",
            "312/312 [==============================] - 44s 141ms/step - loss: 0.2010 - acc: 0.9150 - val_loss: 0.2321 - val_acc: 0.9034\n",
            "Epoch 8/50\n",
            "312/312 [==============================] - 44s 142ms/step - loss: 0.1961 - acc: 0.9151 - val_loss: 0.2200 - val_acc: 0.9079\n",
            "Epoch 9/50\n",
            "312/312 [==============================] - 44s 142ms/step - loss: 0.1879 - acc: 0.9204 - val_loss: 0.2411 - val_acc: 0.8966\n",
            "Epoch 10/50\n",
            "312/312 [==============================] - 44s 143ms/step - loss: 0.1846 - acc: 0.9218 - val_loss: 0.2182 - val_acc: 0.9062\n",
            "Epoch 11/50\n",
            "312/312 [==============================] - 44s 142ms/step - loss: 0.1762 - acc: 0.9275 - val_loss: 0.2178 - val_acc: 0.9079\n",
            "Epoch 12/50\n",
            "312/312 [==============================] - 44s 142ms/step - loss: 0.1718 - acc: 0.9276 - val_loss: 0.2562 - val_acc: 0.8948\n",
            "Epoch 13/50\n",
            "312/312 [==============================] - 44s 142ms/step - loss: 0.1670 - acc: 0.9305 - val_loss: 0.2238 - val_acc: 0.9073\n",
            "Epoch 14/50\n",
            "312/312 [==============================] - 44s 142ms/step - loss: 0.1557 - acc: 0.9347 - val_loss: 0.2316 - val_acc: 0.9071\n",
            "Epoch 15/50\n",
            "312/312 [==============================] - 44s 142ms/step - loss: 0.1467 - acc: 0.9398 - val_loss: 0.2282 - val_acc: 0.9097\n",
            "Epoch 16/50\n",
            "312/312 [==============================] - 44s 142ms/step - loss: 0.1429 - acc: 0.9404 - val_loss: 0.2261 - val_acc: 0.9075\n",
            "Epoch 17/50\n",
            "312/312 [==============================] - 45s 143ms/step - loss: 0.1334 - acc: 0.9452 - val_loss: 0.2218 - val_acc: 0.9111\n",
            "Epoch 18/50\n",
            "312/312 [==============================] - 45s 144ms/step - loss: 0.1249 - acc: 0.9476 - val_loss: 0.2257 - val_acc: 0.9099\n",
            "Epoch 19/50\n",
            "312/312 [==============================] - 45s 143ms/step - loss: 0.1183 - acc: 0.9512 - val_loss: 0.2500 - val_acc: 0.9069\n",
            "Epoch 20/50\n",
            "312/312 [==============================] - 45s 143ms/step - loss: 0.1132 - acc: 0.9537 - val_loss: 0.2317 - val_acc: 0.9103\n",
            "Epoch 21/50\n",
            "312/312 [==============================] - 44s 142ms/step - loss: 0.1090 - acc: 0.9560 - val_loss: 0.2379 - val_acc: 0.9073\n",
            "Epoch 22/50\n",
            "312/312 [==============================] - 44s 143ms/step - loss: 0.1046 - acc: 0.9597 - val_loss: 0.2456 - val_acc: 0.9113\n",
            "Epoch 23/50\n",
            "312/312 [==============================] - 44s 143ms/step - loss: 0.0953 - acc: 0.9616 - val_loss: 0.2451 - val_acc: 0.9119\n",
            "Epoch 24/50\n",
            "312/312 [==============================] - 45s 143ms/step - loss: 0.0868 - acc: 0.9645 - val_loss: 0.2564 - val_acc: 0.9069\n",
            "Epoch 25/50\n",
            "312/312 [==============================] - 44s 142ms/step - loss: 0.0865 - acc: 0.9658 - val_loss: 0.2987 - val_acc: 0.9065\n",
            "Epoch 26/50\n",
            "312/312 [==============================] - 45s 143ms/step - loss: 0.0795 - acc: 0.9689 - val_loss: 0.2517 - val_acc: 0.9105\n",
            "Epoch 27/50\n",
            "312/312 [==============================] - 44s 142ms/step - loss: 0.0725 - acc: 0.9705 - val_loss: 0.2536 - val_acc: 0.9113\n",
            "Epoch 28/50\n",
            "312/312 [==============================] - 45s 143ms/step - loss: 0.0697 - acc: 0.9733 - val_loss: 0.2526 - val_acc: 0.9135\n",
            "Epoch 29/50\n",
            "312/312 [==============================] - 44s 142ms/step - loss: 0.0694 - acc: 0.9729 - val_loss: 0.2606 - val_acc: 0.9135\n",
            "Epoch 30/50\n",
            "312/312 [==============================] - 44s 143ms/step - loss: 0.0657 - acc: 0.9723 - val_loss: 0.2839 - val_acc: 0.9093\n",
            "Epoch 31/50\n",
            "312/312 [==============================] - 45s 143ms/step - loss: 0.0591 - acc: 0.9768 - val_loss: 0.2592 - val_acc: 0.9099\n",
            "Epoch 32/50\n",
            "312/312 [==============================] - 44s 142ms/step - loss: 0.0558 - acc: 0.9770 - val_loss: 0.2703 - val_acc: 0.9135\n",
            "Epoch 33/50\n",
            "312/312 [==============================] - 45s 143ms/step - loss: 0.0547 - acc: 0.9776 - val_loss: 0.2789 - val_acc: 0.9089\n",
            "Epoch 34/50\n",
            "312/312 [==============================] - 45s 143ms/step - loss: 0.0549 - acc: 0.9776 - val_loss: 0.3202 - val_acc: 0.9002\n",
            "Epoch 35/50\n",
            "312/312 [==============================] - 44s 143ms/step - loss: 0.0479 - acc: 0.9815 - val_loss: 0.2843 - val_acc: 0.9097\n",
            "Epoch 36/50\n",
            "312/312 [==============================] - 45s 146ms/step - loss: 0.0501 - acc: 0.9799 - val_loss: 0.2747 - val_acc: 0.9135\n",
            "Epoch 37/50\n",
            "312/312 [==============================] - 45s 146ms/step - loss: 0.0455 - acc: 0.9840 - val_loss: 0.2959 - val_acc: 0.9109\n",
            "Epoch 38/50\n",
            "312/312 [==============================] - 45s 144ms/step - loss: 0.0426 - acc: 0.9836 - val_loss: 0.3213 - val_acc: 0.9038\n",
            "Epoch 39/50\n",
            "312/312 [==============================] - 44s 142ms/step - loss: 0.0416 - acc: 0.9833 - val_loss: 0.3042 - val_acc: 0.9060\n",
            "Epoch 40/50\n",
            "312/312 [==============================] - 45s 143ms/step - loss: 0.0362 - acc: 0.9863 - val_loss: 0.3686 - val_acc: 0.8990\n",
            "Epoch 41/50\n",
            "312/312 [==============================] - 44s 142ms/step - loss: 0.0427 - acc: 0.9842 - val_loss: 0.2916 - val_acc: 0.9113\n",
            "Epoch 42/50\n",
            "312/312 [==============================] - 45s 143ms/step - loss: 0.0418 - acc: 0.9843 - val_loss: 0.3555 - val_acc: 0.9052\n",
            "Epoch 43/50\n",
            "312/312 [==============================] - 45s 143ms/step - loss: 0.0348 - acc: 0.9860 - val_loss: 0.3372 - val_acc: 0.9115\n",
            "Epoch 44/50\n",
            "312/312 [==============================] - 45s 144ms/step - loss: 0.0368 - acc: 0.9854 - val_loss: 0.3271 - val_acc: 0.9121\n",
            "Epoch 45/50\n",
            "312/312 [==============================] - 45s 146ms/step - loss: 0.0335 - acc: 0.9878 - val_loss: 0.3443 - val_acc: 0.9067\n",
            "Epoch 46/50\n",
            "312/312 [==============================] - 45s 144ms/step - loss: 0.0304 - acc: 0.9891 - val_loss: 0.3181 - val_acc: 0.9103\n",
            "Epoch 47/50\n",
            "312/312 [==============================] - 45s 143ms/step - loss: 0.0322 - acc: 0.9892 - val_loss: 0.3514 - val_acc: 0.9075\n",
            "Epoch 48/50\n",
            "312/312 [==============================] - 44s 143ms/step - loss: 0.0314 - acc: 0.9891 - val_loss: 0.3274 - val_acc: 0.9085\n",
            "Epoch 49/50\n",
            "312/312 [==============================] - 45s 143ms/step - loss: 0.0310 - acc: 0.9881 - val_loss: 0.3206 - val_acc: 0.9107\n",
            "Epoch 50/50\n",
            "312/312 [==============================] - 44s 142ms/step - loss: 0.0280 - acc: 0.9895 - val_loss: 0.3340 - val_acc: 0.9105\n"
          ],
          "name": "stdout"
        }
      ]
    },
    {
      "cell_type": "code",
      "metadata": {
        "colab_type": "code",
        "id": "rBVRlLmn2YUI",
        "colab": {
          "base_uri": "https://localhost:8080/",
          "height": 308
        },
        "outputId": "89a938b7-2dad-44d4-c076-1ff694f5e3f0"
      },
      "source": [
        "kru.show_plots(hist.history, plot_title='Using VGG16')"
      ],
      "execution_count": null,
      "outputs": [
        {
          "output_type": "display_data",
          "data": {
            "image/png": "[encoded data removed]",
            "text/plain": [
              "<Figure size 1152x288 with 2 Axes>"
            ]
          },
          "metadata": {
            "tags": []
          }
        }
      ]
    },
    {
      "cell_type": "code",
      "metadata": {
        "colab_type": "code",
        "id": "agbd40QM2YUK",
        "colab": {
          "base_uri": "https://localhost:8080/",
          "height": 195
        },
        "outputId": "c87ec062-0925-4661-fd13-e0558ea27966"
      },
      "source": [
        "# 성능 평가\n",
        "loss, acc = model_xfer.evaluate_generator(train_generator, steps=train_steps, verbose=1)\n",
        "print('Training data  -> loss: %.3f, acc: %.3f' % (loss, acc))\n",
        "loss, acc = model_xfer.evaluate_generator(eval_generator, steps=val_steps, verbose=1)\n",
        "print('Cross-val data -> loss: %.3f, acc: %.3f' % (loss, acc))\n",
        "loss, acc = model_xfer.evaluate_generator(test_generator, steps=test_steps, verbose=1)\n",
        "print('Testing data   -> loss: %.3f, acc: %.3f' % (loss, acc))"
      ],
      "execution_count": null,
      "outputs": [
        {
          "output_type": "stream",
          "text": [
            "WARNING:tensorflow:From <ipython-input-15-fa0d65e7ec46>:2: Model.evaluate_generator (from tensorflow.python.keras.engine.training) is deprecated and will be removed in a future version.\n",
            "Instructions for updating:\n",
            "Please use Model.evaluate, which supports generators.\n",
            "312/312 [==============================] - 30s 97ms/step - loss: 0.0026 - acc: 1.0000\n",
            "Training data  -> loss: 0.003, acc: 1.000\n",
            "156/156 [==============================] - 15s 97ms/step - loss: 0.3341 - acc: 0.9105\n",
            "Cross-val data -> loss: 0.334, acc: 0.910\n",
            "62/62 [==============================] - 6s 103ms/step - loss: 0.3579 - acc: 0.9017\n",
            "Testing data   -> loss: 0.358, acc: 0.902\n"
          ],
          "name": "stdout"
        }
      ]
    },
    {
      "cell_type": "markdown",
      "metadata": {
        "id": "T-3yx8um7usX",
        "colab_type": "text"
      },
      "source": [
        "# mse 인 vgg16"
      ]
    },
    {
      "cell_type": "code",
      "metadata": {
        "colab_type": "code",
        "id": "j5fgtKwO79qJ",
        "colab": {}
      },
      "source": [
        "from keras.activations import softmax, relu, sigmoid\n",
        "\n",
        "vgg_base = keras.applications.VGG16(include_top=False, weights='imagenet',input_shape=(IMAGE_HEIGHT, IMAGE_WIDTH, NUM_CHANNELS))\n",
        "alpha = 0.00002  # weight decay coefficient\n",
        "model = tf.keras.models.Sequential([\n",
        "        vgg_base,\n",
        "        tf.keras.layers.Flatten(),\n",
        "        tf.keras.layers.Dropout(0.50),\n",
        "        tf.keras.layers.Dense(1024, activation='relu'),\n",
        "        tf.keras.layers.Dropout(0.20),        \n",
        "        tf.keras.layers.Dense(512, activation='relu'),\n",
        "        tf.keras.layers.Dropout(0.10),         \n",
        "        tf.keras.layers.Dense(1, activation='sigmoid')    \n",
        "    ])    \n",
        "vgg_base.trainable = False\n",
        "# model_vgg16.layers[-1].activation=None\n",
        "for layer in model.layers:\n",
        "    if isinstance(layer, keras.layers.Conv2D) or isinstance(layer, keras.layers.Dense):\n",
        "      # layer.add_loss(keras.regularizers.l2(alpha)(layer.kernel))\n",
        "      # layer.activation = sigmoid\n",
        "    # if hasattr(layer, 'bias_regularizer') and layer.use_bias:\n",
        "    #   layer.add_loss(keras.regularizers.l2(alpha)(layer.bias))\n",
        "\n",
        "model.compile(optimizer=Adam(lr=1e-4),\n",
        "                  loss='mse',#mse, binary_crossentropy\n",
        "                  metrics=['acc'])\n",
        "model.summary()"
      ],
      "execution_count": null,
      "outputs": []
    },
    {
      "cell_type": "code",
      "metadata": {
        "colab_type": "code",
        "id": "Bo_otoFV79qN",
        "colab": {}
      },
      "source": [
        "from IPython.display import SVG\n",
        "from keras.utils.vis_utils import model_to_dot\n",
        "\n",
        "SVG(model_to_dot(model, show_shapes=True, dpi=70).create(prog='dot', format='svg'))"
      ],
      "execution_count": null,
      "outputs": []
    },
    {
      "cell_type": "code",
      "metadata": {
        "colab_type": "code",
        "id": "NiD-J7-I79qP",
        "colab": {}
      },
      "source": [
        "hist = model.fit_generator(\n",
        "    train_generator,\n",
        "    steps_per_epoch=train_steps,\n",
        "    epochs=50,\n",
        "    validation_data=eval_generator,\n",
        "    validation_steps=val_steps)"
      ],
      "execution_count": null,
      "outputs": []
    },
    {
      "cell_type": "code",
      "metadata": {
        "colab_type": "code",
        "id": "yLU_aOTk79qQ",
        "colab": {}
      },
      "source": [
        "kru.show_plots(hist.history, plot_title='Using VGG16 model')"
      ],
      "execution_count": null,
      "outputs": []
    },
    {
      "cell_type": "code",
      "metadata": {
        "colab_type": "code",
        "id": "0mWRhVLU79qS",
        "colab": {}
      },
      "source": [
        "# 성능 평가\n",
        "loss, acc = model.evaluate_generator(train_generator, steps=train_steps, verbose=1)\n",
        "print('Training data  -> loss: %.3f, acc: %.3f' % (loss, acc))\n",
        "loss, acc = model.evaluate_generator(eval_generator, steps=val_steps, verbose=1)\n",
        "print('Cross-val data -> loss: %.3f, acc: %.3f' % (loss, acc))\n",
        "loss, acc = model.evaluate_generator(test_generator, steps=test_steps, verbose=1)\n",
        "print('Testing data   -> loss: %.3f, acc: %.3f' % (loss, acc))"
      ],
      "execution_count": null,
      "outputs": []
    },
    {
      "cell_type": "markdown",
      "metadata": {
        "id": "wbCMhPkxhezL",
        "colab_type": "text"
      },
      "source": [
        "# 활성함수가 sigmoid 인 vgg16\n"
      ]
    },
    {
      "cell_type": "code",
      "metadata": {
        "id": "WAZMrJonrkYp",
        "colab_type": "code",
        "colab": {
          "base_uri": "https://localhost:8080/",
          "height": 444
        },
        "outputId": "81be13e1-a497-4739-e342-c36a2241845c"
      },
      "source": [
        "from keras.activations import softmax, relu, sigmoid\n",
        "\n",
        "vgg_base = keras.applications.VGG16(include_top=False, weights='imagenet',input_shape=(IMAGE_HEIGHT, IMAGE_WIDTH, NUM_CHANNELS))\n",
        "alpha = 0.00002  # weight decay coefficient\n",
        "for layer in vgg_base.layers:\n",
        "    if isinstance(layer, keras.layers.Conv2D) or isinstance(layer, keras.layers.Dense):\n",
        "      # layer.add_loss(keras.regularizers.l2(alpha)(layer.kernel))\n",
        "      layer.activation = sigmoid\n",
        "    # if hasattr(layer, 'bias_regularizer') and layer.use_bias:\n",
        "    #   layer.add_loss(keras.regularizers.l2(alpha)(layer.bias)\n",
        "    \n",
        "model = tf.keras.models.Sequential([\n",
        "        vgg_base,\n",
        "        tf.keras.layers.Flatten(),\n",
        "        tf.keras.layers.Dropout(0.50),\n",
        "        tf.keras.layers.Dense(1024, activation='relu'),\n",
        "        tf.keras.layers.Dropout(0.20),        \n",
        "        tf.keras.layers.Dense(512, activation='relu'),\n",
        "        tf.keras.layers.Dropout(0.10),         \n",
        "        tf.keras.layers.Dense(1, activation='sigmoid')    \n",
        "    ])    \n",
        "vgg_base.trainable = False\n",
        "# model_vgg16.layers[-1].activation=None\n",
        "for layer in model.layers:\n",
        "    if isinstance(layer, keras.layers.Conv2D) or isinstance(layer, keras.layers.Dense):\n",
        "      # layer.add_loss(keras.regularizers.l2(alpha)(layer.kernel))\n",
        "      layer.activation = sigmoid\n",
        "    # if hasattr(layer, 'bias_regularizer') and layer.use_bias:\n",
        "    #   layer.add_loss(keras.regularizers.l2(alpha)(layer.bias))\n",
        "\n",
        "model.compile(optimizer=Adam(lr=1e-4),\n",
        "                  loss='binary_crossentropy',#mse, binary_crossentropy\n",
        "                  metrics=['acc'])\n",
        "model.summary()"
      ],
      "execution_count": 53,
      "outputs": [
        {
          "output_type": "stream",
          "text": [
            "Model: \"sequential_9\"\n",
            "_________________________________________________________________\n",
            "Layer (type)                 Output Shape              Param #   \n",
            "=================================================================\n",
            "vgg16 (Functional)           (None, 4, 4, 512)         14714688  \n",
            "_________________________________________________________________\n",
            "flatten_9 (Flatten)          (None, 8192)              0         \n",
            "_________________________________________________________________\n",
            "dropout_27 (Dropout)         (None, 8192)              0         \n",
            "_________________________________________________________________\n",
            "dense_27 (Dense)             (None, 1024)              8389632   \n",
            "_________________________________________________________________\n",
            "dropout_28 (Dropout)         (None, 1024)              0         \n",
            "_________________________________________________________________\n",
            "dense_28 (Dense)             (None, 512)               524800    \n",
            "_________________________________________________________________\n",
            "dropout_29 (Dropout)         (None, 512)               0         \n",
            "_________________________________________________________________\n",
            "dense_29 (Dense)             (None, 1)                 513       \n",
            "=================================================================\n",
            "Total params: 23,629,633\n",
            "Trainable params: 8,914,945\n",
            "Non-trainable params: 14,714,688\n",
            "_________________________________________________________________\n"
          ],
          "name": "stdout"
        }
      ]
    },
    {
      "cell_type": "code",
      "metadata": {
        "id": "tC95Tb90tQ20",
        "colab_type": "code",
        "colab": {
          "base_uri": "https://localhost:8080/",
          "height": 952
        },
        "outputId": "efc5d21a-0215-4662-98ee-f1b60ec57307"
      },
      "source": [
        "from IPython.display import SVG\n",
        "from keras.utils.vis_utils import model_to_dot\n",
        "\n",
        "SVG(model_to_dot(model, show_shapes=True, dpi=70).create(prog='dot', format='svg'))"
      ],
      "execution_count": 54,
      "outputs": [
        {
          "output_type": "execute_result",
          "data": {
            "text/plain": [
              "<IPython.core.display.SVG object>"
            ],
            "image/svg+xml": "<svg height=\"699pt\" viewBox=\"0.00 0.00 345.00 719.00\" width=\"335pt\" xmlns=\"http://www.w3.org/2000/svg\" xmlns:xlink=\"http://www.w3.org/1999/xlink\">\n<g class=\"graph\" id=\"graph0\" transform=\"scale(.9722 .9722) rotate(0) translate(4 715)\">\n<title>G</title>\n<polygon fill=\"#ffffff\" points=\"-4,4 -4,-715 341,-715 341,4 -4,4\" stroke=\"transparent\"/>\n<!-- 140535259127032 -->\n<g class=\"node\" id=\"node1\">\n<title>140535259127032</title>\n<polygon fill=\"none\" points=\"0,-664.5 0,-710.5 337,-710.5 337,-664.5 0,-664.5\" stroke=\"#000000\"/>\n<text fill=\"#000000\" font-family=\"Times,serif\" font-size=\"14.00\" text-anchor=\"middle\" x=\"81.5\" y=\"-683.8\">vgg16_input: InputLayer</text>\n<polyline fill=\"none\" points=\"163,-664.5 163,-710.5 \" stroke=\"#000000\"/>\n<text fill=\"#000000\" font-family=\"Times,serif\" font-size=\"14.00\" text-anchor=\"middle\" x=\"192\" y=\"-695.3\">input:</text>\n<polyline fill=\"none\" points=\"163,-687.5 221,-687.5 \" stroke=\"#000000\"/>\n<text fill=\"#000000\" font-family=\"Times,serif\" font-size=\"14.00\" text-anchor=\"middle\" x=\"192\" y=\"-672.3\">output:</text>\n<polyline fill=\"none\" points=\"221,-664.5 221,-710.5 \" stroke=\"#000000\"/>\n<text fill=\"#000000\" font-family=\"Times,serif\" font-size=\"14.00\" text-anchor=\"middle\" x=\"279\" y=\"-695.3\">[(?, 150, 150, 3)]</text>\n<polyline fill=\"none\" points=\"221,-687.5 337,-687.5 \" stroke=\"#000000\"/>\n<text fill=\"#000000\" font-family=\"Times,serif\" font-size=\"14.00\" text-anchor=\"middle\" x=\"279\" y=\"-672.3\">[(?, 150, 150, 3)]</text>\n</g>\n<!-- 140535259081304 -->\n<g class=\"node\" id=\"node2\">\n<title>140535259081304</title>\n<polygon fill=\"none\" points=\"24.5,-581.5 24.5,-627.5 312.5,-627.5 312.5,-581.5 24.5,-581.5\" stroke=\"#000000\"/>\n<text fill=\"#000000\" font-family=\"Times,serif\" font-size=\"14.00\" text-anchor=\"middle\" x=\"86\" y=\"-600.8\">vgg16: Functional</text>\n<polyline fill=\"none\" points=\"147.5,-581.5 147.5,-627.5 \" stroke=\"#000000\"/>\n<text fill=\"#000000\" font-family=\"Times,serif\" font-size=\"14.00\" text-anchor=\"middle\" x=\"176.5\" y=\"-612.3\">input:</text>\n<polyline fill=\"none\" points=\"147.5,-604.5 205.5,-604.5 \" stroke=\"#000000\"/>\n<text fill=\"#000000\" font-family=\"Times,serif\" font-size=\"14.00\" text-anchor=\"middle\" x=\"176.5\" y=\"-589.3\">output:</text>\n<polyline fill=\"none\" points=\"205.5,-581.5 205.5,-627.5 \" stroke=\"#000000\"/>\n<text fill=\"#000000\" font-family=\"Times,serif\" font-size=\"14.00\" text-anchor=\"middle\" x=\"259\" y=\"-612.3\">(?, 150, 150, 3)</text>\n<polyline fill=\"none\" points=\"205.5,-604.5 312.5,-604.5 \" stroke=\"#000000\"/>\n<text fill=\"#000000\" font-family=\"Times,serif\" font-size=\"14.00\" text-anchor=\"middle\" x=\"259\" y=\"-589.3\">(?, 4, 4, 512)</text>\n</g>\n<!-- 140535259127032&#45;&gt;140535259081304 -->\n<g class=\"edge\" id=\"edge1\">\n<title>140535259127032-&gt;140535259081304</title>\n<path d=\"M168.5,-664.3799C168.5,-656.1745 168.5,-646.7679 168.5,-637.8786\" fill=\"none\" stroke=\"#000000\"/>\n<polygon fill=\"#000000\" points=\"172.0001,-637.784 168.5,-627.784 165.0001,-637.784 172.0001,-637.784\" stroke=\"#000000\"/>\n</g>\n<!-- 140535258995848 -->\n<g class=\"node\" id=\"node3\">\n<title>140535258995848</title>\n<polygon fill=\"none\" points=\"37,-498.5 37,-544.5 300,-544.5 300,-498.5 37,-498.5\" stroke=\"#000000\"/>\n<text fill=\"#000000\" font-family=\"Times,serif\" font-size=\"14.00\" text-anchor=\"middle\" x=\"93.5\" y=\"-517.8\">flatten_9: Flatten</text>\n<polyline fill=\"none\" points=\"150,-498.5 150,-544.5 \" stroke=\"#000000\"/>\n<text fill=\"#000000\" font-family=\"Times,serif\" font-size=\"14.00\" text-anchor=\"middle\" x=\"179\" y=\"-529.3\">input:</text>\n<polyline fill=\"none\" points=\"150,-521.5 208,-521.5 \" stroke=\"#000000\"/>\n<text fill=\"#000000\" font-family=\"Times,serif\" font-size=\"14.00\" text-anchor=\"middle\" x=\"179\" y=\"-506.3\">output:</text>\n<polyline fill=\"none\" points=\"208,-498.5 208,-544.5 \" stroke=\"#000000\"/>\n<text fill=\"#000000\" font-family=\"Times,serif\" font-size=\"14.00\" text-anchor=\"middle\" x=\"254\" y=\"-529.3\">(?, 4, 4, 512)</text>\n<polyline fill=\"none\" points=\"208,-521.5 300,-521.5 \" stroke=\"#000000\"/>\n<text fill=\"#000000\" font-family=\"Times,serif\" font-size=\"14.00\" text-anchor=\"middle\" x=\"254\" y=\"-506.3\">(?, 8192)</text>\n</g>\n<!-- 140535259081304&#45;&gt;140535258995848 -->\n<g class=\"edge\" id=\"edge2\">\n<title>140535259081304-&gt;140535258995848</title>\n<path d=\"M168.5,-581.3799C168.5,-573.1745 168.5,-563.7679 168.5,-554.8786\" fill=\"none\" stroke=\"#000000\"/>\n<polygon fill=\"#000000\" points=\"172.0001,-554.784 168.5,-544.784 165.0001,-554.784 172.0001,-554.784\" stroke=\"#000000\"/>\n</g>\n<!-- 140535259123840 -->\n<g class=\"node\" id=\"node4\">\n<title>140535259123840</title>\n<polygon fill=\"none\" points=\"34.5,-415.5 34.5,-461.5 302.5,-461.5 302.5,-415.5 34.5,-415.5\" stroke=\"#000000\"/>\n<text fill=\"#000000\" font-family=\"Times,serif\" font-size=\"14.00\" text-anchor=\"middle\" x=\"105\" y=\"-434.8\">dropout_27: Dropout</text>\n<polyline fill=\"none\" points=\"175.5,-415.5 175.5,-461.5 \" stroke=\"#000000\"/>\n<text fill=\"#000000\" font-family=\"Times,serif\" font-size=\"14.00\" text-anchor=\"middle\" x=\"204.5\" y=\"-446.3\">input:</text>\n<polyline fill=\"none\" points=\"175.5,-438.5 233.5,-438.5 \" stroke=\"#000000\"/>\n<text fill=\"#000000\" font-family=\"Times,serif\" font-size=\"14.00\" text-anchor=\"middle\" x=\"204.5\" y=\"-423.3\">output:</text>\n<polyline fill=\"none\" points=\"233.5,-415.5 233.5,-461.5 \" stroke=\"#000000\"/>\n<text fill=\"#000000\" font-family=\"Times,serif\" font-size=\"14.00\" text-anchor=\"middle\" x=\"268\" y=\"-446.3\">(?, 8192)</text>\n<polyline fill=\"none\" points=\"233.5,-438.5 302.5,-438.5 \" stroke=\"#000000\"/>\n<text fill=\"#000000\" font-family=\"Times,serif\" font-size=\"14.00\" text-anchor=\"middle\" x=\"268\" y=\"-423.3\">(?, 8192)</text>\n</g>\n<!-- 140535258995848&#45;&gt;140535259123840 -->\n<g class=\"edge\" id=\"edge3\">\n<title>140535258995848-&gt;140535259123840</title>\n<path d=\"M168.5,-498.3799C168.5,-490.1745 168.5,-480.7679 168.5,-471.8786\" fill=\"none\" stroke=\"#000000\"/>\n<polygon fill=\"#000000\" points=\"172.0001,-471.784 168.5,-461.784 165.0001,-471.784 172.0001,-471.784\" stroke=\"#000000\"/>\n</g>\n<!-- 140535259124232 -->\n<g class=\"node\" id=\"node5\">\n<title>140535259124232</title>\n<polygon fill=\"none\" points=\"48,-332.5 48,-378.5 289,-378.5 289,-332.5 48,-332.5\" stroke=\"#000000\"/>\n<text fill=\"#000000\" font-family=\"Times,serif\" font-size=\"14.00\" text-anchor=\"middle\" x=\"105\" y=\"-351.8\">dense_27: Dense</text>\n<polyline fill=\"none\" points=\"162,-332.5 162,-378.5 \" stroke=\"#000000\"/>\n<text fill=\"#000000\" font-family=\"Times,serif\" font-size=\"14.00\" text-anchor=\"middle\" x=\"191\" y=\"-363.3\">input:</text>\n<polyline fill=\"none\" points=\"162,-355.5 220,-355.5 \" stroke=\"#000000\"/>\n<text fill=\"#000000\" font-family=\"Times,serif\" font-size=\"14.00\" text-anchor=\"middle\" x=\"191\" y=\"-340.3\">output:</text>\n<polyline fill=\"none\" points=\"220,-332.5 220,-378.5 \" stroke=\"#000000\"/>\n<text fill=\"#000000\" font-family=\"Times,serif\" font-size=\"14.00\" text-anchor=\"middle\" x=\"254.5\" y=\"-363.3\">(?, 8192)</text>\n<polyline fill=\"none\" points=\"220,-355.5 289,-355.5 \" stroke=\"#000000\"/>\n<text fill=\"#000000\" font-family=\"Times,serif\" font-size=\"14.00\" text-anchor=\"middle\" x=\"254.5\" y=\"-340.3\">(?, 1024)</text>\n</g>\n<!-- 140535259123840&#45;&gt;140535259124232 -->\n<g class=\"edge\" id=\"edge4\">\n<title>140535259123840-&gt;140535259124232</title>\n<path d=\"M168.5,-415.3799C168.5,-407.1745 168.5,-397.7679 168.5,-388.8786\" fill=\"none\" stroke=\"#000000\"/>\n<polygon fill=\"#000000\" points=\"172.0001,-388.784 168.5,-378.784 165.0001,-388.784 172.0001,-388.784\" stroke=\"#000000\"/>\n</g>\n<!-- 140535259124736 -->\n<g class=\"node\" id=\"node6\">\n<title>140535259124736</title>\n<polygon fill=\"none\" points=\"34.5,-249.5 34.5,-295.5 302.5,-295.5 302.5,-249.5 34.5,-249.5\" stroke=\"#000000\"/>\n<text fill=\"#000000\" font-family=\"Times,serif\" font-size=\"14.00\" text-anchor=\"middle\" x=\"105\" y=\"-268.8\">dropout_28: Dropout</text>\n<polyline fill=\"none\" points=\"175.5,-249.5 175.5,-295.5 \" stroke=\"#000000\"/>\n<text fill=\"#000000\" font-family=\"Times,serif\" font-size=\"14.00\" text-anchor=\"middle\" x=\"204.5\" y=\"-280.3\">input:</text>\n<polyline fill=\"none\" points=\"175.5,-272.5 233.5,-272.5 \" stroke=\"#000000\"/>\n<text fill=\"#000000\" font-family=\"Times,serif\" font-size=\"14.00\" text-anchor=\"middle\" x=\"204.5\" y=\"-257.3\">output:</text>\n<polyline fill=\"none\" points=\"233.5,-249.5 233.5,-295.5 \" stroke=\"#000000\"/>\n<text fill=\"#000000\" font-family=\"Times,serif\" font-size=\"14.00\" text-anchor=\"middle\" x=\"268\" y=\"-280.3\">(?, 1024)</text>\n<polyline fill=\"none\" points=\"233.5,-272.5 302.5,-272.5 \" stroke=\"#000000\"/>\n<text fill=\"#000000\" font-family=\"Times,serif\" font-size=\"14.00\" text-anchor=\"middle\" x=\"268\" y=\"-257.3\">(?, 1024)</text>\n</g>\n<!-- 140535259124232&#45;&gt;140535259124736 -->\n<g class=\"edge\" id=\"edge5\">\n<title>140535259124232-&gt;140535259124736</title>\n<path d=\"M168.5,-332.3799C168.5,-324.1745 168.5,-314.7679 168.5,-305.8786\" fill=\"none\" stroke=\"#000000\"/>\n<polygon fill=\"#000000\" points=\"172.0001,-305.784 168.5,-295.784 165.0001,-305.784 172.0001,-305.784\" stroke=\"#000000\"/>\n</g>\n<!-- 140535259125016 -->\n<g class=\"node\" id=\"node7\">\n<title>140535259125016</title>\n<polygon fill=\"none\" points=\"48,-166.5 48,-212.5 289,-212.5 289,-166.5 48,-166.5\" stroke=\"#000000\"/>\n<text fill=\"#000000\" font-family=\"Times,serif\" font-size=\"14.00\" text-anchor=\"middle\" x=\"105\" y=\"-185.8\">dense_28: Dense</text>\n<polyline fill=\"none\" points=\"162,-166.5 162,-212.5 \" stroke=\"#000000\"/>\n<text fill=\"#000000\" font-family=\"Times,serif\" font-size=\"14.00\" text-anchor=\"middle\" x=\"191\" y=\"-197.3\">input:</text>\n<polyline fill=\"none\" points=\"162,-189.5 220,-189.5 \" stroke=\"#000000\"/>\n<text fill=\"#000000\" font-family=\"Times,serif\" font-size=\"14.00\" text-anchor=\"middle\" x=\"191\" y=\"-174.3\">output:</text>\n<polyline fill=\"none\" points=\"220,-166.5 220,-212.5 \" stroke=\"#000000\"/>\n<text fill=\"#000000\" font-family=\"Times,serif\" font-size=\"14.00\" text-anchor=\"middle\" x=\"254.5\" y=\"-197.3\">(?, 1024)</text>\n<polyline fill=\"none\" points=\"220,-189.5 289,-189.5 \" stroke=\"#000000\"/>\n<text fill=\"#000000\" font-family=\"Times,serif\" font-size=\"14.00\" text-anchor=\"middle\" x=\"254.5\" y=\"-174.3\">(?, 512)</text>\n</g>\n<!-- 140535259124736&#45;&gt;140535259125016 -->\n<g class=\"edge\" id=\"edge6\">\n<title>140535259124736-&gt;140535259125016</title>\n<path d=\"M168.5,-249.3799C168.5,-241.1745 168.5,-231.7679 168.5,-222.8786\" fill=\"none\" stroke=\"#000000\"/>\n<polygon fill=\"#000000\" points=\"172.0001,-222.784 168.5,-212.784 165.0001,-222.784 172.0001,-222.784\" stroke=\"#000000\"/>\n</g>\n<!-- 140535259125520 -->\n<g class=\"node\" id=\"node8\">\n<title>140535259125520</title>\n<polygon fill=\"none\" points=\"38,-83.5 38,-129.5 299,-129.5 299,-83.5 38,-83.5\" stroke=\"#000000\"/>\n<text fill=\"#000000\" font-family=\"Times,serif\" font-size=\"14.00\" text-anchor=\"middle\" x=\"108.5\" y=\"-102.8\">dropout_29: Dropout</text>\n<polyline fill=\"none\" points=\"179,-83.5 179,-129.5 \" stroke=\"#000000\"/>\n<text fill=\"#000000\" font-family=\"Times,serif\" font-size=\"14.00\" text-anchor=\"middle\" x=\"208\" y=\"-114.3\">input:</text>\n<polyline fill=\"none\" points=\"179,-106.5 237,-106.5 \" stroke=\"#000000\"/>\n<text fill=\"#000000\" font-family=\"Times,serif\" font-size=\"14.00\" text-anchor=\"middle\" x=\"208\" y=\"-91.3\">output:</text>\n<polyline fill=\"none\" points=\"237,-83.5 237,-129.5 \" stroke=\"#000000\"/>\n<text fill=\"#000000\" font-family=\"Times,serif\" font-size=\"14.00\" text-anchor=\"middle\" x=\"268\" y=\"-114.3\">(?, 512)</text>\n<polyline fill=\"none\" points=\"237,-106.5 299,-106.5 \" stroke=\"#000000\"/>\n<text fill=\"#000000\" font-family=\"Times,serif\" font-size=\"14.00\" text-anchor=\"middle\" x=\"268\" y=\"-91.3\">(?, 512)</text>\n</g>\n<!-- 140535259125016&#45;&gt;140535259125520 -->\n<g class=\"edge\" id=\"edge7\">\n<title>140535259125016-&gt;140535259125520</title>\n<path d=\"M168.5,-166.3799C168.5,-158.1745 168.5,-148.7679 168.5,-139.8786\" fill=\"none\" stroke=\"#000000\"/>\n<polygon fill=\"#000000\" points=\"172.0001,-139.784 168.5,-129.784 165.0001,-139.784 172.0001,-139.784\" stroke=\"#000000\"/>\n</g>\n<!-- 140535259125800 -->\n<g class=\"node\" id=\"node9\">\n<title>140535259125800</title>\n<polygon fill=\"none\" points=\"51.5,-.5 51.5,-46.5 285.5,-46.5 285.5,-.5 51.5,-.5\" stroke=\"#000000\"/>\n<text fill=\"#000000\" font-family=\"Times,serif\" font-size=\"14.00\" text-anchor=\"middle\" x=\"108.5\" y=\"-19.8\">dense_29: Dense</text>\n<polyline fill=\"none\" points=\"165.5,-.5 165.5,-46.5 \" stroke=\"#000000\"/>\n<text fill=\"#000000\" font-family=\"Times,serif\" font-size=\"14.00\" text-anchor=\"middle\" x=\"194.5\" y=\"-31.3\">input:</text>\n<polyline fill=\"none\" points=\"165.5,-23.5 223.5,-23.5 \" stroke=\"#000000\"/>\n<text fill=\"#000000\" font-family=\"Times,serif\" font-size=\"14.00\" text-anchor=\"middle\" x=\"194.5\" y=\"-8.3\">output:</text>\n<polyline fill=\"none\" points=\"223.5,-.5 223.5,-46.5 \" stroke=\"#000000\"/>\n<text fill=\"#000000\" font-family=\"Times,serif\" font-size=\"14.00\" text-anchor=\"middle\" x=\"254.5\" y=\"-31.3\">(?, 512)</text>\n<polyline fill=\"none\" points=\"223.5,-23.5 285.5,-23.5 \" stroke=\"#000000\"/>\n<text fill=\"#000000\" font-family=\"Times,serif\" font-size=\"14.00\" text-anchor=\"middle\" x=\"254.5\" y=\"-8.3\">(?, 1)</text>\n</g>\n<!-- 140535259125520&#45;&gt;140535259125800 -->\n<g class=\"edge\" id=\"edge8\">\n<title>140535259125520-&gt;140535259125800</title>\n<path d=\"M168.5,-83.3799C168.5,-75.1745 168.5,-65.7679 168.5,-56.8786\" fill=\"none\" stroke=\"#000000\"/>\n<polygon fill=\"#000000\" points=\"172.0001,-56.784 168.5,-46.784 165.0001,-56.784 172.0001,-56.784\" stroke=\"#000000\"/>\n</g>\n</g>\n</svg>"
          },
          "metadata": {
            "tags": []
          },
          "execution_count": 54
        }
      ]
    },
    {
      "cell_type": "code",
      "metadata": {
        "id": "h5Pw9I-Za6My",
        "colab_type": "code",
        "colab": {
          "base_uri": "https://localhost:8080/",
          "height": 124
        },
        "outputId": "6bf69e00-429d-4f0d-fb2a-78b55bafe2a4"
      },
      "source": [
        "hist = model.fit_generator(\n",
        "    train_generator,\n",
        "    steps_per_epoch=train_steps,\n",
        "    epochs=50,\n",
        "    validation_data=eval_generator,\n",
        "    validation_steps=val_steps)"
      ],
      "execution_count": null,
      "outputs": [
        {
          "output_type": "stream",
          "text": [
            "Epoch 1/50\n",
            "312/312 [==============================] - 54s 174ms/step - loss: 0.7083 - acc: 0.5025 - val_loss: 0.6961 - val_acc: 0.5000\n",
            "Epoch 2/50\n",
            "312/312 [==============================] - 54s 173ms/step - loss: 0.7064 - acc: 0.4949 - val_loss: 0.7141 - val_acc: 0.5002\n",
            "Epoch 3/50\n",
            "137/312 [============>.................] - ETA: 20s - loss: 0.7048 - acc: 0.4888"
          ],
          "name": "stdout"
        }
      ]
    },
    {
      "cell_type": "code",
      "metadata": {
        "id": "jBQkhHKHQ3i4",
        "colab_type": "code",
        "colab": {
          "base_uri": "https://localhost:8080/",
          "height": 308
        },
        "outputId": "806c2bf2-9a60-4740-fc53-1c6f6f5570f8"
      },
      "source": [
        "kru.show_plots(hist.history, plot_title='Using VGG16 model')"
      ],
      "execution_count": 51,
      "outputs": [
        {
          "output_type": "display_data",
          "data": {
            "image/png": "[encoded data removed]",
            "text/plain": [
              "<Figure size 1152x288 with 2 Axes>"
            ]
          },
          "metadata": {
            "tags": []
          }
        }
      ]
    },
    {
      "cell_type": "code",
      "metadata": {
        "id": "mSXUGOLZ81OS",
        "colab_type": "code",
        "colab": {
          "base_uri": "https://localhost:8080/",
          "height": 197
        },
        "outputId": "2f00172e-ed18-4b5d-d98b-f7f434914a10"
      },
      "source": [
        "# 성능 평가\n",
        "loss, acc = model.evaluate_generator(train_generator, steps=train_steps, verbose=1)\n",
        "print('Training data  -> loss: %.3f, acc: %.3f' % (loss, acc))\n",
        "loss, acc = model.evaluate_generator(eval_generator, steps=val_steps, verbose=1)\n",
        "print('Cross-val data -> loss: %.3f, acc: %.3f' % (loss, acc))\n",
        "loss, acc = model.evaluate_generator(test_generator, steps=test_steps, verbose=1)\n",
        "print('Testing data   -> loss: %.3f, acc: %.3f' % (loss, acc))"
      ],
      "execution_count": 52,
      "outputs": [
        {
          "output_type": "stream",
          "text": [
            "WARNING:tensorflow:From <ipython-input-52-8e175f620f5c>:2: Model.evaluate_generator (from tensorflow.python.keras.engine.training) is deprecated and will be removed in a future version.\n",
            "Instructions for updating:\n",
            "Please use Model.evaluate, which supports generators.\n",
            "312/312 [==============================] - 34s 108ms/step - loss: 0.0081 - acc: 1.0000\n",
            "Training data  -> loss: 0.008, acc: 1.000\n",
            "156/156 [==============================] - 17s 108ms/step - loss: 0.2782 - acc: 0.9103\n",
            "Cross-val data -> loss: 0.278, acc: 0.910\n",
            "62/62 [==============================] - 7s 107ms/step - loss: 0.2771 - acc: 0.9057\n",
            "Testing data   -> loss: 0.277, acc: 0.906\n"
          ],
          "name": "stdout"
        }
      ]
    },
    {
      "cell_type": "markdown",
      "metadata": {
        "colab_type": "text",
        "id": "voZTC5W_8dVq"
      },
      "source": [
        "# 활성함수가 sigmoid 이며 mse 인 vgg16\n"
      ]
    },
    {
      "cell_type": "code",
      "metadata": {
        "colab_type": "code",
        "id": "tDjG0kwE8dVr",
        "colab": {}
      },
      "source": [
        "from keras.activations import softmax, relu, sigmoid\n",
        "\n",
        "vgg_base = keras.applications.VGG16(include_top=False, weights='imagenet',input_shape=(IMAGE_HEIGHT, IMAGE_WIDTH, NUM_CHANNELS))\n",
        "alpha = 0.00002  # weight decay coefficient\n",
        "for layer in vgg_base.layers:\n",
        "    if isinstance(layer, keras.layers.Conv2D) or isinstance(layer, keras.layers.Dense):\n",
        "      # layer.add_loss(keras.regularizers.l2(alpha)(layer.kernel))\n",
        "      layer.activation = sigmoid\n",
        "    # if hasattr(layer, 'bias_regularizer') and layer.use_bias:\n",
        "    #   layer.add_loss(keras.regularizers.l2(alpha)(layer.bias)\n",
        "    \n",
        "model = tf.keras.models.Sequential([\n",
        "        vgg_base,\n",
        "        tf.keras.layers.Flatten(),\n",
        "        tf.keras.layers.Dropout(0.50),\n",
        "        tf.keras.layers.Dense(1024, activation='relu'),\n",
        "        tf.keras.layers.Dropout(0.20),        \n",
        "        tf.keras.layers.Dense(512, activation='relu'),\n",
        "        tf.keras.layers.Dropout(0.10),         \n",
        "        tf.keras.layers.Dense(1, activation='sigmoid')    \n",
        "    ])    \n",
        "vgg_base.trainable = False\n",
        "# model_vgg16.layers[-1].activation=None\n",
        "for layer in model.layers:\n",
        "    if isinstance(layer, keras.layers.Conv2D) or isinstance(layer, keras.layers.Dense):\n",
        "      # layer.add_loss(keras.regularizers.l2(alpha)(layer.kernel))\n",
        "      layer.activation = sigmoid\n",
        "    # if hasattr(layer, 'bias_regularizer') and layer.use_bias:\n",
        "    #   layer.add_loss(keras.regularizers.l2(alpha)(layer.bias))\n",
        "\n",
        "model.compile(optimizer=Adam(lr=1e-4),\n",
        "                  loss='binary_crossentropy',#mse, binary_crossentropy\n",
        "                  metrics=['acc'])\n",
        "model.summary()"
      ],
      "execution_count": null,
      "outputs": []
    },
    {
      "cell_type": "code",
      "metadata": {
        "colab_type": "code",
        "id": "otZ2ft-V8dVu",
        "colab": {}
      },
      "source": [
        "from IPython.display import SVG\n",
        "from keras.utils.vis_utils import model_to_dot\n",
        "\n",
        "SVG(model_to_dot(model, show_shapes=True, dpi=70).create(prog='dot', format='svg'))"
      ],
      "execution_count": null,
      "outputs": []
    },
    {
      "cell_type": "code",
      "metadata": {
        "colab_type": "code",
        "id": "S98GxzEA8dVw",
        "colab": {}
      },
      "source": [
        "hist = model.fit_generator(\n",
        "    train_generator,\n",
        "    steps_per_epoch=train_steps,\n",
        "    epochs=50,\n",
        "    validation_data=eval_generator,\n",
        "    validation_steps=val_steps)"
      ],
      "execution_count": null,
      "outputs": []
    },
    {
      "cell_type": "code",
      "metadata": {
        "colab_type": "code",
        "id": "InSvEYEK8dVz",
        "colab": {}
      },
      "source": [
        "kru.show_plots(hist.history, plot_title='Using VGG16 model')"
      ],
      "execution_count": null,
      "outputs": []
    },
    {
      "cell_type": "code",
      "metadata": {
        "colab_type": "code",
        "id": "C7Ix6bBk8dV1",
        "colab": {}
      },
      "source": [
        "# 성능 평가\n",
        "loss, acc = model.evaluate_generator(train_generator, steps=train_steps, verbose=1)\n",
        "print('Training data  -> loss: %.3f, acc: %.3f' % (loss, acc))\n",
        "loss, acc = model.evaluate_generator(eval_generator, steps=val_steps, verbose=1)\n",
        "print('Cross-val data -> loss: %.3f, acc: %.3f' % (loss, acc))\n",
        "loss, acc = model.evaluate_generator(test_generator, steps=test_steps, verbose=1)\n",
        "print('Testing data   -> loss: %.3f, acc: %.3f' % (loss, acc))"
      ],
      "execution_count": null,
      "outputs": []
    }
  ]
}