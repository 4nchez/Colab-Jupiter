{
  "nbformat": 4,
  "nbformat_minor": 0,
  "metadata": {
    "colab": {
      "name": "Kmean, Kmedois, hierachical",
      "provenance": [],
      "collapsed_sections": [
        "qLTNWRFWN9PS",
        "fMPHfrXUN5_S",
        "zcijR21OMMgt"
      ],
      "toc_visible": true,
      "authorship_tag": "ABX9TyPcgIa71BAgH+miVvrT4sCs",
      "include_colab_link": true
    },
    "kernelspec": {
      "name": "python3",
      "display_name": "Python 3"
    },
    "widgets": {
      "application/vnd.jupyter.widget-state+json": {
        "6a0fc139d479476bb46084eaae0fe48d": {
          "model_module": "@jupyter-widgets/controls",
          "model_name": "VBoxModel",
          "state": {
            "_view_name": "VBoxView",
            "_dom_classes": [
              "widget-interact"
            ],
            "_model_name": "VBoxModel",
            "_view_module": "@jupyter-widgets/controls",
            "_model_module_version": "1.5.0",
            "_view_count": null,
            "_view_module_version": "1.5.0",
            "box_style": "",
            "layout": "IPY_MODEL_972951ffad0549d8b7d35cbc38eeda45",
            "_model_module": "@jupyter-widgets/controls",
            "children": [
              "IPY_MODEL_afbb6ba29ff14cce96321101b11688ed",
              "IPY_MODEL_7de1bba837d84c89939fcad5e8028d7e",
              "IPY_MODEL_64a3ecad84ee44289b9038be89b2fed8",
              "IPY_MODEL_162dc1f7b2744541baf0cdbb8bc8ce80"
            ]
          }
        },
        "972951ffad0549d8b7d35cbc38eeda45": {
          "model_module": "@jupyter-widgets/base",
          "model_name": "LayoutModel",
          "state": {
            "_view_name": "LayoutView",
            "grid_template_rows": null,
            "right": null,
            "justify_content": null,
            "_view_module": "@jupyter-widgets/base",
            "overflow": null,
            "_model_module_version": "1.2.0",
            "_view_count": null,
            "flex_flow": null,
            "width": null,
            "min_width": null,
            "border": null,
            "align_items": null,
            "bottom": null,
            "_model_module": "@jupyter-widgets/base",
            "top": null,
            "grid_column": null,
            "overflow_y": null,
            "overflow_x": null,
            "grid_auto_flow": null,
            "grid_area": null,
            "grid_template_columns": null,
            "flex": null,
            "_model_name": "LayoutModel",
            "justify_items": null,
            "grid_row": null,
            "max_height": null,
            "align_content": null,
            "visibility": null,
            "align_self": null,
            "height": null,
            "min_height": null,
            "padding": null,
            "grid_auto_rows": null,
            "grid_gap": null,
            "max_width": null,
            "order": null,
            "_view_module_version": "1.2.0",
            "grid_template_areas": null,
            "object_position": null,
            "object_fit": null,
            "grid_auto_columns": null,
            "margin": null,
            "display": null,
            "left": null
          }
        },
        "afbb6ba29ff14cce96321101b11688ed": {
          "model_module": "@jupyter-widgets/controls",
          "model_name": "DropdownModel",
          "state": {
            "_options_labels": [
              "sepal_length",
              "sepal_width",
              "petal_length",
              "petal_width"
            ],
            "_view_name": "DropdownView",
            "style": "IPY_MODEL_af1fc6b694564c13b57a9f4e4b488213",
            "_dom_classes": [],
            "description": "x_col",
            "_model_name": "DropdownModel",
            "index": 2,
            "_view_module": "@jupyter-widgets/controls",
            "_model_module_version": "1.5.0",
            "_view_count": null,
            "disabled": false,
            "_view_module_version": "1.5.0",
            "description_tooltip": null,
            "_model_module": "@jupyter-widgets/controls",
            "layout": "IPY_MODEL_d237eb42ce0141d9bd0c05659f49652d"
          }
        },
        "7de1bba837d84c89939fcad5e8028d7e": {
          "model_module": "@jupyter-widgets/controls",
          "model_name": "DropdownModel",
          "state": {
            "_options_labels": [
              "sepal_length",
              "sepal_width",
              "petal_length",
              "petal_width"
            ],
            "_view_name": "DropdownView",
            "style": "IPY_MODEL_769b4fc3c5f64145aa7a7917da3089a1",
            "_dom_classes": [],
            "description": "y_col",
            "_model_name": "DropdownModel",
            "index": 3,
            "_view_module": "@jupyter-widgets/controls",
            "_model_module_version": "1.5.0",
            "_view_count": null,
            "disabled": false,
            "_view_module_version": "1.5.0",
            "description_tooltip": null,
            "_model_module": "@jupyter-widgets/controls",
            "layout": "IPY_MODEL_b337fe11fd1b4bd9b61867453b253e9d"
          }
        },
        "64a3ecad84ee44289b9038be89b2fed8": {
          "model_module": "@jupyter-widgets/controls",
          "model_name": "DropdownModel",
          "state": {
            "_options_labels": [
              "2",
              "3",
              "4",
              "5",
              "6",
              "7",
              "8",
              "9"
            ],
            "_view_name": "DropdownView",
            "style": "IPY_MODEL_737c292a1d5e4358819b7a8f502bdbea",
            "_dom_classes": [],
            "description": "k",
            "_model_name": "DropdownModel",
            "index": 1,
            "_view_module": "@jupyter-widgets/controls",
            "_model_module_version": "1.5.0",
            "_view_count": null,
            "disabled": false,
            "_view_module_version": "1.5.0",
            "description_tooltip": null,
            "_model_module": "@jupyter-widgets/controls",
            "layout": "IPY_MODEL_4da95e1b2605434a9a0ff122703733ca"
          }
        },
        "162dc1f7b2744541baf0cdbb8bc8ce80": {
          "model_module": "@jupyter-widgets/output",
          "model_name": "OutputModel",
          "state": {
            "_view_name": "OutputView",
            "msg_id": "",
            "_dom_classes": [],
            "_model_name": "OutputModel",
            "outputs": [
              {
                "output_type": "stream",
                "metadata": {
                  "tags": []
                },
                "text": "accuracy 0.89\n",
                "stream": "stdout"
              },
              {
                "output_type": "display_data",
                "metadata": {
                  "tags": [],
                  "needs_background": "light"
                },
                "image/png": "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\n",
                "text/plain": "<Figure size 1080x576 with 1 Axes>"
              }
            ],
            "_view_module": "@jupyter-widgets/output",
            "_model_module_version": "1.0.0",
            "_view_count": null,
            "_view_module_version": "1.0.0",
            "layout": "IPY_MODEL_737fbaeb308b40f0a6044b08d2dce4f0",
            "_model_module": "@jupyter-widgets/output"
          }
        },
        "af1fc6b694564c13b57a9f4e4b488213": {
          "model_module": "@jupyter-widgets/controls",
          "model_name": "DescriptionStyleModel",
          "state": {
            "_view_name": "StyleView",
            "_model_name": "DescriptionStyleModel",
            "description_width": "",
            "_view_module": "@jupyter-widgets/base",
            "_model_module_version": "1.5.0",
            "_view_count": null,
            "_view_module_version": "1.2.0",
            "_model_module": "@jupyter-widgets/controls"
          }
        },
        "d237eb42ce0141d9bd0c05659f49652d": {
          "model_module": "@jupyter-widgets/base",
          "model_name": "LayoutModel",
          "state": {
            "_view_name": "LayoutView",
            "grid_template_rows": null,
            "right": null,
            "justify_content": null,
            "_view_module": "@jupyter-widgets/base",
            "overflow": null,
            "_model_module_version": "1.2.0",
            "_view_count": null,
            "flex_flow": null,
            "width": null,
            "min_width": null,
            "border": null,
            "align_items": null,
            "bottom": null,
            "_model_module": "@jupyter-widgets/base",
            "top": null,
            "grid_column": null,
            "overflow_y": null,
            "overflow_x": null,
            "grid_auto_flow": null,
            "grid_area": null,
            "grid_template_columns": null,
            "flex": null,
            "_model_name": "LayoutModel",
            "justify_items": null,
            "grid_row": null,
            "max_height": null,
            "align_content": null,
            "visibility": null,
            "align_self": null,
            "height": null,
            "min_height": null,
            "padding": null,
            "grid_auto_rows": null,
            "grid_gap": null,
            "max_width": null,
            "order": null,
            "_view_module_version": "1.2.0",
            "grid_template_areas": null,
            "object_position": null,
            "object_fit": null,
            "grid_auto_columns": null,
            "margin": null,
            "display": null,
            "left": null
          }
        },
        "769b4fc3c5f64145aa7a7917da3089a1": {
          "model_module": "@jupyter-widgets/controls",
          "model_name": "DescriptionStyleModel",
          "state": {
            "_view_name": "StyleView",
            "_model_name": "DescriptionStyleModel",
            "description_width": "",
            "_view_module": "@jupyter-widgets/base",
            "_model_module_version": "1.5.0",
            "_view_count": null,
            "_view_module_version": "1.2.0",
            "_model_module": "@jupyter-widgets/controls"
          }
        },
        "b337fe11fd1b4bd9b61867453b253e9d": {
          "model_module": "@jupyter-widgets/base",
          "model_name": "LayoutModel",
          "state": {
            "_view_name": "LayoutView",
            "grid_template_rows": null,
            "right": null,
            "justify_content": null,
            "_view_module": "@jupyter-widgets/base",
            "overflow": null,
            "_model_module_version": "1.2.0",
            "_view_count": null,
            "flex_flow": null,
            "width": null,
            "min_width": null,
            "border": null,
            "align_items": null,
            "bottom": null,
            "_model_module": "@jupyter-widgets/base",
            "top": null,
            "grid_column": null,
            "overflow_y": null,
            "overflow_x": null,
            "grid_auto_flow": null,
            "grid_area": null,
            "grid_template_columns": null,
            "flex": null,
            "_model_name": "LayoutModel",
            "justify_items": null,
            "grid_row": null,
            "max_height": null,
            "align_content": null,
            "visibility": null,
            "align_self": null,
            "height": null,
            "min_height": null,
            "padding": null,
            "grid_auto_rows": null,
            "grid_gap": null,
            "max_width": null,
            "order": null,
            "_view_module_version": "1.2.0",
            "grid_template_areas": null,
            "object_position": null,
            "object_fit": null,
            "grid_auto_columns": null,
            "margin": null,
            "display": null,
            "left": null
          }
        },
        "737c292a1d5e4358819b7a8f502bdbea": {
          "model_module": "@jupyter-widgets/controls",
          "model_name": "DescriptionStyleModel",
          "state": {
            "_view_name": "StyleView",
            "_model_name": "DescriptionStyleModel",
            "description_width": "",
            "_view_module": "@jupyter-widgets/base",
            "_model_module_version": "1.5.0",
            "_view_count": null,
            "_view_module_version": "1.2.0",
            "_model_module": "@jupyter-widgets/controls"
          }
        },
        "4da95e1b2605434a9a0ff122703733ca": {
          "model_module": "@jupyter-widgets/base",
          "model_name": "LayoutModel",
          "state": {
            "_view_name": "LayoutView",
            "grid_template_rows": null,
            "right": null,
            "justify_content": null,
            "_view_module": "@jupyter-widgets/base",
            "overflow": null,
            "_model_module_version": "1.2.0",
            "_view_count": null,
            "flex_flow": null,
            "width": null,
            "min_width": null,
            "border": null,
            "align_items": null,
            "bottom": null,
            "_model_module": "@jupyter-widgets/base",
            "top": null,
            "grid_column": null,
            "overflow_y": null,
            "overflow_x": null,
            "grid_auto_flow": null,
            "grid_area": null,
            "grid_template_columns": null,
            "flex": null,
            "_model_name": "LayoutModel",
            "justify_items": null,
            "grid_row": null,
            "max_height": null,
            "align_content": null,
            "visibility": null,
            "align_self": null,
            "height": null,
            "min_height": null,
            "padding": null,
            "grid_auto_rows": null,
            "grid_gap": null,
            "max_width": null,
            "order": null,
            "_view_module_version": "1.2.0",
            "grid_template_areas": null,
            "object_position": null,
            "object_fit": null,
            "grid_auto_columns": null,
            "margin": null,
            "display": null,
            "left": null
          }
        },
        "737fbaeb308b40f0a6044b08d2dce4f0": {
          "model_module": "@jupyter-widgets/base",
          "model_name": "LayoutModel",
          "state": {
            "_view_name": "LayoutView",
            "grid_template_rows": null,
            "right": null,
            "justify_content": null,
            "_view_module": "@jupyter-widgets/base",
            "overflow": null,
            "_model_module_version": "1.2.0",
            "_view_count": null,
            "flex_flow": null,
            "width": null,
            "min_width": null,
            "border": null,
            "align_items": null,
            "bottom": null,
            "_model_module": "@jupyter-widgets/base",
            "top": null,
            "grid_column": null,
            "overflow_y": null,
            "overflow_x": null,
            "grid_auto_flow": null,
            "grid_area": null,
            "grid_template_columns": null,
            "flex": null,
            "_model_name": "LayoutModel",
            "justify_items": null,
            "grid_row": null,
            "max_height": null,
            "align_content": null,
            "visibility": null,
            "align_self": null,
            "height": null,
            "min_height": null,
            "padding": null,
            "grid_auto_rows": null,
            "grid_gap": null,
            "max_width": null,
            "order": null,
            "_view_module_version": "1.2.0",
            "grid_template_areas": null,
            "object_position": null,
            "object_fit": null,
            "grid_auto_columns": null,
            "margin": null,
            "display": null,
            "left": null
          }
        }
      }
    }
  },
  "cells": [
    {
      "cell_type": "markdown",
      "metadata": {
        "id": "view-in-github",
        "colab_type": "text"
      },
      "source": [
        "<a href=\"https://colab.research.google.com/github/4nchez/Colab-Jupiter/blob/master/Kmean%2C%20Kmedois%2C%20hierachical.ipynb\" target=\"_parent\"><img src=\"https://colab.research.google.com/assets/colab-badge.svg\" alt=\"Open In Colab\"/></a>"
      ]
    },
    {
      "cell_type": "markdown",
      "metadata": {
        "id": "qLTNWRFWN9PS"
      },
      "source": [
        "# 첫번째 K-mean(https://m.blog.naver.com/wideeyed/221534602937)"
      ]
    },
    {
      "cell_type": "code",
      "metadata": {
        "id": "Jed4G-E_wqFF"
      },
      "source": [
        "import numpy as np\n",
        "import pandas as pd\n",
        "import seaborn as sns\n",
        "import matplotlib.pyplot as plt\n",
        "from ipywidgets import interact\n",
        "\n",
        "from sklearn import preprocessing\n",
        "from sklearn.cluster import KMeans\n",
        "from sklearn.metrics import silhouette_score"
      ],
      "execution_count": null,
      "outputs": []
    },
    {
      "cell_type": "code",
      "metadata": {
        "id": "s8bYYigEww_O",
        "outputId": "8cb2e97e-c25a-427e-9f93-6e7fa7bbffef",
        "colab": {
          "base_uri": "https://localhost:8080/",
          "height": 136
        }
      },
      "source": [
        "# IRIS 꽃 데이터를 읽고 순서를 섞는다\n",
        "iris_df = sns.load_dataset('iris').sample(frac=1).reset_index(drop=True)\n",
        "iris_df.head(3)"
      ],
      "execution_count": null,
      "outputs": [
        {
          "output_type": "execute_result",
          "data": {
            "text/html": [
              "<div>\n",
              "<style scoped>\n",
              "    .dataframe tbody tr th:only-of-type {\n",
              "        vertical-align: middle;\n",
              "    }\n",
              "\n",
              "    .dataframe tbody tr th {\n",
              "        vertical-align: top;\n",
              "    }\n",
              "\n",
              "    .dataframe thead th {\n",
              "        text-align: right;\n",
              "    }\n",
              "</style>\n",
              "<table border=\"1\" class=\"dataframe\">\n",
              "  <thead>\n",
              "    <tr style=\"text-align: right;\">\n",
              "      <th></th>\n",
              "      <th>sepal_length</th>\n",
              "      <th>sepal_width</th>\n",
              "      <th>petal_length</th>\n",
              "      <th>petal_width</th>\n",
              "      <th>species</th>\n",
              "    </tr>\n",
              "  </thead>\n",
              "  <tbody>\n",
              "    <tr>\n",
              "      <th>0</th>\n",
              "      <td>5.5</td>\n",
              "      <td>2.4</td>\n",
              "      <td>3.7</td>\n",
              "      <td>1.0</td>\n",
              "      <td>versicolor</td>\n",
              "    </tr>\n",
              "    <tr>\n",
              "      <th>1</th>\n",
              "      <td>4.6</td>\n",
              "      <td>3.1</td>\n",
              "      <td>1.5</td>\n",
              "      <td>0.2</td>\n",
              "      <td>setosa</td>\n",
              "    </tr>\n",
              "    <tr>\n",
              "      <th>2</th>\n",
              "      <td>5.8</td>\n",
              "      <td>2.8</td>\n",
              "      <td>5.1</td>\n",
              "      <td>2.4</td>\n",
              "      <td>virginica</td>\n",
              "    </tr>\n",
              "  </tbody>\n",
              "</table>\n",
              "</div>"
            ],
            "text/plain": [
              "   sepal_length  sepal_width  petal_length  petal_width     species\n",
              "0           5.5          2.4           3.7          1.0  versicolor\n",
              "1           4.6          3.1           1.5          0.2      setosa\n",
              "2           5.8          2.8           5.1          2.4   virginica"
            ]
          },
          "metadata": {
            "tags": []
          },
          "execution_count": 12
        }
      ]
    },
    {
      "cell_type": "code",
      "metadata": {
        "id": "V3uIkq1GyokN",
        "outputId": "d392ee25-8495-491f-80ed-d3003721d0b1",
        "colab": {
          "base_uri": "https://localhost:8080/",
          "height": 34
        }
      },
      "source": [
        "# 사용할 X컬럼들과 Y컬럼을 지정한다\n",
        "x_columns = ['sepal_length', 'sepal_width', 'petal_length', 'petal_width']\n",
        "y_column  = 'species'\n",
        "\n",
        "# Y컬럼의 문자열값을 LabelEncoder를 통해 숫자로 바꾼다.\n",
        "y_true_label_encoder = preprocessing.LabelEncoder()\n",
        "y_true_encoded       = y_true_label_encoder.fit_transform(iris_df[y_column])\n",
        "print(list(iris_df[y_column][:3]), '->' ,list(y_true_encoded[:3]))"
      ],
      "execution_count": null,
      "outputs": [
        {
          "output_type": "stream",
          "text": [
            "['versicolor', 'setosa', 'virginica'] -> [1, 0, 2]\n"
          ],
          "name": "stdout"
        }
      ]
    },
    {
      "cell_type": "code",
      "metadata": {
        "id": "E0UgEW_uy5HF"
      },
      "source": [
        "kMeansModels              = dict() # k값별 모델 저장할 딕셔너리\n",
        "kMeansModelPreds          = dict() # k값별 모델 예측 결과 저장할 딕셔너리\n",
        "kMeansModelLabelEncoder   = dict() # k값별 라벨인코더 저장할 딕셔너리\n",
        "# kMeansCenter   = dict() # k값별 라벨인코더 저장할 딕셔너리\n",
        "\n",
        "sumSquaredDistancesList   = list() # 샘플과 클러스터 센터간 거리 제곱의 합 리스트\n",
        "silhouetteScoreList       = list() # Silhouette Coefficient 평균 리스트\n",
        "\n",
        "ks = [2,3,4,5,6,7,8,9] # k값으로 2부터 9까지 테스트한다\n",
        "for k in ks: # k값 순회\n",
        "    model = KMeans(n_clusters=k, random_state=0, n_init=100)  # k개 클러스터로 모델 생성\n",
        "    cluster_labels = model.fit_predict(iris_df[x_columns]) # X컬럼으로 지정된 필드값으로 피팅\n",
        "    \n",
        "    y_pred_label_encoder = preprocessing.LabelEncoder() # 예측한 클러스터에서 사용할 라벨인코더\n",
        "    # 초기 임의 값 (unknown 1, unknown 2...) 으로 인코딩한다\n",
        "    y_pred_label_encoder.fit(np.array(['unknown ' + str(i+1) for i in range(0, k, 1)], dtype=object))\n",
        "    for pred_label_num in range(0,k,1): # 각 클러스터 순회        \n",
        "        # 해당 클러스터에서 가장 많이 출력한 실제 값의 인덱스를 구한다\n",
        "        most_frequent_index = np.argmax(np.bincount(y_true_encoded[cluster_labels==pred_label_num]))\n",
        "        # 구한 인덱스의 라벨을 구해서 해당클러스터 라벨로 업데이트한다\n",
        "        y_pred_label_encoder.classes_[pred_label_num] = y_true_label_encoder.classes_[most_frequent_index]\n",
        "    \n",
        "    kMeansModels[k]     = model                       # 모델 저장\n",
        "    kMeansModelPreds[k] = cluster_labels              # 모델 예측결과 저장     \n",
        "    kMeansModelLabelEncoder[k] = y_pred_label_encoder # 라벨인코더 저장\n",
        "    # kMeansCenter[k] = model.cluster_centers_\n",
        "    kMeansCenter = pd.DataFrame(model.cluster_centers_)\n",
        "    sumSquaredDistancesList.append(model.inertia_)    # # 샘플과 클러스터 센터간 거리 제곱의 합 저장\n",
        "    silhouetteScoreList.append(silhouette_score(iris_df[x_columns].values, cluster_labels)) # Silhouette Score저장"
      ],
      "execution_count": null,
      "outputs": []
    },
    {
      "cell_type": "code",
      "metadata": {
        "id": "v4hz3MCH3YMJ",
        "outputId": "7b32dc8c-f99d-4ae5-e31e-db13951cc9ea",
        "colab": {
          "base_uri": "https://localhost:8080/",
          "height": 314
        }
      },
      "source": [
        "kMeansCenter.columns=x_columns\n",
        "kMeansCenter"
      ],
      "execution_count": null,
      "outputs": [
        {
          "output_type": "execute_result",
          "data": {
            "text/html": [
              "<div>\n",
              "<style scoped>\n",
              "    .dataframe tbody tr th:only-of-type {\n",
              "        vertical-align: middle;\n",
              "    }\n",
              "\n",
              "    .dataframe tbody tr th {\n",
              "        vertical-align: top;\n",
              "    }\n",
              "\n",
              "    .dataframe thead th {\n",
              "        text-align: right;\n",
              "    }\n",
              "</style>\n",
              "<table border=\"1\" class=\"dataframe\">\n",
              "  <thead>\n",
              "    <tr style=\"text-align: right;\">\n",
              "      <th></th>\n",
              "      <th>sepal_length</th>\n",
              "      <th>sepal_width</th>\n",
              "      <th>petal_length</th>\n",
              "      <th>petal_width</th>\n",
              "    </tr>\n",
              "  </thead>\n",
              "  <tbody>\n",
              "    <tr>\n",
              "      <th>0</th>\n",
              "      <td>6.568182</td>\n",
              "      <td>3.086364</td>\n",
              "      <td>5.536364</td>\n",
              "      <td>2.163636</td>\n",
              "    </tr>\n",
              "    <tr>\n",
              "      <th>1</th>\n",
              "      <td>5.100000</td>\n",
              "      <td>3.513043</td>\n",
              "      <td>1.526087</td>\n",
              "      <td>0.273913</td>\n",
              "    </tr>\n",
              "    <tr>\n",
              "      <th>2</th>\n",
              "      <td>5.628571</td>\n",
              "      <td>2.723810</td>\n",
              "      <td>4.133333</td>\n",
              "      <td>1.295238</td>\n",
              "    </tr>\n",
              "    <tr>\n",
              "      <th>3</th>\n",
              "      <td>7.475000</td>\n",
              "      <td>3.125000</td>\n",
              "      <td>6.300000</td>\n",
              "      <td>2.050000</td>\n",
              "    </tr>\n",
              "    <tr>\n",
              "      <th>4</th>\n",
              "      <td>6.442105</td>\n",
              "      <td>2.978947</td>\n",
              "      <td>4.594737</td>\n",
              "      <td>1.431579</td>\n",
              "    </tr>\n",
              "    <tr>\n",
              "      <th>5</th>\n",
              "      <td>5.242857</td>\n",
              "      <td>2.371429</td>\n",
              "      <td>3.442857</td>\n",
              "      <td>1.028571</td>\n",
              "    </tr>\n",
              "    <tr>\n",
              "      <th>6</th>\n",
              "      <td>4.678947</td>\n",
              "      <td>3.084211</td>\n",
              "      <td>1.378947</td>\n",
              "      <td>0.200000</td>\n",
              "    </tr>\n",
              "    <tr>\n",
              "      <th>7</th>\n",
              "      <td>6.036842</td>\n",
              "      <td>2.705263</td>\n",
              "      <td>5.000000</td>\n",
              "      <td>1.778947</td>\n",
              "    </tr>\n",
              "    <tr>\n",
              "      <th>8</th>\n",
              "      <td>5.512500</td>\n",
              "      <td>4.000000</td>\n",
              "      <td>1.475000</td>\n",
              "      <td>0.275000</td>\n",
              "    </tr>\n",
              "  </tbody>\n",
              "</table>\n",
              "</div>"
            ],
            "text/plain": [
              "   sepal_length  sepal_width  petal_length  petal_width\n",
              "0      6.568182     3.086364      5.536364     2.163636\n",
              "1      5.100000     3.513043      1.526087     0.273913\n",
              "2      5.628571     2.723810      4.133333     1.295238\n",
              "3      7.475000     3.125000      6.300000     2.050000\n",
              "4      6.442105     2.978947      4.594737     1.431579\n",
              "5      5.242857     2.371429      3.442857     1.028571\n",
              "6      4.678947     3.084211      1.378947     0.200000\n",
              "7      6.036842     2.705263      5.000000     1.778947\n",
              "8      5.512500     4.000000      1.475000     0.275000"
            ]
          },
          "metadata": {
            "tags": []
          },
          "execution_count": 54
        }
      ]
    },
    {
      "cell_type": "code",
      "metadata": {
        "id": "cNRqr1nLziyv",
        "outputId": "d8bcfbf4-a051-4df8-d40e-3f131933c813",
        "colab": {
          "base_uri": "https://localhost:8080/",
          "height": 279
        }
      },
      "source": [
        "plt.plot(ks, sumSquaredDistancesList)\n",
        "plt.xlabel(\"number of cluster\")\n",
        "plt.ylabel(\"sum of squared distance\")\n",
        "plt.show()"
      ],
      "execution_count": null,
      "outputs": [
        {
          "output_type": "display_data",
          "data": {
            "image/png": "[encoded data removed]",
            "text/plain": [
              "<Figure size 432x288 with 1 Axes>"
            ]
          },
          "metadata": {
            "tags": [],
            "needs_background": "light"
          }
        }
      ]
    },
    {
      "cell_type": "code",
      "metadata": {
        "id": "bawbH9QE0HFN",
        "outputId": "ed520808-9f9f-4b7c-84fb-6547cd8d9868",
        "colab": {
          "base_uri": "https://localhost:8080/",
          "height": 279
        }
      },
      "source": [
        "plt.plot(ks, silhouetteScoreList)\n",
        "plt.xlabel(\"number of cluster\")\n",
        "plt.ylabel(\"Silhouette score\")\n",
        "plt.show()"
      ],
      "execution_count": null,
      "outputs": [
        {
          "output_type": "display_data",
          "data": {
            "image/png": "[encoded data removed]",
            "text/plain": [
              "<Figure size 432x288 with 1 Axes>"
            ]
          },
          "metadata": {
            "tags": [],
            "needs_background": "light"
          }
        }
      ]
    },
    {
      "cell_type": "code",
      "metadata": {
        "id": "yQskbqv6zfcw"
      },
      "source": [
        "def render_plot(x_col='petal_length', y_col='petal_width', k=3):\n",
        "    y_pred        = kMeansModelPreds[k]        # 모델 예측값\n",
        "    label_encoder = kMeansModelLabelEncoder[k] # 라벨인코더\n",
        "    center = kMeansCenter\n",
        "    # 원본과 예측값을 합쳐 데이터셋을 준비\n",
        "    mdf = pd.concat([iris_df, pd.DataFrame(label_encoder.inverse_transform(y_pred), columns=[y_column+'_pred'])], axis=1)\n",
        "    \n",
        "    plt.figure(figsize=(15,8)) # 출력 크기를 지정\n",
        "    \n",
        "    ddf = mdf[mdf[y_column] != mdf[y_column+'_pred']] # 실제라벨과 예측라벨이 틀린 경우 추출\n",
        "    # X기호로 error임을 표시한다\n",
        "    plt.scatter(x=ddf[x_col], y=ddf[y_col], c='black', marker='x', s=300, label='error') \n",
        "    \n",
        "    colors = ['blue', 'red', 'green', 'cyan', 'magenta', 'yellow', 'black'] # 컬러값 리스트\n",
        "    for (idx,cls) in enumerate(list(y_true_label_encoder.classes_)):\n",
        "        ddf = mdf[mdf[y_column] == cls] # 실제라벨 데이터는 작은 점으로 출력\n",
        "        plt.scatter(x=ddf[x_col], y=ddf[y_col], c=colors[idx], marker='.', linewidths=3, s=50, label=cls)\n",
        "        ddf = mdf[mdf[y_column+'_pred'] == cls] # 예측라벨 데이터는 큰 원으로 출력\n",
        "        plt.scatter(x=ddf[x_col], y=ddf[y_col], c=colors[idx], marker='o', linewidths=13, s=2, label=cls+' pred')\n",
        "    y_s=['setosa','versicolor', 'virginica']\n",
        "    for i in range(k):\n",
        "      plt.scatter(center[x_col][i],center[y_col][i], s=60,marker='D',c='black', label=' center')\n",
        "    # target = iris.target\n",
        "    # species = np.chararray(target.shape, itemsize=150)\n",
        "    # for i in range(len(iris_df)):\n",
        "    #   if target[i] == 0:\n",
        "    #     species[i] = 'setosa'\n",
        "    #   elif target[i] == 1:\n",
        "    #     species[i] = 'versicolor'\n",
        "    #   elif target[i] == 2:\n",
        "    #     species[i] = 'virginica'\n",
        "    # df = pd.DataFrame({'labels': y_pred, 'species': species})\n",
        "    # ct = pd.crosstab(df['labels'], df['species'])\n",
        "    # print(ct)\n",
        "    \n",
        "    \n",
        "    plt.legend();plt.xlabel(x_col);plt.ylabel(y_col)\n",
        "    print('accuracy {:.2f}'.format(np.mean(mdf[y_column] == mdf[y_column+'_pred']))) # 정확도 출력\n",
        "    plt.show()"
      ],
      "execution_count": null,
      "outputs": []
    },
    {
      "cell_type": "code",
      "metadata": {
        "id": "Ugx3r5vO0eXU",
        "outputId": "64d364ed-30a5-4a4b-840b-5602fa2ae8d2",
        "colab": {
          "base_uri": "https://localhost:8080/",
          "height": 630,
          "referenced_widgets": [
            "6a0fc139d479476bb46084eaae0fe48d",
            "972951ffad0549d8b7d35cbc38eeda45",
            "afbb6ba29ff14cce96321101b11688ed",
            "7de1bba837d84c89939fcad5e8028d7e",
            "64a3ecad84ee44289b9038be89b2fed8",
            "162dc1f7b2744541baf0cdbb8bc8ce80",
            "af1fc6b694564c13b57a9f4e4b488213",
            "d237eb42ce0141d9bd0c05659f49652d",
            "769b4fc3c5f64145aa7a7917da3089a1",
            "b337fe11fd1b4bd9b61867453b253e9d",
            "737c292a1d5e4358819b7a8f502bdbea",
            "4da95e1b2605434a9a0ff122703733ca",
            "737fbaeb308b40f0a6044b08d2dce4f0"
          ]
        }
      },
      "source": [
        "interact(render_plot, x_col=x_columns, y_col=x_columns, k=ks)"
      ],
      "execution_count": null,
      "outputs": [
        {
          "output_type": "display_data",
          "data": {
            "application/vnd.jupyter.widget-view+json": {
              "model_id": "6a0fc139d479476bb46084eaae0fe48d",
              "version_minor": 0,
              "version_major": 2
            },
            "text/plain": [
              "interactive(children=(Dropdown(description='x_col', index=2, options=('sepal_length', 'sepal_width', 'petal_le…"
            ]
          },
          "metadata": {
            "tags": []
          }
        },
        {
          "output_type": "execute_result",
          "data": {
            "text/plain": [
              "<function __main__.render_plot>"
            ]
          },
          "metadata": {
            "tags": []
          },
          "execution_count": 115
        }
      ]
    },
    {
      "cell_type": "markdown",
      "metadata": {
        "id": "fMPHfrXUN5_S"
      },
      "source": [
        "# 두번째 K-mean, K-medois(https://eunsukimme.github.io/ml/2019/12/16/K-Means/)"
      ]
    },
    {
      "cell_type": "code",
      "metadata": {
        "id": "SJx1OOi43EVm"
      },
      "source": [
        "from sklearn import datasets\n",
        "iris = datasets.load_iris()\n",
        "samples = iris.data"
      ],
      "execution_count": null,
      "outputs": []
    },
    {
      "cell_type": "code",
      "metadata": {
        "id": "WWYtAfFp3Lv-",
        "outputId": "737e2259-d03c-4e33-bfc0-21849c3b7499",
        "colab": {
          "base_uri": "https://localhost:8080/",
          "height": 282
        }
      },
      "source": [
        "from matplotlib import pyplot as plt\n",
        "x = samples[:, 0]\n",
        "y = samples[:, 1]\n",
        "plt.scatter(x, y, alpha=0.5)\n",
        "plt.xlabel('sepal length (cm)')\n",
        "plt.ylabel('sepal width (cm)')\n",
        "plt.show()"
      ],
      "execution_count": null,
      "outputs": [
        {
          "output_type": "display_data",
          "data": {
            "image/png": "[encoded data removed]",
            "text/plain": [
              "<Figure size 432x288 with 1 Axes>"
            ]
          },
          "metadata": {
            "tags": [],
            "needs_background": "light"
          }
        }
      ]
    },
    {
      "cell_type": "code",
      "metadata": {
        "id": "Nvhxs-AW3SJU"
      },
      "source": [
        "import numpy as np\n",
        "k = 3\n",
        "# 랜덤으로 x, y 좌표 3개를 생성합니다\n",
        "# np.random.uniform은 주어진 최소, 최대값 사이에서 k 개 만큼 실수 난수를 생성합니다.\n",
        "centroids_x = np.random.uniform(min(x), max(x), k)\n",
        "centroids_y = np.random.uniform(min(y), max(y), k)\n",
        "centroids = list(zip(centroids_x, centroids_y))"
      ],
      "execution_count": null,
      "outputs": []
    },
    {
      "cell_type": "code",
      "metadata": {
        "id": "tjVnT8FOZ83w",
        "outputId": "2d2efe9b-72be-4539-d473-e8dbcaa3f923",
        "colab": {
          "base_uri": "https://localhost:8080/",
          "height": 268
        }
      },
      "source": [
        "plt.scatter(x, y, alpha=0.5)\t# 데이터들은 파란색으로 표시되고\n",
        "plt.scatter(centroids_x, centroids_y)\t# centroids는 주황색으로 표시됩니다\n",
        "plt.show()"
      ],
      "execution_count": null,
      "outputs": [
        {
          "output_type": "display_data",
          "data": {
            "image/png": "[encoded data removed]",
            "text/plain": [
              "<Figure size 432x288 with 1 Axes>"
            ]
          },
          "metadata": {
            "tags": [],
            "needs_background": "light"
          }
        }
      ]
    },
    {
      "cell_type": "code",
      "metadata": {
        "id": "JA4m0Kbd3bAL"
      },
      "source": [
        "def distance(a, b):\n",
        "    return sum([(el_a - el_b)**2 for el_a, el_b in list(zip(a, b))]) ** 0.5"
      ],
      "execution_count": null,
      "outputs": []
    },
    {
      "cell_type": "code",
      "metadata": {
        "id": "_OThTUGW3b3u"
      },
      "source": [
        "# 각 데이터 포인트를 그룹화 할 labels을 생성합니다 (0, 1, 또는 2)\n",
        "labels = np.zeros(len(samples))\n",
        "sepal_length_width = np.array(list(zip(x, y)))\n",
        "# 각 데이터를 순회하면서 centroids와의 거리를 측정합니다\n",
        "for i in range(len(samples)):\n",
        "  distances = np.zeros(k)\t# 초기 거리는 모두 0으로 초기화 해줍니다\n",
        "  for j in range(k):\n",
        "    distances[j] = distance(sepal_length_width[i], centroids[j])\n",
        "  cluster = np.argmin(distances)\t# np.argmin은 가장 작은 값의 index를 반환합니다\n",
        "  labels[i] = cluster"
      ],
      "execution_count": null,
      "outputs": []
    },
    {
      "cell_type": "code",
      "metadata": {
        "id": "brDs9trX3eUf",
        "outputId": "51bc60b8-2c46-489e-8e5d-2d1a78c5bc62",
        "colab": {
          "base_uri": "https://localhost:8080/",
          "height": 268
        }
      },
      "source": [
        "plt.scatter(x, y, c=labels, alpha=0.5)\n",
        "plt.scatter(centroids_x, centroids_y, c='red', label='center')\t# centroid는 빨간색으로 나타냅니다\n",
        "plt.show()"
      ],
      "execution_count": null,
      "outputs": [
        {
          "output_type": "display_data",
          "data": {
            "image/png": "[encoded data removed]",
            "text/plain": [
              "<Figure size 432x288 with 1 Axes>"
            ]
          },
          "metadata": {
            "tags": [],
            "needs_background": "light"
          }
        }
      ]
    },
    {
      "cell_type": "code",
      "metadata": {
        "id": "4iExPCx93kCq"
      },
      "source": [
        "from copy import deepcopy\n",
        "centroids_old = deepcopy(centroids)"
      ],
      "execution_count": null,
      "outputs": []
    },
    {
      "cell_type": "code",
      "metadata": {
        "id": "6CB9bzFZ3ku6"
      },
      "source": [
        "for i in range(k):\n",
        "  # 각 그룹에 속한 데이터들만 골라 points에 저장합니다\n",
        "  points = [ sepal_length_width[j] for j in range(len(sepal_length_width)) if labels[j] == i ]\n",
        "  # points의 각 feature, 즉 각 좌표의 평균 지점을 centroid로 지정합니다\n",
        "  centroids[i] = np.mean(points, axis=0)"
      ],
      "execution_count": null,
      "outputs": []
    },
    {
      "cell_type": "code",
      "metadata": {
        "id": "_4wg6EAILjMD"
      },
      "source": [
        "import pandas as pd\n",
        "centroids_old1 = pd.DataFrame(centroids_old)\n",
        "centroids1 = pd.DataFrame(centroids)"
      ],
      "execution_count": null,
      "outputs": []
    },
    {
      "cell_type": "code",
      "metadata": {
        "id": "d-wjb05f3oUy",
        "outputId": "6c8f186e-2c97-4845-c296-c5400d4782b9",
        "colab": {
          "base_uri": "https://localhost:8080/",
          "height": 268
        }
      },
      "source": [
        "plt.scatter(x, y, c=labels, alpha=0.5)\n",
        "plt.scatter(centroids_old1[0], centroids_old1[1], c='blue')\n",
        "plt.scatter(centroids1[0], centroids1[1], c='red')\n",
        "plt.show()"
      ],
      "execution_count": null,
      "outputs": [
        {
          "output_type": "display_data",
          "data": {
            "image/png": "[encoded data removed]",
            "text/plain": [
              "<Figure size 432x288 with 1 Axes>"
            ]
          },
          "metadata": {
            "tags": [],
            "needs_background": "light"
          }
        }
      ]
    },
    {
      "cell_type": "code",
      "metadata": {
        "id": "YJkAmaeycbt0",
        "outputId": "77a0a62b-479f-44ca-b2d0-5bddf303026b",
        "colab": {
          "base_uri": "https://localhost:8080/",
          "height": 268
        }
      },
      "source": [
        "plt.scatter(x, y, c=labels, alpha=0.5)\n",
        "plt.scatter(centroids1[0], centroids1[1], c='red')\n",
        "plt.show()"
      ],
      "execution_count": null,
      "outputs": [
        {
          "output_type": "display_data",
          "data": {
            "image/png": "[encoded data removed]",
            "text/plain": [
              "<Figure size 432x288 with 1 Axes>"
            ]
          },
          "metadata": {
            "tags": [],
            "needs_background": "light"
          }
        }
      ]
    },
    {
      "cell_type": "code",
      "metadata": {
        "id": "Lmpt125q4dn0"
      },
      "source": [
        "centroids_old = np.zeros(centroids1.shape)\t# 제일 처음 centroids_old는 0으로 초기화 해줍니다\n",
        "labels = np.zeros(len(samples))\n",
        "error = np.zeros(k)\n",
        "# error 도 초기화 해줍니다\n",
        "for i in range(k):\n",
        "  error[i] = distance(centroids_old[i], centroids[i])\n",
        "# STEP 4: error가 0에 수렴할 때 까지 2 ~ 3 단계를 반복합니다\n",
        "while(error.all() != 0):\n",
        "  # STEP 2: 가까운 centroids에 데이터를 할당합니다\n",
        "  for i in range(len(samples)):\n",
        "    distances = np.zeros(k)\t# 초기 거리는 모두 0으로 초기화 해줍니다\n",
        "    for j in range(k):\n",
        "      distances[j] = distance(sepal_length_width[i], centroids[j])\n",
        "    cluster = np.argmin(distances)\t# np.argmin은 가장 작은 값의 index를 반환합니다\n",
        "    labels[i] = cluster\n",
        "  # Step 3: centroids를 업데이트 시켜줍니다\n",
        "  centroids_old = deepcopy(centroids)\n",
        "  for i in range(k):\n",
        "    # 각 그룹에 속한 데이터들만 골라 points에 저장합니다\n",
        "    points = [ sepal_length_width[j] for j in range(len(sepal_length_width)) if labels[j] == i ]\n",
        "    # points의 각 feature, 즉 각 좌표의 평균 지점을 centroid로 지정합니다\n",
        "    centroids[i] = np.mean(points, axis=0)\n",
        "  # 새롭게 centroids를 업데이트 했으니 error를 다시 계산합니다\n",
        "  for i in range(k):\n",
        "    error[i] = distance(centroids_old[i], centroids[i])"
      ],
      "execution_count": null,
      "outputs": []
    },
    {
      "cell_type": "code",
      "metadata": {
        "id": "lpaUAy-JMLfx"
      },
      "source": [
        "centroids2 = pd.DataFrame(centroids)"
      ],
      "execution_count": null,
      "outputs": []
    },
    {
      "cell_type": "code",
      "metadata": {
        "id": "y7xlY2W94ghW",
        "outputId": "f0158850-0690-48b1-c92c-2380c0cbd112",
        "colab": {
          "base_uri": "https://localhost:8080/",
          "height": 282
        }
      },
      "source": [
        "colors = ['r', 'g', 'b']\n",
        "for i in range(k):\n",
        "    points = np.array([sepal_length_width[j] for j in range(len(sepal_length_width)) if labels[j] == i])\n",
        "    plt.scatter(points[:, 0], points[:, 1], c=colors[i], alpha=0.5)\n",
        "\n",
        "plt.scatter(centroids2[0], centroids2[1], marker='D', s=150)\n",
        "plt.xlabel('sepal length (cm)')\n",
        "plt.ylabel('sepal width (cm)')\n",
        "plt.show()"
      ],
      "execution_count": null,
      "outputs": [
        {
          "output_type": "display_data",
          "data": {
            "image/png": "[encoded data removed]",
            "text/plain": [
              "<Figure size 432x288 with 1 Axes>"
            ]
          },
          "metadata": {
            "tags": [],
            "needs_background": "light"
          }
        }
      ]
    },
    {
      "cell_type": "code",
      "metadata": {
        "id": "Z-ei0xuKgDGl",
        "outputId": "c1037ca0-ec41-43c2-ce9a-48357f3f16f3",
        "colab": {
          "base_uri": "https://localhost:8080/",
          "height": 140
        }
      },
      "source": [
        "target = iris.target\n",
        "target"
      ],
      "execution_count": null,
      "outputs": [
        {
          "output_type": "execute_result",
          "data": {
            "text/plain": [
              "array([0, 0, 0, 0, 0, 0, 0, 0, 0, 0, 0, 0, 0, 0, 0, 0, 0, 0, 0, 0, 0, 0,\n",
              "       0, 0, 0, 0, 0, 0, 0, 0, 0, 0, 0, 0, 0, 0, 0, 0, 0, 0, 0, 0, 0, 0,\n",
              "       0, 0, 0, 0, 0, 0, 1, 1, 1, 1, 1, 1, 1, 1, 1, 1, 1, 1, 1, 1, 1, 1,\n",
              "       1, 1, 1, 1, 1, 1, 1, 1, 1, 1, 1, 1, 1, 1, 1, 1, 1, 1, 1, 1, 1, 1,\n",
              "       1, 1, 1, 1, 1, 1, 1, 1, 1, 1, 1, 1, 2, 2, 2, 2, 2, 2, 2, 2, 2, 2,\n",
              "       2, 2, 2, 2, 2, 2, 2, 2, 2, 2, 2, 2, 2, 2, 2, 2, 2, 2, 2, 2, 2, 2,\n",
              "       2, 2, 2, 2, 2, 2, 2, 2, 2, 2, 2, 2, 2, 2, 2, 2, 2, 2])"
            ]
          },
          "metadata": {
            "tags": []
          },
          "execution_count": 194
        }
      ]
    },
    {
      "cell_type": "code",
      "metadata": {
        "id": "bagS6OGOgDGn"
      },
      "source": [
        "species = np.chararray(target.shape, itemsize=150)\n",
        "for i in range(len(samples)):\n",
        "  if target[i] == 0:\n",
        "    species[i] = 'setosa'\n",
        "  elif target[i] == 1:\n",
        "    species[i] = 'versicolor'\n",
        "  elif target[i] == 2:\n",
        "    species[i] = 'virginica'"
      ],
      "execution_count": null,
      "outputs": []
    },
    {
      "cell_type": "code",
      "metadata": {
        "id": "hdeUvqQRgDGp",
        "outputId": "3c281919-d462-43b4-86d7-0e4bfb228abc",
        "colab": {
          "base_uri": "https://localhost:8080/",
          "height": 105
        }
      },
      "source": [
        "import pandas as pd\n",
        "\n",
        "df = pd.DataFrame({'labels': labels, 'species': species})\n",
        "ct = pd.crosstab(df['labels'], df['species'])\n",
        "print(ct)"
      ],
      "execution_count": null,
      "outputs": [
        {
          "output_type": "stream",
          "text": [
            "species  b'setosa'  b'versicolor'  b'virginica'\n",
            "labels                                         \n",
            "0.0             48             26             7\n",
            "1.0              2              2             8\n",
            "2.0              0             22            35\n"
          ],
          "name": "stdout"
        }
      ]
    },
    {
      "cell_type": "code",
      "metadata": {
        "id": "EvLNMZwf7OwL",
        "outputId": "c6c03268-6bae-4430-e767-f35201455790",
        "colab": {
          "base_uri": "https://localhost:8080/",
          "height": 316
        }
      },
      "source": [
        "!pip install scikit-learn-extra"
      ],
      "execution_count": null,
      "outputs": [
        {
          "output_type": "stream",
          "text": [
            "Collecting scikit-learn-extra\n",
            "\u001b[?25l  Downloading https://files.pythonhosted.org/packages/d1/dd/891d2ee7bd18af8f2e1df5d63a52ee96edd0eacc21bb9627072b1c5f6a6c/scikit-learn-extra-0.1.0b2.tar.gz (615kB)\n",
            "\u001b[K     |████████████████████████████████| 624kB 2.7MB/s \n",
            "\u001b[?25h  Installing build dependencies ... \u001b[?25l\u001b[?25hdone\n",
            "  Getting requirements to build wheel ... \u001b[?25l\u001b[?25hdone\n",
            "    Preparing wheel metadata ... \u001b[?25l\u001b[?25hdone\n",
            "Requirement already satisfied: scipy>=0.19.1 in /usr/local/lib/python3.6/dist-packages (from scikit-learn-extra) (1.4.1)\n",
            "Requirement already satisfied: scikit-learn>=0.21.0 in /usr/local/lib/python3.6/dist-packages (from scikit-learn-extra) (0.22.2.post1)\n",
            "Requirement already satisfied: numpy>=1.13.3 in /usr/local/lib/python3.6/dist-packages (from scikit-learn-extra) (1.18.5)\n",
            "Requirement already satisfied: joblib>=0.11 in /usr/local/lib/python3.6/dist-packages (from scikit-learn>=0.21.0->scikit-learn-extra) (0.16.0)\n",
            "Building wheels for collected packages: scikit-learn-extra\n",
            "  Building wheel for scikit-learn-extra (PEP 517) ... \u001b[?25l\u001b[?25hdone\n",
            "  Created wheel for scikit-learn-extra: filename=scikit_learn_extra-0.1.0b2-cp36-cp36m-linux_x86_64.whl size=340333 sha256=e2beb1e45489dace49ea5f9ac204b671b9a6bc5231780ed0546713c70018ae4d\n",
            "  Stored in directory: /root/.cache/pip/wheels/04/01/0f/943bffb48bac048fa216b4325f1a6c939491ccb0ff500e08f4\n",
            "Successfully built scikit-learn-extra\n",
            "Installing collected packages: scikit-learn-extra\n",
            "Successfully installed scikit-learn-extra-0.1.0b2\n"
          ],
          "name": "stdout"
        }
      ]
    },
    {
      "cell_type": "code",
      "metadata": {
        "id": "UyFRLF5t52v4",
        "outputId": "ad74f64a-e48c-4bdb-e307-5c9141000318",
        "colab": {
          "base_uri": "https://localhost:8080/",
          "height": 282
        }
      },
      "source": [
        "iris = datasets.load_iris()\n",
        "samples = iris.data\n",
        "from matplotlib import pyplot as plt\n",
        "x = samples[:, 0]\n",
        "y = samples[:, 1]\n",
        "plt.scatter(x, y, alpha=0.5)\n",
        "plt.xlabel('sepal length (cm)')\n",
        "plt.ylabel('sepal width (cm)')\n",
        "plt.show()"
      ],
      "execution_count": null,
      "outputs": [
        {
          "output_type": "display_data",
          "data": {
            "image/png": "[encoded data removed]",
            "text/plain": [
              "<Figure size 432x288 with 1 Axes>"
            ]
          },
          "metadata": {
            "tags": [],
            "needs_background": "light"
          }
        }
      ]
    },
    {
      "cell_type": "code",
      "metadata": {
        "id": "w73bcb0j55lt",
        "outputId": "02ad1853-8f41-491c-969f-9a4d8f538a8b",
        "colab": {
          "base_uri": "https://localhost:8080/",
          "height": 282
        }
      },
      "source": [
        "import matplotlib.pyplot as plt\n",
        "from sklearn import datasets\n",
        "from sklearn.cluster import KMeans\n",
        "# from sklearn_extra.cluster import KMedoids\n",
        "import pandas as pd\n",
        "iris = datasets.load_iris()\n",
        "samples = iris.data\n",
        "# 3개의 그룹으로 나누는 K-Means, K-Medoids 모델을 생성합니다\n",
        "model = KMeans(n_clusters = 3)\n",
        "# model = KMedoids(n_clusters = 8)\n",
        "model.fit(samples)\n",
        "labels = model.predict(samples)\n",
        "# 클러스터링 결과를 시각화합니다\n",
        "x = samples[:, 0]\n",
        "y = samples[:, 1]\n",
        "plt.scatter(x, y, c=labels, alpha=0.5)\n",
        "centers = pd.DataFrame(model.cluster_centers_)\n",
        "\n",
        "# scatter plot\n",
        "plt.scatter(centers[0],centers[1],s=50,marker='D',c='r')\n",
        "plt.xlabel('sepal length (cm)')\n",
        "plt.ylabel('sepal width (cm)')\n",
        "plt.show()"
      ],
      "execution_count": null,
      "outputs": [
        {
          "output_type": "display_data",
          "data": {
            "image/png": "[encoded data removed]",
            "text/plain": [
              "<Figure size 432x288 with 1 Axes>"
            ]
          },
          "metadata": {
            "tags": [],
            "needs_background": "light"
          }
        }
      ]
    },
    {
      "cell_type": "code",
      "metadata": {
        "id": "A3Vh7RT85-Hy",
        "outputId": "0d376950-02bc-487a-96af-3d23fcd53f62",
        "colab": {
          "base_uri": "https://localhost:8080/",
          "height": 140
        }
      },
      "source": [
        "target = iris.target\n",
        "target"
      ],
      "execution_count": null,
      "outputs": [
        {
          "output_type": "execute_result",
          "data": {
            "text/plain": [
              "array([0, 0, 0, 0, 0, 0, 0, 0, 0, 0, 0, 0, 0, 0, 0, 0, 0, 0, 0, 0, 0, 0,\n",
              "       0, 0, 0, 0, 0, 0, 0, 0, 0, 0, 0, 0, 0, 0, 0, 0, 0, 0, 0, 0, 0, 0,\n",
              "       0, 0, 0, 0, 0, 0, 1, 1, 1, 1, 1, 1, 1, 1, 1, 1, 1, 1, 1, 1, 1, 1,\n",
              "       1, 1, 1, 1, 1, 1, 1, 1, 1, 1, 1, 1, 1, 1, 1, 1, 1, 1, 1, 1, 1, 1,\n",
              "       1, 1, 1, 1, 1, 1, 1, 1, 1, 1, 1, 1, 2, 2, 2, 2, 2, 2, 2, 2, 2, 2,\n",
              "       2, 2, 2, 2, 2, 2, 2, 2, 2, 2, 2, 2, 2, 2, 2, 2, 2, 2, 2, 2, 2, 2,\n",
              "       2, 2, 2, 2, 2, 2, 2, 2, 2, 2, 2, 2, 2, 2, 2, 2, 2, 2])"
            ]
          },
          "metadata": {
            "tags": []
          },
          "execution_count": 201
        }
      ]
    },
    {
      "cell_type": "code",
      "metadata": {
        "id": "7rXDxo7Q65yZ"
      },
      "source": [
        "species = np.chararray(target.shape, itemsize=150)\n",
        "for i in range(len(samples)):\n",
        "  if target[i] == 0:\n",
        "    species[i] = 'setosa'\n",
        "  elif target[i] == 1:\n",
        "    species[i] = 'versicolor'\n",
        "  elif target[i] == 2:\n",
        "    species[i] = 'virginica'"
      ],
      "execution_count": null,
      "outputs": []
    },
    {
      "cell_type": "code",
      "metadata": {
        "id": "YQpKRwei6-wy",
        "outputId": "7369495f-a060-427d-e328-d2b80797054f",
        "colab": {
          "base_uri": "https://localhost:8080/",
          "height": 105
        }
      },
      "source": [
        "import pandas as pd\n",
        "\n",
        "df = pd.DataFrame({'labels': labels, 'species': species})\n",
        "ct = pd.crosstab(df['labels'], df['species'])\n",
        "print(ct)"
      ],
      "execution_count": null,
      "outputs": [
        {
          "output_type": "stream",
          "text": [
            "species  b'setosa'  b'versicolor'  b'virginica'\n",
            "labels                                         \n",
            "0               50              0             0\n",
            "1                0             48            14\n",
            "2                0              2            36\n"
          ],
          "name": "stdout"
        }
      ]
    },
    {
      "cell_type": "markdown",
      "metadata": {
        "id": "zcijR21OMMgt"
      },
      "source": [
        "# 세 번째 hierachical (hierarchy) https://bcho.tistory.com/1204| https://joyfuls.tistory.com/64"
      ]
    },
    {
      "cell_type": "code",
      "metadata": {
        "id": "cFqEt26aRVDx",
        "outputId": "36ec836a-1ee8-4945-b54a-b7f25e3e7f6d",
        "colab": {
          "base_uri": "https://localhost:8080/",
          "height": 195
        }
      },
      "source": [
        "from sklearn import datasets\n",
        "import pandas as pd\n",
        "iris = datasets.load_iris()\n",
        "\n",
        "labels = pd.DataFrame(iris.target)\n",
        "labels.columns=['labels']\n",
        "data = pd.DataFrame(iris.data)\n",
        "data.columns=['Sepal length','Sepal width','Petal length','Petal width']\n",
        "data = pd.concat([data,labels],axis=1)\n",
        "\n",
        "data.head()"
      ],
      "execution_count": 50,
      "outputs": [
        {
          "output_type": "execute_result",
          "data": {
            "text/html": [
              "<div>\n",
              "<style scoped>\n",
              "    .dataframe tbody tr th:only-of-type {\n",
              "        vertical-align: middle;\n",
              "    }\n",
              "\n",
              "    .dataframe tbody tr th {\n",
              "        vertical-align: top;\n",
              "    }\n",
              "\n",
              "    .dataframe thead th {\n",
              "        text-align: right;\n",
              "    }\n",
              "</style>\n",
              "<table border=\"1\" class=\"dataframe\">\n",
              "  <thead>\n",
              "    <tr style=\"text-align: right;\">\n",
              "      <th></th>\n",
              "      <th>Sepal length</th>\n",
              "      <th>Sepal width</th>\n",
              "      <th>Petal length</th>\n",
              "      <th>Petal width</th>\n",
              "      <th>labels</th>\n",
              "    </tr>\n",
              "  </thead>\n",
              "  <tbody>\n",
              "    <tr>\n",
              "      <th>0</th>\n",
              "      <td>5.1</td>\n",
              "      <td>3.5</td>\n",
              "      <td>1.4</td>\n",
              "      <td>0.2</td>\n",
              "      <td>0</td>\n",
              "    </tr>\n",
              "    <tr>\n",
              "      <th>1</th>\n",
              "      <td>4.9</td>\n",
              "      <td>3.0</td>\n",
              "      <td>1.4</td>\n",
              "      <td>0.2</td>\n",
              "      <td>0</td>\n",
              "    </tr>\n",
              "    <tr>\n",
              "      <th>2</th>\n",
              "      <td>4.7</td>\n",
              "      <td>3.2</td>\n",
              "      <td>1.3</td>\n",
              "      <td>0.2</td>\n",
              "      <td>0</td>\n",
              "    </tr>\n",
              "    <tr>\n",
              "      <th>3</th>\n",
              "      <td>4.6</td>\n",
              "      <td>3.1</td>\n",
              "      <td>1.5</td>\n",
              "      <td>0.2</td>\n",
              "      <td>0</td>\n",
              "    </tr>\n",
              "    <tr>\n",
              "      <th>4</th>\n",
              "      <td>5.0</td>\n",
              "      <td>3.6</td>\n",
              "      <td>1.4</td>\n",
              "      <td>0.2</td>\n",
              "      <td>0</td>\n",
              "    </tr>\n",
              "  </tbody>\n",
              "</table>\n",
              "</div>"
            ],
            "text/plain": [
              "   Sepal length  Sepal width  Petal length  Petal width  labels\n",
              "0           5.1          3.5           1.4          0.2       0\n",
              "1           4.9          3.0           1.4          0.2       0\n",
              "2           4.7          3.2           1.3          0.2       0\n",
              "3           4.6          3.1           1.5          0.2       0\n",
              "4           5.0          3.6           1.4          0.2       0"
            ]
          },
          "metadata": {
            "tags": []
          },
          "execution_count": 50
        }
      ]
    },
    {
      "cell_type": "code",
      "metadata": {
        "id": "Ks7nY5sXTyH3",
        "outputId": "01152233-7a43-4f41-edd4-513b39495555",
        "colab": {
          "base_uri": "https://localhost:8080/",
          "height": 402
        }
      },
      "source": [
        "labels"
      ],
      "execution_count": 70,
      "outputs": [
        {
          "output_type": "execute_result",
          "data": {
            "text/html": [
              "<div>\n",
              "<style scoped>\n",
              "    .dataframe tbody tr th:only-of-type {\n",
              "        vertical-align: middle;\n",
              "    }\n",
              "\n",
              "    .dataframe tbody tr th {\n",
              "        vertical-align: top;\n",
              "    }\n",
              "\n",
              "    .dataframe thead th {\n",
              "        text-align: right;\n",
              "    }\n",
              "</style>\n",
              "<table border=\"1\" class=\"dataframe\">\n",
              "  <thead>\n",
              "    <tr style=\"text-align: right;\">\n",
              "      <th></th>\n",
              "      <th>labels</th>\n",
              "    </tr>\n",
              "  </thead>\n",
              "  <tbody>\n",
              "    <tr>\n",
              "      <th>0</th>\n",
              "      <td>0</td>\n",
              "    </tr>\n",
              "    <tr>\n",
              "      <th>1</th>\n",
              "      <td>0</td>\n",
              "    </tr>\n",
              "    <tr>\n",
              "      <th>2</th>\n",
              "      <td>0</td>\n",
              "    </tr>\n",
              "    <tr>\n",
              "      <th>3</th>\n",
              "      <td>0</td>\n",
              "    </tr>\n",
              "    <tr>\n",
              "      <th>4</th>\n",
              "      <td>0</td>\n",
              "    </tr>\n",
              "    <tr>\n",
              "      <th>...</th>\n",
              "      <td>...</td>\n",
              "    </tr>\n",
              "    <tr>\n",
              "      <th>145</th>\n",
              "      <td>2</td>\n",
              "    </tr>\n",
              "    <tr>\n",
              "      <th>146</th>\n",
              "      <td>2</td>\n",
              "    </tr>\n",
              "    <tr>\n",
              "      <th>147</th>\n",
              "      <td>2</td>\n",
              "    </tr>\n",
              "    <tr>\n",
              "      <th>148</th>\n",
              "      <td>2</td>\n",
              "    </tr>\n",
              "    <tr>\n",
              "      <th>149</th>\n",
              "      <td>2</td>\n",
              "    </tr>\n",
              "  </tbody>\n",
              "</table>\n",
              "<p>150 rows × 1 columns</p>\n",
              "</div>"
            ],
            "text/plain": [
              "     labels\n",
              "0         0\n",
              "1         0\n",
              "2         0\n",
              "3         0\n",
              "4         0\n",
              "..      ...\n",
              "145       2\n",
              "146       2\n",
              "147       2\n",
              "148       2\n",
              "149       2\n",
              "\n",
              "[150 rows x 1 columns]"
            ]
          },
          "metadata": {
            "tags": []
          },
          "execution_count": 70
        }
      ]
    },
    {
      "cell_type": "code",
      "metadata": {
        "id": "uo5px8txRV6m",
        "outputId": "6331f449-7f5e-49b0-8547-442847036b6a",
        "colab": {
          "base_uri": "https://localhost:8080/",
          "height": 582
        }
      },
      "source": [
        "from scipy.cluster.hierarchy import linkage, dendrogram\n",
        "import matplotlib.pyplot as plt\n",
        "\n",
        "# Calculate the linkage: mergings\n",
        "mergings = linkage(data,method='complete')\n",
        "\n",
        "# Plot the dendrogram, using varieties as labels\n",
        "plt.figure(figsize=(40,20))\n",
        "dendrogram(mergings,\n",
        "          #  labels = labels.values(columns=['labels']),\n",
        "           leaf_rotation=90,\n",
        "           leaf_font_size=20\n",
        ")\n",
        "plt.show()"
      ],
      "execution_count": 79,
      "outputs": [
        {
          "output_type": "display_data",
          "data": {
            "image/png": "[encoded data removed]",
            "text/plain": [
              "<Figure size 2880x1440 with 1 Axes>"
            ]
          },
          "metadata": {
            "tags": [],
            "needs_background": "light"
          }
        }
      ]
    },
    {
      "cell_type": "code",
      "metadata": {
        "id": "Pox_V-QcRbZq",
        "outputId": "c43ff90b-4a07-4b1b-c8ff-2a92e928f25d",
        "colab": {
          "base_uri": "https://localhost:8080/",
          "height": 105
        }
      },
      "source": [
        "from scipy.cluster.hierarchy import fcluster\n",
        "\n",
        "predict = pd.DataFrame(fcluster(mergings,3,criterion='distance'))\n",
        "predict.columns=['predict']\n",
        "ct = pd.crosstab(predict['predict'],labels['labels'])\n",
        "print(ct)"
      ],
      "execution_count": 56,
      "outputs": [
        {
          "output_type": "stream",
          "text": [
            "labels    0   1   2\n",
            "predict            \n",
            "1        50   0   0\n",
            "2         0   0  34\n",
            "3         0  50  16\n"
          ],
          "name": "stdout"
        }
      ]
    },
    {
      "cell_type": "code",
      "metadata": {
        "id": "HeM-k8GcMQ4y"
      },
      "source": [
        "import pandas as pd # dataset load\n",
        "from sklearn.datasets import load_iris\n",
        "# 계층적 군집 model\n",
        "from scipy.cluster.hierarchy import linkage, dendrogram\n",
        "from sklearn import datasets\n",
        "import seaborn as sns"
      ],
      "execution_count": null,
      "outputs": []
    },
    {
      "cell_type": "markdown",
      "metadata": {
        "id": "q29p_In7O-tZ"
      },
      "source": [
        "1. dataset load"
      ]
    },
    {
      "cell_type": "code",
      "metadata": {
        "id": "CB9ImQdjOU-m",
        "outputId": "402e6e2f-98d2-4808-a74f-50e6646172cb",
        "colab": {
          "base_uri": "https://localhost:8080/",
          "height": 195
        }
      },
      "source": [
        "iris = pd.read_csv(\"iris.csv\")\n",
        "iris.info()"
      ],
      "execution_count": 49,
      "outputs": [
        {
          "output_type": "execute_result",
          "data": {
            "text/html": [
              "<div>\n",
              "<style scoped>\n",
              "    .dataframe tbody tr th:only-of-type {\n",
              "        vertical-align: middle;\n",
              "    }\n",
              "\n",
              "    .dataframe tbody tr th {\n",
              "        vertical-align: top;\n",
              "    }\n",
              "\n",
              "    .dataframe thead th {\n",
              "        text-align: right;\n",
              "    }\n",
              "</style>\n",
              "<table border=\"1\" class=\"dataframe\">\n",
              "  <thead>\n",
              "    <tr style=\"text-align: right;\">\n",
              "      <th></th>\n",
              "      <th>Sepal length</th>\n",
              "      <th>Sepal width</th>\n",
              "      <th>Petal length</th>\n",
              "      <th>Petal width</th>\n",
              "      <th>labels</th>\n",
              "    </tr>\n",
              "  </thead>\n",
              "  <tbody>\n",
              "    <tr>\n",
              "      <th>0</th>\n",
              "      <td>5.1</td>\n",
              "      <td>3.5</td>\n",
              "      <td>1.4</td>\n",
              "      <td>0.2</td>\n",
              "      <td>0</td>\n",
              "    </tr>\n",
              "    <tr>\n",
              "      <th>1</th>\n",
              "      <td>4.9</td>\n",
              "      <td>3.0</td>\n",
              "      <td>1.4</td>\n",
              "      <td>0.2</td>\n",
              "      <td>0</td>\n",
              "    </tr>\n",
              "    <tr>\n",
              "      <th>2</th>\n",
              "      <td>4.7</td>\n",
              "      <td>3.2</td>\n",
              "      <td>1.3</td>\n",
              "      <td>0.2</td>\n",
              "      <td>0</td>\n",
              "    </tr>\n",
              "    <tr>\n",
              "      <th>3</th>\n",
              "      <td>4.6</td>\n",
              "      <td>3.1</td>\n",
              "      <td>1.5</td>\n",
              "      <td>0.2</td>\n",
              "      <td>0</td>\n",
              "    </tr>\n",
              "    <tr>\n",
              "      <th>4</th>\n",
              "      <td>5.0</td>\n",
              "      <td>3.6</td>\n",
              "      <td>1.4</td>\n",
              "      <td>0.2</td>\n",
              "      <td>0</td>\n",
              "    </tr>\n",
              "  </tbody>\n",
              "</table>\n",
              "</div>"
            ],
            "text/plain": [
              "   Sepal length  Sepal width  Petal length  Petal width  labels\n",
              "0           5.1          3.5           1.4          0.2       0\n",
              "1           4.9          3.0           1.4          0.2       0\n",
              "2           4.7          3.2           1.3          0.2       0\n",
              "3           4.6          3.1           1.5          0.2       0\n",
              "4           5.0          3.6           1.4          0.2       0"
            ]
          },
          "metadata": {
            "tags": []
          },
          "execution_count": 49
        }
      ]
    },
    {
      "cell_type": "code",
      "metadata": {
        "id": "gEqUOXdcOecX",
        "outputId": "8eb1f906-7ea9-481c-b3c4-391c96063a26",
        "colab": {
          "base_uri": "https://localhost:8080/",
          "height": 195
        }
      },
      "source": [
        "cols = list(iris.columns)\n",
        "iris_x = iris[cols[:4]]\n",
        "iris_x.head()"
      ],
      "execution_count": null,
      "outputs": [
        {
          "output_type": "execute_result",
          "data": {
            "text/html": [
              "<div>\n",
              "<style scoped>\n",
              "    .dataframe tbody tr th:only-of-type {\n",
              "        vertical-align: middle;\n",
              "    }\n",
              "\n",
              "    .dataframe tbody tr th {\n",
              "        vertical-align: top;\n",
              "    }\n",
              "\n",
              "    .dataframe thead th {\n",
              "        text-align: right;\n",
              "    }\n",
              "</style>\n",
              "<table border=\"1\" class=\"dataframe\">\n",
              "  <thead>\n",
              "    <tr style=\"text-align: right;\">\n",
              "      <th></th>\n",
              "      <th>Sepal.Length</th>\n",
              "      <th>Sepal.Width</th>\n",
              "      <th>Petal.Length</th>\n",
              "      <th>Petal.Width</th>\n",
              "    </tr>\n",
              "  </thead>\n",
              "  <tbody>\n",
              "    <tr>\n",
              "      <th>0</th>\n",
              "      <td>5.1</td>\n",
              "      <td>3.5</td>\n",
              "      <td>1.4</td>\n",
              "      <td>0.2</td>\n",
              "    </tr>\n",
              "    <tr>\n",
              "      <th>1</th>\n",
              "      <td>4.9</td>\n",
              "      <td>3.0</td>\n",
              "      <td>1.4</td>\n",
              "      <td>0.2</td>\n",
              "    </tr>\n",
              "    <tr>\n",
              "      <th>2</th>\n",
              "      <td>4.7</td>\n",
              "      <td>3.2</td>\n",
              "      <td>1.3</td>\n",
              "      <td>0.2</td>\n",
              "    </tr>\n",
              "    <tr>\n",
              "      <th>3</th>\n",
              "      <td>4.6</td>\n",
              "      <td>3.1</td>\n",
              "      <td>1.5</td>\n",
              "      <td>0.2</td>\n",
              "    </tr>\n",
              "    <tr>\n",
              "      <th>4</th>\n",
              "      <td>5.0</td>\n",
              "      <td>3.6</td>\n",
              "      <td>1.4</td>\n",
              "      <td>0.2</td>\n",
              "    </tr>\n",
              "  </tbody>\n",
              "</table>\n",
              "</div>"
            ],
            "text/plain": [
              "   Sepal.Length  Sepal.Width  Petal.Length  Petal.Width\n",
              "0           5.1          3.5           1.4          0.2\n",
              "1           4.9          3.0           1.4          0.2\n",
              "2           4.7          3.2           1.3          0.2\n",
              "3           4.6          3.1           1.5          0.2\n",
              "4           5.0          3.6           1.4          0.2"
            ]
          },
          "metadata": {
            "tags": []
          },
          "execution_count": 29
        }
      ]
    },
    {
      "cell_type": "code",
      "metadata": {
        "id": "PwsmmNWJOgLW",
        "outputId": "3ce12a7d-70b8-45ab-b1a8-ff131ced6908",
        "colab": {
          "base_uri": "https://localhost:8080/",
          "height": 87
        }
      },
      "source": [
        "iris['Species'].value_counts() # 'Species' : y변수"
      ],
      "execution_count": null,
      "outputs": [
        {
          "output_type": "execute_result",
          "data": {
            "text/plain": [
              "virginica     50\n",
              "setosa        50\n",
              "versicolor    50\n",
              "Name: Species, dtype: int64"
            ]
          },
          "metadata": {
            "tags": []
          },
          "execution_count": 30
        }
      ]
    },
    {
      "cell_type": "markdown",
      "metadata": {
        "id": "dVdT17ZlPNhG"
      },
      "source": [
        "2. y변수 수치화"
      ]
    },
    {
      "cell_type": "code",
      "metadata": {
        "id": "Cw2_s2OZOtRu",
        "outputId": "61f0d315-f7ce-421f-f53d-8e9d5b9542fc",
        "colab": {
          "base_uri": "https://localhost:8080/",
          "height": 195
        }
      },
      "source": [
        "X, y = load_iris(return_X_y=True)\n",
        "\n",
        "# 사이킷런 라이브러리에서 제공하는 데이터셋을 불러오면 범주값을 숫자로 받을 수 있음\n",
        "y  # 0,1,2로 구성됨\n",
        "\n",
        "labels = pd.DataFrame(y, columns = ['labels'])\n",
        "\n",
        "# df = df + df\n",
        "irisDF = pd.concat([iris_x, labels], axis = 1)\n",
        "irisDF.head()"
      ],
      "execution_count": null,
      "outputs": [
        {
          "output_type": "execute_result",
          "data": {
            "text/html": [
              "<div>\n",
              "<style scoped>\n",
              "    .dataframe tbody tr th:only-of-type {\n",
              "        vertical-align: middle;\n",
              "    }\n",
              "\n",
              "    .dataframe tbody tr th {\n",
              "        vertical-align: top;\n",
              "    }\n",
              "\n",
              "    .dataframe thead th {\n",
              "        text-align: right;\n",
              "    }\n",
              "</style>\n",
              "<table border=\"1\" class=\"dataframe\">\n",
              "  <thead>\n",
              "    <tr style=\"text-align: right;\">\n",
              "      <th></th>\n",
              "      <th>Sepal.Length</th>\n",
              "      <th>Sepal.Width</th>\n",
              "      <th>Petal.Length</th>\n",
              "      <th>Petal.Width</th>\n",
              "      <th>labels</th>\n",
              "    </tr>\n",
              "  </thead>\n",
              "  <tbody>\n",
              "    <tr>\n",
              "      <th>0</th>\n",
              "      <td>5.1</td>\n",
              "      <td>3.5</td>\n",
              "      <td>1.4</td>\n",
              "      <td>0.2</td>\n",
              "      <td>0</td>\n",
              "    </tr>\n",
              "    <tr>\n",
              "      <th>1</th>\n",
              "      <td>4.9</td>\n",
              "      <td>3.0</td>\n",
              "      <td>1.4</td>\n",
              "      <td>0.2</td>\n",
              "      <td>0</td>\n",
              "    </tr>\n",
              "    <tr>\n",
              "      <th>2</th>\n",
              "      <td>4.7</td>\n",
              "      <td>3.2</td>\n",
              "      <td>1.3</td>\n",
              "      <td>0.2</td>\n",
              "      <td>0</td>\n",
              "    </tr>\n",
              "    <tr>\n",
              "      <th>3</th>\n",
              "      <td>4.6</td>\n",
              "      <td>3.1</td>\n",
              "      <td>1.5</td>\n",
              "      <td>0.2</td>\n",
              "      <td>0</td>\n",
              "    </tr>\n",
              "    <tr>\n",
              "      <th>4</th>\n",
              "      <td>5.0</td>\n",
              "      <td>3.6</td>\n",
              "      <td>1.4</td>\n",
              "      <td>0.2</td>\n",
              "      <td>0</td>\n",
              "    </tr>\n",
              "  </tbody>\n",
              "</table>\n",
              "</div>"
            ],
            "text/plain": [
              "   Sepal.Length  Sepal.Width  Petal.Length  Petal.Width  labels\n",
              "0           5.1          3.5           1.4          0.2       0\n",
              "1           4.9          3.0           1.4          0.2       0\n",
              "2           4.7          3.2           1.3          0.2       0\n",
              "3           4.6          3.1           1.5          0.2       0\n",
              "4           5.0          3.6           1.4          0.2       0"
            ]
          },
          "metadata": {
            "tags": []
          },
          "execution_count": 35
        }
      ]
    },
    {
      "cell_type": "code",
      "metadata": {
        "id": "Q2GDs0JlO1bf",
        "outputId": "c978b5a7-f0b3-4115-d02a-5fb85edb9f8b",
        "colab": {
          "base_uri": "https://localhost:8080/",
          "height": 195
        }
      },
      "source": [
        "irisDF.tail()  # x변수들과 수치화된 y변수(labels)로 데이터프레임 만들어진 것을 확인"
      ],
      "execution_count": null,
      "outputs": [
        {
          "output_type": "execute_result",
          "data": {
            "text/html": [
              "<div>\n",
              "<style scoped>\n",
              "    .dataframe tbody tr th:only-of-type {\n",
              "        vertical-align: middle;\n",
              "    }\n",
              "\n",
              "    .dataframe tbody tr th {\n",
              "        vertical-align: top;\n",
              "    }\n",
              "\n",
              "    .dataframe thead th {\n",
              "        text-align: right;\n",
              "    }\n",
              "</style>\n",
              "<table border=\"1\" class=\"dataframe\">\n",
              "  <thead>\n",
              "    <tr style=\"text-align: right;\">\n",
              "      <th></th>\n",
              "      <th>Sepal.Length</th>\n",
              "      <th>Sepal.Width</th>\n",
              "      <th>Petal.Length</th>\n",
              "      <th>Petal.Width</th>\n",
              "      <th>labels</th>\n",
              "    </tr>\n",
              "  </thead>\n",
              "  <tbody>\n",
              "    <tr>\n",
              "      <th>145</th>\n",
              "      <td>6.7</td>\n",
              "      <td>3.0</td>\n",
              "      <td>5.2</td>\n",
              "      <td>2.3</td>\n",
              "      <td>2</td>\n",
              "    </tr>\n",
              "    <tr>\n",
              "      <th>146</th>\n",
              "      <td>6.3</td>\n",
              "      <td>2.5</td>\n",
              "      <td>5.0</td>\n",
              "      <td>1.9</td>\n",
              "      <td>2</td>\n",
              "    </tr>\n",
              "    <tr>\n",
              "      <th>147</th>\n",
              "      <td>6.5</td>\n",
              "      <td>3.0</td>\n",
              "      <td>5.2</td>\n",
              "      <td>2.0</td>\n",
              "      <td>2</td>\n",
              "    </tr>\n",
              "    <tr>\n",
              "      <th>148</th>\n",
              "      <td>6.2</td>\n",
              "      <td>3.4</td>\n",
              "      <td>5.4</td>\n",
              "      <td>2.3</td>\n",
              "      <td>2</td>\n",
              "    </tr>\n",
              "    <tr>\n",
              "      <th>149</th>\n",
              "      <td>5.9</td>\n",
              "      <td>3.0</td>\n",
              "      <td>5.1</td>\n",
              "      <td>1.8</td>\n",
              "      <td>2</td>\n",
              "    </tr>\n",
              "  </tbody>\n",
              "</table>\n",
              "</div>"
            ],
            "text/plain": [
              "     Sepal.Length  Sepal.Width  Petal.Length  Petal.Width  labels\n",
              "145           6.7          3.0           5.2          2.3       2\n",
              "146           6.3          2.5           5.0          1.9       2\n",
              "147           6.5          3.0           5.2          2.0       2\n",
              "148           6.2          3.4           5.4          2.3       2\n",
              "149           5.9          3.0           5.1          1.8       2"
            ]
          },
          "metadata": {
            "tags": []
          },
          "execution_count": 34
        }
      ]
    },
    {
      "cell_type": "markdown",
      "metadata": {
        "id": "EZ9WkmfxO9Mm"
      },
      "source": [
        " 3. 계층적 군집분석 model"
      ]
    },
    {
      "cell_type": "code",
      "metadata": {
        "id": "hAXqMArFO3Ev",
        "outputId": "4def7a51-efdc-46c3-e8b8-7d179f401707",
        "colab": {
          "base_uri": "https://localhost:8080/",
          "height": 34
        }
      },
      "source": [
        "clusters = linkage(y=irisDF, method='complete', metric='euclidean')\n",
        "clusters\n",
        "clusters.shape # (149, 4)"
      ],
      "execution_count": 61,
      "outputs": [
        {
          "output_type": "execute_result",
          "data": {
            "text/plain": [
              "(149, 4)"
            ]
          },
          "metadata": {
            "tags": []
          },
          "execution_count": 61
        }
      ]
    },
    {
      "cell_type": "markdown",
      "metadata": {
        "id": "4xB1jheKS51J"
      },
      "source": [
        "'''\n",
        "연결방식 \n",
        " 1. 단순연결방식(single)\n",
        " 2. 완전연결방식(complete)\n",
        " 3. 평균연결방식(average)\n",
        "'''"
      ]
    },
    {
      "cell_type": "markdown",
      "metadata": {
        "id": "NkOX7UYLPQMV"
      },
      "source": [
        "4. 덴드로그램 시각화 : 군집수 결정"
      ]
    },
    {
      "cell_type": "code",
      "metadata": {
        "id": "_84jesfNPP1C",
        "outputId": "e541a7c3-fdba-4a9b-c2dc-892efbba707e",
        "colab": {
          "base_uri": "https://localhost:8080/",
          "height": 477
        }
      },
      "source": [
        "import matplotlib.pyplot as plt\n",
        "plt.figure( figsize = (25, 10) )\n",
        "dendrogram(clusters, leaf_rotation=90, leaf_font_size=12,)\n",
        "leaf_rotation=90 #: 글자 각도\n",
        "leaf_font_size=20 #: 글자 사이즈\n",
        "plt.show() "
      ],
      "execution_count": 62,
      "outputs": [
        {
          "output_type": "display_data",
          "data": {
            "image/png": "[encoded data removed]",
            "text/plain": [
              "<Figure size 1800x720 with 1 Axes>"
            ]
          },
          "metadata": {
            "tags": [],
            "needs_background": "light"
          }
        }
      ]
    },
    {
      "cell_type": "markdown",
      "metadata": {
        "id": "RyzNUG8SPZCD"
      },
      "source": [
        "5. 클러스터링(군집) 결과"
      ]
    },
    {
      "cell_type": "code",
      "metadata": {
        "id": "wOPnXhXHPUON",
        "outputId": "334744a0-f270-474f-aae3-9e226f8869c3",
        "colab": {
          "base_uri": "https://localhost:8080/",
          "height": 140
        }
      },
      "source": [
        "from scipy.cluster.hierarchy import fcluster # 지정한 클러스터 자르기\n",
        "\n",
        "cut_tree = fcluster(clusters, t=3, criterion='distance')\n",
        "cut_tree # prediction"
      ],
      "execution_count": 41,
      "outputs": [
        {
          "output_type": "execute_result",
          "data": {
            "text/plain": [
              "array([1, 1, 1, 1, 1, 1, 1, 1, 1, 1, 1, 1, 1, 1, 1, 1, 1, 1, 1, 1, 1, 1,\n",
              "       1, 1, 1, 1, 1, 1, 1, 1, 1, 1, 1, 1, 1, 1, 1, 1, 1, 1, 1, 1, 1, 1,\n",
              "       1, 1, 1, 1, 1, 1, 3, 3, 3, 3, 3, 3, 3, 3, 3, 3, 3, 3, 3, 3, 3, 3,\n",
              "       3, 3, 3, 3, 3, 3, 3, 3, 3, 3, 3, 3, 3, 3, 3, 3, 3, 3, 3, 3, 3, 3,\n",
              "       3, 3, 3, 3, 3, 3, 3, 3, 3, 3, 3, 3, 2, 3, 2, 2, 2, 2, 3, 2, 2, 2,\n",
              "       2, 3, 2, 3, 3, 2, 2, 2, 2, 3, 2, 3, 2, 3, 2, 2, 3, 3, 2, 2, 2, 2,\n",
              "       2, 3, 3, 2, 2, 2, 3, 2, 2, 2, 3, 2, 2, 2, 3, 2, 2, 3], dtype=int32)"
            ]
          },
          "metadata": {
            "tags": []
          },
          "execution_count": 41
        }
      ]
    },
    {
      "cell_type": "code",
      "metadata": {
        "id": "tZW4SbfGPe8p",
        "outputId": "3c0b4d4c-3380-452a-9b36-0d294e36de26",
        "colab": {
          "base_uri": "https://localhost:8080/",
          "height": 35
        }
      },
      "source": [
        "labels = irisDF['labels'] # 정답\n",
        "\n",
        "df = pd.DataFrame({'pred':cut_tree, 'labels':labels})\n",
        "\n",
        "con_mat = pd.crosstab(df['pred'], df['labels'])\n",
        "'''\n",
        "labels   0   1   2\n",
        "pred              \n",
        "1       50   0   0\n",
        "2        0   0  34\n",
        "3        0  50  16\n",
        "'''"
      ],
      "execution_count": 42,
      "outputs": [
        {
          "output_type": "execute_result",
          "data": {
            "application/vnd.google.colaboratory.intrinsic+json": {
              "type": "string"
            },
            "text/plain": [
              "'\\nlabels   0   1   2\\npred              \\n1       50   0   0\\n2        0   0  34\\n3        0  50  16\\n'"
            ]
          },
          "metadata": {
            "tags": []
          },
          "execution_count": 42
        }
      ]
    },
    {
      "cell_type": "code",
      "metadata": {
        "id": "TtM4jIdRPogm",
        "outputId": "e22a91bf-7dc1-4ad3-c5d6-62d393bfba1b",
        "colab": {
          "base_uri": "https://localhost:8080/",
          "height": 166
        }
      },
      "source": [
        "con_mat"
      ],
      "execution_count": 44,
      "outputs": [
        {
          "output_type": "execute_result",
          "data": {
            "text/html": [
              "<div>\n",
              "<style scoped>\n",
              "    .dataframe tbody tr th:only-of-type {\n",
              "        vertical-align: middle;\n",
              "    }\n",
              "\n",
              "    .dataframe tbody tr th {\n",
              "        vertical-align: top;\n",
              "    }\n",
              "\n",
              "    .dataframe thead th {\n",
              "        text-align: right;\n",
              "    }\n",
              "</style>\n",
              "<table border=\"1\" class=\"dataframe\">\n",
              "  <thead>\n",
              "    <tr style=\"text-align: right;\">\n",
              "      <th>labels</th>\n",
              "      <th>0</th>\n",
              "      <th>1</th>\n",
              "      <th>2</th>\n",
              "    </tr>\n",
              "    <tr>\n",
              "      <th>pred</th>\n",
              "      <th></th>\n",
              "      <th></th>\n",
              "      <th></th>\n",
              "    </tr>\n",
              "  </thead>\n",
              "  <tbody>\n",
              "    <tr>\n",
              "      <th>1</th>\n",
              "      <td>50</td>\n",
              "      <td>0</td>\n",
              "      <td>0</td>\n",
              "    </tr>\n",
              "    <tr>\n",
              "      <th>2</th>\n",
              "      <td>0</td>\n",
              "      <td>0</td>\n",
              "      <td>34</td>\n",
              "    </tr>\n",
              "    <tr>\n",
              "      <th>3</th>\n",
              "      <td>0</td>\n",
              "      <td>50</td>\n",
              "      <td>16</td>\n",
              "    </tr>\n",
              "  </tbody>\n",
              "</table>\n",
              "</div>"
            ],
            "text/plain": [
              "labels   0   1   2\n",
              "pred              \n",
              "1       50   0   0\n",
              "2        0   0  34\n",
              "3        0  50  16"
            ]
          },
          "metadata": {
            "tags": []
          },
          "execution_count": 44
        }
      ]
    },
    {
      "cell_type": "code",
      "metadata": {
        "id": "r_cGQBKsPs5h",
        "outputId": "41dee014-3a75-4b4e-d8a5-5db077c34872",
        "colab": {
          "base_uri": "https://localhost:8080/",
          "height": 195
        }
      },
      "source": [
        "# irisDF에 군집 예측치 추가\n",
        "irisDF.head()\n",
        "irisDF['cluster'] = cut_tree\n",
        "irisDF.head()"
      ],
      "execution_count": 45,
      "outputs": [
        {
          "output_type": "execute_result",
          "data": {
            "text/html": [
              "<div>\n",
              "<style scoped>\n",
              "    .dataframe tbody tr th:only-of-type {\n",
              "        vertical-align: middle;\n",
              "    }\n",
              "\n",
              "    .dataframe tbody tr th {\n",
              "        vertical-align: top;\n",
              "    }\n",
              "\n",
              "    .dataframe thead th {\n",
              "        text-align: right;\n",
              "    }\n",
              "</style>\n",
              "<table border=\"1\" class=\"dataframe\">\n",
              "  <thead>\n",
              "    <tr style=\"text-align: right;\">\n",
              "      <th></th>\n",
              "      <th>Sepal.Length</th>\n",
              "      <th>Sepal.Width</th>\n",
              "      <th>Petal.Length</th>\n",
              "      <th>Petal.Width</th>\n",
              "      <th>labels</th>\n",
              "      <th>cluster</th>\n",
              "    </tr>\n",
              "  </thead>\n",
              "  <tbody>\n",
              "    <tr>\n",
              "      <th>0</th>\n",
              "      <td>5.1</td>\n",
              "      <td>3.5</td>\n",
              "      <td>1.4</td>\n",
              "      <td>0.2</td>\n",
              "      <td>0</td>\n",
              "      <td>1</td>\n",
              "    </tr>\n",
              "    <tr>\n",
              "      <th>1</th>\n",
              "      <td>4.9</td>\n",
              "      <td>3.0</td>\n",
              "      <td>1.4</td>\n",
              "      <td>0.2</td>\n",
              "      <td>0</td>\n",
              "      <td>1</td>\n",
              "    </tr>\n",
              "    <tr>\n",
              "      <th>2</th>\n",
              "      <td>4.7</td>\n",
              "      <td>3.2</td>\n",
              "      <td>1.3</td>\n",
              "      <td>0.2</td>\n",
              "      <td>0</td>\n",
              "      <td>1</td>\n",
              "    </tr>\n",
              "    <tr>\n",
              "      <th>3</th>\n",
              "      <td>4.6</td>\n",
              "      <td>3.1</td>\n",
              "      <td>1.5</td>\n",
              "      <td>0.2</td>\n",
              "      <td>0</td>\n",
              "      <td>1</td>\n",
              "    </tr>\n",
              "    <tr>\n",
              "      <th>4</th>\n",
              "      <td>5.0</td>\n",
              "      <td>3.6</td>\n",
              "      <td>1.4</td>\n",
              "      <td>0.2</td>\n",
              "      <td>0</td>\n",
              "      <td>1</td>\n",
              "    </tr>\n",
              "  </tbody>\n",
              "</table>\n",
              "</div>"
            ],
            "text/plain": [
              "   Sepal.Length  Sepal.Width  Petal.Length  Petal.Width  labels  cluster\n",
              "0           5.1          3.5           1.4          0.2       0        1\n",
              "1           4.9          3.0           1.4          0.2       0        1\n",
              "2           4.7          3.2           1.3          0.2       0        1\n",
              "3           4.6          3.1           1.5          0.2       0        1\n",
              "4           5.0          3.6           1.4          0.2       0        1"
            ]
          },
          "metadata": {
            "tags": []
          },
          "execution_count": 45
        }
      ]
    },
    {
      "cell_type": "code",
      "metadata": {
        "id": "hv3cDd7lPyKM",
        "outputId": "8e891053-4fab-4212-89a7-698a9231ce5c",
        "colab": {
          "base_uri": "https://localhost:8080/",
          "height": 282
        }
      },
      "source": [
        "# 클러스터 단위 산점도 시각화\n",
        "plt.scatter(x=irisDF['Sepal.Length'], y=irisDF['Petal.Length'], c=irisDF['cluster'])"
      ],
      "execution_count": 46,
      "outputs": [
        {
          "output_type": "execute_result",
          "data": {
            "text/plain": [
              "<matplotlib.collections.PathCollection at 0x7faa3247d8d0>"
            ]
          },
          "metadata": {
            "tags": []
          },
          "execution_count": 46
        },
        {
          "output_type": "display_data",
          "data": {
            "image/png": "[encoded data removed]",
            "text/plain": [
              "<Figure size 432x288 with 1 Axes>"
            ]
          },
          "metadata": {
            "tags": [],
            "needs_background": "light"
          }
        }
      ]
    },
    {
      "cell_type": "code",
      "metadata": {
        "id": "Dsj1KQ1iP0RJ",
        "outputId": "03e8763e-af3b-40de-e0fa-faebd8de36a2",
        "colab": {
          "base_uri": "https://localhost:8080/",
          "height": 87
        }
      },
      "source": [
        "# 클러스터 빈도수\n",
        "irisDF['cluster'].value_counts()"
      ],
      "execution_count": 47,
      "outputs": [
        {
          "output_type": "execute_result",
          "data": {
            "text/plain": [
              "3    66\n",
              "1    50\n",
              "2    34\n",
              "Name: cluster, dtype: int64"
            ]
          },
          "metadata": {
            "tags": []
          },
          "execution_count": 47
        }
      ]
    },
    {
      "cell_type": "code",
      "metadata": {
        "id": "_jo0S0wHP2fv",
        "outputId": "422f3fa4-2e60-417d-89e0-3df3f2104a36",
        "colab": {
          "base_uri": "https://localhost:8080/",
          "height": 166
        }
      },
      "source": [
        "# 각 클러스터별 통계(평균)\n",
        "cluster_g = irisDF.groupby('cluster')\n",
        "cluster_g.mean()"
      ],
      "execution_count": 48,
      "outputs": [
        {
          "output_type": "execute_result",
          "data": {
            "text/html": [
              "<div>\n",
              "<style scoped>\n",
              "    .dataframe tbody tr th:only-of-type {\n",
              "        vertical-align: middle;\n",
              "    }\n",
              "\n",
              "    .dataframe tbody tr th {\n",
              "        vertical-align: top;\n",
              "    }\n",
              "\n",
              "    .dataframe thead th {\n",
              "        text-align: right;\n",
              "    }\n",
              "</style>\n",
              "<table border=\"1\" class=\"dataframe\">\n",
              "  <thead>\n",
              "    <tr style=\"text-align: right;\">\n",
              "      <th></th>\n",
              "      <th>Sepal.Length</th>\n",
              "      <th>Sepal.Width</th>\n",
              "      <th>Petal.Length</th>\n",
              "      <th>Petal.Width</th>\n",
              "      <th>labels</th>\n",
              "    </tr>\n",
              "    <tr>\n",
              "      <th>cluster</th>\n",
              "      <th></th>\n",
              "      <th></th>\n",
              "      <th></th>\n",
              "      <th></th>\n",
              "      <th></th>\n",
              "    </tr>\n",
              "  </thead>\n",
              "  <tbody>\n",
              "    <tr>\n",
              "      <th>1</th>\n",
              "      <td>5.006000</td>\n",
              "      <td>3.428000</td>\n",
              "      <td>1.462000</td>\n",
              "      <td>0.246000</td>\n",
              "      <td>0.000000</td>\n",
              "    </tr>\n",
              "    <tr>\n",
              "      <th>2</th>\n",
              "      <td>6.888235</td>\n",
              "      <td>3.100000</td>\n",
              "      <td>5.805882</td>\n",
              "      <td>2.123529</td>\n",
              "      <td>2.000000</td>\n",
              "    </tr>\n",
              "    <tr>\n",
              "      <th>3</th>\n",
              "      <td>5.939394</td>\n",
              "      <td>2.754545</td>\n",
              "      <td>4.442424</td>\n",
              "      <td>1.445455</td>\n",
              "      <td>1.242424</td>\n",
              "    </tr>\n",
              "  </tbody>\n",
              "</table>\n",
              "</div>"
            ],
            "text/plain": [
              "         Sepal.Length  Sepal.Width  Petal.Length  Petal.Width    labels\n",
              "cluster                                                                \n",
              "1            5.006000     3.428000      1.462000     0.246000  0.000000\n",
              "2            6.888235     3.100000      5.805882     2.123529  2.000000\n",
              "3            5.939394     2.754545      4.442424     1.445455  1.242424"
            ]
          },
          "metadata": {
            "tags": []
          },
          "execution_count": 48
        }
      ]
    }
  ]
}