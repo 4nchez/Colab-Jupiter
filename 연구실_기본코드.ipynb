{
  "nbformat": 4,
  "nbformat_minor": 0,
  "metadata": {
    "colab": {
      "name": "연구실 기본코드.ipynb",
      "provenance": [],
      "collapsed_sections": [],
      "toc_visible": true,
      "authorship_tag": "ABX9TyMfZ4LxafF0TzgpDUQjWlLx",
      "include_colab_link": true
    },
    "kernelspec": {
      "name": "python3",
      "display_name": "Python 3"
    },
    "accelerator": "GPU"
  },
  "cells": [
    {
      "cell_type": "markdown",
      "metadata": {
        "id": "view-in-github",
        "colab_type": "text"
      },
      "source": [
        "<a href=\"https://colab.research.google.com/github/4nchez/Colab-Jupiter/blob/master/%EC%97%B0%EA%B5%AC%EC%8B%A4_%EA%B8%B0%EB%B3%B8%EC%BD%94%EB%93%9C.ipynb\" target=\"_parent\"><img src=\"https://colab.research.google.com/assets/colab-badge.svg\" alt=\"Open In Colab\"/></a>"
      ]
    },
    {
      "cell_type": "markdown",
      "metadata": {
        "id": "5m83NRwewjUD",
        "colab_type": "text"
      },
      "source": [
        "# Kaggle Challenge : Dogs-vs-Cats - Binary Image Classification using Keras\n",
        "해당 포스트는 [Kaggle  Dogs-vs-Cats challenge](https://www.kaggle.com/c/dogs-vs-cats) 해결하기위해 만들었으며, 여러 가지 자료들을 참고하여 만든 포스트 입니다. [이분을 많이 참조..](https://github.com/mjbhobe/dl-articles-medium)\n",
        "\n",
        "\n",
        "*   개발 환경 : google colab, Python3, Tensorflow, Keras\n",
        "*   실험 모델 : VGG16(Transfer Learning)\n",
        "*   실험에 쓰인 데이터 : Kaggle Dogs vs Cats challenge\n",
        "*   Test {개: 1,000, 고양이: 1,000} (총 2,000개)\n",
        "*   Training {개: 5,000, 고양이: 5,000} (총 10,000개)\n",
        "*   Validation {개: 2,500, 고양이: 2,500} (총 5,000개)\n",
        "*   IMAGE_HEIGHT, IMAGE_WIDTH, NUM_CHANNELS, BATCH_SIZE = 150, 150, 3, 32\n",
        "\n",
        "참고 사항\n",
        "* Google Colab에서이 노트북을 실행할 때 아래 셀에`USE_COLAB = True`를 설정하고 그렇지 않으면`USE_COLAB = False`를 설정하세요.\n",
        "*`USE_COLAB = True`는 현재 사용자의 로그인을 위해 Google 드라이브에 대한 액세스를 설정합니다 (Google ID가 있다고 가정).\n",
        "    * Google 드라이브는 '/ content / drive / 내 드라이브'에 매핑되고 노트북은 Google 드라이브의 '/ content / drive / My Drive / Colab Notebooks /'폴더에 저장됩니다.\n",
        "    * 코드는`/ content / drive / My Drive / Colab Notebooks /`폴더를`system.path`에 추가합니다. 커스텀 Python 코드 파일`(* .py)`를 여기에 저장하면`system.path`에 자동으로 추가되고 노트북에서 사용할 수 있습니다. *\n",
        "*`MODEL_STATES` 전역 변수는 모델의 상태 (즉, 훈련 된 가중치 및 편향)가`.h5` 파일에 저장되는 _correct_ 폴더를 가리 키도록 생성됩니다.\n",
        "    *`USE_COLAB = True` 인 경우`MODEL_STATES`는 Google Drive의`/ content / drive / My Drive / Colab Notebooks / model_states` 폴더에 매핑됩니다.\n",
        "    * 그렇지 않으면`MODEL_STATES`는 로컬 디스크의`. / model_states` 폴더 (예 : 노트북이 저장된 폴더의 하위 폴더)에 매핑됩니다."
      ]
    },
    {
      "cell_type": "code",
      "metadata": {
        "id": "e5Z2GxAIdoe7",
        "colab_type": "code",
        "colab": {
          "resources": {
            "http://localhost:8080/nbextensions/google.colab/files.js": {
              "data": "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",
              "ok": true,
              "headers": [
                [
                  "content-type",
                  "application/javascript"
                ]
              ],
              "status": 200,
              "status_text": ""
            }
          },
          "base_uri": "https://localhost:8080/",
          "height": 76
        },
        "outputId": "ebd2f600-0e5b-48fe-d02c-3d6e8e3def3e"
      },
      "source": [
        "from google.colab import files\n",
        "src = list(files.upload().values())[0]"
      ],
      "execution_count": 1,
      "outputs": [
        {
          "output_type": "display_data",
          "data": {
            "text/html": [
              "\n",
              "     <input type=\"file\" id=\"files-e292755d-f024-49fd-b109-ab430289cc07\" name=\"files[]\" multiple disabled\n",
              "        style=\"border:none\" />\n",
              "     <output id=\"result-e292755d-f024-49fd-b109-ab430289cc07\">\n",
              "      Upload widget is only available when the cell has been executed in the\n",
              "      current browser session. Please rerun this cell to enable.\n",
              "      </output>\n",
              "      <script src=\"/nbextensions/google.colab/files.js\"></script> "
            ],
            "text/plain": [
              "<IPython.core.display.HTML object>"
            ]
          },
          "metadata": {
            "tags": []
          }
        },
        {
          "output_type": "stream",
          "text": [
            "Saving kr_helper_funcs.py to kr_helper_funcs.py\n"
          ],
          "name": "stdout"
        }
      ]
    },
    {
      "cell_type": "markdown",
      "metadata": {
        "id": "LQtVueKT9Z4x",
        "colab_type": "text"
      },
      "source": [
        "구글 드라이브 연동 코드"
      ]
    },
    {
      "cell_type": "code",
      "metadata": {
        "id": "Dba_NevywhXb",
        "colab_type": "code",
        "colab": {
          "base_uri": "https://localhost:8080/",
          "height": 87
        },
        "outputId": "cea524ae-28c5-49b9-8744-6293ca757807"
      },
      "source": [
        "USE_COLAB = True\n",
        " \n",
        "import os\n",
        " \n",
        "#@see: https://colab.research.google.com/drive/1srw_HFWQ2SMgmWIawucXfusGzrj1_U0q\n",
        "if USE_COLAB:\n",
        "    from google.colab import drive\n",
        " \n",
        "    gdrive_mount_point = '/content/drive/'\n",
        "    drive.mount(gdrive_mount_point)\n",
        "    grive_path = os.path.join(gdrive_mount_point, \"My Drive/\")\n",
        "    print('Your Google Drive is mounted at ', grive_path)\n",
        "    colab_notebooks_path = os.path.join(grive_path, \"Colab Notebooks/\")\n",
        "    \n",
        "    if os.path.exists(colab_notebooks_path):\n",
        "        print('You Colab notebooks are available at ', colab_notebooks_path)\n",
        "    \n",
        "        #!ls '/content/drive/My Drive/Colab Notebooks/'\n",
        " \n",
        "        import sys\n",
        "        #sys.path.append(\"/content/drive/My Drive/Colab Notebooks/\")\n",
        "        sys.path.append(colab_notebooks_path)\n",
        "        print('NOTE: {} is appended to sys.path!'.format(colab_notebooks_path))\n",
        "        # import kr_helper_funcs as kru\n",
        "        MODEL_SAVE_DIR = \"/content/drive/My Drive/Colab Notebooks/model_states\" #실험에 쓴 모델을 저장할 드라이브 경로\n",
        "        IMAGES_ZIP_DIR = \"/content/drive/My Drive/Colab Notebooks/data/cats_vs_dogs\" #구글 드라이브에 저장되어 있는 데이터셋\n",
        "    else:\n",
        "        raise IOError(\"Unable to mount Google Drive!\")\n",
        "else:\n",
        "    MODEL_SAVE_DIR = os.path.join('.','model_states')\n",
        "    IMAGES_ZIP_DIR = \"./images/kaggle/cats_vs_dogs\"\n",
        "    \n",
        "if not os.path.exists(MODEL_SAVE_DIR):\n",
        "    os.mkdir(MODEL_SAVE_DIR)"
      ],
      "execution_count": 2,
      "outputs": [
        {
          "output_type": "stream",
          "text": [
            "Mounted at /content/drive/\n",
            "Your Google Drive is mounted at  /content/drive/My Drive/\n",
            "You Colab notebooks are available at  /content/drive/My Drive/Colab Notebooks/\n",
            "NOTE: /content/drive/My Drive/Colab Notebooks/ is appended to sys.path!\n"
          ],
          "name": "stdout"
        }
      ]
    },
    {
      "cell_type": "markdown",
      "metadata": {
        "id": "HE-JTmjLApKN",
        "colab_type": "text"
      },
      "source": [
        "## Kaggle  Dogs-vs-Cats challenge Dataset\n",
        "Kaggle train.zip 에는 개와 고양이의 이미지 25,000 개 (고양이 색상 이미지 12,500 개 및 다양한 크기의 개 색상 이미지 12,500 개)가 포함되어 있습니다.\n",
        "\n",
        "train Data 중 별도의 프로그램을 사용하여 고양이와 개에 개에 각각 5,000개의 훈련 이미지, 고양이와 개에 대한 2,500개의 평가 이미지, 고양이와 개에 개에 각각 1,000개의 테스트 이미지로 구성된 작은 데이터 세트를 만들었습니다. 그런 다음 이미지 Dataset.zip 파일을 Google 드라이브에 업로드했습니다.\n",
        "\n",
        "zip 파일 cats_vs_dogs_images_small.zip은 내 Google 드라이브의 IMAGES_ZIP_DIR에서 사용할 수 있습니다. 아래 코드 셀은 로컬로 다운로드하고 /tmp 폴더에 이미지 압축을 풉니다."
      ]
    },
    {
      "cell_type": "code",
      "metadata": {
        "id": "RZ2LtU_aEZA9",
        "colab_type": "code",
        "colab": {
          "base_uri": "https://localhost:8080/",
          "height": 34
        },
        "outputId": "51568c1d-7359-4290-b7af-a5c5f913df8f"
      },
      "source": [
        "import sys, os, random\n",
        "import numpy as np\n",
        "import tensorflow as tf\n",
        "print('Using Tensorflow version ', tf.__version__)\n",
        "import matplotlib.pyplot as plt\n",
        "%matplotlib inline\n",
        " \n",
        "import kr_helper_funcs as kru\n",
        " \n",
        "plt.style.use('seaborn')\n",
        " \n",
        "seed = 123\n",
        "random.seed(seed)\n",
        "np.random.seed(seed)\n",
        "# tf.set_random_seed(seed)\n",
        " \n",
        "import warnings\n",
        "warnings.filterwarnings('ignore')  # ignore all warnings"
      ],
      "execution_count": 3,
      "outputs": [
        {
          "output_type": "stream",
          "text": [
            "Using Tensorflow version  2.3.0\n"
          ],
          "name": "stdout"
        }
      ]
    },
    {
      "cell_type": "code",
      "metadata": {
        "id": "ea0g4CxrAmbA",
        "colab_type": "code",
        "colab": {
          "base_uri": "https://localhost:8080/",
          "height": 52
        },
        "outputId": "a9fb969f-2eed-4ec8-d369-077fddd7ec1a"
      },
      "source": [
        "import os, shutil\n",
        "import zipfile\n",
        " \n",
        "#!cp $(IMAGES_ZIP_DIR/images_small.zip\" /tmp\n",
        "source_file = os.path.join(IMAGES_ZIP_DIR, 'cats_vs_dogs_images_small.zip')\n",
        "local_zip = '/tmp/cats_vs_dogs_images_small.zip'\n",
        " \n",
        "print(\"Copying from drive %s to %s...\" % (source_file, local_zip), flush=True)\n",
        "shutil.copyfile(source_file, local_zip)\n",
        " \n",
        "assert os.path.exists(local_zip)\n",
        " \n",
        "print('Extracting all images...', flush=True)\n",
        "zip_ref = zipfile.ZipFile(local_zip, 'r')\n",
        " \n",
        "zip_ref.extractall('/tmp')\n",
        "zip_ref.close()"
      ],
      "execution_count": 4,
      "outputs": [
        {
          "output_type": "stream",
          "text": [
            "Copying from drive /content/drive/My Drive/Colab Notebooks/data/cats_vs_dogs/cats_vs_dogs_images_small.zip to /tmp/cats_vs_dogs_images_small.zip...\n",
            "Extracting all images...\n"
          ],
          "name": "stdout"
        }
      ]
    },
    {
      "cell_type": "markdown",
      "metadata": {
        "id": "tbb1Zhe5tyO8",
        "colab_type": "text"
      },
      "source": [
        "## 실험에 쓰일 데이터 파일 연결"
      ]
    },
    {
      "cell_type": "code",
      "metadata": {
        "id": "leOe8BLVSZl1",
        "colab_type": "code",
        "colab": {}
      },
      "source": [
        "images_root = \"/tmp\" # /content/drive/My Drive/img\n",
        "assert os.path.exists(images_root), \"%s folder does not exist!\" % images_root\n",
        " \n",
        "train_root = os.path.join(images_root,'training')\n",
        "train_root_cat = os.path.join(train_root,'cat')\n",
        "train_root_dog = os.path.join(train_root,'dog')\n",
        " \n",
        "eval_root = os.path.join(images_root,'validation')\n",
        "eval_root_cat = os.path.join(eval_root,'cat')\n",
        "eval_root_dog = os.path.join(eval_root,'dog')\n",
        " \n",
        "test_root = os.path.join(images_root,'test')\n",
        "test_root_cat = os.path.join(test_root,'cat')\n",
        "test_root_dog = os.path.join(test_root,'dog')"
      ],
      "execution_count": 5,
      "outputs": []
    },
    {
      "cell_type": "code",
      "metadata": {
        "id": "8ohb1Hf6FyTO",
        "colab_type": "code",
        "colab": {}
      },
      "source": [
        "from tensorflow.keras import backend as K\n",
        "from tensorflow.keras.models import Model\n",
        "from tensorflow.keras.layers import (Input, Conv2D, BatchNormalization, MaxPooling2D, \n",
        "                                     Flatten, Dense, Dropout)\n",
        "from tensorflow.keras.regularizers import l2\n",
        "from tensorflow.keras.optimizers import Adam\n",
        "from tensorflow.keras.preprocessing.image import ImageDataGenerator\n",
        "import kr_helper_funcs as kru"
      ],
      "execution_count": 6,
      "outputs": []
    },
    {
      "cell_type": "code",
      "metadata": {
        "id": "XTL2Tfh3jxCT",
        "colab_type": "code",
        "colab": {}
      },
      "source": [
        "IMAGE_HEIGHT, IMAGE_WIDTH, NUM_CHANNELS, BATCH_SIZE = 150, 150, 3, 32"
      ],
      "execution_count": 7,
      "outputs": []
    },
    {
      "cell_type": "markdown",
      "metadata": {
        "id": "wbCMhPkxhezL",
        "colab_type": "text"
      },
      "source": [
        "### pre-trained model VGG16\n",
        "\n",
        "pre-trained 된 VGG16 모델을 사용합니다. VGG16모델의 끝부분인 FC 부분은 자르고 challenge에 맞게 다시 설정했습니다.\n"
      ]
    },
    {
      "cell_type": "code",
      "metadata": {
        "id": "_cbphmiGbFSp",
        "colab_type": "code",
        "colab": {
          "base_uri": "https://localhost:8080/",
          "height": 879
        },
        "outputId": "92bc2696-36ef-4234-89a7-b49d07e40845"
      },
      "source": [
        "from tensorflow.keras.applications import VGG16\n",
        " \n",
        "# NOTE: will download the weights for imagenet\n",
        "vgg_base = VGG16(weights='imagenet',    # ImageNet 가중치 사용\n",
        "                 include_top=False,     # Dense layers 사용 안함\n",
        "                 input_shape=(IMAGE_HEIGHT, IMAGE_WIDTH, NUM_CHANNELS))\n",
        "print(vgg_base.summary())"
      ],
      "execution_count": 8,
      "outputs": [
        {
          "output_type": "stream",
          "text": [
            "Downloading data from https://storage.googleapis.com/tensorflow/keras-applications/vgg16/vgg16_weights_tf_dim_ordering_tf_kernels_notop.h5\n",
            "58892288/58889256 [==============================] - 1s 0us/step\n",
            "Model: \"vgg16\"\n",
            "_________________________________________________________________\n",
            "Layer (type)                 Output Shape              Param #   \n",
            "=================================================================\n",
            "input_1 (InputLayer)         [(None, 150, 150, 3)]     0         \n",
            "_________________________________________________________________\n",
            "block1_conv1 (Conv2D)        (None, 150, 150, 64)      1792      \n",
            "_________________________________________________________________\n",
            "block1_conv2 (Conv2D)        (None, 150, 150, 64)      36928     \n",
            "_________________________________________________________________\n",
            "block1_pool (MaxPooling2D)   (None, 75, 75, 64)        0         \n",
            "_________________________________________________________________\n",
            "block2_conv1 (Conv2D)        (None, 75, 75, 128)       73856     \n",
            "_________________________________________________________________\n",
            "block2_conv2 (Conv2D)        (None, 75, 75, 128)       147584    \n",
            "_________________________________________________________________\n",
            "block2_pool (MaxPooling2D)   (None, 37, 37, 128)       0         \n",
            "_________________________________________________________________\n",
            "block3_conv1 (Conv2D)        (None, 37, 37, 256)       295168    \n",
            "_________________________________________________________________\n",
            "block3_conv2 (Conv2D)        (None, 37, 37, 256)       590080    \n",
            "_________________________________________________________________\n",
            "block3_conv3 (Conv2D)        (None, 37, 37, 256)       590080    \n",
            "_________________________________________________________________\n",
            "block3_pool (MaxPooling2D)   (None, 18, 18, 256)       0         \n",
            "_________________________________________________________________\n",
            "block4_conv1 (Conv2D)        (None, 18, 18, 512)       1180160   \n",
            "_________________________________________________________________\n",
            "block4_conv2 (Conv2D)        (None, 18, 18, 512)       2359808   \n",
            "_________________________________________________________________\n",
            "block4_conv3 (Conv2D)        (None, 18, 18, 512)       2359808   \n",
            "_________________________________________________________________\n",
            "block4_pool (MaxPooling2D)   (None, 9, 9, 512)         0         \n",
            "_________________________________________________________________\n",
            "block5_conv1 (Conv2D)        (None, 9, 9, 512)         2359808   \n",
            "_________________________________________________________________\n",
            "block5_conv2 (Conv2D)        (None, 9, 9, 512)         2359808   \n",
            "_________________________________________________________________\n",
            "block5_conv3 (Conv2D)        (None, 9, 9, 512)         2359808   \n",
            "_________________________________________________________________\n",
            "block5_pool (MaxPooling2D)   (None, 4, 4, 512)         0         \n",
            "=================================================================\n",
            "Total params: 14,714,688\n",
            "Trainable params: 14,714,688\n",
            "Non-trainable params: 0\n",
            "_________________________________________________________________\n",
            "None\n"
          ],
          "name": "stdout"
        }
      ]
    },
    {
      "cell_type": "code",
      "metadata": {
        "id": "gOZ-5hWQ81nR",
        "colab_type": "code",
        "colab": {}
      },
      "source": [
        "def build_model_xfer():\n",
        "    from tensorflow.keras.optimizers import Adam\n",
        "    \n",
        "    #tf.keras.backend.clear_session()  # reset graph etc.\n",
        "    \n",
        "    model = tf.keras.models.Sequential([\n",
        "        vgg_base,\n",
        "        tf.keras.layers.Flatten(),\n",
        "        tf.keras.layers.Dropout(0.50),\n",
        "        tf.keras.layers.Dense(1024, activation='relu'),\n",
        "        tf.keras.layers.Dropout(0.20),        \n",
        "        tf.keras.layers.Dense(512, activation='relu'),\n",
        "        tf.keras.layers.Dropout(0.10),         \n",
        "        tf.keras.layers.Dense(1, activation='sigmoid')    \n",
        "    ])\n",
        "    \n",
        "    vgg_base.trainable = False\n",
        "    \n",
        "    model.compile(optimizer=Adam(lr=1e-4), \n",
        "                  loss='binary_crossentropy',\n",
        "                  metrics=['acc'])\n",
        "    return model"
      ],
      "execution_count": 45,
      "outputs": []
    },
    {
      "cell_type": "code",
      "metadata": {
        "id": "i0EFbU7xKfm7",
        "colab_type": "code",
        "colab": {
          "base_uri": "https://localhost:8080/",
          "height": 457
        },
        "outputId": "8e4bc66e-84f1-46f3-80c2-fcc0c0ea8021"
      },
      "source": [
        "model_xfer = build_model_xfer()\n",
        "print(model_xfer.summary())"
      ],
      "execution_count": 10,
      "outputs": [
        {
          "output_type": "stream",
          "text": [
            "Model: \"sequential\"\n",
            "_________________________________________________________________\n",
            "Layer (type)                 Output Shape              Param #   \n",
            "=================================================================\n",
            "vgg16 (Functional)           (None, 4, 4, 512)         14714688  \n",
            "_________________________________________________________________\n",
            "flatten (Flatten)            (None, 8192)              0         \n",
            "_________________________________________________________________\n",
            "dropout (Dropout)            (None, 8192)              0         \n",
            "_________________________________________________________________\n",
            "dense (Dense)                (None, 1024)              8389632   \n",
            "_________________________________________________________________\n",
            "dropout_1 (Dropout)          (None, 1024)              0         \n",
            "_________________________________________________________________\n",
            "dense_1 (Dense)              (None, 512)               524800    \n",
            "_________________________________________________________________\n",
            "dropout_2 (Dropout)          (None, 512)               0         \n",
            "_________________________________________________________________\n",
            "dense_2 (Dense)              (None, 1)                 513       \n",
            "=================================================================\n",
            "Total params: 23,629,633\n",
            "Trainable params: 8,914,945\n",
            "Non-trainable params: 14,714,688\n",
            "_________________________________________________________________\n",
            "None\n"
          ],
          "name": "stdout"
        }
      ]
    },
    {
      "cell_type": "markdown",
      "metadata": {
        "id": "woSL_J1FQkHt",
        "colab_type": "text"
      },
      "source": [
        "**그리하여 총 23,629,633개의 파라미터를 가진 모델을 생성했습니다. 그러나 그중 학습후 가중치가 갱신되는 파라미터는 8,914,945(직접만든 FC)입니다. 컨볼루션층은 기존의 학습된 가중치를 사용합니다.**"
      ]
    },
    {
      "cell_type": "code",
      "metadata": {
        "id": "04T53H8w81d8",
        "colab_type": "code",
        "colab": {
          "base_uri": "https://localhost:8080/",
          "height": 70
        },
        "outputId": "1b6a1603-2e3f-44bb-eb37-32f0cf3bb016"
      },
      "source": [
        "train_datagen = ImageDataGenerator(rescale=1.0/255)\n",
        "eval_datagen = ImageDataGenerator(rescale=1.0/255)\n",
        "test_datagen = ImageDataGenerator(rescale=1.0/255)\n",
        " \n",
        "train_generator = train_datagen.flow_from_directory(\n",
        "    train_root,\n",
        "    target_size=(IMAGE_HEIGHT,IMAGE_WIDTH),  # 이미지 사이즈 변경\n",
        "    batch_size=BATCH_SIZE,\n",
        "    class_mode='binary')\n",
        " \n",
        "eval_generator = eval_datagen.flow_from_directory(\n",
        "    eval_root,\n",
        "    target_size=(IMAGE_HEIGHT,IMAGE_WIDTH),  # 이미지 사이즈 변경\n",
        "    batch_size=BATCH_SIZE,\n",
        "    class_mode='binary')\n",
        " \n",
        "test_generator = test_datagen.flow_from_directory(\n",
        "    test_root,\n",
        "    target_size=(IMAGE_HEIGHT,IMAGE_WIDTH),  # 이미지 사이즈 변경\n",
        "    batch_size=BATCH_SIZE,\n",
        "    class_mode='binary')"
      ],
      "execution_count": 46,
      "outputs": [
        {
          "output_type": "stream",
          "text": [
            "Found 10000 images belonging to 2 classes.\n",
            "Found 5000 images belonging to 2 classes.\n",
            "Found 2000 images belonging to 2 classes.\n"
          ],
          "name": "stdout"
        }
      ]
    },
    {
      "cell_type": "code",
      "metadata": {
        "id": "z4q2Jway-qUS",
        "colab_type": "code",
        "colab": {
          "base_uri": "https://localhost:8080/",
          "height": 34
        },
        "outputId": "aeea28ab-34cf-411a-cb7a-dc968863f7c6"
      },
      "source": [
        "train_steps = train_generator.n // BATCH_SIZE\n",
        "val_steps = eval_generator.n // BATCH_SIZE\n",
        "test_steps = test_generator.n // BATCH_SIZE\n",
        "train_steps, val_steps, test_steps"
      ],
      "execution_count": 12,
      "outputs": [
        {
          "output_type": "execute_result",
          "data": {
            "text/plain": [
              "(312, 156, 62)"
            ]
          },
          "metadata": {
            "tags": []
          },
          "execution_count": 12
        }
      ]
    },
    {
      "cell_type": "code",
      "metadata": {
        "id": "h5Pw9I-Za6My",
        "colab_type": "code",
        "colab": {
          "base_uri": "https://localhost:8080/",
          "height": 1000
        },
        "outputId": "d3e33685-4242-4a16-b97b-e08de5d794c3"
      },
      "source": [
        "hist = model_xfer.fit_generator(\n",
        "    train_generator,\n",
        "    steps_per_epoch=train_steps,\n",
        "    epochs=50,\n",
        "    validation_data=eval_generator,\n",
        "    validation_steps=val_steps)"
      ],
      "execution_count": 13,
      "outputs": [
        {
          "output_type": "stream",
          "text": [
            "WARNING:tensorflow:From <ipython-input-13-35a040ff73b7>:6: Model.fit_generator (from tensorflow.python.keras.engine.training) is deprecated and will be removed in a future version.\n",
            "Instructions for updating:\n",
            "Please use Model.fit, which supports generators.\n",
            "Epoch 1/50\n",
            "312/312 [==============================] - 45s 144ms/step - loss: 0.3643 - acc: 0.8345 - val_loss: 0.2607 - val_acc: 0.8848\n",
            "Epoch 2/50\n",
            "312/312 [==============================] - 44s 143ms/step - loss: 0.2783 - acc: 0.8791 - val_loss: 0.2420 - val_acc: 0.8952\n",
            "Epoch 3/50\n",
            "312/312 [==============================] - 44s 142ms/step - loss: 0.2471 - acc: 0.8933 - val_loss: 0.2281 - val_acc: 0.9022\n",
            "Epoch 4/50\n",
            "312/312 [==============================] - 45s 143ms/step - loss: 0.2358 - acc: 0.9004 - val_loss: 0.2346 - val_acc: 0.9016\n",
            "Epoch 5/50\n",
            "312/312 [==============================] - 44s 142ms/step - loss: 0.2261 - acc: 0.9035 - val_loss: 0.2292 - val_acc: 0.9054\n",
            "Epoch 6/50\n",
            "312/312 [==============================] - 44s 142ms/step - loss: 0.2173 - acc: 0.9070 - val_loss: 0.2258 - val_acc: 0.9048\n",
            "Epoch 7/50\n",
            "312/312 [==============================] - 44s 141ms/step - loss: 0.2010 - acc: 0.9150 - val_loss: 0.2321 - val_acc: 0.9034\n",
            "Epoch 8/50\n",
            "312/312 [==============================] - 44s 142ms/step - loss: 0.1961 - acc: 0.9151 - val_loss: 0.2200 - val_acc: 0.9079\n",
            "Epoch 9/50\n",
            "312/312 [==============================] - 44s 142ms/step - loss: 0.1879 - acc: 0.9204 - val_loss: 0.2411 - val_acc: 0.8966\n",
            "Epoch 10/50\n",
            "312/312 [==============================] - 44s 143ms/step - loss: 0.1846 - acc: 0.9218 - val_loss: 0.2182 - val_acc: 0.9062\n",
            "Epoch 11/50\n",
            "312/312 [==============================] - 44s 142ms/step - loss: 0.1762 - acc: 0.9275 - val_loss: 0.2178 - val_acc: 0.9079\n",
            "Epoch 12/50\n",
            "312/312 [==============================] - 44s 142ms/step - loss: 0.1718 - acc: 0.9276 - val_loss: 0.2562 - val_acc: 0.8948\n",
            "Epoch 13/50\n",
            "312/312 [==============================] - 44s 142ms/step - loss: 0.1670 - acc: 0.9305 - val_loss: 0.2238 - val_acc: 0.9073\n",
            "Epoch 14/50\n",
            "312/312 [==============================] - 44s 142ms/step - loss: 0.1557 - acc: 0.9347 - val_loss: 0.2316 - val_acc: 0.9071\n",
            "Epoch 15/50\n",
            "312/312 [==============================] - 44s 142ms/step - loss: 0.1467 - acc: 0.9398 - val_loss: 0.2282 - val_acc: 0.9097\n",
            "Epoch 16/50\n",
            "312/312 [==============================] - 44s 142ms/step - loss: 0.1429 - acc: 0.9404 - val_loss: 0.2261 - val_acc: 0.9075\n",
            "Epoch 17/50\n",
            "312/312 [==============================] - 45s 143ms/step - loss: 0.1334 - acc: 0.9452 - val_loss: 0.2218 - val_acc: 0.9111\n",
            "Epoch 18/50\n",
            "312/312 [==============================] - 45s 144ms/step - loss: 0.1249 - acc: 0.9476 - val_loss: 0.2257 - val_acc: 0.9099\n",
            "Epoch 19/50\n",
            "312/312 [==============================] - 45s 143ms/step - loss: 0.1183 - acc: 0.9512 - val_loss: 0.2500 - val_acc: 0.9069\n",
            "Epoch 20/50\n",
            "312/312 [==============================] - 45s 143ms/step - loss: 0.1132 - acc: 0.9537 - val_loss: 0.2317 - val_acc: 0.9103\n",
            "Epoch 21/50\n",
            "312/312 [==============================] - 44s 142ms/step - loss: 0.1090 - acc: 0.9560 - val_loss: 0.2379 - val_acc: 0.9073\n",
            "Epoch 22/50\n",
            "312/312 [==============================] - 44s 143ms/step - loss: 0.1046 - acc: 0.9597 - val_loss: 0.2456 - val_acc: 0.9113\n",
            "Epoch 23/50\n",
            "312/312 [==============================] - 44s 143ms/step - loss: 0.0953 - acc: 0.9616 - val_loss: 0.2451 - val_acc: 0.9119\n",
            "Epoch 24/50\n",
            "312/312 [==============================] - 45s 143ms/step - loss: 0.0868 - acc: 0.9645 - val_loss: 0.2564 - val_acc: 0.9069\n",
            "Epoch 25/50\n",
            "312/312 [==============================] - 44s 142ms/step - loss: 0.0865 - acc: 0.9658 - val_loss: 0.2987 - val_acc: 0.9065\n",
            "Epoch 26/50\n",
            "312/312 [==============================] - 45s 143ms/step - loss: 0.0795 - acc: 0.9689 - val_loss: 0.2517 - val_acc: 0.9105\n",
            "Epoch 27/50\n",
            "312/312 [==============================] - 44s 142ms/step - loss: 0.0725 - acc: 0.9705 - val_loss: 0.2536 - val_acc: 0.9113\n",
            "Epoch 28/50\n",
            "312/312 [==============================] - 45s 143ms/step - loss: 0.0697 - acc: 0.9733 - val_loss: 0.2526 - val_acc: 0.9135\n",
            "Epoch 29/50\n",
            "312/312 [==============================] - 44s 142ms/step - loss: 0.0694 - acc: 0.9729 - val_loss: 0.2606 - val_acc: 0.9135\n",
            "Epoch 30/50\n",
            "312/312 [==============================] - 44s 143ms/step - loss: 0.0657 - acc: 0.9723 - val_loss: 0.2839 - val_acc: 0.9093\n",
            "Epoch 31/50\n",
            "312/312 [==============================] - 45s 143ms/step - loss: 0.0591 - acc: 0.9768 - val_loss: 0.2592 - val_acc: 0.9099\n",
            "Epoch 32/50\n",
            "312/312 [==============================] - 44s 142ms/step - loss: 0.0558 - acc: 0.9770 - val_loss: 0.2703 - val_acc: 0.9135\n",
            "Epoch 33/50\n",
            "312/312 [==============================] - 45s 143ms/step - loss: 0.0547 - acc: 0.9776 - val_loss: 0.2789 - val_acc: 0.9089\n",
            "Epoch 34/50\n",
            "312/312 [==============================] - 45s 143ms/step - loss: 0.0549 - acc: 0.9776 - val_loss: 0.3202 - val_acc: 0.9002\n",
            "Epoch 35/50\n",
            "312/312 [==============================] - 44s 143ms/step - loss: 0.0479 - acc: 0.9815 - val_loss: 0.2843 - val_acc: 0.9097\n",
            "Epoch 36/50\n",
            "312/312 [==============================] - 45s 146ms/step - loss: 0.0501 - acc: 0.9799 - val_loss: 0.2747 - val_acc: 0.9135\n",
            "Epoch 37/50\n",
            "312/312 [==============================] - 45s 146ms/step - loss: 0.0455 - acc: 0.9840 - val_loss: 0.2959 - val_acc: 0.9109\n",
            "Epoch 38/50\n",
            "312/312 [==============================] - 45s 144ms/step - loss: 0.0426 - acc: 0.9836 - val_loss: 0.3213 - val_acc: 0.9038\n",
            "Epoch 39/50\n",
            "312/312 [==============================] - 44s 142ms/step - loss: 0.0416 - acc: 0.9833 - val_loss: 0.3042 - val_acc: 0.9060\n",
            "Epoch 40/50\n",
            "312/312 [==============================] - 45s 143ms/step - loss: 0.0362 - acc: 0.9863 - val_loss: 0.3686 - val_acc: 0.8990\n",
            "Epoch 41/50\n",
            "312/312 [==============================] - 44s 142ms/step - loss: 0.0427 - acc: 0.9842 - val_loss: 0.2916 - val_acc: 0.9113\n",
            "Epoch 42/50\n",
            "312/312 [==============================] - 45s 143ms/step - loss: 0.0418 - acc: 0.9843 - val_loss: 0.3555 - val_acc: 0.9052\n",
            "Epoch 43/50\n",
            "312/312 [==============================] - 45s 143ms/step - loss: 0.0348 - acc: 0.9860 - val_loss: 0.3372 - val_acc: 0.9115\n",
            "Epoch 44/50\n",
            "312/312 [==============================] - 45s 144ms/step - loss: 0.0368 - acc: 0.9854 - val_loss: 0.3271 - val_acc: 0.9121\n",
            "Epoch 45/50\n",
            "312/312 [==============================] - 45s 146ms/step - loss: 0.0335 - acc: 0.9878 - val_loss: 0.3443 - val_acc: 0.9067\n",
            "Epoch 46/50\n",
            "312/312 [==============================] - 45s 144ms/step - loss: 0.0304 - acc: 0.9891 - val_loss: 0.3181 - val_acc: 0.9103\n",
            "Epoch 47/50\n",
            "312/312 [==============================] - 45s 143ms/step - loss: 0.0322 - acc: 0.9892 - val_loss: 0.3514 - val_acc: 0.9075\n",
            "Epoch 48/50\n",
            "312/312 [==============================] - 44s 143ms/step - loss: 0.0314 - acc: 0.9891 - val_loss: 0.3274 - val_acc: 0.9085\n",
            "Epoch 49/50\n",
            "312/312 [==============================] - 45s 143ms/step - loss: 0.0310 - acc: 0.9881 - val_loss: 0.3206 - val_acc: 0.9107\n",
            "Epoch 50/50\n",
            "312/312 [==============================] - 44s 142ms/step - loss: 0.0280 - acc: 0.9895 - val_loss: 0.3340 - val_acc: 0.9105\n"
          ],
          "name": "stdout"
        }
      ]
    },
    {
      "cell_type": "code",
      "metadata": {
        "id": "jBQkhHKHQ3i4",
        "colab_type": "code",
        "colab": {
          "base_uri": "https://localhost:8080/",
          "height": 308
        },
        "outputId": "89a938b7-2dad-44d4-c076-1ff694f5e3f0"
      },
      "source": [
        "kru.show_plots(hist.history, plot_title='Using VGG16 model with Image Augmentation')"
      ],
      "execution_count": 14,
      "outputs": [
        {
          "output_type": "display_data",
          "data": {
            "image/png": "[encoded data removed]",
            "text/plain": [
              "<Figure size 1152x288 with 2 Axes>"
            ]
          },
          "metadata": {
            "tags": []
          }
        }
      ]
    },
    {
      "cell_type": "code",
      "metadata": {
        "id": "mSXUGOLZ81OS",
        "colab_type": "code",
        "colab": {
          "base_uri": "https://localhost:8080/",
          "height": 195
        },
        "outputId": "c87ec062-0925-4661-fd13-e0558ea27966"
      },
      "source": [
        "# 성능 평가\n",
        "loss, acc = model_xfer.evaluate_generator(train_generator, steps=train_steps, verbose=1)\n",
        "print('Training data  -> loss: %.3f, acc: %.3f' % (loss, acc))\n",
        "loss, acc = model_xfer.evaluate_generator(eval_generator, steps=val_steps, verbose=1)\n",
        "print('Cross-val data -> loss: %.3f, acc: %.3f' % (loss, acc))\n",
        "loss, acc = model_xfer.evaluate_generator(test_generator, steps=test_steps, verbose=1)\n",
        "print('Testing data   -> loss: %.3f, acc: %.3f' % (loss, acc))"
      ],
      "execution_count": 15,
      "outputs": [
        {
          "output_type": "stream",
          "text": [
            "WARNING:tensorflow:From <ipython-input-15-fa0d65e7ec46>:2: Model.evaluate_generator (from tensorflow.python.keras.engine.training) is deprecated and will be removed in a future version.\n",
            "Instructions for updating:\n",
            "Please use Model.evaluate, which supports generators.\n",
            "312/312 [==============================] - 30s 97ms/step - loss: 0.0026 - acc: 1.0000\n",
            "Training data  -> loss: 0.003, acc: 1.000\n",
            "156/156 [==============================] - 15s 97ms/step - loss: 0.3341 - acc: 0.9105\n",
            "Cross-val data -> loss: 0.334, acc: 0.910\n",
            "62/62 [==============================] - 6s 103ms/step - loss: 0.3579 - acc: 0.9017\n",
            "Testing data   -> loss: 0.358, acc: 0.902\n"
          ],
          "name": "stdout"
        }
      ]
    }
  ]
}