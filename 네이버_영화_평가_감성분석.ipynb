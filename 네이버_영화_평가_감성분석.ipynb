{
  "nbformat": 4,
  "nbformat_minor": 0,
  "metadata": {
    "colab": {
      "name": "네이버 영화 평가 감성분석.ipynb",
      "provenance": [],
      "collapsed_sections": [],
      "toc_visible": true,
      "machine_shape": "hm",
      "include_colab_link": true
    },
    "kernelspec": {
      "name": "python3",
      "display_name": "Python 3"
    },
    "accelerator": "TPU",
    "widgets": {
      "application/vnd.jupyter.widget-state+json": {
        "33eeffb905a74539a79f66ff548c5f95": {
          "model_module": "@jupyter-widgets/controls",
          "model_name": "HBoxModel",
          "state": {
            "_view_name": "HBoxView",
            "_dom_classes": [],
            "_model_name": "HBoxModel",
            "_view_module": "@jupyter-widgets/controls",
            "_model_module_version": "1.5.0",
            "_view_count": null,
            "_view_module_version": "1.5.0",
            "box_style": "",
            "layout": "IPY_MODEL_5e80527eec67446c8af295dcb4da00bb",
            "_model_module": "@jupyter-widgets/controls",
            "children": [
              "IPY_MODEL_b6e5c0082edb48c1b57c5fea74cabf24",
              "IPY_MODEL_c59cda444d044acdaaa3f9f620c83636"
            ]
          }
        },
        "5e80527eec67446c8af295dcb4da00bb": {
          "model_module": "@jupyter-widgets/base",
          "model_name": "LayoutModel",
          "state": {
            "_view_name": "LayoutView",
            "grid_template_rows": null,
            "right": null,
            "justify_content": null,
            "_view_module": "@jupyter-widgets/base",
            "overflow": null,
            "_model_module_version": "1.2.0",
            "_view_count": null,
            "flex_flow": null,
            "width": null,
            "min_width": null,
            "border": null,
            "align_items": null,
            "bottom": null,
            "_model_module": "@jupyter-widgets/base",
            "top": null,
            "grid_column": null,
            "overflow_y": null,
            "overflow_x": null,
            "grid_auto_flow": null,
            "grid_area": null,
            "grid_template_columns": null,
            "flex": null,
            "_model_name": "LayoutModel",
            "justify_items": null,
            "grid_row": null,
            "max_height": null,
            "align_content": null,
            "visibility": null,
            "align_self": null,
            "height": null,
            "min_height": null,
            "padding": null,
            "grid_auto_rows": null,
            "grid_gap": null,
            "max_width": null,
            "order": null,
            "_view_module_version": "1.2.0",
            "grid_template_areas": null,
            "object_position": null,
            "object_fit": null,
            "grid_auto_columns": null,
            "margin": null,
            "display": null,
            "left": null
          }
        },
        "b6e5c0082edb48c1b57c5fea74cabf24": {
          "model_module": "@jupyter-widgets/controls",
          "model_name": "FloatProgressModel",
          "state": {
            "_view_name": "ProgressView",
            "style": "IPY_MODEL_095c6bbfed7f4c6f95154484be1c7010",
            "_dom_classes": [],
            "description": "Downloading: 100%",
            "_model_name": "FloatProgressModel",
            "bar_style": "success",
            "max": 995526,
            "_view_module": "@jupyter-widgets/controls",
            "_model_module_version": "1.5.0",
            "value": 995526,
            "_view_count": null,
            "_view_module_version": "1.5.0",
            "orientation": "horizontal",
            "min": 0,
            "description_tooltip": null,
            "_model_module": "@jupyter-widgets/controls",
            "layout": "IPY_MODEL_1a04bc660b5b4aa8a5aa84737ea4f9d5"
          }
        },
        "c59cda444d044acdaaa3f9f620c83636": {
          "model_module": "@jupyter-widgets/controls",
          "model_name": "HTMLModel",
          "state": {
            "_view_name": "HTMLView",
            "style": "IPY_MODEL_3bfa2f2d8f11493a850ee6cedf8d3acb",
            "_dom_classes": [],
            "description": "",
            "_model_name": "HTMLModel",
            "placeholder": "​",
            "_view_module": "@jupyter-widgets/controls",
            "_model_module_version": "1.5.0",
            "value": " 996k/996k [00:00&lt;00:00, 3.10MB/s]",
            "_view_count": null,
            "_view_module_version": "1.5.0",
            "description_tooltip": null,
            "_model_module": "@jupyter-widgets/controls",
            "layout": "IPY_MODEL_44b18a3178c54bcd80ac79cad4abd67d"
          }
        },
        "095c6bbfed7f4c6f95154484be1c7010": {
          "model_module": "@jupyter-widgets/controls",
          "model_name": "ProgressStyleModel",
          "state": {
            "_view_name": "StyleView",
            "_model_name": "ProgressStyleModel",
            "description_width": "initial",
            "_view_module": "@jupyter-widgets/base",
            "_model_module_version": "1.5.0",
            "_view_count": null,
            "_view_module_version": "1.2.0",
            "bar_color": null,
            "_model_module": "@jupyter-widgets/controls"
          }
        },
        "1a04bc660b5b4aa8a5aa84737ea4f9d5": {
          "model_module": "@jupyter-widgets/base",
          "model_name": "LayoutModel",
          "state": {
            "_view_name": "LayoutView",
            "grid_template_rows": null,
            "right": null,
            "justify_content": null,
            "_view_module": "@jupyter-widgets/base",
            "overflow": null,
            "_model_module_version": "1.2.0",
            "_view_count": null,
            "flex_flow": null,
            "width": null,
            "min_width": null,
            "border": null,
            "align_items": null,
            "bottom": null,
            "_model_module": "@jupyter-widgets/base",
            "top": null,
            "grid_column": null,
            "overflow_y": null,
            "overflow_x": null,
            "grid_auto_flow": null,
            "grid_area": null,
            "grid_template_columns": null,
            "flex": null,
            "_model_name": "LayoutModel",
            "justify_items": null,
            "grid_row": null,
            "max_height": null,
            "align_content": null,
            "visibility": null,
            "align_self": null,
            "height": null,
            "min_height": null,
            "padding": null,
            "grid_auto_rows": null,
            "grid_gap": null,
            "max_width": null,
            "order": null,
            "_view_module_version": "1.2.0",
            "grid_template_areas": null,
            "object_position": null,
            "object_fit": null,
            "grid_auto_columns": null,
            "margin": null,
            "display": null,
            "left": null
          }
        },
        "3bfa2f2d8f11493a850ee6cedf8d3acb": {
          "model_module": "@jupyter-widgets/controls",
          "model_name": "DescriptionStyleModel",
          "state": {
            "_view_name": "StyleView",
            "_model_name": "DescriptionStyleModel",
            "description_width": "",
            "_view_module": "@jupyter-widgets/base",
            "_model_module_version": "1.5.0",
            "_view_count": null,
            "_view_module_version": "1.2.0",
            "_model_module": "@jupyter-widgets/controls"
          }
        },
        "44b18a3178c54bcd80ac79cad4abd67d": {
          "model_module": "@jupyter-widgets/base",
          "model_name": "LayoutModel",
          "state": {
            "_view_name": "LayoutView",
            "grid_template_rows": null,
            "right": null,
            "justify_content": null,
            "_view_module": "@jupyter-widgets/base",
            "overflow": null,
            "_model_module_version": "1.2.0",
            "_view_count": null,
            "flex_flow": null,
            "width": null,
            "min_width": null,
            "border": null,
            "align_items": null,
            "bottom": null,
            "_model_module": "@jupyter-widgets/base",
            "top": null,
            "grid_column": null,
            "overflow_y": null,
            "overflow_x": null,
            "grid_auto_flow": null,
            "grid_area": null,
            "grid_template_columns": null,
            "flex": null,
            "_model_name": "LayoutModel",
            "justify_items": null,
            "grid_row": null,
            "max_height": null,
            "align_content": null,
            "visibility": null,
            "align_self": null,
            "height": null,
            "min_height": null,
            "padding": null,
            "grid_auto_rows": null,
            "grid_gap": null,
            "max_width": null,
            "order": null,
            "_view_module_version": "1.2.0",
            "grid_template_areas": null,
            "object_position": null,
            "object_fit": null,
            "grid_auto_columns": null,
            "margin": null,
            "display": null,
            "left": null
          }
        },
        "5be181d7c8b240e79a48f98afc622b36": {
          "model_module": "@jupyter-widgets/controls",
          "model_name": "HBoxModel",
          "state": {
            "_view_name": "HBoxView",
            "_dom_classes": [],
            "_model_name": "HBoxModel",
            "_view_module": "@jupyter-widgets/controls",
            "_model_module_version": "1.5.0",
            "_view_count": null,
            "_view_module_version": "1.5.0",
            "box_style": "",
            "layout": "IPY_MODEL_782dc50338614a2e939c07c782406c2c",
            "_model_module": "@jupyter-widgets/controls",
            "children": [
              "IPY_MODEL_b5a4ddb5499044a792c51e616be2e323",
              "IPY_MODEL_5623f8fd240a4d798cc6d7a87bcf7977"
            ]
          }
        },
        "782dc50338614a2e939c07c782406c2c": {
          "model_module": "@jupyter-widgets/base",
          "model_name": "LayoutModel",
          "state": {
            "_view_name": "LayoutView",
            "grid_template_rows": null,
            "right": null,
            "justify_content": null,
            "_view_module": "@jupyter-widgets/base",
            "overflow": null,
            "_model_module_version": "1.2.0",
            "_view_count": null,
            "flex_flow": null,
            "width": null,
            "min_width": null,
            "border": null,
            "align_items": null,
            "bottom": null,
            "_model_module": "@jupyter-widgets/base",
            "top": null,
            "grid_column": null,
            "overflow_y": null,
            "overflow_x": null,
            "grid_auto_flow": null,
            "grid_area": null,
            "grid_template_columns": null,
            "flex": null,
            "_model_name": "LayoutModel",
            "justify_items": null,
            "grid_row": null,
            "max_height": null,
            "align_content": null,
            "visibility": null,
            "align_self": null,
            "height": null,
            "min_height": null,
            "padding": null,
            "grid_auto_rows": null,
            "grid_gap": null,
            "max_width": null,
            "order": null,
            "_view_module_version": "1.2.0",
            "grid_template_areas": null,
            "object_position": null,
            "object_fit": null,
            "grid_auto_columns": null,
            "margin": null,
            "display": null,
            "left": null
          }
        },
        "b5a4ddb5499044a792c51e616be2e323": {
          "model_module": "@jupyter-widgets/controls",
          "model_name": "FloatProgressModel",
          "state": {
            "_view_name": "ProgressView",
            "style": "IPY_MODEL_973b138f3f834ab4a820c81cd3e463b8",
            "_dom_classes": [],
            "description": "Downloading: 100%",
            "_model_name": "FloatProgressModel",
            "bar_style": "success",
            "max": 625,
            "_view_module": "@jupyter-widgets/controls",
            "_model_module_version": "1.5.0",
            "value": 625,
            "_view_count": null,
            "_view_module_version": "1.5.0",
            "orientation": "horizontal",
            "min": 0,
            "description_tooltip": null,
            "_model_module": "@jupyter-widgets/controls",
            "layout": "IPY_MODEL_b3bd240cc06348f6ab7b297f14f4ed7c"
          }
        },
        "5623f8fd240a4d798cc6d7a87bcf7977": {
          "model_module": "@jupyter-widgets/controls",
          "model_name": "HTMLModel",
          "state": {
            "_view_name": "HTMLView",
            "style": "IPY_MODEL_f2989d6d29234afc9d59bbfcb5cd8ddb",
            "_dom_classes": [],
            "description": "",
            "_model_name": "HTMLModel",
            "placeholder": "​",
            "_view_module": "@jupyter-widgets/controls",
            "_model_module_version": "1.5.0",
            "value": " 625/625 [00:14&lt;00:00, 42.6B/s]",
            "_view_count": null,
            "_view_module_version": "1.5.0",
            "description_tooltip": null,
            "_model_module": "@jupyter-widgets/controls",
            "layout": "IPY_MODEL_b7f8353825044357973a61739e4c260d"
          }
        },
        "973b138f3f834ab4a820c81cd3e463b8": {
          "model_module": "@jupyter-widgets/controls",
          "model_name": "ProgressStyleModel",
          "state": {
            "_view_name": "StyleView",
            "_model_name": "ProgressStyleModel",
            "description_width": "initial",
            "_view_module": "@jupyter-widgets/base",
            "_model_module_version": "1.5.0",
            "_view_count": null,
            "_view_module_version": "1.2.0",
            "bar_color": null,
            "_model_module": "@jupyter-widgets/controls"
          }
        },
        "b3bd240cc06348f6ab7b297f14f4ed7c": {
          "model_module": "@jupyter-widgets/base",
          "model_name": "LayoutModel",
          "state": {
            "_view_name": "LayoutView",
            "grid_template_rows": null,
            "right": null,
            "justify_content": null,
            "_view_module": "@jupyter-widgets/base",
            "overflow": null,
            "_model_module_version": "1.2.0",
            "_view_count": null,
            "flex_flow": null,
            "width": null,
            "min_width": null,
            "border": null,
            "align_items": null,
            "bottom": null,
            "_model_module": "@jupyter-widgets/base",
            "top": null,
            "grid_column": null,
            "overflow_y": null,
            "overflow_x": null,
            "grid_auto_flow": null,
            "grid_area": null,
            "grid_template_columns": null,
            "flex": null,
            "_model_name": "LayoutModel",
            "justify_items": null,
            "grid_row": null,
            "max_height": null,
            "align_content": null,
            "visibility": null,
            "align_self": null,
            "height": null,
            "min_height": null,
            "padding": null,
            "grid_auto_rows": null,
            "grid_gap": null,
            "max_width": null,
            "order": null,
            "_view_module_version": "1.2.0",
            "grid_template_areas": null,
            "object_position": null,
            "object_fit": null,
            "grid_auto_columns": null,
            "margin": null,
            "display": null,
            "left": null
          }
        },
        "f2989d6d29234afc9d59bbfcb5cd8ddb": {
          "model_module": "@jupyter-widgets/controls",
          "model_name": "DescriptionStyleModel",
          "state": {
            "_view_name": "StyleView",
            "_model_name": "DescriptionStyleModel",
            "description_width": "",
            "_view_module": "@jupyter-widgets/base",
            "_model_module_version": "1.5.0",
            "_view_count": null,
            "_view_module_version": "1.2.0",
            "_model_module": "@jupyter-widgets/controls"
          }
        },
        "b7f8353825044357973a61739e4c260d": {
          "model_module": "@jupyter-widgets/base",
          "model_name": "LayoutModel",
          "state": {
            "_view_name": "LayoutView",
            "grid_template_rows": null,
            "right": null,
            "justify_content": null,
            "_view_module": "@jupyter-widgets/base",
            "overflow": null,
            "_model_module_version": "1.2.0",
            "_view_count": null,
            "flex_flow": null,
            "width": null,
            "min_width": null,
            "border": null,
            "align_items": null,
            "bottom": null,
            "_model_module": "@jupyter-widgets/base",
            "top": null,
            "grid_column": null,
            "overflow_y": null,
            "overflow_x": null,
            "grid_auto_flow": null,
            "grid_area": null,
            "grid_template_columns": null,
            "flex": null,
            "_model_name": "LayoutModel",
            "justify_items": null,
            "grid_row": null,
            "max_height": null,
            "align_content": null,
            "visibility": null,
            "align_self": null,
            "height": null,
            "min_height": null,
            "padding": null,
            "grid_auto_rows": null,
            "grid_gap": null,
            "max_width": null,
            "order": null,
            "_view_module_version": "1.2.0",
            "grid_template_areas": null,
            "object_position": null,
            "object_fit": null,
            "grid_auto_columns": null,
            "margin": null,
            "display": null,
            "left": null
          }
        },
        "b16a3bd7a2864feabab164fc0c08431d": {
          "model_module": "@jupyter-widgets/controls",
          "model_name": "HBoxModel",
          "state": {
            "_view_name": "HBoxView",
            "_dom_classes": [],
            "_model_name": "HBoxModel",
            "_view_module": "@jupyter-widgets/controls",
            "_model_module_version": "1.5.0",
            "_view_count": null,
            "_view_module_version": "1.5.0",
            "box_style": "",
            "layout": "IPY_MODEL_9708b295a4a644388c0897dd87cb43d1",
            "_model_module": "@jupyter-widgets/controls",
            "children": [
              "IPY_MODEL_3ab7654f0cf744868a1832bb066ef51b",
              "IPY_MODEL_bee01ce6640c4cc08dd4a8b1d71e5700"
            ]
          }
        },
        "9708b295a4a644388c0897dd87cb43d1": {
          "model_module": "@jupyter-widgets/base",
          "model_name": "LayoutModel",
          "state": {
            "_view_name": "LayoutView",
            "grid_template_rows": null,
            "right": null,
            "justify_content": null,
            "_view_module": "@jupyter-widgets/base",
            "overflow": null,
            "_model_module_version": "1.2.0",
            "_view_count": null,
            "flex_flow": null,
            "width": null,
            "min_width": null,
            "border": null,
            "align_items": null,
            "bottom": null,
            "_model_module": "@jupyter-widgets/base",
            "top": null,
            "grid_column": null,
            "overflow_y": null,
            "overflow_x": null,
            "grid_auto_flow": null,
            "grid_area": null,
            "grid_template_columns": null,
            "flex": null,
            "_model_name": "LayoutModel",
            "justify_items": null,
            "grid_row": null,
            "max_height": null,
            "align_content": null,
            "visibility": null,
            "align_self": null,
            "height": null,
            "min_height": null,
            "padding": null,
            "grid_auto_rows": null,
            "grid_gap": null,
            "max_width": null,
            "order": null,
            "_view_module_version": "1.2.0",
            "grid_template_areas": null,
            "object_position": null,
            "object_fit": null,
            "grid_auto_columns": null,
            "margin": null,
            "display": null,
            "left": null
          }
        },
        "3ab7654f0cf744868a1832bb066ef51b": {
          "model_module": "@jupyter-widgets/controls",
          "model_name": "FloatProgressModel",
          "state": {
            "_view_name": "ProgressView",
            "style": "IPY_MODEL_d90dd6b585164d49b4486ed19c51285c",
            "_dom_classes": [],
            "description": "Downloading: 100%",
            "_model_name": "FloatProgressModel",
            "bar_style": "success",
            "max": 1083389348,
            "_view_module": "@jupyter-widgets/controls",
            "_model_module_version": "1.5.0",
            "value": 1083389348,
            "_view_count": null,
            "_view_module_version": "1.5.0",
            "orientation": "horizontal",
            "min": 0,
            "description_tooltip": null,
            "_model_module": "@jupyter-widgets/controls",
            "layout": "IPY_MODEL_184f56d1c8d44d5fb5a5ecf99ea7d51b"
          }
        },
        "bee01ce6640c4cc08dd4a8b1d71e5700": {
          "model_module": "@jupyter-widgets/controls",
          "model_name": "HTMLModel",
          "state": {
            "_view_name": "HTMLView",
            "style": "IPY_MODEL_768aad66852341f791c4e33b270afc8e",
            "_dom_classes": [],
            "description": "",
            "_model_name": "HTMLModel",
            "placeholder": "​",
            "_view_module": "@jupyter-widgets/controls",
            "_model_module_version": "1.5.0",
            "value": " 1.08G/1.08G [00:14&lt;00:00, 76.1MB/s]",
            "_view_count": null,
            "_view_module_version": "1.5.0",
            "description_tooltip": null,
            "_model_module": "@jupyter-widgets/controls",
            "layout": "IPY_MODEL_c27103235b8642b88a679337626a2e0d"
          }
        },
        "d90dd6b585164d49b4486ed19c51285c": {
          "model_module": "@jupyter-widgets/controls",
          "model_name": "ProgressStyleModel",
          "state": {
            "_view_name": "StyleView",
            "_model_name": "ProgressStyleModel",
            "description_width": "initial",
            "_view_module": "@jupyter-widgets/base",
            "_model_module_version": "1.5.0",
            "_view_count": null,
            "_view_module_version": "1.2.0",
            "bar_color": null,
            "_model_module": "@jupyter-widgets/controls"
          }
        },
        "184f56d1c8d44d5fb5a5ecf99ea7d51b": {
          "model_module": "@jupyter-widgets/base",
          "model_name": "LayoutModel",
          "state": {
            "_view_name": "LayoutView",
            "grid_template_rows": null,
            "right": null,
            "justify_content": null,
            "_view_module": "@jupyter-widgets/base",
            "overflow": null,
            "_model_module_version": "1.2.0",
            "_view_count": null,
            "flex_flow": null,
            "width": null,
            "min_width": null,
            "border": null,
            "align_items": null,
            "bottom": null,
            "_model_module": "@jupyter-widgets/base",
            "top": null,
            "grid_column": null,
            "overflow_y": null,
            "overflow_x": null,
            "grid_auto_flow": null,
            "grid_area": null,
            "grid_template_columns": null,
            "flex": null,
            "_model_name": "LayoutModel",
            "justify_items": null,
            "grid_row": null,
            "max_height": null,
            "align_content": null,
            "visibility": null,
            "align_self": null,
            "height": null,
            "min_height": null,
            "padding": null,
            "grid_auto_rows": null,
            "grid_gap": null,
            "max_width": null,
            "order": null,
            "_view_module_version": "1.2.0",
            "grid_template_areas": null,
            "object_position": null,
            "object_fit": null,
            "grid_auto_columns": null,
            "margin": null,
            "display": null,
            "left": null
          }
        },
        "768aad66852341f791c4e33b270afc8e": {
          "model_module": "@jupyter-widgets/controls",
          "model_name": "DescriptionStyleModel",
          "state": {
            "_view_name": "StyleView",
            "_model_name": "DescriptionStyleModel",
            "description_width": "",
            "_view_module": "@jupyter-widgets/base",
            "_model_module_version": "1.5.0",
            "_view_count": null,
            "_view_module_version": "1.2.0",
            "_model_module": "@jupyter-widgets/controls"
          }
        },
        "c27103235b8642b88a679337626a2e0d": {
          "model_module": "@jupyter-widgets/base",
          "model_name": "LayoutModel",
          "state": {
            "_view_name": "LayoutView",
            "grid_template_rows": null,
            "right": null,
            "justify_content": null,
            "_view_module": "@jupyter-widgets/base",
            "overflow": null,
            "_model_module_version": "1.2.0",
            "_view_count": null,
            "flex_flow": null,
            "width": null,
            "min_width": null,
            "border": null,
            "align_items": null,
            "bottom": null,
            "_model_module": "@jupyter-widgets/base",
            "top": null,
            "grid_column": null,
            "overflow_y": null,
            "overflow_x": null,
            "grid_auto_flow": null,
            "grid_area": null,
            "grid_template_columns": null,
            "flex": null,
            "_model_name": "LayoutModel",
            "justify_items": null,
            "grid_row": null,
            "max_height": null,
            "align_content": null,
            "visibility": null,
            "align_self": null,
            "height": null,
            "min_height": null,
            "padding": null,
            "grid_auto_rows": null,
            "grid_gap": null,
            "max_width": null,
            "order": null,
            "_view_module_version": "1.2.0",
            "grid_template_areas": null,
            "object_position": null,
            "object_fit": null,
            "grid_auto_columns": null,
            "margin": null,
            "display": null,
            "left": null
          }
        }
      }
    }
  },
  "cells": [
    {
      "cell_type": "markdown",
      "metadata": {
        "id": "view-in-github",
        "colab_type": "text"
      },
      "source": [
        "<a href=\"https://colab.research.google.com/github/4nchez/Colab-Jupiter/blob/master/%EB%84%A4%EC%9D%B4%EB%B2%84_%EC%98%81%ED%99%94_%ED%8F%89%EA%B0%80_%EA%B0%90%EC%84%B1%EB%B6%84%EC%84%9D.ipynb\" target=\"_parent\"><img src=\"https://colab.research.google.com/assets/colab-badge.svg\" alt=\"Open In Colab\"/></a>"
      ]
    },
    {
      "cell_type": "markdown",
      "metadata": {
        "id": "-g3VM2jeodCs",
        "colab_type": "text"
      },
      "source": [
        "# Huggingface 소개\n",
        "\n",
        "![대체 텍스트](https://i.imgur.com/6DM516z.png)  \n",
        "![대체 텍스트](https://i.imgur.com/g6R67h4.png)    \n",
        "https://huggingface.co/transformers/ \n",
        "\n",
        "HuggingFace는 자연어 처리 인공지능 모델에서, BERT 모델 같은 트랜스포머 모델들을 쉽게 다룰 수 있게 해주는 패키지입니다.  \n",
        "기본적으로 pytorch 기반으로 만들어져 있지만, 텐서플로우 2.0에서도 본 패키지를 사용 가능합니다.  \n",
        "텐서플로우 2.0은 기존 케라스를 포함하고 있기 때문에, 기존 텐서플로우나 케라스에 익숙하신 분들이 쉽게 사용할 수 있습니다.  \n",
        "텐서플로우 2.0 기반의 huggingface 사용 방법을 네이버 영화 긍부정 분석을 실습하면서 배워 보도록 하겠습니다."
      ]
    },
    {
      "cell_type": "markdown",
      "metadata": {
        "id": "kY0oR4s7scKf",
        "colab_type": "text"
      },
      "source": [
        "#목차\n",
        "이번 실습은 <b>1) 네이버 감성분석 데이터 불러오기 및 전처리 2) BERT 인풋 만들기 3) 버트를 활용한 감성분석 모델 만들기 4) 훈련 및 성능 검증 5) 실제 데이터로 실습하기</b>로 구성되어 있습니다."
      ]
    },
    {
      "cell_type": "markdown",
      "metadata": {
        "id": "VcxkFoFEulHa",
        "colab_type": "text"
      },
      "source": [
        "#BERT를 활용하여 네이버 감성분석 만들기"
      ]
    },
    {
      "cell_type": "markdown",
      "metadata": {
        "id": "T_X3MbBns6fL",
        "colab_type": "text"
      },
      "source": [
        "## 네이버 감성분석 데이터 불러오기 및 전처리"
      ]
    },
    {
      "cell_type": "code",
      "metadata": {
        "id": "_ufCzSL_Oigi",
        "colab_type": "code",
        "colab": {
          "base_uri": "https://localhost:8080/",
          "height": 52
        },
        "outputId": "def041a0-fd6a-4deb-8af1-432db093fd03"
      },
      "source": [
        "!nvidia-smi"
      ],
      "execution_count": 3,
      "outputs": [
        {
          "output_type": "stream",
          "text": [
            "NVIDIA-SMI has failed because it couldn't communicate with the NVIDIA driver. Make sure that the latest NVIDIA driver is installed and running.\n",
            "\n"
          ],
          "name": "stdout"
        }
      ]
    },
    {
      "cell_type": "markdown",
      "metadata": {
        "id": "ZO3MDrbfpfxV",
        "colab_type": "text"
      },
      "source": [
        "huggingface 패키지를 Colab에 설치합니다"
      ]
    },
    {
      "cell_type": "code",
      "metadata": {
        "id": "8AB7YtQ3rZzF",
        "colab_type": "code",
        "colab": {
          "base_uri": "https://localhost:8080/",
          "height": 635
        },
        "outputId": "23dfbb8a-703c-4a33-fb1a-43abaf03294b"
      },
      "source": [
        "!pip install transformers"
      ],
      "execution_count": 4,
      "outputs": [
        {
          "output_type": "stream",
          "text": [
            "Collecting transformers\n",
            "\u001b[?25l  Downloading https://files.pythonhosted.org/packages/ae/05/c8c55b600308dc04e95100dc8ad8a244dd800fe75dfafcf1d6348c6f6209/transformers-3.1.0-py3-none-any.whl (884kB)\n",
            "\u001b[K     |████████████████████████████████| 890kB 3.4MB/s \n",
            "\u001b[?25hRequirement already satisfied: tqdm>=4.27 in /usr/local/lib/python3.6/dist-packages (from transformers) (4.41.1)\n",
            "Requirement already satisfied: regex!=2019.12.17 in /usr/local/lib/python3.6/dist-packages (from transformers) (2019.12.20)\n",
            "Requirement already satisfied: requests in /usr/local/lib/python3.6/dist-packages (from transformers) (2.23.0)\n",
            "Collecting sacremoses\n",
            "\u001b[?25l  Downloading https://files.pythonhosted.org/packages/7d/34/09d19aff26edcc8eb2a01bed8e98f13a1537005d31e95233fd48216eed10/sacremoses-0.0.43.tar.gz (883kB)\n",
            "\u001b[K     |████████████████████████████████| 890kB 18.6MB/s \n",
            "\u001b[?25hRequirement already satisfied: filelock in /usr/local/lib/python3.6/dist-packages (from transformers) (3.0.12)\n",
            "Collecting tokenizers==0.8.1.rc2\n",
            "\u001b[?25l  Downloading https://files.pythonhosted.org/packages/80/83/8b9fccb9e48eeb575ee19179e2bdde0ee9a1904f97de5f02d19016b8804f/tokenizers-0.8.1rc2-cp36-cp36m-manylinux1_x86_64.whl (3.0MB)\n",
            "\u001b[K     |████████████████████████████████| 3.0MB 28.5MB/s \n",
            "\u001b[?25hRequirement already satisfied: dataclasses; python_version < \"3.7\" in /usr/local/lib/python3.6/dist-packages (from transformers) (0.7)\n",
            "Requirement already satisfied: packaging in /usr/local/lib/python3.6/dist-packages (from transformers) (20.4)\n",
            "Collecting sentencepiece!=0.1.92\n",
            "\u001b[?25l  Downloading https://files.pythonhosted.org/packages/d4/a4/d0a884c4300004a78cca907a6ff9a5e9fe4f090f5d95ab341c53d28cbc58/sentencepiece-0.1.91-cp36-cp36m-manylinux1_x86_64.whl (1.1MB)\n",
            "\u001b[K     |████████████████████████████████| 1.1MB 54.1MB/s \n",
            "\u001b[?25hRequirement already satisfied: numpy in /usr/local/lib/python3.6/dist-packages (from transformers) (1.18.5)\n",
            "Requirement already satisfied: urllib3!=1.25.0,!=1.25.1,<1.26,>=1.21.1 in /usr/local/lib/python3.6/dist-packages (from requests->transformers) (1.24.3)\n",
            "Requirement already satisfied: chardet<4,>=3.0.2 in /usr/local/lib/python3.6/dist-packages (from requests->transformers) (3.0.4)\n",
            "Requirement already satisfied: idna<3,>=2.5 in /usr/local/lib/python3.6/dist-packages (from requests->transformers) (2.10)\n",
            "Requirement already satisfied: certifi>=2017.4.17 in /usr/local/lib/python3.6/dist-packages (from requests->transformers) (2020.6.20)\n",
            "Requirement already satisfied: six in /usr/local/lib/python3.6/dist-packages (from sacremoses->transformers) (1.15.0)\n",
            "Requirement already satisfied: click in /usr/local/lib/python3.6/dist-packages (from sacremoses->transformers) (7.1.2)\n",
            "Requirement already satisfied: joblib in /usr/local/lib/python3.6/dist-packages (from sacremoses->transformers) (0.16.0)\n",
            "Requirement already satisfied: pyparsing>=2.0.2 in /usr/local/lib/python3.6/dist-packages (from packaging->transformers) (2.4.7)\n",
            "Building wheels for collected packages: sacremoses\n",
            "  Building wheel for sacremoses (setup.py) ... \u001b[?25l\u001b[?25hdone\n",
            "  Created wheel for sacremoses: filename=sacremoses-0.0.43-cp36-none-any.whl size=893257 sha256=7d9f748a89a68e9033435c7978286ffa53152de0abf22bce4aee97d5443516b2\n",
            "  Stored in directory: /root/.cache/pip/wheels/29/3c/fd/7ce5c3f0666dab31a50123635e6fb5e19ceb42ce38d4e58f45\n",
            "Successfully built sacremoses\n",
            "Installing collected packages: sacremoses, tokenizers, sentencepiece, transformers\n",
            "Successfully installed sacremoses-0.0.43 sentencepiece-0.1.91 tokenizers-0.8.1rc2 transformers-3.1.0\n"
          ],
          "name": "stdout"
        }
      ]
    },
    {
      "cell_type": "markdown",
      "metadata": {
        "id": "Pdvo-EpaqFev",
        "colab_type": "text"
      },
      "source": [
        "텐서플로우 2와 필요한 모듈들을 임포트합니다.  \n",
        "최근에 텐서플로우 기본 버전은 2로 바뀌었습니다."
      ]
    },
    {
      "cell_type": "code",
      "metadata": {
        "id": "jRXvtgWrrdk5",
        "colab_type": "code",
        "colab": {}
      },
      "source": [
        "import tensorflow as tf\n",
        "import numpy as np\n",
        "import pandas as pd\n",
        "from transformers import *\n",
        "import json\n",
        "import numpy as np\n",
        "import pandas as pd\n",
        "from tqdm import tqdm\n",
        "import os"
      ],
      "execution_count": 5,
      "outputs": []
    },
    {
      "cell_type": "markdown",
      "metadata": {
        "id": "j5c4Fc1WrpRe",
        "colab_type": "text"
      },
      "source": [
        "bert 모델 다운"
      ]
    },
    {
      "cell_type": "code",
      "metadata": {
        "id": "__fEEnCZroIX",
        "colab_type": "code",
        "colab": {}
      },
      "source": [
        "# wget을 활용해서 bert 모델 다운로드 가능\n",
        "import os\n",
        "# if \"multi_cased_L-12_H-768_A-12.zip\" not in os.listdir():\n",
        "#   !wget https://storage.googleapis.com/bert_models/2018_11_23/multi_cased_L-12_H-768_A-12.zip\n",
        "#   if \"bert\" not in os.listdir():\n",
        "#     os.makedirs(\"bert\")\n",
        "#   else:\n",
        "#     pass\n",
        "\n",
        "#   import zipfile\n",
        "#   import shutil\n",
        "          \n",
        "#   bert_zip = zipfile.ZipFile('multi_cased_L-12_H-768_A-12.zip')\n",
        "#   bert_zip.extractall('bert')\n",
        "  \n",
        "#   bert_zip.close()\n",
        "\n",
        "#   def copytree(src, dst, symlinks=False, ignore=None):\n",
        "#       for item in os.listdir(src):\n",
        "#           s = os.path.join(src, item)\n",
        "#           d = os.path.join(dst, item)\n",
        "#           if os.path.isdir(s):\n",
        "#               shutil.copytree(s, d, symlinks, ignore)\n",
        "#           else:\n",
        "#               shutil.copy2(s, d)\n",
        "\n",
        "#   copytree(\"bert/multi_cased_L-12_H-768_A-12\", \"bert\")\n",
        "# else:\n",
        "#     pass"
      ],
      "execution_count": 6,
      "outputs": []
    },
    {
      "cell_type": "markdown",
      "metadata": {
        "id": "FgUYFux4rPVC",
        "colab_type": "text"
      },
      "source": [
        "이번 예제에서 사용할 네이버 영화 감상분석 데이터를 다운로드 합니다"
      ]
    },
    {
      "cell_type": "code",
      "metadata": {
        "id": "vZ5lIpQLrOa3",
        "colab_type": "code",
        "colab": {
          "base_uri": "https://localhost:8080/",
          "height": 122
        },
        "outputId": "d7953538-ab08-49f5-fa66-30cc39727831"
      },
      "source": [
        "# 네이버 영화 감성분석 데이터 다운로드\n",
        "!git clone https://github.com/e9t/nsmc.git"
      ],
      "execution_count": 7,
      "outputs": [
        {
          "output_type": "stream",
          "text": [
            "Cloning into 'nsmc'...\n",
            "remote: Enumerating objects: 14763, done.\u001b[K\n",
            "remote: Total 14763 (delta 0), reused 0 (delta 0), pack-reused 14763\u001b[K\n",
            "Receiving objects: 100% (14763/14763), 56.19 MiB | 20.22 MiB/s, done.\n",
            "Resolving deltas: 100% (1749/1749), done.\n",
            "Checking out files: 100% (14737/14737), done.\n"
          ],
          "name": "stdout"
        }
      ]
    },
    {
      "cell_type": "code",
      "metadata": {
        "id": "8YXI6Q-hsQpn",
        "colab_type": "code",
        "colab": {
          "base_uri": "https://localhost:8080/",
          "height": 158
        },
        "outputId": "26dfeb1a-10f0-4fe8-84e8-1f6b7a38a81d"
      },
      "source": [
        "os.listdir('nsmc')"
      ],
      "execution_count": 8,
      "outputs": [
        {
          "output_type": "execute_result",
          "data": {
            "text/plain": [
              "['ratings_train.txt',\n",
              " 'ratings_test.txt',\n",
              " '.git',\n",
              " 'synopses.json',\n",
              " 'ratings.txt',\n",
              " 'code',\n",
              " 'README.md',\n",
              " 'raw']"
            ]
          },
          "metadata": {
            "tags": []
          },
          "execution_count": 8
        }
      ]
    },
    {
      "cell_type": "markdown",
      "metadata": {
        "id": "5JFTyGGxwIwI",
        "colab_type": "text"
      },
      "source": [
        "딥러닝 훈련에 사용 할 train 데이터와 test 데이터를 pandas dataframe 형식으로 불러옵니다."
      ]
    },
    {
      "cell_type": "code",
      "metadata": {
        "id": "3XeWU_2OsRJ3",
        "colab_type": "code",
        "colab": {}
      },
      "source": [
        "train = pd.read_table(\"nsmc/\"+\"ratings_train.txt\")\n",
        "test = pd.read_table(\"nsmc/\"+\"ratings_test.txt\")"
      ],
      "execution_count": 9,
      "outputs": []
    },
    {
      "cell_type": "code",
      "metadata": {
        "id": "aGJpPdIBsVKx",
        "colab_type": "code",
        "colab": {
          "base_uri": "https://localhost:8080/",
          "height": 343
        },
        "outputId": "c7c30add-8af4-4dad-ee4b-33e75206174a"
      },
      "source": [
        "train[50:60]"
      ],
      "execution_count": 10,
      "outputs": [
        {
          "output_type": "execute_result",
          "data": {
            "text/html": [
              "<div>\n",
              "<style scoped>\n",
              "    .dataframe tbody tr th:only-of-type {\n",
              "        vertical-align: middle;\n",
              "    }\n",
              "\n",
              "    .dataframe tbody tr th {\n",
              "        vertical-align: top;\n",
              "    }\n",
              "\n",
              "    .dataframe thead th {\n",
              "        text-align: right;\n",
              "    }\n",
              "</style>\n",
              "<table border=\"1\" class=\"dataframe\">\n",
              "  <thead>\n",
              "    <tr style=\"text-align: right;\">\n",
              "      <th></th>\n",
              "      <th>id</th>\n",
              "      <th>document</th>\n",
              "      <th>label</th>\n",
              "    </tr>\n",
              "  </thead>\n",
              "  <tbody>\n",
              "    <tr>\n",
              "      <th>50</th>\n",
              "      <td>9063648</td>\n",
              "      <td>영화가 사람의 영혼을 어루만져 줄 수도 있군요 거친 세상사를 잠시 잊고 동화같은 영...</td>\n",
              "      <td>1</td>\n",
              "    </tr>\n",
              "    <tr>\n",
              "      <th>51</th>\n",
              "      <td>8272095</td>\n",
              "      <td>야 세르게이! 작은고추의 매운맛을 보여주마! 포퐁저그 콩진호가 간다</td>\n",
              "      <td>0</td>\n",
              "    </tr>\n",
              "    <tr>\n",
              "      <th>52</th>\n",
              "      <td>2345905</td>\n",
              "      <td>이렇게 가슴시리게 본 드라마가 또 있을까? 감동 그 자체!</td>\n",
              "      <td>1</td>\n",
              "    </tr>\n",
              "    <tr>\n",
              "      <th>53</th>\n",
              "      <td>7865630</td>\n",
              "      <td>난또 저 꼬마애가 무슨 원한이 깊길래.,. 했더니 OO 그냥 혼자 나대다 OO걸 어...</td>\n",
              "      <td>0</td>\n",
              "    </tr>\n",
              "    <tr>\n",
              "      <th>54</th>\n",
              "      <td>7207064</td>\n",
              "      <td>재미있어요</td>\n",
              "      <td>1</td>\n",
              "    </tr>\n",
              "    <tr>\n",
              "      <th>55</th>\n",
              "      <td>5719655</td>\n",
              "      <td>전 좋아요</td>\n",
              "      <td>1</td>\n",
              "    </tr>\n",
              "    <tr>\n",
              "      <th>56</th>\n",
              "      <td>1651126</td>\n",
              "      <td>최고</td>\n",
              "      <td>0</td>\n",
              "    </tr>\n",
              "    <tr>\n",
              "      <th>57</th>\n",
              "      <td>7246040</td>\n",
              "      <td>너무 충격적이엇다. 기분을 완전히 푹 꺼지게 하는 느낌... 활력이라고는 하나도 없...</td>\n",
              "      <td>1</td>\n",
              "    </tr>\n",
              "    <tr>\n",
              "      <th>58</th>\n",
              "      <td>717775</td>\n",
              "      <td>심심한영화.</td>\n",
              "      <td>0</td>\n",
              "    </tr>\n",
              "    <tr>\n",
              "      <th>59</th>\n",
              "      <td>8317483</td>\n",
              "      <td>백봉기 언제나오나요?</td>\n",
              "      <td>1</td>\n",
              "    </tr>\n",
              "  </tbody>\n",
              "</table>\n",
              "</div>"
            ],
            "text/plain": [
              "         id                                           document  label\n",
              "50  9063648  영화가 사람의 영혼을 어루만져 줄 수도 있군요 거친 세상사를 잠시 잊고 동화같은 영...      1\n",
              "51  8272095              야 세르게이! 작은고추의 매운맛을 보여주마! 포퐁저그 콩진호가 간다      0\n",
              "52  2345905                   이렇게 가슴시리게 본 드라마가 또 있을까? 감동 그 자체!      1\n",
              "53  7865630  난또 저 꼬마애가 무슨 원한이 깊길래.,. 했더니 OO 그냥 혼자 나대다 OO걸 어...      0\n",
              "54  7207064                                              재미있어요      1\n",
              "55  5719655                                              전 좋아요      1\n",
              "56  1651126                                                 최고      0\n",
              "57  7246040  너무 충격적이엇다. 기분을 완전히 푹 꺼지게 하는 느낌... 활력이라고는 하나도 없...      1\n",
              "58   717775                                             심심한영화.      0\n",
              "59  8317483                                        백봉기 언제나오나요?      1"
            ]
          },
          "metadata": {
            "tags": []
          },
          "execution_count": 10
        }
      ]
    },
    {
      "cell_type": "markdown",
      "metadata": {
        "id": "gp1h3X_7tHpy",
        "colab_type": "text"
      },
      "source": [
        "## 버트 인풋 만들기"
      ]
    },
    {
      "cell_type": "markdown",
      "metadata": {
        "id": "_4JGys9DrU4_",
        "colab_type": "text"
      },
      "source": [
        "한글 데이터를 분석하려면, 100개가 넘는 언어에 대해 훈련된 버트를 사용해야 합니다.  \n",
        "multilingual BERT를 사용하도록 하겠습니다.  \n",
        "모델을 로드하기에 앞서, 토크나이저를 불러오도록 하겠습니다.  \n",
        "huggingface에서는 아주 쉽게 토크나이저를 불러올 수 있습니다."
      ]
    },
    {
      "cell_type": "code",
      "metadata": {
        "id": "g4Xgl9RtsGul",
        "colab_type": "code",
        "colab": {
          "base_uri": "https://localhost:8080/",
          "height": 66,
          "referenced_widgets": [
            "33eeffb905a74539a79f66ff548c5f95",
            "5e80527eec67446c8af295dcb4da00bb",
            "b6e5c0082edb48c1b57c5fea74cabf24",
            "c59cda444d044acdaaa3f9f620c83636",
            "095c6bbfed7f4c6f95154484be1c7010",
            "1a04bc660b5b4aa8a5aa84737ea4f9d5",
            "3bfa2f2d8f11493a850ee6cedf8d3acb",
            "44b18a3178c54bcd80ac79cad4abd67d"
          ]
        },
        "outputId": "a0d3dfcb-542a-45ae-8319-63f32e929132"
      },
      "source": [
        "tokenizer = BertTokenizer.from_pretrained('bert-base-multilingual-cased')"
      ],
      "execution_count": 11,
      "outputs": [
        {
          "output_type": "display_data",
          "data": {
            "application/vnd.jupyter.widget-view+json": {
              "model_id": "33eeffb905a74539a79f66ff548c5f95",
              "version_minor": 0,
              "version_major": 2
            },
            "text/plain": [
              "HBox(children=(FloatProgress(value=0.0, description='Downloading', max=995526.0, style=ProgressStyle(descripti…"
            ]
          },
          "metadata": {
            "tags": []
          }
        },
        {
          "output_type": "stream",
          "text": [
            "\n"
          ],
          "name": "stdout"
        }
      ]
    },
    {
      "cell_type": "markdown",
      "metadata": {
        "id": "ii2W5UbyuN2b",
        "colab_type": "text"
      },
      "source": [
        "버트를 사용하기에 앞서 가장 기초에 속하는 tokenizer 사용 방법에 대해서 잠시 배워보도록 하겠습니다.  \n",
        "tokenizer.encode => 문장을 버트 모델의 인풋 토큰값으로 바꿔줌  \n",
        "tokenizer.tokenize => 문장을 토큰화"
      ]
    },
    {
      "cell_type": "code",
      "metadata": {
        "id": "eybf2-OluWro",
        "colab_type": "code",
        "colab": {
          "base_uri": "https://localhost:8080/",
          "height": 34
        },
        "outputId": "0ba3935d-2480-4794-8629-ceca89496a17"
      },
      "source": [
        "print(tokenizer.encode(\"보는내내 그대로 들어맞는 예측 카리스마 없는 악역\"))"
      ],
      "execution_count": 12,
      "outputs": [
        {
          "output_type": "stream",
          "text": [
            "[101, 9356, 11018, 31605, 31605, 110589, 71568, 118913, 11018, 9576, 119281, 9786, 79940, 23811, 40364, 9520, 23160, 102]\n"
          ],
          "name": "stdout"
        }
      ]
    },
    {
      "cell_type": "code",
      "metadata": {
        "id": "CshMEDzEcvdw",
        "colab_type": "code",
        "colab": {
          "base_uri": "https://localhost:8080/",
          "height": 34
        },
        "outputId": "5903a625-14eb-4903-dbc4-9045fadea629"
      },
      "source": [
        "print(tokenizer.tokenize(\"보는내내 그대로 들어맞는 예측 카리스마 없는 악역\"))"
      ],
      "execution_count": 13,
      "outputs": [
        {
          "output_type": "stream",
          "text": [
            "['보', '##는', '##내', '##내', '그대로', '들어', '##맞', '##는', '예', '##측', '카', '##리스', '##마', '없는', '악', '##역']\n"
          ],
          "name": "stdout"
        }
      ]
    },
    {
      "cell_type": "markdown",
      "metadata": {
        "id": "ORJ-Eq61u2V1",
        "colab_type": "text"
      },
      "source": [
        "우리가 네이버 영화 평가 긍부정 분석을 위해, train 15만개의 데이터를 버트의 인풋 값으로 바꿔주겠습니다.  \n",
        "버트의 인풋은 토큰, 세그멘트, 마스크로 나눠집니다.  \n",
        "이 세 값이 버트 모형에 들어가서, 버트 모형에 맞게 고차원으로 임베딩이 되게 되는 원리입니다.  \n",
        "\n",
        "토큰은 말 그대로 단어를 단어사전의 위치값으로 표현해주는 것이며, \n",
        "세그멘트는 버트 모형에서 문장이 앞 문장인지, 뒷 문장인지 표현해주는 것입니다.(본 예제는 인풋으로 문장이 하나만 들어가므로 0으로 통일)  \n",
        "마스크는 문장이 유효한 값인지, 아니면 유효하지 않은 값이라 패딩 값으로 채운 것인지를 나타냅니다.  \n",
        "문장이 유효한 값이면 1로 채우고, 유효하지 않은 값이면 0으로 채우게 됩니다.  \n",
        "문장마다 문장 길이는 다르지만, 버트의 인풋 길이는 일정해야 하므로, 버트에서 지정한 문장 길이를 초과하면 패딩값인 0을 채우게 됩니다."
      ]
    },
    {
      "cell_type": "code",
      "metadata": {
        "id": "nM-XXAuCxIf5",
        "colab_type": "code",
        "colab": {
          "base_uri": "https://localhost:8080/",
          "height": 34
        },
        "outputId": "371dd8a7-e200-4bd1-f45f-5178ca1aa221"
      },
      "source": [
        "print(tokenizer.tokenize(\"전율을 일으키는 영화. 다시 보고싶은 영화\"))"
      ],
      "execution_count": 14,
      "outputs": [
        {
          "output_type": "stream",
          "text": [
            "['전', '##율', '##을', '일', '##으', '##키는', '영화', '.', '다시', '보고', '##싶', '##은', '영화']\n"
          ],
          "name": "stdout"
        }
      ]
    },
    {
      "cell_type": "code",
      "metadata": {
        "id": "VyhSwEAUxgL7",
        "colab_type": "code",
        "colab": {
          "base_uri": "https://localhost:8080/",
          "height": 34
        },
        "outputId": "7986704e-1d61-4b98-aefb-e4af3c815b23"
      },
      "source": [
        "print(tokenizer.encode(\"전율을 일으키는 영화. 다시 보고싶은 영화\"))"
      ],
      "execution_count": 15,
      "outputs": [
        {
          "output_type": "stream",
          "text": [
            "[101, 9665, 119183, 10622, 9641, 119185, 66815, 42428, 119, 25805, 98199, 119088, 10892, 42428, 102]\n"
          ],
          "name": "stdout"
        }
      ]
    },
    {
      "cell_type": "code",
      "metadata": {
        "id": "aS9ZeYY1yC3J",
        "colab_type": "code",
        "colab": {
          "base_uri": "https://localhost:8080/",
          "height": 107
        },
        "outputId": "9846106c-c750-4944-c224-710b2b82c7f4"
      },
      "source": [
        "print(tokenizer.encode(\"전율을 일으키는 영화. 다시 보고싶은 영화\", max_length=128, pad_to_max_length=True))"
      ],
      "execution_count": 16,
      "outputs": [
        {
          "output_type": "stream",
          "text": [
            "Truncation was not explicitely activated but `max_length` is provided a specific value, please use `truncation=True` to explicitely truncate examples to max length. Defaulting to 'longest_first' truncation strategy. If you encode pairs of sequences (GLUE-style) with the tokenizer you can select this strategy more precisely by providing a specific strategy to `truncation`.\n"
          ],
          "name": "stderr"
        },
        {
          "output_type": "stream",
          "text": [
            "[101, 9665, 119183, 10622, 9641, 119185, 66815, 42428, 119, 25805, 98199, 119088, 10892, 42428, 102, 0, 0, 0, 0, 0, 0, 0, 0, 0, 0, 0, 0, 0, 0, 0, 0, 0, 0, 0, 0, 0, 0, 0, 0, 0, 0, 0, 0, 0, 0, 0, 0, 0, 0, 0, 0, 0, 0, 0, 0, 0, 0, 0, 0, 0, 0, 0, 0, 0, 0, 0, 0, 0, 0, 0, 0, 0, 0, 0, 0, 0, 0, 0, 0, 0, 0, 0, 0, 0, 0, 0, 0, 0, 0, 0, 0, 0, 0, 0, 0, 0, 0, 0, 0, 0, 0, 0, 0, 0, 0, 0, 0, 0, 0, 0, 0, 0, 0, 0, 0, 0, 0, 0, 0, 0, 0, 0, 0, 0, 0, 0, 0, 0]\n"
          ],
          "name": "stdout"
        },
        {
          "output_type": "stream",
          "text": [
            "/usr/local/lib/python3.6/dist-packages/transformers/tokenization_utils_base.py:1770: FutureWarning: The `pad_to_max_length` argument is deprecated and will be removed in a future version, use `padding=True` or `padding='longest'` to pad to the longest sequence in the batch, or use `padding='max_length'` to pad to a max length. In this case, you can give a specific length with `max_length` (e.g. `max_length=45`) or leave max_length to None to pad to the maximal input size of the model (e.g. 512 for Bert).\n",
            "  FutureWarning,\n"
          ],
          "name": "stderr"
        }
      ]
    },
    {
      "cell_type": "markdown",
      "metadata": {
        "id": "Cr-l7XNcwtQB",
        "colab_type": "text"
      },
      "source": [
        "토큰 인풋의 예를 들면 다음과 같습니다.  \n",
        "문장을 토크나이징 하면 \"전율을 일으키는 영화. 다시 보고싶은 영화\"가  \n",
        "\"'전', '##율', '##을', '일', '##으', '##키는', '영화', '.', '다시', '보고', '##싶', '##은', '영화'\" 로 토크나이징이 됩니다.  \n",
        "이거를 버트 인풋에 들어갈 숫자로 바꿔주면,  \n",
        "[\"101, 9665, 119183, 10622, 9641, 119185, 66815, 42428, 119, 25805, 98199, 119088, 10892, 42428, 102\"]  \n",
        "로 바뀌게 됩니다. 여기 나오는 숫자들이 버트 인풋에 들어가는 토큰 인풋입니다.  \n",
        "버트 모형에 들어가는 인풋은 사실 일정한 길이를 가져야 합니다.(본 예제에서는 128)  \n",
        "따라서 남는 부분은 0으로 채워지게 됩니다(패딩)"
      ]
    },
    {
      "cell_type": "code",
      "metadata": {
        "id": "XBa3KLTxyV0e",
        "colab_type": "code",
        "colab": {
          "base_uri": "https://localhost:8080/",
          "height": 54
        },
        "outputId": "f3ab2af7-0e8d-451e-f0f1-d3a006b94686"
      },
      "source": [
        "# 세그멘트 인풋\n",
        "print([0]*128)"
      ],
      "execution_count": 17,
      "outputs": [
        {
          "output_type": "stream",
          "text": [
            "[0, 0, 0, 0, 0, 0, 0, 0, 0, 0, 0, 0, 0, 0, 0, 0, 0, 0, 0, 0, 0, 0, 0, 0, 0, 0, 0, 0, 0, 0, 0, 0, 0, 0, 0, 0, 0, 0, 0, 0, 0, 0, 0, 0, 0, 0, 0, 0, 0, 0, 0, 0, 0, 0, 0, 0, 0, 0, 0, 0, 0, 0, 0, 0, 0, 0, 0, 0, 0, 0, 0, 0, 0, 0, 0, 0, 0, 0, 0, 0, 0, 0, 0, 0, 0, 0, 0, 0, 0, 0, 0, 0, 0, 0, 0, 0, 0, 0, 0, 0, 0, 0, 0, 0, 0, 0, 0, 0, 0, 0, 0, 0, 0, 0, 0, 0, 0, 0, 0, 0, 0, 0, 0, 0, 0, 0, 0, 0]\n"
          ],
          "name": "stdout"
        }
      ]
    },
    {
      "cell_type": "markdown",
      "metadata": {
        "id": "qQxClepBx5aB",
        "colab_type": "text"
      },
      "source": [
        "세그멘트 인풋은 문장이 앞문장인지 뒷문장인지 구분해주는 역할을 하는데요  \n",
        "본 문장에서는 문장 하나만 인풋으로 들어가기 때문에 0만 들어가게 되고, 문장 길이만큼의 0이 인풋으로 들어가게 됩니다."
      ]
    },
    {
      "cell_type": "code",
      "metadata": {
        "id": "d_sprXQ2yczY",
        "colab_type": "code",
        "colab": {
          "base_uri": "https://localhost:8080/",
          "height": 54
        },
        "outputId": "785b8ee8-00f7-4d9a-f6a9-fb275e9d60e1"
      },
      "source": [
        "# 마스크 인풋\n",
        "valid_num = len(tokenizer.encode(\"전율을 일으키는 영화. 다시 보고싶은 영화\"))\n",
        "print(valid_num * [1] + (128 - valid_num) * [0])"
      ],
      "execution_count": 18,
      "outputs": [
        {
          "output_type": "stream",
          "text": [
            "[1, 1, 1, 1, 1, 1, 1, 1, 1, 1, 1, 1, 1, 1, 1, 0, 0, 0, 0, 0, 0, 0, 0, 0, 0, 0, 0, 0, 0, 0, 0, 0, 0, 0, 0, 0, 0, 0, 0, 0, 0, 0, 0, 0, 0, 0, 0, 0, 0, 0, 0, 0, 0, 0, 0, 0, 0, 0, 0, 0, 0, 0, 0, 0, 0, 0, 0, 0, 0, 0, 0, 0, 0, 0, 0, 0, 0, 0, 0, 0, 0, 0, 0, 0, 0, 0, 0, 0, 0, 0, 0, 0, 0, 0, 0, 0, 0, 0, 0, 0, 0, 0, 0, 0, 0, 0, 0, 0, 0, 0, 0, 0, 0, 0, 0, 0, 0, 0, 0, 0, 0, 0, 0, 0, 0, 0, 0, 0]\n"
          ],
          "name": "stdout"
        }
      ]
    },
    {
      "cell_type": "markdown",
      "metadata": {
        "id": "iykc56uIzH1R",
        "colab_type": "text"
      },
      "source": [
        "마스크 인풋은 토큰 인풋에서 패딩이 아닌 부분은 1, 패딩인 부분은 0으로 두게 됩니다."
      ]
    },
    {
      "cell_type": "markdown",
      "metadata": {
        "id": "6wEKq5qfxH9t",
        "colab_type": "text"
      },
      "source": [
        "종합하면,  \n",
        "버트의 인풋은 토큰, 세그먼트, 마스크로 이루어져 있습니다.  \n",
        "\"전율을 일으키는 영화. 다시 보고싶은 영화\" 라는 문장을 가지고 예를 들면,\n",
        "\n",
        "토큰 인풋 : [101, 9665, 119183, 10622, 9641, 119185, 66815, 42428, 119, 25805, 98199, 119088, 10892, 42428, 102, 0, 0, 0, 0, 0, 0, 0, 0, 0, 0, 0, 0, 0, 0, 0, 0, 0, 0, 0, 0, 0, 0, 0, 0, 0, 0, 0, 0, 0, 0, 0, 0, 0, 0, 0, 0, 0, 0, 0, 0, 0, 0, 0, 0, 0, 0, 0, 0, 0, 0, 0, 0, 0, 0, 0, 0, 0, 0, 0, 0, 0, 0, 0, 0, 0, 0, 0, 0, 0, 0, 0, 0, 0, 0, 0, 0, 0, 0, 0, 0, 0, 0, 0, 0, 0, 0, 0, 0, 0, 0, 0, 0, 0, 0, 0, 0, 0, 0, 0, 0, 0, 0, 0, 0, 0, 0, 0, 0, 0, 0, 0, 0, 0]\n",
        "\n",
        "세그먼트 인풋 : [0, 0, 0, 0, 0, 0, 0, 0, 0, 0, 0, 0, 0, 0, 0, 0, 0, 0, 0, 0, 0, 0, 0, 0, 0, 0, 0, 0, 0, 0, 0, 0, 0, 0, 0, 0, 0, 0, 0, 0, 0, 0, 0, 0, 0, 0, 0, 0, 0, 0, 0, 0, 0, 0, 0, 0, 0, 0, 0, 0, 0, 0, 0, 0, 0, 0, 0, 0, 0, 0, 0, 0, 0, 0, 0, 0, 0, 0, 0, 0, 0, 0, 0, 0, 0, 0, 0, 0, 0, 0, 0, 0, 0, 0, 0, 0, 0, 0, 0, 0, 0, 0, 0, 0, 0, 0, 0, 0, 0, 0, 0, 0, 0, 0, 0, 0, 0, 0, 0, 0, 0, 0, 0, 0, 0, 0, 0, 0]\n",
        "\n",
        "마스크 인풋 : [1, 1, 1, 1, 1, 1, 1, 1, 1, 1, 1, 1, 1, 1, 1, 0, 0, 0, 0, 0, 0, 0, 0, 0, 0, 0, 0, 0, 0, 0, 0, 0, 0, 0, 0, 0, 0, 0, 0, 0, 0, 0, 0, 0, 0, 0, 0, 0, 0, 0, 0, 0, 0, 0, 0, 0, 0, 0, 0, 0, 0, 0, 0, 0, 0, 0, 0, 0, 0, 0, 0, 0, 0, 0, 0, 0, 0, 0, 0, 0, 0, 0, 0, 0, 0, 0, 0, 0, 0, 0, 0, 0, 0, 0, 0, 0, 0, 0, 0, 0, 0, 0, 0, 0, 0, 0, 0, 0, 0, 0, 0, 0, 0, 0, 0, 0, 0, 0, 0, 0, 0, 0, 0, 0, 0, 0, 0, 0]"
      ]
    },
    {
      "cell_type": "markdown",
      "metadata": {
        "id": "5LYpgPArzjiI",
        "colab_type": "text"
      },
      "source": [
        "네이버 영화 평가 문장들을 버트 인풋으로 바꿔보도록 하겠습니다.  \n",
        "문장이 토큰 인풋, 세그먼트 인풋, 마스크 인풋으로 변환 됩니다.  \n",
        "huggingface에서는 순서가 [토큰 인풋, 마스크 인풋, 세그먼트 인풋] 입니다."
      ]
    },
    {
      "cell_type": "code",
      "metadata": {
        "id": "LFFokLO0sj_L",
        "colab_type": "code",
        "colab": {
          "base_uri": "https://localhost:8080/",
          "height": 34
        },
        "outputId": "ced65a1c-bd97-44f0-8902-c3e21c109a0b"
      },
      "source": [
        "def convert_data(data_df):\n",
        "    global tokenizer\n",
        "    \n",
        "    SEQ_LEN = 128 #SEQ_LEN : 버트에 들어갈 인풋의 길이\n",
        "    \n",
        "    tokens, masks, segments, targets = [], [], [], []\n",
        "    \n",
        "    for i in tqdm(range(len(data_df))):\n",
        "        # token : 문장을 토큰화함\n",
        "        token = tokenizer.encode(data_df[DATA_COLUMN][i], max_length=SEQ_LEN, truncation=True, padding='max_length')\n",
        "       \n",
        "        # 마스크는 토큰화한 문장에서 패딩이 아닌 부분은 1, 패딩인 부분은 0으로 통일\n",
        "        num_zeros = token.count(0)\n",
        "        mask = [1]*(SEQ_LEN-num_zeros) + [0]*num_zeros\n",
        "        \n",
        "        # 문장의 전후관계를 구분해주는 세그먼트는 문장이 1개밖에 없으므로 모두 0\n",
        "        segment = [0]*SEQ_LEN\n",
        "\n",
        "        # 버트 인풋으로 들어가는 token, mask, segment를 tokens, segments에 각각 저장\n",
        "        tokens.append(token)\n",
        "        masks.append(mask)\n",
        "        segments.append(segment)\n",
        "        \n",
        "        # 정답(긍정 : 1 부정 0)을 targets 변수에 저장해 줌\n",
        "        targets.append(data_df[LABEL_COLUMN][i])\n",
        "\n",
        "    # tokens, masks, segments, 정답 변수 targets를 numpy array로 지정    \n",
        "    tokens = np.array(tokens)\n",
        "    masks = np.array(masks)\n",
        "    segments = np.array(segments)\n",
        "    targets = np.array(targets)\n",
        "\n",
        "    return [tokens, masks, segments], targets\n",
        "\n",
        "# 위에 정의한 convert_data 함수를 불러오는 함수를 정의\n",
        "def load_data(pandas_dataframe):\n",
        "    data_df = pandas_dataframe\n",
        "    data_df[DATA_COLUMN] = data_df[DATA_COLUMN].astype(str)\n",
        "    data_df[LABEL_COLUMN] = data_df[LABEL_COLUMN].astype(int)\n",
        "    data_x, data_y = convert_data(data_df)\n",
        "    return data_x, data_y\n",
        "\n",
        "SEQ_LEN = 128\n",
        "BATCH_SIZE = 20\n",
        "# 긍부정 문장을 포함하고 있는 칼럼\n",
        "DATA_COLUMN = \"document\"\n",
        "# 긍정인지 부정인지를 (1=긍정,0=부정) 포함하고 있는 칼럼\n",
        "LABEL_COLUMN = \"label\"\n",
        "\n",
        "# train 데이터를 버트 인풋에 맞게 변환\n",
        "train_x, train_y = load_data(train)"
      ],
      "execution_count": 19,
      "outputs": [
        {
          "output_type": "stream",
          "text": [
            "100%|██████████| 150000/150000 [00:59<00:00, 2517.37it/s]\n"
          ],
          "name": "stderr"
        }
      ]
    },
    {
      "cell_type": "code",
      "metadata": {
        "id": "9ocb17LekZVn",
        "colab_type": "code",
        "colab": {
          "base_uri": "https://localhost:8080/",
          "height": 34
        },
        "outputId": "6f79ee75-5777-4fe7-abdf-a28b2eefe7b9"
      },
      "source": [
        "# 훈련 성능을 검증한 test 데이터를 버트 인풋에 맞게 변환\n",
        "test_x, test_y = load_data(test)"
      ],
      "execution_count": 20,
      "outputs": [
        {
          "output_type": "stream",
          "text": [
            "100%|██████████| 50000/50000 [00:19<00:00, 2544.53it/s]\n"
          ],
          "name": "stderr"
        }
      ]
    },
    {
      "cell_type": "markdown",
      "metadata": {
        "id": "TEQmCZlstYwA",
        "colab_type": "text"
      },
      "source": [
        "## 버트를 활용한 감성분석 모델 만들기"
      ]
    },
    {
      "cell_type": "markdown",
      "metadata": {
        "id": "hQXkHsfS1L7y",
        "colab_type": "text"
      },
      "source": [
        "버트 훈련을 빠르게 하기 위해, TPU를 사용하도록 하겠습니다.  \n",
        "TPU를 사용하시고 싶지 않으신 분은 그냥 TPU 관련 부분을 실행하지 않으면 되겠습니다."
      ]
    },
    {
      "cell_type": "code",
      "metadata": {
        "id": "pavfaWfyKxR_",
        "colab_type": "code",
        "colab": {
          "base_uri": "https://localhost:8080/",
          "height": 140
        },
        "outputId": "a86f58cc-45a1-47c7-8c1e-71dc37cdd4d8"
      },
      "source": [
        "# TPU 객체 지정\n",
        "TPU = True\n",
        "# TPU = False\n",
        "if TPU:\n",
        "  resolver = tf.distribute.cluster_resolver.TPUClusterResolver(tpu='grpc://' + os.environ['COLAB_TPU_ADDR'])\n",
        "  tf.config.experimental_connect_to_cluster(resolver)\n",
        "  tf.tpu.experimental.initialize_tpu_system(resolver)\n",
        "else:\n",
        "  pass"
      ],
      "execution_count": 21,
      "outputs": [
        {
          "output_type": "stream",
          "text": [
            "INFO:absl:Entering into master device scope: /job:worker/replica:0/task:0/device:CPU:0\n"
          ],
          "name": "stderr"
        },
        {
          "output_type": "stream",
          "text": [
            "INFO:tensorflow:Initializing the TPU system: grpc://10.33.130.106:8470\n"
          ],
          "name": "stdout"
        },
        {
          "output_type": "stream",
          "text": [
            "INFO:tensorflow:Initializing the TPU system: grpc://10.33.130.106:8470\n"
          ],
          "name": "stderr"
        },
        {
          "output_type": "stream",
          "text": [
            "INFO:tensorflow:Clearing out eager caches\n"
          ],
          "name": "stdout"
        },
        {
          "output_type": "stream",
          "text": [
            "INFO:tensorflow:Clearing out eager caches\n"
          ],
          "name": "stderr"
        },
        {
          "output_type": "stream",
          "text": [
            "INFO:tensorflow:Finished initializing TPU system.\n"
          ],
          "name": "stdout"
        },
        {
          "output_type": "stream",
          "text": [
            "INFO:tensorflow:Finished initializing TPU system.\n"
          ],
          "name": "stderr"
        }
      ]
    },
    {
      "cell_type": "code",
      "metadata": {
        "id": "W85BlYfo2Wge",
        "colab_type": "code",
        "colab": {
          "base_uri": "https://localhost:8080/",
          "height": 224,
          "referenced_widgets": [
            "5be181d7c8b240e79a48f98afc622b36",
            "782dc50338614a2e939c07c782406c2c",
            "b5a4ddb5499044a792c51e616be2e323",
            "5623f8fd240a4d798cc6d7a87bcf7977",
            "973b138f3f834ab4a820c81cd3e463b8",
            "b3bd240cc06348f6ab7b297f14f4ed7c",
            "f2989d6d29234afc9d59bbfcb5cd8ddb",
            "b7f8353825044357973a61739e4c260d",
            "b16a3bd7a2864feabab164fc0c08431d",
            "9708b295a4a644388c0897dd87cb43d1",
            "3ab7654f0cf744868a1832bb066ef51b",
            "bee01ce6640c4cc08dd4a8b1d71e5700",
            "d90dd6b585164d49b4486ed19c51285c",
            "184f56d1c8d44d5fb5a5ecf99ea7d51b",
            "768aad66852341f791c4e33b270afc8e",
            "c27103235b8642b88a679337626a2e0d"
          ]
        },
        "outputId": "6b74d80b-f22b-4eac-944b-4be25df39427"
      },
      "source": [
        "model = TFBertModel.from_pretrained('bert-base-multilingual-cased')\n",
        "# 토큰 인풋, 마스크 인풋, 세그먼트 인풋 정의\n",
        "token_inputs = tf.keras.layers.Input((SEQ_LEN,), dtype=tf.int32, name='input_word_ids')\n",
        "mask_inputs = tf.keras.layers.Input((SEQ_LEN,), dtype=tf.int32, name='input_masks')\n",
        "segment_inputs = tf.keras.layers.Input((SEQ_LEN,), dtype=tf.int32, name='input_segment')\n",
        "# 인풋이 [토큰, 마스크, 세그먼트]인 모델 정의\n",
        "bert_outputs = model([token_inputs, mask_inputs, segment_inputs])\n",
        "# 버트 아웃풋의 텐서의 shape은 [batch_size, 문장의 길이, 768]임"
      ],
      "execution_count": 22,
      "outputs": [
        {
          "output_type": "display_data",
          "data": {
            "application/vnd.jupyter.widget-view+json": {
              "model_id": "5be181d7c8b240e79a48f98afc622b36",
              "version_minor": 0,
              "version_major": 2
            },
            "text/plain": [
              "HBox(children=(FloatProgress(value=0.0, description='Downloading', max=625.0, style=ProgressStyle(description_…"
            ]
          },
          "metadata": {
            "tags": []
          }
        },
        {
          "output_type": "stream",
          "text": [
            "\n"
          ],
          "name": "stdout"
        },
        {
          "output_type": "display_data",
          "data": {
            "application/vnd.jupyter.widget-view+json": {
              "model_id": "b16a3bd7a2864feabab164fc0c08431d",
              "version_minor": 0,
              "version_major": 2
            },
            "text/plain": [
              "HBox(children=(FloatProgress(value=0.0, description='Downloading', max=1083389348.0, style=ProgressStyle(descr…"
            ]
          },
          "metadata": {
            "tags": []
          }
        },
        {
          "output_type": "stream",
          "text": [
            "\n"
          ],
          "name": "stdout"
        },
        {
          "output_type": "stream",
          "text": [
            "Some weights of the model checkpoint at bert-base-multilingual-cased were not used when initializing TFBertModel: ['mlm___cls', 'nsp___cls']\n",
            "- This IS expected if you are initializing TFBertModel from the checkpoint of a model trained on another task or with another architecture (e.g. initializing a BertForSequenceClassification model from a BertForPretraining model).\n",
            "- This IS NOT expected if you are initializing TFBertModel from the checkpoint of a model that you expect to be exactly identical (initializing a BertForSequenceClassification model from a BertForSequenceClassification model).\n",
            "All the weights of TFBertModel were initialized from the model checkpoint at bert-base-multilingual-cased.\n",
            "If your task is similar to the task the model of the checkpoint was trained on, you can already use TFBertModel for predictions without further training.\n"
          ],
          "name": "stderr"
        }
      ]
    },
    {
      "cell_type": "code",
      "metadata": {
        "id": "CXKy-Jsg3eKA",
        "colab_type": "code",
        "colab": {}
      },
      "source": [
        "bert_outputs = bert_outputs[1]\n",
        "sentiment_first = tf.keras.layers.Dense(1, activation='sigmoid', kernel_initializer=tf.keras.initializers.TruncatedNormal(stddev=0.02))(bert_outputs)\n",
        "sentiment_model = tf.keras.Model([token_inputs, mask_inputs, segment_inputs], sentiment_first)\n",
        "sentiment_model.compile(optimizer=tf.keras.optimizers.Adam(lr=1.0e-5), loss=tf.keras.losses.BinaryCrossentropy(), metrics = ['accuracy'])"
      ],
      "execution_count": 23,
      "outputs": []
    },
    {
      "cell_type": "code",
      "metadata": {
        "id": "zgxqI81Yoxfr",
        "colab_type": "code",
        "colab": {
          "base_uri": "https://localhost:8080/",
          "height": 249
        },
        "outputId": "4db08357-e66e-45fb-d226-e2ce54439126"
      },
      "source": [
        "from IPython.display import SVG\n",
        "from keras.utils import model_to_dot\n",
        "\n",
        "\n",
        "SVG(model_to_dot(sentiment_model, dpi=65).create(prog='dot', format='svg'))"
      ],
      "execution_count": 90,
      "outputs": [
        {
          "output_type": "execute_result",
          "data": {
            "text/plain": [
              "<IPython.core.display.SVG object>"
            ],
            "image/svg+xml": "<svg height=\"172pt\" viewBox=\"0.00 0.00 557.00 191.00\" width=\"503pt\" xmlns=\"http://www.w3.org/2000/svg\" xmlns:xlink=\"http://www.w3.org/1999/xlink\">\n<g class=\"graph\" id=\"graph0\" transform=\"scale(.9028 .9028) rotate(0) translate(4 187)\">\n<title>G</title>\n<polygon fill=\"#ffffff\" points=\"-4,4 -4,-187 553,-187 553,4 -4,4\" stroke=\"transparent\"/>\n<!-- 139753595902216 -->\n<g class=\"node\" id=\"node1\">\n<title>139753595902216</title>\n<polygon fill=\"none\" points=\"0,-146.5 0,-182.5 179,-182.5 179,-146.5 0,-146.5\" stroke=\"#000000\"/>\n<text fill=\"#000000\" font-family=\"Times,serif\" font-size=\"14.00\" text-anchor=\"middle\" x=\"89.5\" y=\"-160.8\">input_word_ids: InputLayer</text>\n</g>\n<!-- 139753620517888 -->\n<g class=\"node\" id=\"node4\">\n<title>139753620517888</title>\n<polygon fill=\"none\" points=\"178,-73.5 178,-109.5 377,-109.5 377,-73.5 178,-73.5\" stroke=\"#000000\"/>\n<text fill=\"#000000\" font-family=\"Times,serif\" font-size=\"14.00\" text-anchor=\"middle\" x=\"277.5\" y=\"-87.8\">tf_bert_model_1: TFBertModel</text>\n</g>\n<!-- 139753595902216&#45;&gt;139753620517888 -->\n<g class=\"edge\" id=\"edge1\">\n<title>139753595902216-&gt;139753620517888</title>\n<path d=\"M135.9719,-146.4551C161.8448,-136.4087 194.2369,-123.8309 221.5006,-113.2445\" fill=\"none\" stroke=\"#000000\"/>\n<polygon fill=\"#000000\" points=\"222.8561,-116.4728 230.9111,-109.5904 220.3223,-109.9474 222.8561,-116.4728\" stroke=\"#000000\"/>\n</g>\n<!-- 139753593889624 -->\n<g class=\"node\" id=\"node2\">\n<title>139753593889624</title>\n<polygon fill=\"none\" points=\"197,-146.5 197,-182.5 358,-182.5 358,-146.5 197,-146.5\" stroke=\"#000000\"/>\n<text fill=\"#000000\" font-family=\"Times,serif\" font-size=\"14.00\" text-anchor=\"middle\" x=\"277.5\" y=\"-160.8\">input_masks: InputLayer</text>\n</g>\n<!-- 139753593889624&#45;&gt;139753620517888 -->\n<g class=\"edge\" id=\"edge2\">\n<title>139753593889624-&gt;139753620517888</title>\n<path d=\"M277.5,-146.4551C277.5,-138.3828 277.5,-128.6764 277.5,-119.6817\" fill=\"none\" stroke=\"#000000\"/>\n<polygon fill=\"#000000\" points=\"281.0001,-119.5903 277.5,-109.5904 274.0001,-119.5904 281.0001,-119.5903\" stroke=\"#000000\"/>\n</g>\n<!-- 139753593889848 -->\n<g class=\"node\" id=\"node3\">\n<title>139753593889848</title>\n<polygon fill=\"none\" points=\"376,-146.5 376,-182.5 549,-182.5 549,-146.5 376,-146.5\" stroke=\"#000000\"/>\n<text fill=\"#000000\" font-family=\"Times,serif\" font-size=\"14.00\" text-anchor=\"middle\" x=\"462.5\" y=\"-160.8\">input_segment: InputLayer</text>\n</g>\n<!-- 139753593889848&#45;&gt;139753620517888 -->\n<g class=\"edge\" id=\"edge3\">\n<title>139753593889848-&gt;139753620517888</title>\n<path d=\"M416.7697,-146.4551C391.4208,-136.4525 359.7127,-123.9407 332.9576,-113.3833\" fill=\"none\" stroke=\"#000000\"/>\n<polygon fill=\"#000000\" points=\"333.9321,-110.0052 323.3454,-109.5904 331.3627,-116.5166 333.9321,-110.0052\" stroke=\"#000000\"/>\n</g>\n<!-- 139753593890016 -->\n<g class=\"node\" id=\"node5\">\n<title>139753593890016</title>\n<polygon fill=\"none\" points=\"224,-.5 224,-36.5 331,-36.5 331,-.5 224,-.5\" stroke=\"#000000\"/>\n<text fill=\"#000000\" font-family=\"Times,serif\" font-size=\"14.00\" text-anchor=\"middle\" x=\"277.5\" y=\"-14.8\">dense_1: Dense</text>\n</g>\n<!-- 139753620517888&#45;&gt;139753593890016 -->\n<g class=\"edge\" id=\"edge4\">\n<title>139753620517888-&gt;139753593890016</title>\n<path d=\"M277.5,-73.4551C277.5,-65.3828 277.5,-55.6764 277.5,-46.6817\" fill=\"none\" stroke=\"#000000\"/>\n<polygon fill=\"#000000\" points=\"281.0001,-46.5903 277.5,-36.5904 274.0001,-46.5904 281.0001,-46.5903\" stroke=\"#000000\"/>\n</g>\n</g>\n</svg>"
          },
          "metadata": {
            "tags": []
          },
          "execution_count": 90
        }
      ]
    },
    {
      "cell_type": "code",
      "metadata": {
        "id": "l4Si9oO33i70",
        "colab_type": "code",
        "colab": {
          "base_uri": "https://localhost:8080/",
          "height": 369
        },
        "outputId": "7f681457-7a7e-4431-b261-0e616c6e6eae"
      },
      "source": [
        "sentiment_model.summary()"
      ],
      "execution_count": 24,
      "outputs": [
        {
          "output_type": "stream",
          "text": [
            "Model: \"functional_1\"\n",
            "__________________________________________________________________________________________________\n",
            "Layer (type)                    Output Shape         Param #     Connected to                     \n",
            "==================================================================================================\n",
            "input_word_ids (InputLayer)     [(None, 128)]        0                                            \n",
            "__________________________________________________________________________________________________\n",
            "input_masks (InputLayer)        [(None, 128)]        0                                            \n",
            "__________________________________________________________________________________________________\n",
            "input_segment (InputLayer)      [(None, 128)]        0                                            \n",
            "__________________________________________________________________________________________________\n",
            "tf_bert_model (TFBertModel)     ((None, 128, 768), ( 177853440   input_word_ids[0][0]             \n",
            "                                                                 input_masks[0][0]                \n",
            "                                                                 input_segment[0][0]              \n",
            "__________________________________________________________________________________________________\n",
            "dense (Dense)                   (None, 1)            769         tf_bert_model[0][1]              \n",
            "==================================================================================================\n",
            "Total params: 177,854,209\n",
            "Trainable params: 177,854,209\n",
            "Non-trainable params: 0\n",
            "__________________________________________________________________________________________________\n"
          ],
          "name": "stdout"
        }
      ]
    },
    {
      "cell_type": "markdown",
      "metadata": {
        "id": "qUKSC6cC1T5c",
        "colab_type": "text"
      },
      "source": [
        "감정 분석에 맞는 버트 모형을 리턴하는 함수를 정의하도록 하겠습니다.  \n",
        "TPU를 활용하려면 함수로 묶어야 합니다."
      ]
    },
    {
      "cell_type": "code",
      "metadata": {
        "id": "hiH25UmlK-R2",
        "colab_type": "code",
        "colab": {}
      },
      "source": [
        "# Rectified Adam 옵티마이저 사용\n",
        "import tensorflow_addons as tfa\n",
        "opt = tfa.optimizers.RectifiedAdam(lr=1.0e-5, weight_decay=0.0025)"
      ],
      "execution_count": 25,
      "outputs": []
    },
    {
      "cell_type": "code",
      "metadata": {
        "id": "90uerGX4Rl2d",
        "colab_type": "code",
        "colab": {}
      },
      "source": [
        "def create_sentiment_bert():\n",
        "  # 버트 pretrained 모델 로드\n",
        "  model = TFBertModel.from_pretrained('bert-base-multilingual-cased')\n",
        "  # 토큰 인풋, 마스크 인풋, 세그먼트 인풋 정의\n",
        "  token_inputs = tf.keras.layers.Input((SEQ_LEN,), dtype=tf.int32, name='input_word_ids')\n",
        "  mask_inputs = tf.keras.layers.Input((SEQ_LEN,), dtype=tf.int32, name='input_masks')\n",
        "  segment_inputs = tf.keras.layers.Input((SEQ_LEN,), dtype=tf.int32, name='input_segment')\n",
        "  # 인풋이 [토큰, 마스크, 세그먼트]인 모델 정의\n",
        "  bert_outputs = model([token_inputs, mask_inputs, segment_inputs])\n",
        "\n",
        "  bert_outputs = bert_outputs[1]\n",
        "  sentiment_first = tf.keras.layers.Dense(1, activation='sigmoid', kernel_initializer=tf.keras.initializers.TruncatedNormal(stddev=0.02))(bert_outputs)\n",
        "  sentiment_model = tf.keras.Model([token_inputs, mask_inputs, segment_inputs], sentiment_first)\n",
        "\n",
        "  sentiment_model.compile(optimizer=opt, loss=tf.keras.losses.BinaryCrossentropy(), metrics = ['accuracy'])\n",
        "  return sentiment_model"
      ],
      "execution_count": 26,
      "outputs": []
    },
    {
      "cell_type": "markdown",
      "metadata": {
        "id": "e3LWzFdDuAml",
        "colab_type": "text"
      },
      "source": [
        "## 훈련 및 성능 검증"
      ]
    },
    {
      "cell_type": "code",
      "metadata": {
        "id": "70SZBTO0-Fq0",
        "colab_type": "code",
        "colab": {
          "base_uri": "https://localhost:8080/",
          "height": 1000
        },
        "outputId": "12b5bd2e-7f2f-4a5d-ebbd-edf259240b9b"
      },
      "source": [
        "# TPU 실행 시\n",
        "if TPU:\n",
        "  strategy = tf.distribute.experimental.TPUStrategy(resolver)\n",
        "# 함수를 strategy.scope로 묶어 줌\n",
        "  with strategy.scope():\n",
        "    sentiment_model = create_sentiment_bert()\n",
        "  \n",
        "  hist = sentiment_model.fit(train_x, train_y, epochs=10, shuffle=True, batch_size=100, validation_data=(test_x, test_y))\n",
        "else:\n",
        "  # GPU 모드로 훈련시킬 때\n",
        "  sentiment_model = create_sentiment_bert()\n",
        "  \n",
        "  hist = sentiment_model.fit(train_x, train_y, epochs=10, shuffle=True, batch_size=100, validation_data=(test_x, test_y))"
      ],
      "execution_count": 27,
      "outputs": [
        {
          "output_type": "stream",
          "text": [
            "WARNING:absl:`tf.distribute.experimental.TPUStrategy` is deprecated, please use  the non experimental symbol `tf.distribute.TPUStrategy` instead.\n"
          ],
          "name": "stderr"
        },
        {
          "output_type": "stream",
          "text": [
            "INFO:tensorflow:Found TPU system:\n"
          ],
          "name": "stdout"
        },
        {
          "output_type": "stream",
          "text": [
            "INFO:tensorflow:Found TPU system:\n"
          ],
          "name": "stderr"
        },
        {
          "output_type": "stream",
          "text": [
            "INFO:tensorflow:*** Num TPU Cores: 8\n"
          ],
          "name": "stdout"
        },
        {
          "output_type": "stream",
          "text": [
            "INFO:tensorflow:*** Num TPU Cores: 8\n"
          ],
          "name": "stderr"
        },
        {
          "output_type": "stream",
          "text": [
            "INFO:tensorflow:*** Num TPU Workers: 1\n"
          ],
          "name": "stdout"
        },
        {
          "output_type": "stream",
          "text": [
            "INFO:tensorflow:*** Num TPU Workers: 1\n"
          ],
          "name": "stderr"
        },
        {
          "output_type": "stream",
          "text": [
            "INFO:tensorflow:*** Num TPU Cores Per Worker: 8\n"
          ],
          "name": "stdout"
        },
        {
          "output_type": "stream",
          "text": [
            "INFO:tensorflow:*** Num TPU Cores Per Worker: 8\n"
          ],
          "name": "stderr"
        },
        {
          "output_type": "stream",
          "text": [
            "INFO:tensorflow:*** Available Device: _DeviceAttributes(/job:localhost/replica:0/task:0/device:CPU:0, CPU, 0, 0)\n"
          ],
          "name": "stdout"
        },
        {
          "output_type": "stream",
          "text": [
            "INFO:tensorflow:*** Available Device: _DeviceAttributes(/job:localhost/replica:0/task:0/device:CPU:0, CPU, 0, 0)\n"
          ],
          "name": "stderr"
        },
        {
          "output_type": "stream",
          "text": [
            "INFO:tensorflow:*** Available Device: _DeviceAttributes(/job:localhost/replica:0/task:0/device:XLA_CPU:0, XLA_CPU, 0, 0)\n"
          ],
          "name": "stdout"
        },
        {
          "output_type": "stream",
          "text": [
            "INFO:tensorflow:*** Available Device: _DeviceAttributes(/job:localhost/replica:0/task:0/device:XLA_CPU:0, XLA_CPU, 0, 0)\n"
          ],
          "name": "stderr"
        },
        {
          "output_type": "stream",
          "text": [
            "INFO:tensorflow:*** Available Device: _DeviceAttributes(/job:worker/replica:0/task:0/device:CPU:0, CPU, 0, 0)\n"
          ],
          "name": "stdout"
        },
        {
          "output_type": "stream",
          "text": [
            "INFO:tensorflow:*** Available Device: _DeviceAttributes(/job:worker/replica:0/task:0/device:CPU:0, CPU, 0, 0)\n"
          ],
          "name": "stderr"
        },
        {
          "output_type": "stream",
          "text": [
            "INFO:tensorflow:*** Available Device: _DeviceAttributes(/job:worker/replica:0/task:0/device:TPU:0, TPU, 0, 0)\n"
          ],
          "name": "stdout"
        },
        {
          "output_type": "stream",
          "text": [
            "INFO:tensorflow:*** Available Device: _DeviceAttributes(/job:worker/replica:0/task:0/device:TPU:0, TPU, 0, 0)\n"
          ],
          "name": "stderr"
        },
        {
          "output_type": "stream",
          "text": [
            "INFO:tensorflow:*** Available Device: _DeviceAttributes(/job:worker/replica:0/task:0/device:TPU:1, TPU, 0, 0)\n"
          ],
          "name": "stdout"
        },
        {
          "output_type": "stream",
          "text": [
            "INFO:tensorflow:*** Available Device: _DeviceAttributes(/job:worker/replica:0/task:0/device:TPU:1, TPU, 0, 0)\n"
          ],
          "name": "stderr"
        },
        {
          "output_type": "stream",
          "text": [
            "INFO:tensorflow:*** Available Device: _DeviceAttributes(/job:worker/replica:0/task:0/device:TPU:2, TPU, 0, 0)\n"
          ],
          "name": "stdout"
        },
        {
          "output_type": "stream",
          "text": [
            "INFO:tensorflow:*** Available Device: _DeviceAttributes(/job:worker/replica:0/task:0/device:TPU:2, TPU, 0, 0)\n"
          ],
          "name": "stderr"
        },
        {
          "output_type": "stream",
          "text": [
            "INFO:tensorflow:*** Available Device: _DeviceAttributes(/job:worker/replica:0/task:0/device:TPU:3, TPU, 0, 0)\n"
          ],
          "name": "stdout"
        },
        {
          "output_type": "stream",
          "text": [
            "INFO:tensorflow:*** Available Device: _DeviceAttributes(/job:worker/replica:0/task:0/device:TPU:3, TPU, 0, 0)\n"
          ],
          "name": "stderr"
        },
        {
          "output_type": "stream",
          "text": [
            "INFO:tensorflow:*** Available Device: _DeviceAttributes(/job:worker/replica:0/task:0/device:TPU:4, TPU, 0, 0)\n"
          ],
          "name": "stdout"
        },
        {
          "output_type": "stream",
          "text": [
            "INFO:tensorflow:*** Available Device: _DeviceAttributes(/job:worker/replica:0/task:0/device:TPU:4, TPU, 0, 0)\n"
          ],
          "name": "stderr"
        },
        {
          "output_type": "stream",
          "text": [
            "INFO:tensorflow:*** Available Device: _DeviceAttributes(/job:worker/replica:0/task:0/device:TPU:5, TPU, 0, 0)\n"
          ],
          "name": "stdout"
        },
        {
          "output_type": "stream",
          "text": [
            "INFO:tensorflow:*** Available Device: _DeviceAttributes(/job:worker/replica:0/task:0/device:TPU:5, TPU, 0, 0)\n"
          ],
          "name": "stderr"
        },
        {
          "output_type": "stream",
          "text": [
            "INFO:tensorflow:*** Available Device: _DeviceAttributes(/job:worker/replica:0/task:0/device:TPU:6, TPU, 0, 0)\n"
          ],
          "name": "stdout"
        },
        {
          "output_type": "stream",
          "text": [
            "INFO:tensorflow:*** Available Device: _DeviceAttributes(/job:worker/replica:0/task:0/device:TPU:6, TPU, 0, 0)\n"
          ],
          "name": "stderr"
        },
        {
          "output_type": "stream",
          "text": [
            "INFO:tensorflow:*** Available Device: _DeviceAttributes(/job:worker/replica:0/task:0/device:TPU:7, TPU, 0, 0)\n"
          ],
          "name": "stdout"
        },
        {
          "output_type": "stream",
          "text": [
            "INFO:tensorflow:*** Available Device: _DeviceAttributes(/job:worker/replica:0/task:0/device:TPU:7, TPU, 0, 0)\n"
          ],
          "name": "stderr"
        },
        {
          "output_type": "stream",
          "text": [
            "INFO:tensorflow:*** Available Device: _DeviceAttributes(/job:worker/replica:0/task:0/device:TPU_SYSTEM:0, TPU_SYSTEM, 0, 0)\n"
          ],
          "name": "stdout"
        },
        {
          "output_type": "stream",
          "text": [
            "INFO:tensorflow:*** Available Device: _DeviceAttributes(/job:worker/replica:0/task:0/device:TPU_SYSTEM:0, TPU_SYSTEM, 0, 0)\n"
          ],
          "name": "stderr"
        },
        {
          "output_type": "stream",
          "text": [
            "INFO:tensorflow:*** Available Device: _DeviceAttributes(/job:worker/replica:0/task:0/device:XLA_CPU:0, XLA_CPU, 0, 0)\n"
          ],
          "name": "stdout"
        },
        {
          "output_type": "stream",
          "text": [
            "INFO:tensorflow:*** Available Device: _DeviceAttributes(/job:worker/replica:0/task:0/device:XLA_CPU:0, XLA_CPU, 0, 0)\n",
            "Some weights of the model checkpoint at bert-base-multilingual-cased were not used when initializing TFBertModel: ['mlm___cls', 'nsp___cls']\n",
            "- This IS expected if you are initializing TFBertModel from the checkpoint of a model trained on another task or with another architecture (e.g. initializing a BertForSequenceClassification model from a BertForPretraining model).\n",
            "- This IS NOT expected if you are initializing TFBertModel from the checkpoint of a model that you expect to be exactly identical (initializing a BertForSequenceClassification model from a BertForSequenceClassification model).\n",
            "All the weights of TFBertModel were initialized from the model checkpoint at bert-base-multilingual-cased.\n",
            "If your task is similar to the task the model of the checkpoint was trained on, you can already use TFBertModel for predictions without further training.\n"
          ],
          "name": "stderr"
        },
        {
          "output_type": "stream",
          "text": [
            "Epoch 1/10\n",
            "WARNING:tensorflow:From /usr/local/lib/python3.6/dist-packages/tensorflow/python/data/ops/multi_device_iterator_ops.py:601: get_next_as_optional (from tensorflow.python.data.ops.iterator_ops) is deprecated and will be removed in a future version.\n",
            "Instructions for updating:\n",
            "Use `tf.data.Iterator.get_next_as_optional()` instead.\n"
          ],
          "name": "stdout"
        },
        {
          "output_type": "stream",
          "text": [
            "WARNING:tensorflow:From /usr/local/lib/python3.6/dist-packages/tensorflow/python/data/ops/multi_device_iterator_ops.py:601: get_next_as_optional (from tensorflow.python.data.ops.iterator_ops) is deprecated and will be removed in a future version.\n",
            "Instructions for updating:\n",
            "Use `tf.data.Iterator.get_next_as_optional()` instead.\n"
          ],
          "name": "stderr"
        },
        {
          "output_type": "stream",
          "text": [
            "   2/1500 [..............................] - ETA: 9:05:11 - loss: 0.6976 - accuracy: 0.4950 WARNING:tensorflow:Callbacks method `on_train_batch_end` is slow compared to the batch time (batch time: 0.0094s vs `on_train_batch_end` time: 0.1448s). Check your callbacks.\n"
          ],
          "name": "stdout"
        },
        {
          "output_type": "stream",
          "text": [
            "WARNING:tensorflow:Callbacks method `on_train_batch_end` is slow compared to the batch time (batch time: 0.0094s vs `on_train_batch_end` time: 0.1448s). Check your callbacks.\n"
          ],
          "name": "stderr"
        },
        {
          "output_type": "stream",
          "text": [
            "1500/1500 [==============================] - ETA: 0s - loss: 0.4531 - accuracy: 0.7774WARNING:tensorflow:Callbacks method `on_test_batch_end` is slow compared to the batch time (batch time: 0.0042s vs `on_test_batch_end` time: 0.0401s). Check your callbacks.\n"
          ],
          "name": "stdout"
        },
        {
          "output_type": "stream",
          "text": [
            "WARNING:tensorflow:Callbacks method `on_test_batch_end` is slow compared to the batch time (batch time: 0.0042s vs `on_test_batch_end` time: 0.0401s). Check your callbacks.\n"
          ],
          "name": "stderr"
        },
        {
          "output_type": "stream",
          "text": [
            "1500/1500 [==============================] - 310s 207ms/step - loss: 0.4531 - accuracy: 0.7774 - val_loss: 0.3628 - val_accuracy: 0.8352\n",
            "Epoch 2/10\n",
            "1500/1500 [==============================] - 256s 171ms/step - loss: 0.3387 - accuracy: 0.8493 - val_loss: 0.3254 - val_accuracy: 0.8580\n",
            "Epoch 3/10\n",
            "1500/1500 [==============================] - 259s 173ms/step - loss: 0.2955 - accuracy: 0.8703 - val_loss: 0.3167 - val_accuracy: 0.8647\n",
            "Epoch 4/10\n",
            "1500/1500 [==============================] - 261s 174ms/step - loss: 0.2612 - accuracy: 0.8879 - val_loss: 0.3183 - val_accuracy: 0.8706\n",
            "Epoch 5/10\n",
            "1500/1500 [==============================] - 261s 174ms/step - loss: 0.2295 - accuracy: 0.9036 - val_loss: 0.3125 - val_accuracy: 0.8725\n",
            "Epoch 6/10\n",
            "1500/1500 [==============================] - 257s 171ms/step - loss: 0.2022 - accuracy: 0.9163 - val_loss: 0.3322 - val_accuracy: 0.8732\n",
            "Epoch 7/10\n",
            "1500/1500 [==============================] - 256s 171ms/step - loss: 0.1757 - accuracy: 0.9286 - val_loss: 0.3592 - val_accuracy: 0.8739\n",
            "Epoch 8/10\n",
            "1500/1500 [==============================] - 258s 172ms/step - loss: 0.1536 - accuracy: 0.9383 - val_loss: 0.3496 - val_accuracy: 0.8707\n",
            "Epoch 9/10\n",
            "1500/1500 [==============================] - 256s 171ms/step - loss: 0.1343 - accuracy: 0.9470 - val_loss: 0.3877 - val_accuracy: 0.8722\n",
            "Epoch 10/10\n",
            "1500/1500 [==============================] - 258s 172ms/step - loss: 0.1181 - accuracy: 0.9533 - val_loss: 0.4111 - val_accuracy: 0.8685\n"
          ],
          "name": "stdout"
        }
      ]
    },
    {
      "cell_type": "code",
      "metadata": {
        "id": "wPtUtdgjLCQ-",
        "colab_type": "code",
        "colab": {}
      },
      "source": [
        "def show_plots(history, plot_title=None, fig_size=None):\n",
        "    assert type(history) is dict\n",
        "\n",
        "    loss_vals = history['loss']\n",
        "    val_loss_vals = history['val_loss'] if 'val_loss' in history.keys() else None\n",
        "    epochs = range(1, len(history['accuracy']) + 1)\n",
        "\n",
        "    f, ax = plt.subplots(nrows=1, ncols=2, figsize=((16, 4) if fig_size is None else fig_size))\n",
        "\n",
        "    # plot losses on ax[0]\n",
        "    ax[0].plot(epochs, loss_vals, color='navy', marker='o', linestyle=' ', label='Training Loss')\n",
        "    if val_loss_vals is not None:\n",
        "        ax[0].plot(epochs, val_loss_vals, color='firebrick', marker='*', label='Validation Loss')\n",
        "        ax[0].set_title('Training & Validation Loss')\n",
        "        ax[0].legend(loc='best')\n",
        "    else:\n",
        "        ax[0].set_title('Training Loss')\n",
        "\n",
        "    ax[0].set_xlabel('Epochs')\n",
        "    ax[0].set_ylabel('Loss')\n",
        "    ax[0].grid(True)\n",
        "\n",
        "    # plot accuracies\n",
        "    acc_vals = history['accuracy']\n",
        "    val_acc_vals = history['val_accuracy'] if 'val_accuracy' in history.keys() else None\n",
        "\n",
        "    ax[1].plot(epochs, acc_vals, color='navy', marker='o', ls=' ', label='Training Accuracy')\n",
        "    if val_acc_vals is not None:\n",
        "        ax[1].plot(epochs, val_acc_vals, color='firebrick', marker='*', label='Validation Accuracy')\n",
        "        ax[1].set_title('Training & Validation Accuracy')\n",
        "        ax[1].legend(loc='best')\n",
        "    else:\n",
        "        ax[1].set_title('Training Accuracy')\n",
        "\n",
        "    ax[1].set_xlabel('Epochs')\n",
        "    ax[1].set_ylabel('Accuracy')\n",
        "    ax[1].grid(True)\n",
        "\n",
        "    if plot_title is not None:\n",
        "        plt.suptitle(plot_title)\n",
        "\n",
        "    plt.show()\n",
        "    plt.close()\n",
        "\n",
        "    # delete locals from heap before exiting (to save some memory!)\n",
        "    del loss_vals, epochs, acc_vals\n",
        "    if val_loss_vals is not None:\n",
        "        del val_loss_vals\n",
        "    if val_acc_vals is not None:\n",
        "        del val_acc_vals"
      ],
      "execution_count": 33,
      "outputs": []
    },
    {
      "cell_type": "code",
      "metadata": {
        "id": "IpD24sYzLQxL",
        "colab_type": "code",
        "colab": {
          "base_uri": "https://localhost:8080/",
          "height": 308
        },
        "outputId": "e8c753bb-6e65-4a95-a9ec-373b22b4e029"
      },
      "source": [
        "import numpy as np\n",
        "import matplotlib.pyplot as plt\n",
        "# import seaborn as sns\n",
        "import os\n",
        "import itertools\n",
        "show_plots(hist.history, plot_title='Using BERT model with nsmc')"
      ],
      "execution_count": 34,
      "outputs": [
        {
          "output_type": "display_data",
          "data": {
            "image/png": "[encoded data removed]",
            "text/plain": [
              "<Figure size 1152x288 with 2 Axes>"
            ]
          },
          "metadata": {
            "tags": [],
            "needs_background": "light"
          }
        }
      ]
    },
    {
      "cell_type": "markdown",
      "metadata": {
        "id": "ZA0_AFau4lRG",
        "colab_type": "text"
      },
      "source": [
        "훈련한 모델을 path에 저장\n",
        "path는 임의로 지정해 주세요"
      ]
    },
    {
      "cell_type": "code",
      "metadata": {
        "id": "tBOdOlBT8K6l",
        "colab_type": "code",
        "colab": {}
      },
      "source": [
        "# PATH는 임의로 지정\n",
        "path = \"gdrive/My Drive/Colab Notebooks/naver_sentiment\""
      ],
      "execution_count": null,
      "outputs": []
    },
    {
      "cell_type": "code",
      "metadata": {
        "id": "syqCPgVa_sKZ",
        "colab_type": "code",
        "colab": {}
      },
      "source": [
        "# sentiment_model.save_weights(path+\"/huggingface_bert.h5\")\n",
        "# model = sentiment_model.to_json()\n",
        "# with open(\"sentiment_model.json\", \"w\") as json_file : \n",
        "#   json_file.write(model)\n",
        "sentiment_model.save_weights(\"huggingface_bert.h5\")\n"
      ],
      "execution_count": 87,
      "outputs": []
    },
    {
      "cell_type": "markdown",
      "metadata": {
        "id": "J1Gv3m_34nIX",
        "colab_type": "text"
      },
      "source": [
        "훈련 모델의 예측 성능을 F1 SCORE로 체크하기 위한 작업"
      ]
    },
    {
      "cell_type": "code",
      "metadata": {
        "id": "Zjv6RMR1jYIe",
        "colab_type": "code",
        "colab": {}
      },
      "source": [
        "def predict_convert_data(data_df):\n",
        "    global tokenizer\n",
        "    tokens, masks, segments = [], [], []\n",
        "    \n",
        "    for i in tqdm(range(len(data_df))):\n",
        "\n",
        "        token = tokenizer.encode(data_df[DATA_COLUMN][i], max_length=SEQ_LEN, truncation=True, padding='max_length')\n",
        "        num_zeros = token.count(0)\n",
        "        mask = [1]*(SEQ_LEN-num_zeros) + [0]*num_zeros\n",
        "        segment = [0]*SEQ_LEN\n",
        "\n",
        "        tokens.append(token)\n",
        "        segments.append(segment)\n",
        "        masks.append(mask)\n",
        "\n",
        "    tokens = np.array(tokens)\n",
        "    masks = np.array(masks)\n",
        "    segments = np.array(segments)\n",
        "    return [tokens, masks, segments]\n",
        "\n",
        "# 위에 정의한 convert_data 함수를 불러오는 함수를 정의\n",
        "def predict_load_data(pandas_dataframe):\n",
        "    data_df = pandas_dataframe\n",
        "    data_df[DATA_COLUMN] = data_df[DATA_COLUMN].astype(str)\n",
        "    data_x = predict_convert_data(data_df)\n",
        "    return data_x"
      ],
      "execution_count": 35,
      "outputs": []
    },
    {
      "cell_type": "markdown",
      "metadata": {
        "id": "1nyqBoQD4tz1",
        "colab_type": "text"
      },
      "source": [
        "test 데이터 예측하기"
      ]
    },
    {
      "cell_type": "code",
      "metadata": {
        "id": "tzlfYX6xlFEk",
        "colab_type": "code",
        "colab": {
          "base_uri": "https://localhost:8080/",
          "height": 34
        },
        "outputId": "548b2cb9-770d-43d1-8b33-53a3be45ade4"
      },
      "source": [
        "test_set = predict_load_data(test)"
      ],
      "execution_count": 36,
      "outputs": [
        {
          "output_type": "stream",
          "text": [
            "100%|██████████| 50000/50000 [00:16<00:00, 2955.36it/s]\n"
          ],
          "name": "stderr"
        }
      ]
    },
    {
      "cell_type": "code",
      "metadata": {
        "id": "kpMD9Ua_7CNX",
        "colab_type": "code",
        "colab": {
          "base_uri": "https://localhost:8080/",
          "height": 386
        },
        "outputId": "4ae116db-4d6f-4bd7-e2a4-86e29bca5874"
      },
      "source": [
        "test_set"
      ],
      "execution_count": 37,
      "outputs": [
        {
          "output_type": "execute_result",
          "data": {
            "text/plain": [
              "[array([[  101,  8911,   100, ...,     0,     0,     0],\n",
              "        [  101,   144, 11490, ...,     0,     0,     0],\n",
              "        [  101,  9303, 21711, ...,     0,     0,     0],\n",
              "        ...,\n",
              "        [  101,  8924, 67527, ...,     0,     0,     0],\n",
              "        [  101,  9666, 14423, ...,     0,     0,     0],\n",
              "        [  101,  9246, 32537, ...,     0,     0,     0]]),\n",
              " array([[1, 1, 1, ..., 0, 0, 0],\n",
              "        [1, 1, 1, ..., 0, 0, 0],\n",
              "        [1, 1, 1, ..., 0, 0, 0],\n",
              "        ...,\n",
              "        [1, 1, 1, ..., 0, 0, 0],\n",
              "        [1, 1, 1, ..., 0, 0, 0],\n",
              "        [1, 1, 1, ..., 0, 0, 0]]),\n",
              " array([[0, 0, 0, ..., 0, 0, 0],\n",
              "        [0, 0, 0, ..., 0, 0, 0],\n",
              "        [0, 0, 0, ..., 0, 0, 0],\n",
              "        ...,\n",
              "        [0, 0, 0, ..., 0, 0, 0],\n",
              "        [0, 0, 0, ..., 0, 0, 0],\n",
              "        [0, 0, 0, ..., 0, 0, 0]])]"
            ]
          },
          "metadata": {
            "tags": []
          },
          "execution_count": 37
        }
      ]
    },
    {
      "cell_type": "code",
      "metadata": {
        "id": "hkYBo-dklM8O",
        "colab_type": "code",
        "colab": {}
      },
      "source": [
        "with strategy.scope():\n",
        "  preds = sentiment_model.predict(test_set)"
      ],
      "execution_count": 38,
      "outputs": []
    },
    {
      "cell_type": "code",
      "metadata": {
        "id": "rQ_8XP0ylOe2",
        "colab_type": "code",
        "colab": {
          "base_uri": "https://localhost:8080/",
          "height": 140
        },
        "outputId": "08e70860-08f2-478c-df92-947a3adbfaa4"
      },
      "source": [
        "# 부정이면 0, 긍정이면 1 출력\n",
        "preds"
      ],
      "execution_count": 39,
      "outputs": [
        {
          "output_type": "execute_result",
          "data": {
            "text/plain": [
              "array([[9.9162823e-01],\n",
              "       [9.3006390e-01],\n",
              "       [8.6810112e-01],\n",
              "       ...,\n",
              "       [8.8381541e-01],\n",
              "       [5.7512755e-04],\n",
              "       [4.4444266e-01]], dtype=float32)"
            ]
          },
          "metadata": {
            "tags": []
          },
          "execution_count": 39
        }
      ]
    },
    {
      "cell_type": "markdown",
      "metadata": {
        "id": "rAJxrViQ4woJ",
        "colab_type": "text"
      },
      "source": [
        "우리가 훈련한 모델을 F1 SCORE를 바탕으로 성능 측정  \n",
        "F1 SCORE는 precision과 recall을 가중평균하여 계산합니다  \n",
        "recall은 (모델이 TRUE라고 판정한 것의 숫자)/(전체 TRUE의 숫자)  \n",
        "precision은 (진짜 TRUE) / (모델이 TRUE라고 판정한 것의 숫자)"
      ]
    },
    {
      "cell_type": "code",
      "metadata": {
        "id": "3zXTpL9alPml",
        "colab_type": "code",
        "colab": {
          "base_uri": "https://localhost:8080/",
          "height": 175
        },
        "outputId": "fb1cfef5-641d-4b4c-b2da-af9b99be78be"
      },
      "source": [
        "from sklearn.metrics import classification_report\n",
        "y_true = test['label']\n",
        "# F1 Score 확인\n",
        "print(classification_report(y_true, np.round(preds,0)))"
      ],
      "execution_count": 40,
      "outputs": [
        {
          "output_type": "stream",
          "text": [
            "              precision    recall  f1-score   support\n",
            "\n",
            "           0       0.89      0.84      0.86     24827\n",
            "           1       0.85      0.90      0.87     25173\n",
            "\n",
            "    accuracy                           0.87     50000\n",
            "   macro avg       0.87      0.87      0.87     50000\n",
            "weighted avg       0.87      0.87      0.87     50000\n",
            "\n"
          ],
          "name": "stdout"
        }
      ]
    },
    {
      "cell_type": "code",
      "metadata": {
        "id": "03mZ0D7urOl9",
        "colab_type": "code",
        "colab": {}
      },
      "source": [
        "import logging\n",
        "tf.get_logger().setLevel(logging.ERROR)"
      ],
      "execution_count": 41,
      "outputs": []
    },
    {
      "cell_type": "markdown",
      "metadata": {
        "id": "AXJNIUgCuSa7",
        "colab_type": "text"
      },
      "source": [
        "# 실제 데이터로 실습하기"
      ]
    },
    {
      "cell_type": "markdown",
      "metadata": {
        "id": "6U4-Xd9251W6",
        "colab_type": "text"
      },
      "source": [
        "문장 하나 하나를 가지고 실제로 분류해보도록 하겠습니다.  "
      ]
    },
    {
      "cell_type": "code",
      "metadata": {
        "id": "VGNnQs0Tlbiv",
        "colab_type": "code",
        "colab": {}
      },
      "source": [
        "def sentence_convert_data(data):\n",
        "    global tokenizer\n",
        "    tokens, masks, segments = [], [], []\n",
        "    token = tokenizer.encode(data, max_length=SEQ_LEN, truncation=True, padding='max_length')\n",
        "    \n",
        "    num_zeros = token.count(0) \n",
        "    mask = [1]*(SEQ_LEN-num_zeros) + [0]*num_zeros \n",
        "    segment = [0]*SEQ_LEN\n",
        "\n",
        "    tokens.append(token)\n",
        "    segments.append(segment)\n",
        "    masks.append(mask)\n",
        "\n",
        "    tokens = np.array(tokens)\n",
        "    masks = np.array(masks)\n",
        "    segments = np.array(segments)\n",
        "    return [tokens, masks, segments]\n",
        "\n",
        "def movie_evaluation_predict(sentence):\n",
        "    data_x = sentence_convert_data(sentence)\n",
        "    predict = sentiment_model.predict(data_x)\n",
        "    predict_value = np.ravel(predict)\n",
        "    predict_answer = np.round(predict_value,0).item()\n",
        "    \n",
        "    if predict_answer == 0:\n",
        "      print(\"(부정 확률 : %.2f) 부정적인 영화 평가입니다.\" % (1-predict_value))\n",
        "    elif predict_answer == 1:\n",
        "      print(\"(긍정 확률 : %.2f) 긍정적인 영화 평가입니다.\" % predict_value)"
      ],
      "execution_count": 42,
      "outputs": []
    },
    {
      "cell_type": "code",
      "metadata": {
        "id": "goaRkOc6l8mL",
        "colab_type": "code",
        "colab": {
          "base_uri": "https://localhost:8080/",
          "height": 34
        },
        "outputId": "23596716-c0ee-4bc0-b04e-75059f7558f0"
      },
      "source": [
        "movie_evaluation_predict(\"보던거라 계속보고있는데 전개도 느리고 주인공인 은희는 한두컷 나오면서 소극적인모습에 \")"
      ],
      "execution_count": 43,
      "outputs": [
        {
          "output_type": "stream",
          "text": [
            "(부정 확률 : 1.00) 부정적인 영화 평가입니다.\n"
          ],
          "name": "stdout"
        }
      ]
    },
    {
      "cell_type": "code",
      "metadata": {
        "id": "NRpq1b-Zo3Oa",
        "colab_type": "code",
        "colab": {
          "base_uri": "https://localhost:8080/",
          "height": 34
        },
        "outputId": "3a1bdaf4-d5ad-457c-fc47-ffbf8784029d"
      },
      "source": [
        "movie_evaluation_predict(\"스토리는 확실히 실망이였지만 배우들 연기력이 대박이였다 특히 이제훈 연기 정말 ... 이 배우들로 이렇게밖에 만들지 못한 영화는 아쉽지만 배우들 연기력과 사운드는 정말 빛났던 영화. 기대하고 극장에서 보면 많이 실망했겠지만 평점보고 기대없이 집에서 편하게 보면 괜찮아요. 이제훈님 연기력은 최고인 것 같습니다\")"
      ],
      "execution_count": 44,
      "outputs": [
        {
          "output_type": "stream",
          "text": [
            "(긍정 확률 : 1.00) 긍정적인 영화 평가입니다.\n"
          ],
          "name": "stdout"
        }
      ]
    },
    {
      "cell_type": "code",
      "metadata": {
        "id": "gX6aA3NPuVuT",
        "colab_type": "code",
        "colab": {
          "base_uri": "https://localhost:8080/",
          "height": 34
        },
        "outputId": "2a13ae6c-26ba-4bd2-8902-8e4d4c27d8cf"
      },
      "source": [
        "movie_evaluation_predict(\"남친이 이 영화를 보고 헤어지자고한 영화. 자유롭게 살고 싶다고 한다. 내가 무슨 나비를 잡은 덫마냥 나에겐 다시 보고싶지 않은 영화.\")"
      ],
      "execution_count": 45,
      "outputs": [
        {
          "output_type": "stream",
          "text": [
            "(부정 확률 : 0.51) 부정적인 영화 평가입니다.\n"
          ],
          "name": "stdout"
        }
      ]
    },
    {
      "cell_type": "code",
      "metadata": {
        "id": "GealQmsU3hZD",
        "colab_type": "code",
        "colab": {
          "base_uri": "https://localhost:8080/",
          "height": 34
        },
        "outputId": "d8f4c41a-63b5-418e-896d-6fc0f10ba59c"
      },
      "source": [
        "movie_evaluation_predict(\"보통입니다\")"
      ],
      "execution_count": 46,
      "outputs": [
        {
          "output_type": "stream",
          "text": [
            "(긍정 확률 : 0.75) 긍정적인 영화 평가입니다.\n"
          ],
          "name": "stdout"
        }
      ]
    },
    {
      "cell_type": "markdown",
      "metadata": {
        "id": "psxDk9PeDd6O",
        "colab_type": "text"
      },
      "source": [
        "# 새 섹션"
      ]
    },
    {
      "cell_type": "code",
      "metadata": {
        "id": "9mUdjSiA62f9",
        "colab_type": "code",
        "colab": {}
      },
      "source": [
        "test2 = pd.read_table(\"test.txt\")"
      ],
      "execution_count": 47,
      "outputs": []
    },
    {
      "cell_type": "code",
      "metadata": {
        "id": "z_CahUxhEJpo",
        "colab_type": "code",
        "colab": {
          "base_uri": "https://localhost:8080/",
          "height": 195
        },
        "outputId": "71049013-4b12-4448-c4ed-61d8ff6226b2"
      },
      "source": [
        "test2.head(5)"
      ],
      "execution_count": 48,
      "outputs": [
        {
          "output_type": "execute_result",
          "data": {
            "text/html": [
              "<div>\n",
              "<style scoped>\n",
              "    .dataframe tbody tr th:only-of-type {\n",
              "        vertical-align: middle;\n",
              "    }\n",
              "\n",
              "    .dataframe tbody tr th {\n",
              "        vertical-align: top;\n",
              "    }\n",
              "\n",
              "    .dataframe thead th {\n",
              "        text-align: right;\n",
              "    }\n",
              "</style>\n",
              "<table border=\"1\" class=\"dataframe\">\n",
              "  <thead>\n",
              "    <tr style=\"text-align: right;\">\n",
              "      <th></th>\n",
              "      <th>label</th>\n",
              "      <th>document</th>\n",
              "    </tr>\n",
              "  </thead>\n",
              "  <tbody>\n",
              "    <tr>\n",
              "      <th>0</th>\n",
              "      <td>5</td>\n",
              "      <td>다들친절하십니다</td>\n",
              "    </tr>\n",
              "    <tr>\n",
              "      <th>1</th>\n",
              "      <td>4</td>\n",
              "      <td>NaN</td>\n",
              "    </tr>\n",
              "    <tr>\n",
              "      <th>2</th>\n",
              "      <td>3</td>\n",
              "      <td>NaN</td>\n",
              "    </tr>\n",
              "    <tr>\n",
              "      <th>3</th>\n",
              "      <td>4</td>\n",
              "      <td>교수님들께서 잘해주시고 학교 생활도 좋아서 했습니다.</td>\n",
              "    </tr>\n",
              "    <tr>\n",
              "      <th>4</th>\n",
              "      <td>4</td>\n",
              "      <td>만족한다</td>\n",
              "    </tr>\n",
              "  </tbody>\n",
              "</table>\n",
              "</div>"
            ],
            "text/plain": [
              "  label                       document\n",
              "0     5                       다들친절하십니다\n",
              "1     4                            NaN\n",
              "2     3                            NaN\n",
              "3     4  교수님들께서 잘해주시고 학교 생활도 좋아서 했습니다.\n",
              "4     4                           만족한다"
            ]
          },
          "metadata": {
            "tags": []
          },
          "execution_count": 48
        }
      ]
    },
    {
      "cell_type": "code",
      "metadata": {
        "id": "IlQ4nJG6C4nQ",
        "colab_type": "code",
        "colab": {
          "base_uri": "https://localhost:8080/",
          "height": 34
        },
        "outputId": "450db1ba-5f73-4b8f-fecb-41c8bdcec196"
      },
      "source": [
        "test2 = predict_load_data(test2)"
      ],
      "execution_count": 49,
      "outputs": [
        {
          "output_type": "stream",
          "text": [
            "100%|██████████| 679/679 [00:00<00:00, 4156.90it/s]\n"
          ],
          "name": "stderr"
        }
      ]
    },
    {
      "cell_type": "code",
      "metadata": {
        "id": "q9cvD1Q7DL3u",
        "colab_type": "code",
        "colab": {}
      },
      "source": [
        "with strategy.scope():\n",
        "  preds = sentiment_model.predict(test2)"
      ],
      "execution_count": 50,
      "outputs": []
    },
    {
      "cell_type": "code",
      "metadata": {
        "id": "rFuBJkPpFf4F",
        "colab_type": "code",
        "colab": {
          "base_uri": "https://localhost:8080/",
          "height": 1000
        },
        "outputId": "4e3b2c3d-d3f4-4f88-ca54-874670344fb6"
      },
      "source": [
        "preds"
      ],
      "execution_count": 51,
      "outputs": [
        {
          "output_type": "execute_result",
          "data": {
            "text/plain": [
              "array([[2.66820006e-02],\n",
              "       [5.91363013e-01],\n",
              "       [5.91363013e-01],\n",
              "       [9.98434722e-01],\n",
              "       [9.90125656e-01],\n",
              "       [2.12741882e-01],\n",
              "       [1.60895765e-03],\n",
              "       [5.91363013e-01],\n",
              "       [5.91363013e-01],\n",
              "       [5.91363013e-01],\n",
              "       [5.91363013e-01],\n",
              "       [7.46968925e-01],\n",
              "       [5.91363013e-01],\n",
              "       [5.91363013e-01],\n",
              "       [5.91363013e-01],\n",
              "       [5.91363013e-01],\n",
              "       [5.91363013e-01],\n",
              "       [5.91363013e-01],\n",
              "       [5.91363013e-01],\n",
              "       [9.99058425e-01],\n",
              "       [5.91363013e-01],\n",
              "       [5.91363013e-01],\n",
              "       [5.91363013e-01],\n",
              "       [9.93326068e-01],\n",
              "       [1.70219864e-03],\n",
              "       [5.91363013e-01],\n",
              "       [5.91363013e-01],\n",
              "       [5.91363013e-01],\n",
              "       [9.79158938e-01],\n",
              "       [9.70020354e-01],\n",
              "       [5.91363013e-01],\n",
              "       [9.93183970e-01],\n",
              "       [5.91363013e-01],\n",
              "       [3.40725750e-01],\n",
              "       [6.52132869e-01],\n",
              "       [5.88512778e-01],\n",
              "       [6.19926989e-01],\n",
              "       [1.99756250e-01],\n",
              "       [6.39152247e-04],\n",
              "       [5.91363013e-01],\n",
              "       [9.79870081e-01],\n",
              "       [8.38242751e-03],\n",
              "       [5.91363013e-01],\n",
              "       [5.91363013e-01],\n",
              "       [5.91363013e-01],\n",
              "       [9.99044478e-01],\n",
              "       [4.16601896e-01],\n",
              "       [6.64497972e-01],\n",
              "       [5.91363013e-01],\n",
              "       [9.97705996e-01],\n",
              "       [2.81099621e-02],\n",
              "       [2.30039909e-01],\n",
              "       [5.91363013e-01],\n",
              "       [5.91363013e-01],\n",
              "       [5.91363013e-01],\n",
              "       [9.91860449e-01],\n",
              "       [5.91363013e-01],\n",
              "       [9.97043908e-01],\n",
              "       [1.16593055e-02],\n",
              "       [1.40634149e-01],\n",
              "       [9.58274782e-01],\n",
              "       [4.89334809e-03],\n",
              "       [1.43690571e-01],\n",
              "       [5.91363013e-01],\n",
              "       [5.91363013e-01],\n",
              "       [9.97515202e-01],\n",
              "       [2.28531346e-01],\n",
              "       [9.97177243e-01],\n",
              "       [5.91363013e-01],\n",
              "       [5.91363013e-01],\n",
              "       [1.43690571e-01],\n",
              "       [5.91363013e-01],\n",
              "       [1.14679381e-01],\n",
              "       [5.91363013e-01],\n",
              "       [2.06214823e-02],\n",
              "       [5.91363013e-01],\n",
              "       [5.91363013e-01],\n",
              "       [9.99325752e-01],\n",
              "       [5.91363013e-01],\n",
              "       [5.91363013e-01],\n",
              "       [5.65987546e-03],\n",
              "       [6.32045031e-01],\n",
              "       [1.07812658e-02],\n",
              "       [5.91363013e-01],\n",
              "       [5.91363013e-01],\n",
              "       [5.91363013e-01],\n",
              "       [1.90983638e-02],\n",
              "       [9.10187185e-01],\n",
              "       [5.91363013e-01],\n",
              "       [4.88325246e-02],\n",
              "       [5.91363013e-01],\n",
              "       [5.91363013e-01],\n",
              "       [8.40986613e-03],\n",
              "       [5.91363013e-01],\n",
              "       [9.98037159e-01],\n",
              "       [5.91363013e-01],\n",
              "       [5.91363013e-01],\n",
              "       [5.91363013e-01],\n",
              "       [5.91363013e-01],\n",
              "       [5.91363013e-01],\n",
              "       [9.92031693e-01],\n",
              "       [9.84130859e-01],\n",
              "       [5.91363013e-01],\n",
              "       [5.91363013e-01],\n",
              "       [2.87067592e-01],\n",
              "       [5.91363013e-01],\n",
              "       [2.69635618e-02],\n",
              "       [1.40634149e-01],\n",
              "       [5.91363013e-01],\n",
              "       [5.91363013e-01],\n",
              "       [5.91363013e-01],\n",
              "       [9.74167287e-01],\n",
              "       [9.29191291e-01],\n",
              "       [4.55062324e-03],\n",
              "       [1.70272999e-02],\n",
              "       [3.11868578e-01],\n",
              "       [9.98466969e-01],\n",
              "       [1.98634565e-01],\n",
              "       [5.91363013e-01],\n",
              "       [5.91363013e-01],\n",
              "       [5.91363013e-01],\n",
              "       [5.91363013e-01],\n",
              "       [1.18048198e-03],\n",
              "       [5.91363013e-01],\n",
              "       [5.91363013e-01],\n",
              "       [8.36878200e-04],\n",
              "       [3.03748008e-02],\n",
              "       [9.98793423e-01],\n",
              "       [5.91363013e-01],\n",
              "       [5.91363013e-01],\n",
              "       [3.52561533e-01],\n",
              "       [5.91363013e-01],\n",
              "       [7.71977544e-01],\n",
              "       [9.99411464e-01],\n",
              "       [9.37584221e-01],\n",
              "       [1.40634149e-01],\n",
              "       [2.92172898e-02],\n",
              "       [5.91363013e-01],\n",
              "       [5.91363013e-01],\n",
              "       [9.99284804e-01],\n",
              "       [9.69838023e-01],\n",
              "       [5.91363013e-01],\n",
              "       [9.97980654e-01],\n",
              "       [1.40634149e-01],\n",
              "       [7.46968925e-01],\n",
              "       [7.39916265e-02],\n",
              "       [1.43690571e-01],\n",
              "       [5.91363013e-01],\n",
              "       [5.91363013e-01],\n",
              "       [6.13950053e-03],\n",
              "       [5.91363013e-01],\n",
              "       [5.91363013e-01],\n",
              "       [3.24681252e-02],\n",
              "       [8.98700416e-01],\n",
              "       [9.94609594e-01],\n",
              "       [1.13460440e-02],\n",
              "       [9.91163194e-01],\n",
              "       [5.91363013e-01],\n",
              "       [5.91363013e-01],\n",
              "       [9.96733308e-01],\n",
              "       [5.91363013e-01],\n",
              "       [9.97499168e-01],\n",
              "       [9.38825011e-01],\n",
              "       [5.91363013e-01],\n",
              "       [5.91363013e-01],\n",
              "       [5.91363013e-01],\n",
              "       [3.65863889e-02],\n",
              "       [9.88495529e-01],\n",
              "       [1.31828099e-01],\n",
              "       [1.54766506e-02],\n",
              "       [1.93891838e-01],\n",
              "       [1.43690571e-01],\n",
              "       [5.91363013e-01],\n",
              "       [9.79875445e-01],\n",
              "       [2.27050304e-01],\n",
              "       [5.91363013e-01],\n",
              "       [9.96693969e-01],\n",
              "       [5.91363013e-01],\n",
              "       [4.45470095e-01],\n",
              "       [5.91363013e-01],\n",
              "       [7.59925693e-03],\n",
              "       [4.51824129e-01],\n",
              "       [5.91363013e-01],\n",
              "       [5.91363013e-01],\n",
              "       [5.91363013e-01],\n",
              "       [5.91363013e-01],\n",
              "       [5.91363013e-01],\n",
              "       [4.33682144e-01],\n",
              "       [5.91363013e-01],\n",
              "       [5.91363013e-01],\n",
              "       [5.91363013e-01],\n",
              "       [5.91363013e-01],\n",
              "       [5.91363013e-01],\n",
              "       [9.65668738e-01],\n",
              "       [5.91363013e-01],\n",
              "       [5.91363013e-01],\n",
              "       [5.91363013e-01],\n",
              "       [3.94016564e-01],\n",
              "       [6.32045031e-01],\n",
              "       [5.91363013e-01],\n",
              "       [5.91363013e-01],\n",
              "       [5.91363013e-01],\n",
              "       [5.91363013e-01],\n",
              "       [5.91363013e-01],\n",
              "       [5.91363013e-01],\n",
              "       [5.91363013e-01],\n",
              "       [5.91363013e-01],\n",
              "       [5.91363013e-01],\n",
              "       [9.98947561e-01],\n",
              "       [9.89641063e-03],\n",
              "       [5.91363013e-01],\n",
              "       [3.87556553e-02],\n",
              "       [9.98876870e-01],\n",
              "       [6.02054410e-03],\n",
              "       [5.91363013e-01],\n",
              "       [5.91363013e-01],\n",
              "       [5.91363013e-01],\n",
              "       [5.91363013e-01],\n",
              "       [1.49615633e-03],\n",
              "       [7.19790682e-02],\n",
              "       [5.91363013e-01],\n",
              "       [5.91363013e-01],\n",
              "       [9.47023369e-03],\n",
              "       [9.12874355e-04],\n",
              "       [5.91363013e-01],\n",
              "       [5.91363013e-01],\n",
              "       [7.31118679e-01],\n",
              "       [8.82429838e-01],\n",
              "       [5.91363013e-01],\n",
              "       [5.91363013e-01],\n",
              "       [8.91349375e-01],\n",
              "       [5.91363013e-01],\n",
              "       [4.71668271e-03],\n",
              "       [5.91363013e-01],\n",
              "       [5.91363013e-01],\n",
              "       [8.09640884e-01],\n",
              "       [9.98466969e-01],\n",
              "       [5.91363013e-01],\n",
              "       [5.54273603e-03],\n",
              "       [4.72528100e-01],\n",
              "       [5.91363013e-01],\n",
              "       [8.90422091e-02],\n",
              "       [5.91363013e-01],\n",
              "       [5.91363013e-01],\n",
              "       [5.91363013e-01],\n",
              "       [5.91363013e-01],\n",
              "       [5.91363013e-01],\n",
              "       [5.91363013e-01],\n",
              "       [3.35025974e-02],\n",
              "       [1.86402258e-03],\n",
              "       [5.91363013e-01],\n",
              "       [6.25283048e-02],\n",
              "       [5.91363013e-01],\n",
              "       [9.79742348e-01],\n",
              "       [1.96675465e-01],\n",
              "       [5.91363013e-01],\n",
              "       [6.10958925e-03],\n",
              "       [2.93760523e-02],\n",
              "       [5.91363013e-01],\n",
              "       [5.91363013e-01],\n",
              "       [5.91363013e-01],\n",
              "       [5.91363013e-01],\n",
              "       [5.91363013e-01],\n",
              "       [5.91363013e-01],\n",
              "       [5.91363013e-01],\n",
              "       [5.91363013e-01],\n",
              "       [5.91363013e-01],\n",
              "       [5.91363013e-01],\n",
              "       [9.92659390e-01],\n",
              "       [5.91363013e-01],\n",
              "       [5.91363013e-01],\n",
              "       [9.91626203e-01],\n",
              "       [1.23942539e-03],\n",
              "       [9.94470239e-01],\n",
              "       [5.91363013e-01],\n",
              "       [5.91363013e-01],\n",
              "       [7.24062324e-01],\n",
              "       [5.91363013e-01],\n",
              "       [5.91363013e-01],\n",
              "       [5.91363013e-01],\n",
              "       [6.32045031e-01],\n",
              "       [7.42757201e-01],\n",
              "       [5.91363013e-01],\n",
              "       [5.91363013e-01],\n",
              "       [1.02425693e-03],\n",
              "       [9.69421148e-01],\n",
              "       [9.98661757e-01],\n",
              "       [2.02306104e-03],\n",
              "       [5.91363013e-01],\n",
              "       [5.91363013e-01],\n",
              "       [9.75230634e-01],\n",
              "       [5.91363013e-01],\n",
              "       [1.73115909e-01],\n",
              "       [5.91363013e-01],\n",
              "       [5.91363013e-01],\n",
              "       [9.77111757e-01],\n",
              "       [4.43320768e-03],\n",
              "       [1.02306309e-03],\n",
              "       [5.91363013e-01],\n",
              "       [9.04037058e-01],\n",
              "       [3.20858434e-02],\n",
              "       [2.16241716e-03],\n",
              "       [5.91363013e-01],\n",
              "       [5.91363013e-01],\n",
              "       [1.00534573e-01],\n",
              "       [3.64254147e-01],\n",
              "       [2.07392294e-02],\n",
              "       [5.91363013e-01],\n",
              "       [5.91363013e-01],\n",
              "       [5.91363013e-01],\n",
              "       [9.36590601e-03],\n",
              "       [5.91363013e-01],\n",
              "       [5.91363013e-01],\n",
              "       [4.25548613e-01],\n",
              "       [1.43690571e-01],\n",
              "       [9.75490987e-01],\n",
              "       [5.58551192e-01],\n",
              "       [9.04583693e-01],\n",
              "       [9.98793423e-01],\n",
              "       [9.92986917e-01],\n",
              "       [5.91363013e-01],\n",
              "       [5.91363013e-01],\n",
              "       [5.91363013e-01],\n",
              "       [3.22313279e-01],\n",
              "       [5.91363013e-01],\n",
              "       [2.22109482e-01],\n",
              "       [9.61793602e-01],\n",
              "       [9.96617496e-01],\n",
              "       [5.91363013e-01],\n",
              "       [7.76214659e-01],\n",
              "       [5.91363013e-01],\n",
              "       [5.91363013e-01],\n",
              "       [9.99076128e-01],\n",
              "       [5.91363013e-01],\n",
              "       [5.91363013e-01],\n",
              "       [6.69546604e-01],\n",
              "       [5.91363013e-01],\n",
              "       [9.55005293e-04],\n",
              "       [2.26261560e-02],\n",
              "       [9.34087634e-01],\n",
              "       [5.91363013e-01],\n",
              "       [5.91363013e-01],\n",
              "       [5.91363013e-01],\n",
              "       [5.91363013e-01],\n",
              "       [9.97071981e-01],\n",
              "       [6.32045031e-01],\n",
              "       [5.91363013e-01],\n",
              "       [9.97938565e-04],\n",
              "       [9.71070826e-01],\n",
              "       [6.55679207e-04],\n",
              "       [9.99331951e-01],\n",
              "       [8.08062553e-01],\n",
              "       [9.08264101e-01],\n",
              "       [5.91363013e-01],\n",
              "       [5.91363013e-01],\n",
              "       [5.91363013e-01],\n",
              "       [6.72808766e-01],\n",
              "       [5.91363013e-01],\n",
              "       [5.91363013e-01],\n",
              "       [9.98537898e-01],\n",
              "       [8.72542202e-01],\n",
              "       [5.91363013e-01],\n",
              "       [1.63250826e-02],\n",
              "       [5.91363013e-01],\n",
              "       [5.91363013e-01],\n",
              "       [2.34311283e-01],\n",
              "       [9.52027798e-01],\n",
              "       [5.91363013e-01],\n",
              "       [1.43690571e-01],\n",
              "       [5.91363013e-01],\n",
              "       [3.29954959e-02],\n",
              "       [7.77403176e-01],\n",
              "       [1.89691677e-03],\n",
              "       [5.91363013e-01],\n",
              "       [1.40634149e-01],\n",
              "       [5.91363013e-01],\n",
              "       [7.24183992e-02],\n",
              "       [5.91363013e-01],\n",
              "       [5.91363013e-01],\n",
              "       [5.91363013e-01],\n",
              "       [9.15490270e-01],\n",
              "       [1.93392746e-02],\n",
              "       [5.91363013e-01],\n",
              "       [5.91363013e-01],\n",
              "       [5.91363013e-01],\n",
              "       [5.91363013e-01],\n",
              "       [5.91363013e-01],\n",
              "       [4.33903456e-01],\n",
              "       [1.40634149e-01],\n",
              "       [1.34968827e-03],\n",
              "       [9.98178363e-01],\n",
              "       [9.96720374e-01],\n",
              "       [9.94851410e-01],\n",
              "       [5.91363013e-01],\n",
              "       [4.88257647e-01],\n",
              "       [9.97832000e-01],\n",
              "       [9.95947778e-01],\n",
              "       [5.91363013e-01],\n",
              "       [2.20149830e-02],\n",
              "       [5.91363013e-01],\n",
              "       [5.91363013e-01],\n",
              "       [6.61341012e-01],\n",
              "       [5.91363013e-01],\n",
              "       [8.65444362e-01],\n",
              "       [5.91363013e-01],\n",
              "       [9.98793423e-01],\n",
              "       [9.41395998e-01],\n",
              "       [5.91363013e-01],\n",
              "       [5.57293743e-02],\n",
              "       [9.67629671e-01],\n",
              "       [9.98347402e-01],\n",
              "       [5.91363013e-01],\n",
              "       [5.91363013e-01],\n",
              "       [5.91363013e-01],\n",
              "       [5.91363013e-01],\n",
              "       [9.98995721e-01],\n",
              "       [1.64646935e-02],\n",
              "       [5.91363013e-01],\n",
              "       [5.91363013e-01],\n",
              "       [1.47571787e-01],\n",
              "       [5.91363013e-01],\n",
              "       [1.43690571e-01],\n",
              "       [7.59925693e-03],\n",
              "       [9.60537851e-01],\n",
              "       [6.55531764e-01],\n",
              "       [5.91363013e-01],\n",
              "       [5.91363013e-01],\n",
              "       [5.91363013e-01],\n",
              "       [5.91363013e-01],\n",
              "       [5.91363013e-01],\n",
              "       [1.12715445e-01],\n",
              "       [9.99052823e-01],\n",
              "       [9.54119489e-02],\n",
              "       [9.97398973e-01],\n",
              "       [5.91363013e-01],\n",
              "       [5.91363013e-01],\n",
              "       [5.91363013e-01],\n",
              "       [5.91363013e-01],\n",
              "       [9.97122347e-01],\n",
              "       [6.02722503e-02],\n",
              "       [5.91363013e-01],\n",
              "       [9.98609245e-01],\n",
              "       [5.91363013e-01],\n",
              "       [9.80880737e-01],\n",
              "       [5.91363013e-01],\n",
              "       [7.59925693e-03],\n",
              "       [5.91363013e-01],\n",
              "       [5.91363013e-01],\n",
              "       [9.98793423e-01],\n",
              "       [4.25548613e-01],\n",
              "       [5.91363013e-01],\n",
              "       [5.91363013e-01],\n",
              "       [9.98270392e-01],\n",
              "       [5.91363013e-01],\n",
              "       [5.91363013e-01],\n",
              "       [9.27543521e-01],\n",
              "       [8.97260830e-02],\n",
              "       [5.91363013e-01],\n",
              "       [5.91363013e-01],\n",
              "       [5.91363013e-01],\n",
              "       [5.91363013e-01],\n",
              "       [4.91369635e-01],\n",
              "       [5.91363013e-01],\n",
              "       [1.92221720e-02],\n",
              "       [9.98537898e-01],\n",
              "       [3.90079230e-01],\n",
              "       [2.52463333e-02],\n",
              "       [9.93690193e-01],\n",
              "       [1.43690571e-01],\n",
              "       [6.26595691e-02],\n",
              "       [2.06950144e-03],\n",
              "       [5.91363013e-01],\n",
              "       [1.93817727e-02],\n",
              "       [5.91363013e-01],\n",
              "       [5.39501488e-01],\n",
              "       [5.91363013e-01],\n",
              "       [3.37771438e-02],\n",
              "       [9.98644412e-01],\n",
              "       [2.63856724e-02],\n",
              "       [5.91363013e-01],\n",
              "       [1.43690571e-01],\n",
              "       [9.60293651e-01],\n",
              "       [5.91363013e-01],\n",
              "       [9.71623540e-01],\n",
              "       [5.91363013e-01],\n",
              "       [8.74814112e-04],\n",
              "       [1.04139568e-02],\n",
              "       [5.91363013e-01],\n",
              "       [5.91363013e-01],\n",
              "       [5.91363013e-01],\n",
              "       [1.43690571e-01],\n",
              "       [5.91363013e-01],\n",
              "       [5.91363013e-01],\n",
              "       [5.91363013e-01],\n",
              "       [3.04373982e-03],\n",
              "       [9.95216608e-01],\n",
              "       [5.91363013e-01],\n",
              "       [5.91363013e-01],\n",
              "       [5.91363013e-01],\n",
              "       [5.91363013e-01],\n",
              "       [9.02704243e-03],\n",
              "       [1.54175147e-01],\n",
              "       [5.91363013e-01],\n",
              "       [5.91363013e-01],\n",
              "       [9.96169269e-01],\n",
              "       [2.74455920e-03],\n",
              "       [5.91363013e-01],\n",
              "       [1.60529290e-03],\n",
              "       [9.41357389e-02],\n",
              "       [9.96290088e-01],\n",
              "       [5.91363013e-01],\n",
              "       [9.99051154e-01],\n",
              "       [5.91363013e-01],\n",
              "       [1.85721010e-01],\n",
              "       [1.18758832e-03],\n",
              "       [9.24459696e-02],\n",
              "       [9.98211265e-01],\n",
              "       [5.91363013e-01],\n",
              "       [5.91363013e-01],\n",
              "       [1.43690571e-01],\n",
              "       [1.40634149e-01],\n",
              "       [9.98329341e-01],\n",
              "       [8.31218660e-01],\n",
              "       [5.91363013e-01],\n",
              "       [5.91363013e-01],\n",
              "       [3.79674017e-01],\n",
              "       [5.91363013e-01],\n",
              "       [2.23620862e-01],\n",
              "       [5.81769794e-02],\n",
              "       [5.91363013e-01],\n",
              "       [9.98793423e-01],\n",
              "       [5.91363013e-01],\n",
              "       [5.91363013e-01],\n",
              "       [9.99410629e-01],\n",
              "       [1.99060654e-03],\n",
              "       [5.91363013e-01],\n",
              "       [5.91363013e-01],\n",
              "       [5.91363013e-01],\n",
              "       [5.91363013e-01],\n",
              "       [5.91363013e-01],\n",
              "       [1.84949219e-01],\n",
              "       [5.91363013e-01],\n",
              "       [9.37584221e-01],\n",
              "       [2.51958370e-02],\n",
              "       [5.91363013e-01],\n",
              "       [5.91363013e-01],\n",
              "       [1.78522861e-03],\n",
              "       [9.00077999e-01],\n",
              "       [8.76412868e-01],\n",
              "       [9.98290956e-01],\n",
              "       [9.98466969e-01],\n",
              "       [3.74586970e-01],\n",
              "       [9.97015119e-01],\n",
              "       [5.91363013e-01],\n",
              "       [1.16200442e-03],\n",
              "       [5.91363013e-01],\n",
              "       [1.40634149e-01],\n",
              "       [5.91363013e-01],\n",
              "       [5.97329080e-01],\n",
              "       [5.91363013e-01],\n",
              "       [9.80108678e-01],\n",
              "       [9.93547082e-01],\n",
              "       [5.91363013e-01],\n",
              "       [2.26609677e-01],\n",
              "       [5.91363013e-01],\n",
              "       [3.37823480e-02],\n",
              "       [1.43690571e-01],\n",
              "       [3.61747563e-01],\n",
              "       [5.91363013e-01],\n",
              "       [5.91363013e-01],\n",
              "       [9.98835504e-01],\n",
              "       [9.93202448e-01],\n",
              "       [5.91363013e-01],\n",
              "       [5.91363013e-01],\n",
              "       [5.91363013e-01],\n",
              "       [5.91363013e-01],\n",
              "       [2.81832129e-01],\n",
              "       [9.27543521e-01],\n",
              "       [5.91363013e-01],\n",
              "       [9.94729519e-01],\n",
              "       [5.91363013e-01],\n",
              "       [5.91363013e-01],\n",
              "       [9.99433219e-01],\n",
              "       [8.63263786e-01],\n",
              "       [5.91363013e-01],\n",
              "       [9.90380406e-01],\n",
              "       [4.36593235e-01],\n",
              "       [3.91713083e-01],\n",
              "       [5.91363013e-01],\n",
              "       [3.87008712e-02],\n",
              "       [5.91363013e-01],\n",
              "       [9.88289043e-02],\n",
              "       [9.98466969e-01],\n",
              "       [5.91363013e-01],\n",
              "       [1.30196631e-01],\n",
              "       [9.98609245e-01],\n",
              "       [5.91363013e-01],\n",
              "       [9.98466969e-01],\n",
              "       [1.33195927e-03],\n",
              "       [9.98466969e-01],\n",
              "       [4.45144922e-01],\n",
              "       [2.33437285e-01],\n",
              "       [1.54168189e-01],\n",
              "       [7.01443374e-01],\n",
              "       [4.44096267e-01],\n",
              "       [9.98344421e-01],\n",
              "       [5.91363013e-01],\n",
              "       [9.82461631e-01],\n",
              "       [5.91363013e-01],\n",
              "       [9.97218251e-01],\n",
              "       [5.91363013e-01],\n",
              "       [9.93724108e-01],\n",
              "       [5.91363013e-01],\n",
              "       [5.91363013e-01],\n",
              "       [9.50832307e-01],\n",
              "       [5.91363013e-01],\n",
              "       [9.98745620e-01],\n",
              "       [5.91363013e-01],\n",
              "       [5.91363013e-01],\n",
              "       [1.89161149e-03],\n",
              "       [4.95149732e-01],\n",
              "       [8.96072149e-01],\n",
              "       [9.74197268e-01],\n",
              "       [5.91363013e-01],\n",
              "       [4.55151219e-03],\n",
              "       [4.65428472e-01],\n",
              "       [5.91363013e-01],\n",
              "       [3.02874058e-01],\n",
              "       [5.91363013e-01],\n",
              "       [5.91363013e-01],\n",
              "       [5.91363013e-01],\n",
              "       [5.91363013e-01],\n",
              "       [1.84714183e-01],\n",
              "       [2.87958294e-01],\n",
              "       [5.91363013e-01],\n",
              "       [5.91363013e-01],\n",
              "       [3.30068827e-01],\n",
              "       [9.95613456e-01],\n",
              "       [5.91363013e-01],\n",
              "       [5.91363013e-01],\n",
              "       [7.58253872e-01],\n",
              "       [5.91363013e-01],\n",
              "       [1.43690571e-01],\n",
              "       [5.91363013e-01],\n",
              "       [9.91304994e-01],\n",
              "       [9.86695230e-01],\n",
              "       [5.91363013e-01],\n",
              "       [1.95144082e-03],\n",
              "       [1.40634149e-01],\n",
              "       [5.91363013e-01],\n",
              "       [5.91363013e-01],\n",
              "       [5.91363013e-01],\n",
              "       [9.98906612e-01],\n",
              "       [1.87033396e-02],\n",
              "       [2.91784573e-02],\n",
              "       [5.91363013e-01],\n",
              "       [9.93225217e-01],\n",
              "       [9.98268306e-01],\n",
              "       [5.91363013e-01],\n",
              "       [8.88281793e-04],\n",
              "       [9.98981833e-01],\n",
              "       [5.91363013e-01],\n",
              "       [9.94418085e-01],\n",
              "       [9.98197615e-01],\n",
              "       [5.91363013e-01],\n",
              "       [5.91363013e-01],\n",
              "       [5.91363013e-01],\n",
              "       [1.79571018e-03],\n",
              "       [5.91363013e-01],\n",
              "       [9.90125656e-01],\n",
              "       [5.91363013e-01],\n",
              "       [4.29991066e-01],\n",
              "       [5.91363013e-01],\n",
              "       [5.91363013e-01],\n",
              "       [5.91363013e-01],\n",
              "       [9.95138764e-01],\n",
              "       [5.91363013e-01],\n",
              "       [1.20566869e-02],\n",
              "       [1.07315285e-02]], dtype=float32)"
            ]
          },
          "metadata": {
            "tags": []
          },
          "execution_count": 51
        }
      ]
    },
    {
      "cell_type": "code",
      "metadata": {
        "id": "dqGxKJhEFhH0",
        "colab_type": "code",
        "colab": {}
      },
      "source": [
        ""
      ],
      "execution_count": null,
      "outputs": []
    }
  ]
}