{
  "nbformat": 4,
  "nbformat_minor": 0,
  "metadata": {
    "colab": {
      "name": "Fashion-MNIST.ipynb",
      "provenance": [],
      "collapsed_sections": [],
      "authorship_tag": "ABX9TyOoLuJmt09gd9sHyCUNiZk5",
      "include_colab_link": true
    },
    "kernelspec": {
      "name": "python3",
      "display_name": "Python 3"
    },
    "accelerator": "GPU"
  },
  "cells": [
    {
      "cell_type": "markdown",
      "metadata": {
        "id": "view-in-github",
        "colab_type": "text"
      },
      "source": [
        "<a href=\"https://colab.research.google.com/github/4nchez/Colab-Jupiter/blob/master/Fashion_MNIST.ipynb\" target=\"_parent\"><img src=\"https://colab.research.google.com/assets/colab-badge.svg\" alt=\"Open In Colab\"/></a>"
      ]
    },
    {
      "cell_type": "code",
      "metadata": {
        "id": "gzTYj3zpXt3B",
        "colab_type": "code",
        "colab": {
          "base_uri": "https://localhost:8080/",
          "height": 87
        },
        "outputId": "4082e53e-7575-49b6-a7c1-4f0269fc857f"
      },
      "source": [
        "import warnings\n",
        "warnings.simplefilter(action='ignore', category=FutureWarning)\n",
        "\n",
        "import sys\n",
        "import tensorflow as tf\n",
        "import keras\n",
        "from keras.models import Sequential\n",
        "from keras.layers import Dense, Dropout, Flatten\n",
        "from keras.layers.convolutional import Conv2D, MaxPooling2D\n",
        "import numpy as np\n",
        "import matplotlib.pyplot as plt\n",
        "np.random.seed(7)\n",
        "\n",
        "print('Python version : ', sys.version)\n",
        "print('TensorFlow version : ', tf.__version__)\n",
        "print('Keras version : ', keras.__version__)"
      ],
      "execution_count": 15,
      "outputs": [
        {
          "output_type": "stream",
          "text": [
            "Python version :  3.6.9 (default, Jul 17 2020, 12:50:27) \n",
            "[GCC 8.4.0]\n",
            "TensorFlow version :  2.3.0\n",
            "Keras version :  2.4.3\n"
          ],
          "name": "stdout"
        }
      ]
    },
    {
      "cell_type": "code",
      "metadata": {
        "id": "cAslB5NRX2pN",
        "colab_type": "code",
        "colab": {
          "base_uri": "https://localhost:8080/",
          "height": 34
        },
        "outputId": "eda58fbc-088c-4af2-d37f-f465d3c5bdf7"
      },
      "source": [
        "(x_train, y_train), (x_test, y_test) = keras.datasets.fashion_mnist.load_data()\n",
        "\n",
        "print(\"x_train shape:\", x_train.shape, \"y_train shape:\", y_train.shape)"
      ],
      "execution_count": 16,
      "outputs": [
        {
          "output_type": "stream",
          "text": [
            "x_train shape: (60000, 28, 28) y_train shape: (60000,)\n"
          ],
          "name": "stdout"
        }
      ]
    },
    {
      "cell_type": "code",
      "metadata": {
        "id": "dJ6z3iXkX729",
        "colab_type": "code",
        "colab": {
          "base_uri": "https://localhost:8080/",
          "height": 353
        },
        "outputId": "a83a5985-6642-4875-c3a2-f45640552c15"
      },
      "source": [
        "# 학습 셋 크기(shape) - 이미지 크기가 28x28 인 60,000 개의 학습 이미지 데이터, 60,000 개의 레이블\n",
        "print(\"x_train shape:\", x_train.shape, \"y_train shape:\", y_train.shape)\n",
        "\n",
        "# 학습 셋과 테스트 셋의 데이터 개수\n",
        "print(x_train.shape[0], 'train set')\n",
        "print(x_test.shape[0], 'test set')\n",
        "\n",
        "# 레이블 정의\n",
        "fashion_mnist_labels = [\"T-shirt/top\",  # 인덱스 0\n",
        "                        \"Trouser\",      # 인덱스 1\n",
        "                        \"Pullover\",     # 인덱스 2 \n",
        "                        \"Dress\",        # 인덱스 3 \n",
        "                        \"Coat\",         # 인덱스 4\n",
        "                        \"Sandal\",       # 인덱스 5\n",
        "                        \"Shirt\",        # 인덱스 6 \n",
        "                        \"Sneaker\",      # 인덱스 7 \n",
        "                        \"Bag\",          # 인덱스 8 \n",
        "                        \"Ankle boot\"]   # 인덱스 9\n",
        "\n",
        "# 이미지 인덱스, 0에서 59,999 사이의 숫자를 선택할 수 있습니다.\n",
        "img_index = 5\n",
        "# y_train 은 에서 9까지의 레이블 포함합니다.\n",
        "label_index = y_train[img_index]\n",
        "# 레이블 출력해 봅니다. 예를들어 2 Pullover\n",
        "print (\"y = \" + str(label_index) + \" \" +(fashion_mnist_labels[label_index]))\n",
        "# 학습 데이터 중에서 이미지 한 장을 보여줍니다.\n",
        "plt.imshow(x_train[img_index])"
      ],
      "execution_count": 17,
      "outputs": [
        {
          "output_type": "stream",
          "text": [
            "x_train shape: (60000, 28, 28) y_train shape: (60000,)\n",
            "60000 train set\n",
            "10000 test set\n",
            "y = 2 Pullover\n"
          ],
          "name": "stdout"
        },
        {
          "output_type": "execute_result",
          "data": {
            "text/plain": [
              "<matplotlib.image.AxesImage at 0x7f0a31c4a048>"
            ]
          },
          "metadata": {
            "tags": []
          },
          "execution_count": 17
        },
        {
          "output_type": "display_data",
          "data": {
            "image/png": "[encoded data removed]",
            "text/plain": [
              "<Figure size 432x288 with 1 Axes>"
            ]
          },
          "metadata": {
            "tags": [],
            "needs_background": "light"
          }
        }
      ]
    },
    {
      "cell_type": "code",
      "metadata": {
        "id": "GnxXwKoSYQxl",
        "colab_type": "code",
        "colab": {
          "base_uri": "https://localhost:8080/",
          "height": 52
        },
        "outputId": "3a7c0d56-dd34-4ebd-89aa-920008c4e242"
      },
      "source": [
        "x_train = x_train.astype('float32') / 255\n",
        "x_test = x_test.astype('float32') / 255\n",
        "print(\"Number of train data - \" + str(len(x_train)))\n",
        "print(\"Number of test data - \" + str(len(x_test)))"
      ],
      "execution_count": 18,
      "outputs": [
        {
          "output_type": "stream",
          "text": [
            "Number of train data - 60000\n",
            "Number of test data - 10000\n"
          ],
          "name": "stdout"
        }
      ]
    },
    {
      "cell_type": "code",
      "metadata": {
        "id": "JI8BYm6HYaUg",
        "colab_type": "code",
        "colab": {
          "base_uri": "https://localhost:8080/",
          "height": 87
        },
        "outputId": "fd60be25-347f-425c-ccfe-6062ab017466"
      },
      "source": [
        "# 학습 데이터 셋을 학습 / 평가 셋으로 나눈다. (# 학습 셋: 55,000, 검증 셋: 5000)\n",
        "(x_train, x_valid) = x_train[5000:], x_train[:5000] \n",
        "(y_train, y_valid) = y_train[5000:], y_train[:5000]\n",
        "\n",
        "# 입력 이미지의 크기를 (28, 28) 에서 (28, 28, 1) 로 배열 차원을 변경(reshape)\n",
        "w, h = 28, 28\n",
        "x_train = x_train.reshape(x_train.shape[0], w, h, 1)\n",
        "x_valid = x_valid.reshape(x_valid.shape[0], w, h, 1)\n",
        "x_test = x_test.reshape(x_test.shape[0], w, h, 1)\n",
        "\n",
        "# 레이블에 원-핫 인코딩 적용 \n",
        "# 원-핫 벡터는 단 하나의 차원에서만 1이고, 나머지 차원에서는 0인 벡터입니다.\n",
        "y_train = tf.keras.utils.to_categorical(y_train, 10)\n",
        "y_valid = tf.keras.utils.to_categorical(y_valid, 10)\n",
        "y_test = tf.keras.utils.to_categorical(y_test, 10)\n",
        "\n",
        "# 학습 셋 크기\n",
        "print(\"x_train shape:\", x_train.shape, \"y_train shape:\", y_train.shape)\n",
        "\n",
        "# 학습용, 검증용, 테스트용 데이터셋의 개수\n",
        "print(x_train.shape[0], 'train set')\n",
        "print(x_valid.shape[0], 'validation set')\n",
        "print(x_test.shape[0], 'test set')"
      ],
      "execution_count": 19,
      "outputs": [
        {
          "output_type": "stream",
          "text": [
            "x_train shape: (55000, 28, 28, 1) y_train shape: (55000, 10)\n",
            "55000 train set\n",
            "5000 validation set\n",
            "10000 test set\n"
          ],
          "name": "stdout"
        }
      ]
    },
    {
      "cell_type": "code",
      "metadata": {
        "id": "w24kGFcOYbZQ",
        "colab_type": "code",
        "colab": {
          "base_uri": "https://localhost:8080/",
          "height": 510
        },
        "outputId": "1cb8a02c-227d-4160-dac4-811d2b4fd937"
      },
      "source": [
        "model = tf.keras.Sequential()\n",
        "\n",
        "# 신경망의 첫 번째 레이어에서 입력 데이터 크기를 정의해야 합니다.\n",
        "model.add(tf.keras.layers.Conv2D(filters=64, kernel_size=2, padding='same', activation='relu', input_shape=(28,28,1))) \n",
        "model.add(tf.keras.layers.MaxPooling2D(pool_size=2))\n",
        "model.add(tf.keras.layers.Dropout(0.3))\n",
        "\n",
        "model.add(tf.keras.layers.Conv2D(filters=32, kernel_size=2, padding='same', activation='relu'))\n",
        "model.add(tf.keras.layers.MaxPooling2D(pool_size=2))\n",
        "model.add(tf.keras.layers.Dropout(0.3))\n",
        "\n",
        "model.add(tf.keras.layers.Flatten())\n",
        "model.add(tf.keras.layers.Dense(256, activation='relu'))\n",
        "model.add(tf.keras.layers.Dropout(0.5))\n",
        "model.add(tf.keras.layers.Dense(10, activation='softmax'))\n",
        "\n",
        "# model.summary()를 통해 모델을 살펴보세요.\n",
        "model.summary()"
      ],
      "execution_count": null,
      "outputs": [
        {
          "output_type": "stream",
          "text": [
            "Model: \"sequential\"\n",
            "_________________________________________________________________\n",
            "Layer (type)                 Output Shape              Param #   \n",
            "=================================================================\n",
            "conv2d (Conv2D)              (None, 28, 28, 64)        320       \n",
            "_________________________________________________________________\n",
            "max_pooling2d (MaxPooling2D) (None, 14, 14, 64)        0         \n",
            "_________________________________________________________________\n",
            "dropout (Dropout)            (None, 14, 14, 64)        0         \n",
            "_________________________________________________________________\n",
            "conv2d_1 (Conv2D)            (None, 14, 14, 32)        8224      \n",
            "_________________________________________________________________\n",
            "max_pooling2d_1 (MaxPooling2 (None, 7, 7, 32)          0         \n",
            "_________________________________________________________________\n",
            "dropout_1 (Dropout)          (None, 7, 7, 32)          0         \n",
            "_________________________________________________________________\n",
            "flatten (Flatten)            (None, 1568)              0         \n",
            "_________________________________________________________________\n",
            "dense (Dense)                (None, 256)               401664    \n",
            "_________________________________________________________________\n",
            "dropout_2 (Dropout)          (None, 256)               0         \n",
            "_________________________________________________________________\n",
            "dense_1 (Dense)              (None, 10)                2570      \n",
            "=================================================================\n",
            "Total params: 412,778\n",
            "Trainable params: 412,778\n",
            "Non-trainable params: 0\n",
            "_________________________________________________________________\n"
          ],
          "name": "stdout"
        }
      ]
    },
    {
      "cell_type": "code",
      "metadata": {
        "id": "NDOjniwQYhFd",
        "colab_type": "code",
        "colab": {}
      },
      "source": [
        "model.compile(loss='categorical_crossentropy',\n",
        "             optimizer='adam',\n",
        "             metrics=['accuracy'])"
      ],
      "execution_count": null,
      "outputs": []
    },
    {
      "cell_type": "code",
      "metadata": {
        "id": "-uhQadNxYmLf",
        "colab_type": "code",
        "colab": {
          "base_uri": "https://localhost:8080/",
          "height": 738
        },
        "outputId": "08168f87-983b-4b10-d52c-e78886f44cd8"
      },
      "source": [
        "from keras.callbacks import ModelCheckpoint\n",
        "\n",
        "checkpointer = ModelCheckpoint(filepath='model.weights.best.hdf5', verbose = 1, save_best_only=True)\n",
        "model.fit(x_train,\n",
        "         y_train,\n",
        "         batch_size=64,\n",
        "         epochs=10,\n",
        "         validation_data=(x_valid, y_valid),\n",
        "         callbacks=[checkpointer])"
      ],
      "execution_count": null,
      "outputs": [
        {
          "output_type": "stream",
          "text": [
            "Epoch 1/10\n",
            "859/860 [============================>.] - ETA: 0s - loss: 0.6075 - accuracy: 0.7759\n",
            "Epoch 00001: val_loss improved from inf to 0.38604, saving model to model.weights.best.hdf5\n",
            "860/860 [==============================] - 4s 4ms/step - loss: 0.6075 - accuracy: 0.7759 - val_loss: 0.3860 - val_accuracy: 0.8610\n",
            "Epoch 2/10\n",
            "849/860 [============================>.] - ETA: 0s - loss: 0.4177 - accuracy: 0.8479\n",
            "Epoch 00002: val_loss improved from 0.38604 to 0.32437, saving model to model.weights.best.hdf5\n",
            "860/860 [==============================] - 3s 4ms/step - loss: 0.4178 - accuracy: 0.8478 - val_loss: 0.3244 - val_accuracy: 0.8860\n",
            "Epoch 3/10\n",
            "859/860 [============================>.] - ETA: 0s - loss: 0.3769 - accuracy: 0.8630\n",
            "Epoch 00003: val_loss improved from 0.32437 to 0.29861, saving model to model.weights.best.hdf5\n",
            "860/860 [==============================] - 3s 4ms/step - loss: 0.3769 - accuracy: 0.8630 - val_loss: 0.2986 - val_accuracy: 0.8910\n",
            "Epoch 4/10\n",
            "851/860 [============================>.] - ETA: 0s - loss: 0.3516 - accuracy: 0.8714\n",
            "Epoch 00004: val_loss improved from 0.29861 to 0.27967, saving model to model.weights.best.hdf5\n",
            "860/860 [==============================] - 3s 4ms/step - loss: 0.3513 - accuracy: 0.8715 - val_loss: 0.2797 - val_accuracy: 0.8972\n",
            "Epoch 5/10\n",
            "853/860 [============================>.] - ETA: 0s - loss: 0.3322 - accuracy: 0.8788\n",
            "Epoch 00005: val_loss improved from 0.27967 to 0.26812, saving model to model.weights.best.hdf5\n",
            "860/860 [==============================] - 3s 4ms/step - loss: 0.3320 - accuracy: 0.8788 - val_loss: 0.2681 - val_accuracy: 0.9008\n",
            "Epoch 6/10\n",
            "848/860 [============================>.] - ETA: 0s - loss: 0.3163 - accuracy: 0.8829\n",
            "Epoch 00006: val_loss improved from 0.26812 to 0.25443, saving model to model.weights.best.hdf5\n",
            "860/860 [==============================] - 3s 4ms/step - loss: 0.3158 - accuracy: 0.8831 - val_loss: 0.2544 - val_accuracy: 0.9078\n",
            "Epoch 7/10\n",
            "852/860 [============================>.] - ETA: 0s - loss: 0.3001 - accuracy: 0.8901\n",
            "Epoch 00007: val_loss improved from 0.25443 to 0.24426, saving model to model.weights.best.hdf5\n",
            "860/860 [==============================] - 4s 4ms/step - loss: 0.3000 - accuracy: 0.8900 - val_loss: 0.2443 - val_accuracy: 0.9102\n",
            "Epoch 8/10\n",
            "851/860 [============================>.] - ETA: 0s - loss: 0.2918 - accuracy: 0.8921\n",
            "Epoch 00008: val_loss did not improve from 0.24426\n",
            "860/860 [==============================] - 3s 4ms/step - loss: 0.2914 - accuracy: 0.8923 - val_loss: 0.2464 - val_accuracy: 0.9086\n",
            "Epoch 9/10\n",
            "849/860 [============================>.] - ETA: 0s - loss: 0.2824 - accuracy: 0.8964\n",
            "Epoch 00009: val_loss improved from 0.24426 to 0.23752, saving model to model.weights.best.hdf5\n",
            "860/860 [==============================] - 3s 4ms/step - loss: 0.2820 - accuracy: 0.8966 - val_loss: 0.2375 - val_accuracy: 0.9128\n",
            "Epoch 10/10\n",
            "847/860 [============================>.] - ETA: 0s - loss: 0.2718 - accuracy: 0.8985\n",
            "Epoch 00010: val_loss improved from 0.23752 to 0.22898, saving model to model.weights.best.hdf5\n",
            "860/860 [==============================] - 3s 4ms/step - loss: 0.2720 - accuracy: 0.8985 - val_loss: 0.2290 - val_accuracy: 0.9136\n"
          ],
          "name": "stdout"
        },
        {
          "output_type": "execute_result",
          "data": {
            "text/plain": [
              "<tensorflow.python.keras.callbacks.History at 0x7fe29c356630>"
            ]
          },
          "metadata": {
            "tags": []
          },
          "execution_count": 10
        }
      ]
    },
    {
      "cell_type": "code",
      "metadata": {
        "id": "LsoVOjuTYrqn",
        "colab_type": "code",
        "colab": {
          "base_uri": "https://localhost:8080/",
          "height": 52
        },
        "outputId": "22b730e8-45c9-4511-cd23-2fe685714523"
      },
      "source": [
        "# 가장 높은 검증 정확도의 가중치 불러오기\n",
        "model.load_weights('model.weights.best.hdf5')\n",
        "# 테스트 셋을 통해 모델 평가\n",
        "score = model.evaluate(x_test, y_test, verbose=0)\n",
        "\n",
        "# 테스트 정확도\n",
        "print('\\n', 'Test accuracy:', score[1])"
      ],
      "execution_count": null,
      "outputs": [
        {
          "output_type": "stream",
          "text": [
            "\n",
            " Test accuracy: 0.9100000262260437\n"
          ],
          "name": "stdout"
        }
      ]
    },
    {
      "cell_type": "code",
      "metadata": {
        "id": "NP3SGZskY73s",
        "colab_type": "code",
        "colab": {
          "base_uri": "https://localhost:8080/",
          "height": 485
        },
        "outputId": "1fd2aef1-0f15-474b-ff37-416057c42b80"
      },
      "source": [
        "y_hat = model.predict(x_test)\n",
        "\n",
        "# 무작위 샘플로 15 개의 테스트 이미지와 예측 레이블 및 실제 레이블을 그려줍니다.\n",
        "figure = plt.figure(figsize=(20, 8))\n",
        "for i, index in enumerate(np.random.choice(x_test.shape[0], size=15, replace=False)):\n",
        "    ax = figure.add_subplot(3, 5, i + 1, xticks=[], yticks=[])\n",
        "    # 각각의 이미지를 보여줌\n",
        "    ax.imshow(np.squeeze(x_test[index]))\n",
        "    predict_index = np.argmax(y_hat[index])\n",
        "    true_index = np.argmax(y_test[index])\n",
        "    # 각각의 이미지에 예측레이블 (실제레이블) 표시\n",
        "    ax.set_title(\"{} ({})\".format(fashion_mnist_labels[predict_index], \n",
        "                                  fashion_mnist_labels[true_index]),\n",
        "                                  color=(\"green\" if predict_index == true_index else \"red\"))"
      ],
      "execution_count": null,
      "outputs": [
        {
          "output_type": "display_data",
          "data": {
            "image/png": "[encoded data removed]",
            "text/plain": [
              "<Figure size 1440x576 with 15 Axes>"
            ]
          },
          "metadata": {
            "tags": []
          }
        }
      ]
    },
    {
      "cell_type": "code",
      "metadata": {
        "id": "Sq7miW79Y9mM",
        "colab_type": "code",
        "colab": {
          "base_uri": "https://localhost:8080/",
          "height": 879
        },
        "outputId": "43de99fb-5a73-4a22-90d0-8af7299b0486"
      },
      "source": [
        "from tensorflow.keras.applications import VGG16\n",
        " \n",
        "# NOTE: will download the weights for imagenet\n",
        "vgg_base = VGG16(weights='imagenet',    # ImageNet 가중치 사용\n",
        "                 include_top=False,     # Dense layers 사용 안함\n",
        "                 input_shape=(224, 224, 3))\n",
        "print(vgg_base.summary())"
      ],
      "execution_count": null,
      "outputs": [
        {
          "output_type": "stream",
          "text": [
            "Downloading data from https://storage.googleapis.com/tensorflow/keras-applications/vgg16/vgg16_weights_tf_dim_ordering_tf_kernels_notop.h5\n",
            "58892288/58889256 [==============================] - 1s 0us/step\n",
            "Model: \"vgg16\"\n",
            "_________________________________________________________________\n",
            "Layer (type)                 Output Shape              Param #   \n",
            "=================================================================\n",
            "input_1 (InputLayer)         [(None, 224, 224, 3)]     0         \n",
            "_________________________________________________________________\n",
            "block1_conv1 (Conv2D)        (None, 224, 224, 64)      1792      \n",
            "_________________________________________________________________\n",
            "block1_conv2 (Conv2D)        (None, 224, 224, 64)      36928     \n",
            "_________________________________________________________________\n",
            "block1_pool (MaxPooling2D)   (None, 112, 112, 64)      0         \n",
            "_________________________________________________________________\n",
            "block2_conv1 (Conv2D)        (None, 112, 112, 128)     73856     \n",
            "_________________________________________________________________\n",
            "block2_conv2 (Conv2D)        (None, 112, 112, 128)     147584    \n",
            "_________________________________________________________________\n",
            "block2_pool (MaxPooling2D)   (None, 56, 56, 128)       0         \n",
            "_________________________________________________________________\n",
            "block3_conv1 (Conv2D)        (None, 56, 56, 256)       295168    \n",
            "_________________________________________________________________\n",
            "block3_conv2 (Conv2D)        (None, 56, 56, 256)       590080    \n",
            "_________________________________________________________________\n",
            "block3_conv3 (Conv2D)        (None, 56, 56, 256)       590080    \n",
            "_________________________________________________________________\n",
            "block3_pool (MaxPooling2D)   (None, 28, 28, 256)       0         \n",
            "_________________________________________________________________\n",
            "block4_conv1 (Conv2D)        (None, 28, 28, 512)       1180160   \n",
            "_________________________________________________________________\n",
            "block4_conv2 (Conv2D)        (None, 28, 28, 512)       2359808   \n",
            "_________________________________________________________________\n",
            "block4_conv3 (Conv2D)        (None, 28, 28, 512)       2359808   \n",
            "_________________________________________________________________\n",
            "block4_pool (MaxPooling2D)   (None, 14, 14, 512)       0         \n",
            "_________________________________________________________________\n",
            "block5_conv1 (Conv2D)        (None, 14, 14, 512)       2359808   \n",
            "_________________________________________________________________\n",
            "block5_conv2 (Conv2D)        (None, 14, 14, 512)       2359808   \n",
            "_________________________________________________________________\n",
            "block5_conv3 (Conv2D)        (None, 14, 14, 512)       2359808   \n",
            "_________________________________________________________________\n",
            "block5_pool (MaxPooling2D)   (None, 7, 7, 512)         0         \n",
            "=================================================================\n",
            "Total params: 14,714,688\n",
            "Trainable params: 14,714,688\n",
            "Non-trainable params: 0\n",
            "_________________________________________________________________\n",
            "None\n"
          ],
          "name": "stdout"
        }
      ]
    },
    {
      "cell_type": "code",
      "metadata": {
        "id": "qg7JiYbgMP_9",
        "colab_type": "code",
        "colab": {
          "base_uri": "https://localhost:8080/",
          "height": 52
        },
        "outputId": "77c6b726-895d-414b-ef42-b81c36082604"
      },
      "source": [
        "(x_train, y_train), (x_test, y_test) = keras.datasets.fashion_mnist.load_data()\n",
        "print(\"1 x_train shape:\", x_train.shape, \"x_test shape:\", x_test.shape)\n",
        "print(\"y_train shape:\", y_train.shape, \"y_test shape:\", y_test.shape)\n",
        "\n",
        "# x_train=np.dstack([x_train] * 3)\n",
        "# x_test=np.dstack([x_test]*3)\n",
        "# print(\"2 x_train shape:\", x_train.shape, \"x_test shape:\", x_test.shape)\n",
        "\n",
        "# x_train = x_train.reshape(-1, 28,28,1)\n",
        "# x_test= x_test.reshape (-1,28,28,1)\n",
        "# print(\"3 x_train shape:\", x_train.shape, \"x_test shape:\", x_test.shape)\n",
        "\n",
        "# from keras.preprocessing.image import img_to_array, array_to_img\n",
        "# x_train = np.asarray([img_to_array(array_to_img(im, scale=False).resize((48,48))) for im in x_train])\n",
        "# x_test = np.asarray([img_to_array(array_to_img(im, scale=False).resize((48,48))) for im in x_test])\n",
        "# print(\"4 x_train shape:\", x_train.shape, \"x_test shape:\", x_test.shape)\n",
        "\n",
        "# x_train=np.dstack([x_train] * 3)\n",
        "# x_test=np.dstack([x_test]*3)\n",
        "# print(\"5 x_train shape:\", x_train.shape, \"x_test shape:\", x_test.shape)\n",
        "# y_train=np.dstack([y_train] * 3)\n",
        "# y_test=np.dstack([y_test]*3)\n",
        "# y_train=y_train.reshape(180000,)\n",
        "# y_test=y_test.reshape(30000,)\n",
        "# print(\"y_train shape:\", y_train.shape, \"y_test shape:\", y_test.shape)"
      ],
      "execution_count": null,
      "outputs": [
        {
          "output_type": "stream",
          "text": [
            "1 x_train shape: (60000, 28, 28) x_test shape: (10000, 28, 28)\n",
            "y_train shape: (60000,) y_test shape: (10000,)\n"
          ],
          "name": "stdout"
        }
      ]
    },
    {
      "cell_type": "code",
      "metadata": {
        "colab_type": "code",
        "id": "suAn2TroP-DZ",
        "colab": {
          "base_uri": "https://localhost:8080/",
          "height": 353
        },
        "outputId": "8488f241-a14f-4554-e4c9-7a25f13c3126"
      },
      "source": [
        "print(\"x_train shape:\", x_train.shape, \"y_train shape:\", y_train.shape)\n",
        "\n",
        "print(x_train.shape[0], 'train set')\n",
        "print(x_test.shape[0], 'test set')\n",
        "\n",
        "# 레이블 정의\n",
        "fashion_mnist_labels = [\"T-shirt/top\",  # 인덱스 0\n",
        "                        \"Trouser\",      # 인덱스 1\n",
        "                        \"Pullover\",     # 인덱스 2 \n",
        "                        \"Dress\",        # 인덱스 3 \n",
        "                        \"Coat\",         # 인덱스 4\n",
        "                        \"Sandal\",       # 인덱스 5\n",
        "                        \"Shirt\",        # 인덱스 6 \n",
        "                        \"Sneaker\",      # 인덱스 7 \n",
        "                        \"Bag\",          # 인덱스 8 \n",
        "                        \"Ankle boot\"]   # 인덱스 9\n",
        "\n",
        "# 이미지 인덱스, 0에서 59,999 사이의 숫자를 선택할 수 있습니다.\n",
        "img_index = 5\n",
        "# y_train 은 에서 9까지의 레이블 포함합니다.\n",
        "label_index = y_train[img_index]\n",
        "# 레이블 출력해 봅니다. 예를들어 2 Pullover\n",
        "print (\"y = \" + str(label_index) + \" \" +(fashion_mnist_labels[label_index]))\n",
        "# 학습 데이터 중에서 이미지 한 장을 보여줍니다.\n",
        "plt.imshow(x_train[img_index])"
      ],
      "execution_count": null,
      "outputs": [
        {
          "output_type": "stream",
          "text": [
            "x_train shape: (60000, 28, 28) y_train shape: (60000,)\n",
            "60000 train set\n",
            "10000 test set\n",
            "y = 2 Pullover\n"
          ],
          "name": "stdout"
        },
        {
          "output_type": "execute_result",
          "data": {
            "text/plain": [
              "<matplotlib.image.AxesImage at 0x7f0aa59cc8d0>"
            ]
          },
          "metadata": {
            "tags": []
          },
          "execution_count": 6
        },
        {
          "output_type": "display_data",
          "data": {
            "image/png": "[encoded data removed]",
            "text/plain": [
              "<Figure size 432x288 with 1 Axes>"
            ]
          },
          "metadata": {
            "tags": [],
            "needs_background": "light"
          }
        }
      ]
    },
    {
      "cell_type": "code",
      "metadata": {
        "id": "AuIUtDTJFCz4",
        "colab_type": "code",
        "colab": {}
      },
      "source": [
        "from tensorflow.keras.layers import Input, Conv2D, MaxPooling2D\n",
        "from tensorflow.keras.layers import Dense, Flatten\n",
        "from tensorflow.keras.models import Model\n",
        "\n",
        "_input = Input((28,28,1)) \n",
        "\n",
        "conv1  = Conv2D(filters=64, kernel_size=(3,3), padding=\"same\", activation=\"relu\")(_input)\n",
        "conv2  = Conv2D(filters=64, kernel_size=(3,3), padding=\"same\", activation=\"relu\")(conv1)\n",
        "pool1  = MaxPooling2D((2, 2))(conv2)\n",
        "\n",
        "conv3  = Conv2D(filters=128, kernel_size=(3,3), padding=\"same\", activation=\"relu\")(pool1)\n",
        "conv4  = Conv2D(filters=128, kernel_size=(3,3), padding=\"same\", activation=\"relu\")(conv3)\n",
        "pool2  = MaxPooling2D((2, 2))(conv4)\n",
        "\n",
        "conv5  = Conv2D(filters=256, kernel_size=(3,3), padding=\"same\", activation=\"relu\")(pool2)\n",
        "conv6  = Conv2D(filters=256, kernel_size=(3,3), padding=\"same\", activation=\"relu\")(conv5)\n",
        "conv7  = Conv2D(filters=256, kernel_size=(3,3), padding=\"same\", activation=\"relu\")(conv6)\n",
        "pool3  = MaxPooling2D((2, 2))(conv7)\n",
        "\n",
        "conv8  = Conv2D(filters=512, kernel_size=(3,3), padding=\"same\", activation=\"relu\")(pool3)\n",
        "conv9  = Conv2D(filters=512, kernel_size=(3,3), padding=\"same\", activation=\"relu\")(conv8)\n",
        "conv10 = Conv2D(filters=512, kernel_size=(3,3), padding=\"same\", activation=\"relu\")(conv9)\n",
        "pool4  = MaxPooling2D((2, 2))(conv10)\n",
        "\n",
        "conv11 = Conv2D(filters=512, kernel_size=(3,3), padding=\"same\", activation=\"relu\")(pool4)\n",
        "conv12 = Conv2D(filters=512, kernel_size=(3,3), padding=\"same\", activation=\"relu\")(conv11)\n",
        "conv13 = Conv2D(filters=512, kernel_size=(3,3), padding=\"same\", activation=\"relu\")(conv12)\n",
        "# pool5  = MaxPooling2D((2, 2))(conv13)\n",
        "\n",
        "# flat   = Flatten()(pool5)\n",
        "flat   = Flatten()(conv13)\n",
        "dense1 = Dense(4096, activation=\"relu\")(flat)\n",
        "dense2 = Dense(4096, activation=\"relu\")(dense1)\n",
        "output = Dense(10, activation=\"softmax\")(dense2)\n",
        "\n",
        "vgg16_model  = Model(inputs=_input, outputs=output)\n",
        " \n",
        "vgg16_model.compile(loss='categorical_crossentropy',\n",
        "             optimizer='adam',\n",
        "             metrics=['accuracy'])"
      ],
      "execution_count": 45,
      "outputs": []
    },
    {
      "cell_type": "code",
      "metadata": {
        "id": "WyMaY5NDWOA1",
        "colab_type": "code",
        "colab": {
          "base_uri": "https://localhost:8080/",
          "height": 932
        },
        "outputId": "b42c999c-58c4-43bb-9704-721af6a8004b"
      },
      "source": [
        "vgg16_model.summary()"
      ],
      "execution_count": 46,
      "outputs": [
        {
          "output_type": "stream",
          "text": [
            "Model: \"functional_21\"\n",
            "_________________________________________________________________\n",
            "Layer (type)                 Output Shape              Param #   \n",
            "=================================================================\n",
            "input_4 (InputLayer)         [(None, 28, 28, 1)]       0         \n",
            "_________________________________________________________________\n",
            "conv2d_160 (Conv2D)          (None, 28, 28, 64)        640       \n",
            "_________________________________________________________________\n",
            "conv2d_161 (Conv2D)          (None, 28, 28, 64)        36928     \n",
            "_________________________________________________________________\n",
            "max_pooling2d_56 (MaxPooling (None, 14, 14, 64)        0         \n",
            "_________________________________________________________________\n",
            "conv2d_162 (Conv2D)          (None, 14, 14, 128)       73856     \n",
            "_________________________________________________________________\n",
            "conv2d_163 (Conv2D)          (None, 14, 14, 128)       147584    \n",
            "_________________________________________________________________\n",
            "max_pooling2d_57 (MaxPooling (None, 7, 7, 128)         0         \n",
            "_________________________________________________________________\n",
            "conv2d_164 (Conv2D)          (None, 7, 7, 256)         295168    \n",
            "_________________________________________________________________\n",
            "conv2d_165 (Conv2D)          (None, 7, 7, 256)         590080    \n",
            "_________________________________________________________________\n",
            "conv2d_166 (Conv2D)          (None, 7, 7, 256)         590080    \n",
            "_________________________________________________________________\n",
            "max_pooling2d_58 (MaxPooling (None, 3, 3, 256)         0         \n",
            "_________________________________________________________________\n",
            "conv2d_167 (Conv2D)          (None, 3, 3, 512)         1180160   \n",
            "_________________________________________________________________\n",
            "conv2d_168 (Conv2D)          (None, 3, 3, 512)         2359808   \n",
            "_________________________________________________________________\n",
            "conv2d_169 (Conv2D)          (None, 3, 3, 512)         2359808   \n",
            "_________________________________________________________________\n",
            "max_pooling2d_59 (MaxPooling (None, 1, 1, 512)         0         \n",
            "_________________________________________________________________\n",
            "conv2d_170 (Conv2D)          (None, 1, 1, 512)         2359808   \n",
            "_________________________________________________________________\n",
            "conv2d_171 (Conv2D)          (None, 1, 1, 512)         2359808   \n",
            "_________________________________________________________________\n",
            "conv2d_172 (Conv2D)          (None, 1, 1, 512)         2359808   \n",
            "_________________________________________________________________\n",
            "flatten_10 (Flatten)         (None, 512)               0         \n",
            "_________________________________________________________________\n",
            "dense_30 (Dense)             (None, 4096)              2101248   \n",
            "_________________________________________________________________\n",
            "dense_31 (Dense)             (None, 4096)              16781312  \n",
            "_________________________________________________________________\n",
            "dense_32 (Dense)             (None, 10)                40970     \n",
            "=================================================================\n",
            "Total params: 33,637,066\n",
            "Trainable params: 33,637,066\n",
            "Non-trainable params: 0\n",
            "_________________________________________________________________\n"
          ],
          "name": "stdout"
        }
      ]
    },
    {
      "cell_type": "code",
      "metadata": {
        "id": "JM5TPK19WNRD",
        "colab_type": "code",
        "colab": {
          "base_uri": "https://localhost:8080/",
          "height": 776
        },
        "outputId": "5fbaa16a-4cca-4e7a-e1ac-f9c74e296572"
      },
      "source": [
        "from keras.callbacks import ModelCheckpoint\n",
        "\n",
        "checkpointer = ModelCheckpoint(filepath='model.weights.best.hdf5', verbose = 1, save_best_only=True)\n",
        "vgg16_model.fit(x_train,\n",
        "         y_train,\n",
        "         batch_size=64,\n",
        "         epochs=10,\n",
        "         validation_data=(x_valid, y_valid),\n",
        "         callbacks=[checkpointer])"
      ],
      "execution_count": 47,
      "outputs": [
        {
          "output_type": "stream",
          "text": [
            "Epoch 1/10\n",
            "  2/860 [..............................] - ETA: 37s - loss: 2.3017 - accuracy: 0.1406WARNING:tensorflow:Callbacks method `on_train_batch_end` is slow compared to the batch time (batch time: 0.0182s vs `on_train_batch_end` time: 0.0356s). Check your callbacks.\n",
            "860/860 [==============================] - ETA: 0s - loss: 1.0235 - accuracy: 0.5791\n",
            "Epoch 00001: val_loss improved from inf to 0.56734, saving model to model.weights.best.hdf5\n",
            "860/860 [==============================] - 33s 39ms/step - loss: 1.0235 - accuracy: 0.5791 - val_loss: 0.5673 - val_accuracy: 0.7716\n",
            "Epoch 2/10\n",
            "859/860 [============================>.] - ETA: 0s - loss: 0.4849 - accuracy: 0.8235\n",
            "Epoch 00002: val_loss improved from 0.56734 to 0.37070, saving model to model.weights.best.hdf5\n",
            "860/860 [==============================] - 32s 37ms/step - loss: 0.4849 - accuracy: 0.8235 - val_loss: 0.3707 - val_accuracy: 0.8672\n",
            "Epoch 3/10\n",
            "859/860 [============================>.] - ETA: 0s - loss: 0.4035 - accuracy: 0.8619\n",
            "Epoch 00003: val_loss improved from 0.37070 to 0.35910, saving model to model.weights.best.hdf5\n",
            "860/860 [==============================] - 32s 37ms/step - loss: 0.4035 - accuracy: 0.8619 - val_loss: 0.3591 - val_accuracy: 0.8804\n",
            "Epoch 4/10\n",
            "859/860 [============================>.] - ETA: 0s - loss: 0.3116 - accuracy: 0.8894\n",
            "Epoch 00004: val_loss improved from 0.35910 to 0.27754, saving model to model.weights.best.hdf5\n",
            "860/860 [==============================] - 32s 38ms/step - loss: 0.3116 - accuracy: 0.8894 - val_loss: 0.2775 - val_accuracy: 0.9044\n",
            "Epoch 5/10\n",
            "859/860 [============================>.] - ETA: 0s - loss: 0.2885 - accuracy: 0.8996\n",
            "Epoch 00005: val_loss did not improve from 0.27754\n",
            "860/860 [==============================] - 31s 36ms/step - loss: 0.2885 - accuracy: 0.8996 - val_loss: 0.2908 - val_accuracy: 0.8932\n",
            "Epoch 6/10\n",
            "859/860 [============================>.] - ETA: 0s - loss: 0.2588 - accuracy: 0.9109\n",
            "Epoch 00006: val_loss did not improve from 0.27754\n",
            "860/860 [==============================] - 31s 36ms/step - loss: 0.2589 - accuracy: 0.9109 - val_loss: 0.2782 - val_accuracy: 0.9010\n",
            "Epoch 7/10\n",
            "859/860 [============================>.] - ETA: 0s - loss: 0.2472 - accuracy: 0.9147\n",
            "Epoch 00007: val_loss did not improve from 0.27754\n",
            "860/860 [==============================] - 31s 36ms/step - loss: 0.2472 - accuracy: 0.9147 - val_loss: 0.2914 - val_accuracy: 0.9018\n",
            "Epoch 8/10\n",
            "859/860 [============================>.] - ETA: 0s - loss: 0.2186 - accuracy: 0.9239\n",
            "Epoch 00008: val_loss improved from 0.27754 to 0.23929, saving model to model.weights.best.hdf5\n",
            "860/860 [==============================] - 32s 38ms/step - loss: 0.2186 - accuracy: 0.9238 - val_loss: 0.2393 - val_accuracy: 0.9182\n",
            "Epoch 9/10\n",
            "859/860 [============================>.] - ETA: 0s - loss: 0.2092 - accuracy: 0.9277\n",
            "Epoch 00009: val_loss did not improve from 0.23929\n",
            "860/860 [==============================] - 31s 36ms/step - loss: 0.2092 - accuracy: 0.9277 - val_loss: 0.2603 - val_accuracy: 0.9170\n",
            "Epoch 10/10\n",
            "859/860 [============================>.] - ETA: 0s - loss: 0.2030 - accuracy: 0.9307\n",
            "Epoch 00010: val_loss did not improve from 0.23929\n",
            "860/860 [==============================] - 31s 36ms/step - loss: 0.2031 - accuracy: 0.9307 - val_loss: 0.2552 - val_accuracy: 0.9108\n"
          ],
          "name": "stdout"
        },
        {
          "output_type": "execute_result",
          "data": {
            "text/plain": [
              "<tensorflow.python.keras.callbacks.History at 0x7f09f6303748>"
            ]
          },
          "metadata": {
            "tags": []
          },
          "execution_count": 47
        }
      ]
    },
    {
      "cell_type": "code",
      "metadata": {
        "id": "l-wUWofvXlRR",
        "colab_type": "code",
        "colab": {
          "base_uri": "https://localhost:8080/",
          "height": 52
        },
        "outputId": "6f99a5d9-20cd-43a4-90ff-f54669a54e9d"
      },
      "source": [
        "# 가장 높은 검증 정확도의 가중치 불러오기\n",
        "vgg16_model.load_weights('model.weights.best.hdf5')\n",
        "# 테스트 셋을 통해 모델 평가\n",
        "score = vgg16_model.evaluate(x_test, y_test, verbose=0)\n",
        "\n",
        "# 테스트 정확도\n",
        "print('\\n', 'Test accuracy:', score[1])"
      ],
      "execution_count": 48,
      "outputs": [
        {
          "output_type": "stream",
          "text": [
            "\n",
            " Test accuracy: 0.911300003528595\n"
          ],
          "name": "stdout"
        }
      ]
    },
    {
      "cell_type": "markdown",
      "metadata": {
        "id": "J4a5wRpLcHpl",
        "colab_type": "text"
      },
      "source": [
        ">Configuration | Test Acc | %\n",
        ">:---|:---:|:---:|\n",
        ">**Base Model**|0.9100000262260437 | 91.0%\n",
        ">**vgg16 Model**|0.911300003528595 | 91.1%"
      ]
    },
    {
      "cell_type": "code",
      "metadata": {
        "id": "8iHsY9HDF69A",
        "colab_type": "code",
        "colab": {
          "base_uri": "https://localhost:8080/",
          "height": 485
        },
        "outputId": "b2d2e0c1-8a8b-41e2-9fad-3d94b3d9d43d"
      },
      "source": [
        "y_hat = vgg16_model.predict(x_test)\n",
        "\n",
        "# 무작위 샘플로 15 개의 테스트 이미지와 예측 레이블 및 실제 레이블을 그려줍니다.\n",
        "figure = plt.figure(figsize=(20, 8))\n",
        "for i, index in enumerate(np.random.choice(x_test.shape[0], size=15, replace=False)):\n",
        "    ax = figure.add_subplot(3, 5, i + 1, xticks=[], yticks=[])\n",
        "    # 각각의 이미지를 보여줌\n",
        "    ax.imshow(np.squeeze(x_test[index]))\n",
        "    predict_index = np.argmax(y_hat[index])\n",
        "    true_index = np.argmax(y_test[index])\n",
        "    # 각각의 이미지에 예측레이블 (실제레이블) 표시\n",
        "    ax.set_title(\"{} ({})\".format(fashion_mnist_labels[predict_index], \n",
        "                                  fashion_mnist_labels[true_index]),\n",
        "                                  color=(\"green\" if predict_index == true_index else \"red\"))"
      ],
      "execution_count": 49,
      "outputs": [
        {
          "output_type": "display_data",
          "data": {
            "image/png": "[encoded data removed]",
            "text/plain": [
              "<Figure size 1440x576 with 15 Axes>"
            ]
          },
          "metadata": {
            "tags": []
          }
        }
      ]
    },
    {
      "cell_type": "code",
      "metadata": {
        "id": "Ezxu8GA_Xr5A",
        "colab_type": "code",
        "colab": {}
      },
      "source": [
        ""
      ],
      "execution_count": null,
      "outputs": []
    }
  ]
}