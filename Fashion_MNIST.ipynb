{
  "nbformat": 4,
  "nbformat_minor": 0,
  "metadata": {
    "colab": {
      "name": "Fashion-MNIST.ipynb",
      "provenance": [],
      "collapsed_sections": [],
      "authorship_tag": "ABX9TyMHKc0914IKHW/cgyRFFnPE",
      "include_colab_link": true
    },
    "kernelspec": {
      "name": "python3",
      "display_name": "Python 3"
    },
    "accelerator": "GPU"
  },
  "cells": [
    {
      "cell_type": "markdown",
      "metadata": {
        "id": "view-in-github",
        "colab_type": "text"
      },
      "source": [
        "<a href=\"https://colab.research.google.com/github/4nchez/Colab-Jupiter/blob/master/Fashion_MNIST.ipynb\" target=\"_parent\"><img src=\"https://colab.research.google.com/assets/colab-badge.svg\" alt=\"Open In Colab\"/></a>"
      ]
    },
    {
      "cell_type": "code",
      "metadata": {
        "id": "gzTYj3zpXt3B",
        "colab_type": "code",
        "colab": {
          "base_uri": "https://localhost:8080/",
          "height": 87
        },
        "outputId": "c8a8b138-bb42-4bc4-dd17-0a02aa3a5664"
      },
      "source": [
        "import warnings\n",
        "warnings.simplefilter(action='ignore', category=FutureWarning)\n",
        "\n",
        "import sys\n",
        "import tensorflow as tf\n",
        "import keras\n",
        "from keras.models import Sequential\n",
        "from keras.layers import Dense, Dropout, Flatten\n",
        "from keras.layers.convolutional import Conv2D, MaxPooling2D\n",
        "import numpy as np\n",
        "import matplotlib.pyplot as plt\n",
        "np.random.seed(7)\n",
        "\n",
        "print('Python version : ', sys.version)\n",
        "print('TensorFlow version : ', tf.__version__)\n",
        "print('Keras version : ', keras.__version__)"
      ],
      "execution_count": 3,
      "outputs": [
        {
          "output_type": "stream",
          "text": [
            "Python version :  3.6.9 (default, Jul 17 2020, 12:50:27) \n",
            "[GCC 8.4.0]\n",
            "TensorFlow version :  2.3.0\n",
            "Keras version :  2.4.3\n"
          ],
          "name": "stdout"
        }
      ]
    },
    {
      "cell_type": "code",
      "metadata": {
        "id": "cAslB5NRX2pN",
        "colab_type": "code",
        "colab": {
          "base_uri": "https://localhost:8080/",
          "height": 175
        },
        "outputId": "f82b52ac-a729-4850-c061-b63f6279986d"
      },
      "source": [
        "(x_train, y_train), (x_test, y_test) = keras.datasets.fashion_mnist.load_data()\n",
        "\n",
        "print(\"x_train shape:\", x_train.shape, \"y_train shape:\", y_train.shape)"
      ],
      "execution_count": 4,
      "outputs": [
        {
          "output_type": "stream",
          "text": [
            "Downloading data from https://storage.googleapis.com/tensorflow/tf-keras-datasets/train-labels-idx1-ubyte.gz\n",
            "32768/29515 [=================================] - 0s 0us/step\n",
            "Downloading data from https://storage.googleapis.com/tensorflow/tf-keras-datasets/train-images-idx3-ubyte.gz\n",
            "26427392/26421880 [==============================] - 1s 0us/step\n",
            "Downloading data from https://storage.googleapis.com/tensorflow/tf-keras-datasets/t10k-labels-idx1-ubyte.gz\n",
            "8192/5148 [===============================================] - 0s 0us/step\n",
            "Downloading data from https://storage.googleapis.com/tensorflow/tf-keras-datasets/t10k-images-idx3-ubyte.gz\n",
            "4423680/4422102 [==============================] - 0s 0us/step\n",
            "x_train shape: (60000, 28, 28) y_train shape: (60000,)\n"
          ],
          "name": "stdout"
        }
      ]
    },
    {
      "cell_type": "code",
      "metadata": {
        "id": "dJ6z3iXkX729",
        "colab_type": "code",
        "colab": {
          "base_uri": "https://localhost:8080/",
          "height": 353
        },
        "outputId": "c4121d43-626c-495d-e923-4259e119a11b"
      },
      "source": [
        "# 학습 셋 크기(shape) - 이미지 크기가 28x28 인 60,000 개의 학습 이미지 데이터, 60,000 개의 레이블\n",
        "print(\"x_train shape:\", x_train.shape, \"y_train shape:\", y_train.shape)\n",
        "\n",
        "# 학습 셋과 테스트 셋의 데이터 개수\n",
        "print(x_train.shape[0], 'train set')\n",
        "print(x_test.shape[0], 'test set')\n",
        "\n",
        "# 레이블 정의\n",
        "fashion_mnist_labels = [\"T-shirt/top\",  # 인덱스 0\n",
        "                        \"Trouser\",      # 인덱스 1\n",
        "                        \"Pullover\",     # 인덱스 2 \n",
        "                        \"Dress\",        # 인덱스 3 \n",
        "                        \"Coat\",         # 인덱스 4\n",
        "                        \"Sandal\",       # 인덱스 5\n",
        "                        \"Shirt\",        # 인덱스 6 \n",
        "                        \"Sneaker\",      # 인덱스 7 \n",
        "                        \"Bag\",          # 인덱스 8 \n",
        "                        \"Ankle boot\"]   # 인덱스 9\n",
        "\n",
        "# 이미지 인덱스, 0에서 59,999 사이의 숫자를 선택할 수 있습니다.\n",
        "img_index = 5\n",
        "# y_train 은 에서 9까지의 레이블 포함합니다.\n",
        "label_index = y_train[img_index]\n",
        "# 레이블 출력해 봅니다. 예를들어 2 Pullover\n",
        "print (\"y = \" + str(label_index) + \" \" +(fashion_mnist_labels[label_index]))\n",
        "# 학습 데이터 중에서 이미지 한 장을 보여줍니다.\n",
        "plt.imshow(x_train[img_index])"
      ],
      "execution_count": 5,
      "outputs": [
        {
          "output_type": "stream",
          "text": [
            "x_train shape: (60000, 28, 28) y_train shape: (60000,)\n",
            "60000 train set\n",
            "10000 test set\n",
            "y = 2 Pullover\n"
          ],
          "name": "stdout"
        },
        {
          "output_type": "execute_result",
          "data": {
            "text/plain": [
              "<matplotlib.image.AxesImage at 0x7fe2f9360e80>"
            ]
          },
          "metadata": {
            "tags": []
          },
          "execution_count": 5
        },
        {
          "output_type": "display_data",
          "data": {
            "image/png": "[encoded data removed]",
            "text/plain": [
              "<Figure size 432x288 with 1 Axes>"
            ]
          },
          "metadata": {
            "tags": [],
            "needs_background": "light"
          }
        }
      ]
    },
    {
      "cell_type": "code",
      "metadata": {
        "id": "GnxXwKoSYQxl",
        "colab_type": "code",
        "colab": {
          "base_uri": "https://localhost:8080/",
          "height": 52
        },
        "outputId": "76ee38ef-cc48-460c-cd03-dfe55e8903c5"
      },
      "source": [
        "x_train = x_train.astype('float32') / 255\n",
        "x_test = x_test.astype('float32') / 255\n",
        "print(\"Number of train data - \" + str(len(x_train)))\n",
        "print(\"Number of test data - \" + str(len(x_test)))"
      ],
      "execution_count": 6,
      "outputs": [
        {
          "output_type": "stream",
          "text": [
            "Number of train data - 60000\n",
            "Number of test data - 10000\n"
          ],
          "name": "stdout"
        }
      ]
    },
    {
      "cell_type": "code",
      "metadata": {
        "id": "JI8BYm6HYaUg",
        "colab_type": "code",
        "colab": {
          "base_uri": "https://localhost:8080/",
          "height": 87
        },
        "outputId": "70360987-605a-4ea8-a0fe-bcd3a20de1a1"
      },
      "source": [
        "# 학습 데이터 셋을 학습 / 평가 셋으로 나눈다. (# 학습 셋: 55,000, 검증 셋: 5000)\n",
        "(x_train, x_valid) = x_train[5000:], x_train[:5000] \n",
        "(y_train, y_valid) = y_train[5000:], y_train[:5000]\n",
        "\n",
        "# 입력 이미지의 크기를 (28, 28) 에서 (28, 28, 1) 로 배열 차원을 변경(reshape)\n",
        "w, h = 28, 28\n",
        "x_train = x_train.reshape(x_train.shape[0], w, h, 1)\n",
        "x_valid = x_valid.reshape(x_valid.shape[0], w, h, 1)\n",
        "x_test = x_test.reshape(x_test.shape[0], w, h, 1)\n",
        "\n",
        "# 레이블에 원-핫 인코딩 적용 \n",
        "# 원-핫 벡터는 단 하나의 차원에서만 1이고, 나머지 차원에서는 0인 벡터입니다.\n",
        "y_train = tf.keras.utils.to_categorical(y_train, 10)\n",
        "y_valid = tf.keras.utils.to_categorical(y_valid, 10)\n",
        "y_test = tf.keras.utils.to_categorical(y_test, 10)\n",
        "\n",
        "# 학습 셋 크기\n",
        "print(\"x_train shape:\", x_train.shape, \"y_train shape:\", y_train.shape)\n",
        "\n",
        "# 학습용, 검증용, 테스트용 데이터셋의 개수\n",
        "print(x_train.shape[0], 'train set')\n",
        "print(x_valid.shape[0], 'validation set')\n",
        "print(x_test.shape[0], 'test set')"
      ],
      "execution_count": 7,
      "outputs": [
        {
          "output_type": "stream",
          "text": [
            "x_train shape: (55000, 28, 28, 1) y_train shape: (55000, 10)\n",
            "55000 train set\n",
            "5000 validation set\n",
            "10000 test set\n"
          ],
          "name": "stdout"
        }
      ]
    },
    {
      "cell_type": "code",
      "metadata": {
        "id": "w24kGFcOYbZQ",
        "colab_type": "code",
        "colab": {
          "base_uri": "https://localhost:8080/",
          "height": 510
        },
        "outputId": "1cb8a02c-227d-4160-dac4-811d2b4fd937"
      },
      "source": [
        "model = tf.keras.Sequential()\n",
        "\n",
        "# 신경망의 첫 번째 레이어에서 입력 데이터 크기를 정의해야 합니다.\n",
        "model.add(tf.keras.layers.Conv2D(filters=64, kernel_size=2, padding='same', activation='relu', input_shape=(28,28,1))) \n",
        "model.add(tf.keras.layers.MaxPooling2D(pool_size=2))\n",
        "model.add(tf.keras.layers.Dropout(0.3))\n",
        "\n",
        "model.add(tf.keras.layers.Conv2D(filters=32, kernel_size=2, padding='same', activation='relu'))\n",
        "model.add(tf.keras.layers.MaxPooling2D(pool_size=2))\n",
        "model.add(tf.keras.layers.Dropout(0.3))\n",
        "\n",
        "model.add(tf.keras.layers.Flatten())\n",
        "model.add(tf.keras.layers.Dense(256, activation='relu'))\n",
        "model.add(tf.keras.layers.Dropout(0.5))\n",
        "model.add(tf.keras.layers.Dense(10, activation='softmax'))\n",
        "\n",
        "# model.summary()를 통해 모델을 살펴보세요.\n",
        "model.summary()"
      ],
      "execution_count": 8,
      "outputs": [
        {
          "output_type": "stream",
          "text": [
            "Model: \"sequential\"\n",
            "_________________________________________________________________\n",
            "Layer (type)                 Output Shape              Param #   \n",
            "=================================================================\n",
            "conv2d (Conv2D)              (None, 28, 28, 64)        320       \n",
            "_________________________________________________________________\n",
            "max_pooling2d (MaxPooling2D) (None, 14, 14, 64)        0         \n",
            "_________________________________________________________________\n",
            "dropout (Dropout)            (None, 14, 14, 64)        0         \n",
            "_________________________________________________________________\n",
            "conv2d_1 (Conv2D)            (None, 14, 14, 32)        8224      \n",
            "_________________________________________________________________\n",
            "max_pooling2d_1 (MaxPooling2 (None, 7, 7, 32)          0         \n",
            "_________________________________________________________________\n",
            "dropout_1 (Dropout)          (None, 7, 7, 32)          0         \n",
            "_________________________________________________________________\n",
            "flatten (Flatten)            (None, 1568)              0         \n",
            "_________________________________________________________________\n",
            "dense (Dense)                (None, 256)               401664    \n",
            "_________________________________________________________________\n",
            "dropout_2 (Dropout)          (None, 256)               0         \n",
            "_________________________________________________________________\n",
            "dense_1 (Dense)              (None, 10)                2570      \n",
            "=================================================================\n",
            "Total params: 412,778\n",
            "Trainable params: 412,778\n",
            "Non-trainable params: 0\n",
            "_________________________________________________________________\n"
          ],
          "name": "stdout"
        }
      ]
    },
    {
      "cell_type": "code",
      "metadata": {
        "id": "NDOjniwQYhFd",
        "colab_type": "code",
        "colab": {}
      },
      "source": [
        "model.compile(loss='categorical_crossentropy',\n",
        "             optimizer='adam',\n",
        "             metrics=['accuracy'])"
      ],
      "execution_count": 9,
      "outputs": []
    },
    {
      "cell_type": "code",
      "metadata": {
        "id": "-uhQadNxYmLf",
        "colab_type": "code",
        "colab": {
          "base_uri": "https://localhost:8080/",
          "height": 738
        },
        "outputId": "08168f87-983b-4b10-d52c-e78886f44cd8"
      },
      "source": [
        "from keras.callbacks import ModelCheckpoint\n",
        "\n",
        "checkpointer = ModelCheckpoint(filepath='model.weights.best.hdf5', verbose = 1, save_best_only=True)\n",
        "model.fit(x_train,\n",
        "         y_train,\n",
        "         batch_size=64,\n",
        "         epochs=10,\n",
        "         validation_data=(x_valid, y_valid),\n",
        "         callbacks=[checkpointer])"
      ],
      "execution_count": 10,
      "outputs": [
        {
          "output_type": "stream",
          "text": [
            "Epoch 1/10\n",
            "859/860 [============================>.] - ETA: 0s - loss: 0.6075 - accuracy: 0.7759\n",
            "Epoch 00001: val_loss improved from inf to 0.38604, saving model to model.weights.best.hdf5\n",
            "860/860 [==============================] - 4s 4ms/step - loss: 0.6075 - accuracy: 0.7759 - val_loss: 0.3860 - val_accuracy: 0.8610\n",
            "Epoch 2/10\n",
            "849/860 [============================>.] - ETA: 0s - loss: 0.4177 - accuracy: 0.8479\n",
            "Epoch 00002: val_loss improved from 0.38604 to 0.32437, saving model to model.weights.best.hdf5\n",
            "860/860 [==============================] - 3s 4ms/step - loss: 0.4178 - accuracy: 0.8478 - val_loss: 0.3244 - val_accuracy: 0.8860\n",
            "Epoch 3/10\n",
            "859/860 [============================>.] - ETA: 0s - loss: 0.3769 - accuracy: 0.8630\n",
            "Epoch 00003: val_loss improved from 0.32437 to 0.29861, saving model to model.weights.best.hdf5\n",
            "860/860 [==============================] - 3s 4ms/step - loss: 0.3769 - accuracy: 0.8630 - val_loss: 0.2986 - val_accuracy: 0.8910\n",
            "Epoch 4/10\n",
            "851/860 [============================>.] - ETA: 0s - loss: 0.3516 - accuracy: 0.8714\n",
            "Epoch 00004: val_loss improved from 0.29861 to 0.27967, saving model to model.weights.best.hdf5\n",
            "860/860 [==============================] - 3s 4ms/step - loss: 0.3513 - accuracy: 0.8715 - val_loss: 0.2797 - val_accuracy: 0.8972\n",
            "Epoch 5/10\n",
            "853/860 [============================>.] - ETA: 0s - loss: 0.3322 - accuracy: 0.8788\n",
            "Epoch 00005: val_loss improved from 0.27967 to 0.26812, saving model to model.weights.best.hdf5\n",
            "860/860 [==============================] - 3s 4ms/step - loss: 0.3320 - accuracy: 0.8788 - val_loss: 0.2681 - val_accuracy: 0.9008\n",
            "Epoch 6/10\n",
            "848/860 [============================>.] - ETA: 0s - loss: 0.3163 - accuracy: 0.8829\n",
            "Epoch 00006: val_loss improved from 0.26812 to 0.25443, saving model to model.weights.best.hdf5\n",
            "860/860 [==============================] - 3s 4ms/step - loss: 0.3158 - accuracy: 0.8831 - val_loss: 0.2544 - val_accuracy: 0.9078\n",
            "Epoch 7/10\n",
            "852/860 [============================>.] - ETA: 0s - loss: 0.3001 - accuracy: 0.8901\n",
            "Epoch 00007: val_loss improved from 0.25443 to 0.24426, saving model to model.weights.best.hdf5\n",
            "860/860 [==============================] - 4s 4ms/step - loss: 0.3000 - accuracy: 0.8900 - val_loss: 0.2443 - val_accuracy: 0.9102\n",
            "Epoch 8/10\n",
            "851/860 [============================>.] - ETA: 0s - loss: 0.2918 - accuracy: 0.8921\n",
            "Epoch 00008: val_loss did not improve from 0.24426\n",
            "860/860 [==============================] - 3s 4ms/step - loss: 0.2914 - accuracy: 0.8923 - val_loss: 0.2464 - val_accuracy: 0.9086\n",
            "Epoch 9/10\n",
            "849/860 [============================>.] - ETA: 0s - loss: 0.2824 - accuracy: 0.8964\n",
            "Epoch 00009: val_loss improved from 0.24426 to 0.23752, saving model to model.weights.best.hdf5\n",
            "860/860 [==============================] - 3s 4ms/step - loss: 0.2820 - accuracy: 0.8966 - val_loss: 0.2375 - val_accuracy: 0.9128\n",
            "Epoch 10/10\n",
            "847/860 [============================>.] - ETA: 0s - loss: 0.2718 - accuracy: 0.8985\n",
            "Epoch 00010: val_loss improved from 0.23752 to 0.22898, saving model to model.weights.best.hdf5\n",
            "860/860 [==============================] - 3s 4ms/step - loss: 0.2720 - accuracy: 0.8985 - val_loss: 0.2290 - val_accuracy: 0.9136\n"
          ],
          "name": "stdout"
        },
        {
          "output_type": "execute_result",
          "data": {
            "text/plain": [
              "<tensorflow.python.keras.callbacks.History at 0x7fe29c356630>"
            ]
          },
          "metadata": {
            "tags": []
          },
          "execution_count": 10
        }
      ]
    },
    {
      "cell_type": "code",
      "metadata": {
        "id": "LsoVOjuTYrqn",
        "colab_type": "code",
        "colab": {
          "base_uri": "https://localhost:8080/",
          "height": 52
        },
        "outputId": "22b730e8-45c9-4511-cd23-2fe685714523"
      },
      "source": [
        "# 가장 높은 검증 정확도의 가중치 불러오기\n",
        "model.load_weights('model.weights.best.hdf5')\n",
        "# 테스트 셋을 통해 모델 평가\n",
        "score = model.evaluate(x_test, y_test, verbose=0)\n",
        "\n",
        "# 테스트 정확도\n",
        "print('\\n', 'Test accuracy:', score[1])"
      ],
      "execution_count": 11,
      "outputs": [
        {
          "output_type": "stream",
          "text": [
            "\n",
            " Test accuracy: 0.9100000262260437\n"
          ],
          "name": "stdout"
        }
      ]
    },
    {
      "cell_type": "code",
      "metadata": {
        "id": "NP3SGZskY73s",
        "colab_type": "code",
        "colab": {
          "base_uri": "https://localhost:8080/",
          "height": 485
        },
        "outputId": "1fd2aef1-0f15-474b-ff37-416057c42b80"
      },
      "source": [
        "\n",
        "y_hat = model.predict(x_test)\n",
        "\n",
        "# 무작위 샘플로 10 개의 테스트 이미지와 예측 레이블 및 실제 레이블을 그려줍니다.\n",
        "figure = plt.figure(figsize=(20, 8))\n",
        "for i, index in enumerate(np.random.choice(x_test.shape[0], size=15, replace=False)):\n",
        "    ax = figure.add_subplot(3, 5, i + 1, xticks=[], yticks=[])\n",
        "    # 각각의 이미지를 보여줌\n",
        "    ax.imshow(np.squeeze(x_test[index]))\n",
        "    predict_index = np.argmax(y_hat[index])\n",
        "    true_index = np.argmax(y_test[index])\n",
        "    # 각각의 이미지에 예측레이블 (실제레이블) 표시\n",
        "    ax.set_title(\"{} ({})\".format(fashion_mnist_labels[predict_index], \n",
        "                                  fashion_mnist_labels[true_index]),\n",
        "                                  color=(\"green\" if predict_index == true_index else \"red\"))"
      ],
      "execution_count": 12,
      "outputs": [
        {
          "output_type": "display_data",
          "data": {
            "image/png": "[encoded data removed]",
            "text/plain": [
              "<Figure size 1440x576 with 15 Axes>"
            ]
          },
          "metadata": {
            "tags": []
          }
        }
      ]
    },
    {
      "cell_type": "code",
      "metadata": {
        "id": "Sq7miW79Y9mM",
        "colab_type": "code",
        "colab": {}
      },
      "source": [
        ""
      ],
      "execution_count": null,
      "outputs": []
    }
  ]
}