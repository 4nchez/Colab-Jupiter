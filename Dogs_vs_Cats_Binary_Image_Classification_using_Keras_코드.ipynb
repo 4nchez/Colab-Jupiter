{
  "nbformat": 4,
  "nbformat_minor": 0,
  "metadata": {
    "colab": {
      "name": "Binary Image Classification using Keras.ipynb ",
      "provenance": [],
      "collapsed_sections": [],
      "authorship_tag": "ABX9TyOdI/1LObnw1iZ7vHWqKWEn",
      "include_colab_link": true
    },
    "kernelspec": {
      "name": "python3",
      "display_name": "Python 3"
    },
    "accelerator": "GPU"
  },
  "cells": [
    {
      "cell_type": "markdown",
      "metadata": {
        "id": "view-in-github",
        "colab_type": "text"
      },
      "source": [
        "<a href=\"https://colab.research.google.com/github/4nchez/Colab-Jupiter/blob/master/Dogs_vs_Cats_Binary_Image_Classification_using_Keras_%EC%BD%94%EB%93%9C.ipynb\" target=\"_parent\"><img src=\"https://colab.research.google.com/assets/colab-badge.svg\" alt=\"Open In Colab\"/></a>"
      ]
    },
    {
      "cell_type": "markdown",
      "metadata": {
        "id": "5m83NRwewjUD"
      },
      "source": [
        "# Kaggle Challenge : Dogs-vs-Cats - Binary Image Classification using Keras\n",
        "해당 포스트는 [Kaggle  Dogs-vs-Cats challenge](https://www.kaggle.com/c/dogs-vs-cats) 해결하기위해 만들었으며, 여러 가지 자료들을 참고하여 만든 포스트 입니다.\n",
        "\n",
        "\n",
        "*   개발 환경 : google colab, Python3, Tensorflow, Keras\n",
        "*   실험 모델 : VGG16(Transfer Learning)\n",
        "*   실험에 쓰인 데이터 : Kaggle Dogs vs Cats challenge\n",
        "*   Test {개: 1,000, 고양이: 1,000} (총 2,000개)\n",
        "*   Training {개: 5,000, 고양이: 5,000} (총 10,000개)\n",
        "*   Validation {개: 2,500, 고양이: 2,500} (총 5,000개)\n",
        "*   IMAGE_HEIGHT, IMAGE_WIDTH, NUM_CHANNELS, BATCH_SIZE = 150, 150, 3, 32"
      ]
    },
    {
      "cell_type": "markdown",
      "metadata": {
        "id": "QvzEUULo3wfu"
      },
      "source": [
        "GPU 사용"
      ]
    },
    {
      "cell_type": "code",
      "metadata": {
        "id": "d4yDQ-Wwwk5I",
        "outputId": "b64e9c7f-0126-4af2-e519-3d45419e1d06",
        "colab": {
          "base_uri": "https://localhost:8080/",
          "height": 372
        }
      },
      "source": [
        "!nvidia-smi"
      ],
      "execution_count": null,
      "outputs": [
        {
          "output_type": "stream",
          "text": [
            "Fri Sep 25 07:29:13 2020       \n",
            "+-----------------------------------------------------------------------------+\n",
            "| NVIDIA-SMI 450.66       Driver Version: 418.67       CUDA Version: 10.1     |\n",
            "|-------------------------------+----------------------+----------------------+\n",
            "| GPU  Name        Persistence-M| Bus-Id        Disp.A | Volatile Uncorr. ECC |\n",
            "| Fan  Temp  Perf  Pwr:Usage/Cap|         Memory-Usage | GPU-Util  Compute M. |\n",
            "|                               |                      |               MIG M. |\n",
            "|===============================+======================+======================|\n",
            "|   0  Tesla P100-PCIE...  Off  | 00000000:00:04.0 Off |                    0 |\n",
            "| N/A   49C    P0    39W / 250W |      0MiB / 16280MiB |      0%      Default |\n",
            "|                               |                      |                 ERR! |\n",
            "+-------------------------------+----------------------+----------------------+\n",
            "                                                                               \n",
            "+-----------------------------------------------------------------------------+\n",
            "| Processes:                                                                  |\n",
            "|  GPU   GI   CI        PID   Type   Process name                  GPU Memory |\n",
            "|        ID   ID                                                   Usage      |\n",
            "|=============================================================================|\n",
            "|  No running processes found                                                 |\n",
            "+-----------------------------------------------------------------------------+\n"
          ],
          "name": "stdout"
        }
      ]
    },
    {
      "cell_type": "markdown",
      "metadata": {
        "id": "LQtVueKT9Z4x"
      },
      "source": [
        "구글 드라이브 연동 코드"
      ]
    },
    {
      "cell_type": "code",
      "metadata": {
        "id": "cXnjXPZTn4Dn",
        "outputId": "025ff3c0-4831-44bc-b609-8e6ac2a0beb7",
        "colab": {
          "base_uri": "https://localhost:8080/",
          "height": 35
        }
      },
      "source": [
        "import os\n",
        "from google.colab import drive\n",
        "drive.mount('/content/drive/')"
      ],
      "execution_count": null,
      "outputs": [
        {
          "output_type": "stream",
          "text": [
            "Drive already mounted at /content/drive/; to attempt to forcibly remount, call drive.mount(\"/content/drive/\", force_remount=True).\n"
          ],
          "name": "stdout"
        }
      ]
    },
    {
      "cell_type": "code",
      "metadata": {
        "id": "_KTB9Rt6n5Mv"
      },
      "source": [
        "import sys\n",
        "MODEL_SAVE_DIR = \"/content/drive/My Drive/Colab Notebooks/model_states\" #실험에 쓴 모델을 저장할 드라이브 경로\n",
        "IMAGES_ZIP_DIR = \"/content/drive/My Drive/Colab Notebooks/data/cats_vs_dogs\" #구글 드라이브에 저장되어 있는 데이터셋(이미지)\n",
        "import sys\n",
        "sys.path.append('./drive/My Drive/Colab Notebooks') #kr_helper_funcs 파일이 존재하는 경로\n",
        "import kr_helper_funcs as kru"
      ],
      "execution_count": null,
      "outputs": []
    },
    {
      "cell_type": "markdown",
      "metadata": {
        "id": "HE-JTmjLApKN"
      },
      "source": [
        "## Kaggle  Dogs-vs-Cats challenge Dataset\n",
        "Kaggle train.zip 에는 개와 고양이의 이미지 25,000 개 (고양이 색상 이미지 12,500 개 및 다양한 크기의 개 색상 이미지 12,500 개)가 포함되어 있습니다.\n",
        "\n",
        "train Data 중 별도의 프로그램을 사용하여 고양이와 개에 개에 각각 5,000개의 훈련 이미지, 고양이와 개에 대한 2,500개의 평가 이미지, 고양이와 개에 개에 각각 1,000개의 테스트 이미지로 구성된 작은 데이터 세트를 만들었습니다. 그런 다음 이미지 Dataset.zip 파일을 Google 드라이브에 업로드했습니다.\n",
        "\n",
        "zip 파일 cats_vs_dogs_images_small.zip은 내 Google 드라이브의 IMAGES_ZIP_DIR에서 사용할 수 있습니다. 아래 코드 셀은 로컬로 다운로드하고 /tmp 폴더에 이미지 압축을 풉니다."
      ]
    },
    {
      "cell_type": "code",
      "metadata": {
        "id": "RZ2LtU_aEZA9",
        "outputId": "07f39ee0-07a0-48ea-eb22-111900afe0e4",
        "colab": {
          "base_uri": "https://localhost:8080/",
          "height": 52
        }
      },
      "source": [
        "import sys, os, random\n",
        "import numpy as np\n",
        "import tensorflow as tf\n",
        "import keras\n",
        "print('Using Tensorflow version ', tf.__version__)\n",
        "print('Using keras version ', keras.__version__)\n",
        " \n",
        "seed = 123\n",
        "random.seed(seed)\n",
        "np.random.seed(seed)\n",
        "# tf.set_random_seed(seed)\n",
        " \n",
        "import warnings\n",
        "warnings.filterwarnings('ignore')  # ignore all warnings"
      ],
      "execution_count": null,
      "outputs": [
        {
          "output_type": "stream",
          "text": [
            "Using Tensorflow version  2.3.0\n",
            "Using keras version  2.4.3\n"
          ],
          "name": "stdout"
        }
      ]
    },
    {
      "cell_type": "code",
      "metadata": {
        "id": "8ohb1Hf6FyTO"
      },
      "source": [
        "from tensorflow.keras import backend as K\n",
        "from tensorflow.keras.models import Model\n",
        "from tensorflow.keras.layers import (Input, Conv2D, BatchNormalization, MaxPooling2D, \n",
        "                                     Flatten, Dense, Dropout)\n",
        "from tensorflow.keras.regularizers import l2\n",
        "from tensorflow.keras.optimizers import Adam\n",
        "from tensorflow.keras.preprocessing.image import ImageDataGenerator"
      ],
      "execution_count": null,
      "outputs": []
    },
    {
      "cell_type": "code",
      "metadata": {
        "id": "ea0g4CxrAmbA",
        "outputId": "b491716b-2e42-48dc-9cff-5c36e7b247a3",
        "colab": {
          "base_uri": "https://localhost:8080/",
          "height": 52
        }
      },
      "source": [
        "import os, shutil\n",
        "import zipfile\n",
        " \n",
        "#!cp $(IMAGES_ZIP_DIR/images_small.zip\" /tmp\n",
        "source_file = os.path.join(IMAGES_ZIP_DIR, 'cats_vs_dogs_images_small.zip')\n",
        "local_zip = '/tmp/cats_vs_dogs_images_small.zip'\n",
        " \n",
        "print(\"Copying from drive %s to %s...\" % (source_file, local_zip), flush=True)\n",
        "shutil.copyfile(source_file, local_zip)\n",
        " \n",
        "assert os.path.exists(local_zip)\n",
        " \n",
        "print('Extracting all images...', flush=True)\n",
        "zip_ref = zipfile.ZipFile(local_zip, 'r')\n",
        " \n",
        "zip_ref.extractall('/tmp')\n",
        "zip_ref.close()"
      ],
      "execution_count": null,
      "outputs": [
        {
          "output_type": "stream",
          "text": [
            "Copying from drive /content/drive/My Drive/Colab Notebooks/data/cats_vs_dogs/cats_vs_dogs_images_small.zip to /tmp/cats_vs_dogs_images_small.zip...\n",
            "Extracting all images...\n"
          ],
          "name": "stdout"
        }
      ]
    },
    {
      "cell_type": "markdown",
      "metadata": {
        "id": "tbb1Zhe5tyO8"
      },
      "source": [
        "## 실험에 쓰일 데이터 파일 연결"
      ]
    },
    {
      "cell_type": "code",
      "metadata": {
        "id": "leOe8BLVSZl1"
      },
      "source": [
        "images_root = \"/tmp\" # /content/drive/My Drive/img\n",
        "assert os.path.exists(images_root), \"%s folder does not exist!\" % images_root\n",
        " \n",
        "train_root = os.path.join(images_root,'training')\n",
        "train_root_cat = os.path.join(train_root,'cat')\n",
        "train_root_dog = os.path.join(train_root,'dog')\n",
        " \n",
        "eval_root = os.path.join(images_root,'validation')\n",
        "eval_root_cat = os.path.join(eval_root,'cat')\n",
        "eval_root_dog = os.path.join(eval_root,'dog')\n",
        " \n",
        "test_root = os.path.join(images_root,'test')\n",
        "test_root_cat = os.path.join(test_root,'cat')\n",
        "test_root_dog = os.path.join(test_root,'dog')"
      ],
      "execution_count": null,
      "outputs": []
    },
    {
      "cell_type": "code",
      "metadata": {
        "id": "XTL2Tfh3jxCT"
      },
      "source": [
        "IMAGE_HEIGHT, IMAGE_WIDTH, NUM_CHANNELS, BATCH_SIZE = 150, 150, 3, 32"
      ],
      "execution_count": null,
      "outputs": []
    },
    {
      "cell_type": "code",
      "metadata": {
        "id": "wMEZewGL2kw0",
        "outputId": "795325eb-1ca4-4c3f-9952-9efba6ebc43a",
        "colab": {
          "base_uri": "https://localhost:8080/",
          "height": 70
        }
      },
      "source": [
        "train_datagen = ImageDataGenerator(rescale=1.0/255)\n",
        "eval_datagen = ImageDataGenerator(rescale=1.0/255)\n",
        "test_datagen = ImageDataGenerator(rescale=1.0/255)\n",
        " \n",
        "train_generator = train_datagen.flow_from_directory(\n",
        "    train_root,\n",
        "    target_size=(IMAGE_HEIGHT,IMAGE_WIDTH),  # 이미지 사이즈 변경\n",
        "    batch_size=BATCH_SIZE,\n",
        "    class_mode='binary')\n",
        " \n",
        "eval_generator = eval_datagen.flow_from_directory(\n",
        "    eval_root,\n",
        "    target_size=(IMAGE_HEIGHT,IMAGE_WIDTH),  # 이미지 사이즈 변경\n",
        "    batch_size=BATCH_SIZE,\n",
        "    class_mode='binary')\n",
        " \n",
        "test_generator = test_datagen.flow_from_directory(\n",
        "    test_root,\n",
        "    target_size=(IMAGE_HEIGHT,IMAGE_WIDTH),  # 이미지 사이즈 변경\n",
        "    batch_size=BATCH_SIZE,\n",
        "    class_mode='binary')"
      ],
      "execution_count": null,
      "outputs": [
        {
          "output_type": "stream",
          "text": [
            "Found 10000 images belonging to 2 classes.\n",
            "Found 5000 images belonging to 2 classes.\n",
            "Found 2000 images belonging to 2 classes.\n"
          ],
          "name": "stdout"
        }
      ]
    },
    {
      "cell_type": "code",
      "metadata": {
        "id": "nA_rvSOe2kw2",
        "outputId": "d5408b2c-568a-41f5-a626-a39c66cf8eda",
        "colab": {
          "base_uri": "https://localhost:8080/",
          "height": 35
        }
      },
      "source": [
        "train_steps = train_generator.n // BATCH_SIZE\n",
        "val_steps = eval_generator.n // BATCH_SIZE\n",
        "test_steps = test_generator.n // BATCH_SIZE\n",
        "train_steps, val_steps, test_steps"
      ],
      "execution_count": null,
      "outputs": [
        {
          "output_type": "execute_result",
          "data": {
            "text/plain": [
              "(312, 156, 62)"
            ]
          },
          "metadata": {
            "tags": []
          },
          "execution_count": 10
        }
      ]
    },
    {
      "cell_type": "markdown",
      "metadata": {
        "id": "EiKWhwVE2Utm"
      },
      "source": [
        "# 기본 vgg16"
      ]
    },
    {
      "cell_type": "code",
      "metadata": {
        "id": "3ZYbVmb_BnCv",
        "outputId": "8300d4ff-0e89-436c-9f03-be2c1d5d6eda",
        "colab": {
          "base_uri": "https://localhost:8080/",
          "height": 835
        }
      },
      "source": [
        "vgg_base = keras.applications.VGG16(include_top=False, weights='imagenet',input_shape=(IMAGE_HEIGHT, IMAGE_WIDTH, NUM_CHANNELS))\n",
        "vgg_base.summary()"
      ],
      "execution_count": null,
      "outputs": [
        {
          "output_type": "stream",
          "text": [
            "Model: \"vgg16\"\n",
            "_________________________________________________________________\n",
            "Layer (type)                 Output Shape              Param #   \n",
            "=================================================================\n",
            "input_1 (InputLayer)         [(None, 150, 150, 3)]     0         \n",
            "_________________________________________________________________\n",
            "block1_conv1 (Conv2D)        (None, 150, 150, 64)      1792      \n",
            "_________________________________________________________________\n",
            "block1_conv2 (Conv2D)        (None, 150, 150, 64)      36928     \n",
            "_________________________________________________________________\n",
            "block1_pool (MaxPooling2D)   (None, 75, 75, 64)        0         \n",
            "_________________________________________________________________\n",
            "block2_conv1 (Conv2D)        (None, 75, 75, 128)       73856     \n",
            "_________________________________________________________________\n",
            "block2_conv2 (Conv2D)        (None, 75, 75, 128)       147584    \n",
            "_________________________________________________________________\n",
            "block2_pool (MaxPooling2D)   (None, 37, 37, 128)       0         \n",
            "_________________________________________________________________\n",
            "block3_conv1 (Conv2D)        (None, 37, 37, 256)       295168    \n",
            "_________________________________________________________________\n",
            "block3_conv2 (Conv2D)        (None, 37, 37, 256)       590080    \n",
            "_________________________________________________________________\n",
            "block3_conv3 (Conv2D)        (None, 37, 37, 256)       590080    \n",
            "_________________________________________________________________\n",
            "block3_pool (MaxPooling2D)   (None, 18, 18, 256)       0         \n",
            "_________________________________________________________________\n",
            "block4_conv1 (Conv2D)        (None, 18, 18, 512)       1180160   \n",
            "_________________________________________________________________\n",
            "block4_conv2 (Conv2D)        (None, 18, 18, 512)       2359808   \n",
            "_________________________________________________________________\n",
            "block4_conv3 (Conv2D)        (None, 18, 18, 512)       2359808   \n",
            "_________________________________________________________________\n",
            "block4_pool (MaxPooling2D)   (None, 9, 9, 512)         0         \n",
            "_________________________________________________________________\n",
            "block5_conv1 (Conv2D)        (None, 9, 9, 512)         2359808   \n",
            "_________________________________________________________________\n",
            "block5_conv2 (Conv2D)        (None, 9, 9, 512)         2359808   \n",
            "_________________________________________________________________\n",
            "block5_conv3 (Conv2D)        (None, 9, 9, 512)         2359808   \n",
            "_________________________________________________________________\n",
            "block5_pool (MaxPooling2D)   (None, 4, 4, 512)         0         \n",
            "=================================================================\n",
            "Total params: 14,714,688\n",
            "Trainable params: 14,714,688\n",
            "Non-trainable params: 0\n",
            "_________________________________________________________________\n"
          ],
          "name": "stdout"
        }
      ]
    },
    {
      "cell_type": "code",
      "metadata": {
        "id": "7liCfyfuCCwC",
        "outputId": "4d3c0761-1f2a-498f-ebeb-60b5932137fb",
        "colab": {
          "base_uri": "https://localhost:8080/",
          "height": 1000
        }
      },
      "source": [
        "from IPython.display import SVG\n",
        "from keras.utils.vis_utils import model_to_dot\n",
        "\n",
        "SVG(model_to_dot(vgg_base, show_shapes=True, dpi=70).create(prog='dot', format='svg'))"
      ],
      "execution_count": null,
      "outputs": [
        {
          "output_type": "execute_result",
          "data": {
            "text/plain": [
              "<IPython.core.display.SVG object>"
            ],
            "image/svg+xml": "<svg height=\"1506pt\" viewBox=\"0.00 0.00 368.00 1549.00\" width=\"358pt\" xmlns=\"http://www.w3.org/2000/svg\" xmlns:xlink=\"http://www.w3.org/1999/xlink\">\n<g class=\"graph\" id=\"graph0\" transform=\"scale(.9722 .9722) rotate(0) translate(4 1545)\">\n<title>G</title>\n<polygon fill=\"#ffffff\" points=\"-4,4 -4,-1545 364,-1545 364,4 -4,4\" stroke=\"transparent\"/>\n<!-- 140220263168544 -->\n<g class=\"node\" id=\"node1\">\n<title>140220263168544</title>\n<polygon fill=\"none\" points=\"26.5,-1494.5 26.5,-1540.5 333.5,-1540.5 333.5,-1494.5 26.5,-1494.5\" stroke=\"#000000\"/>\n<text fill=\"#000000\" font-family=\"Times,serif\" font-size=\"14.00\" text-anchor=\"middle\" x=\"93\" y=\"-1513.8\">input_1: InputLayer</text>\n<polyline fill=\"none\" points=\"159.5,-1494.5 159.5,-1540.5 \" stroke=\"#000000\"/>\n<text fill=\"#000000\" font-family=\"Times,serif\" font-size=\"14.00\" text-anchor=\"middle\" x=\"188.5\" y=\"-1525.3\">input:</text>\n<polyline fill=\"none\" points=\"159.5,-1517.5 217.5,-1517.5 \" stroke=\"#000000\"/>\n<text fill=\"#000000\" font-family=\"Times,serif\" font-size=\"14.00\" text-anchor=\"middle\" x=\"188.5\" y=\"-1502.3\">output:</text>\n<polyline fill=\"none\" points=\"217.5,-1494.5 217.5,-1540.5 \" stroke=\"#000000\"/>\n<text fill=\"#000000\" font-family=\"Times,serif\" font-size=\"14.00\" text-anchor=\"middle\" x=\"275.5\" y=\"-1525.3\">[(?, 150, 150, 3)]</text>\n<polyline fill=\"none\" points=\"217.5,-1517.5 333.5,-1517.5 \" stroke=\"#000000\"/>\n<text fill=\"#000000\" font-family=\"Times,serif\" font-size=\"14.00\" text-anchor=\"middle\" x=\"275.5\" y=\"-1502.3\">[(?, 150, 150, 3)]</text>\n</g>\n<!-- 140219433824552 -->\n<g class=\"node\" id=\"node2\">\n<title>140219433824552</title>\n<polygon fill=\"none\" points=\"15,-1411.5 15,-1457.5 345,-1457.5 345,-1411.5 15,-1411.5\" stroke=\"#000000\"/>\n<text fill=\"#000000\" font-family=\"Times,serif\" font-size=\"14.00\" text-anchor=\"middle\" x=\"94\" y=\"-1430.8\">block1_conv1: Conv2D</text>\n<polyline fill=\"none\" points=\"173,-1411.5 173,-1457.5 \" stroke=\"#000000\"/>\n<text fill=\"#000000\" font-family=\"Times,serif\" font-size=\"14.00\" text-anchor=\"middle\" x=\"202\" y=\"-1442.3\">input:</text>\n<polyline fill=\"none\" points=\"173,-1434.5 231,-1434.5 \" stroke=\"#000000\"/>\n<text fill=\"#000000\" font-family=\"Times,serif\" font-size=\"14.00\" text-anchor=\"middle\" x=\"202\" y=\"-1419.3\">output:</text>\n<polyline fill=\"none\" points=\"231,-1411.5 231,-1457.5 \" stroke=\"#000000\"/>\n<text fill=\"#000000\" font-family=\"Times,serif\" font-size=\"14.00\" text-anchor=\"middle\" x=\"288\" y=\"-1442.3\">(?, 150, 150, 3)</text>\n<polyline fill=\"none\" points=\"231,-1434.5 345,-1434.5 \" stroke=\"#000000\"/>\n<text fill=\"#000000\" font-family=\"Times,serif\" font-size=\"14.00\" text-anchor=\"middle\" x=\"288\" y=\"-1419.3\">(?, 150, 150, 64)</text>\n</g>\n<!-- 140220263168544&#45;&gt;140219433824552 -->\n<g class=\"edge\" id=\"edge1\">\n<title>140220263168544-&gt;140219433824552</title>\n<path d=\"M180,-1494.3799C180,-1486.1745 180,-1476.7679 180,-1467.8786\" fill=\"none\" stroke=\"#000000\"/>\n<polygon fill=\"#000000\" points=\"183.5001,-1467.784 180,-1457.784 176.5001,-1467.784 183.5001,-1467.784\" stroke=\"#000000\"/>\n</g>\n<!-- 140219433826904 -->\n<g class=\"node\" id=\"node3\">\n<title>140219433826904</title>\n<polygon fill=\"none\" points=\"15,-1328.5 15,-1374.5 345,-1374.5 345,-1328.5 15,-1328.5\" stroke=\"#000000\"/>\n<text fill=\"#000000\" font-family=\"Times,serif\" font-size=\"14.00\" text-anchor=\"middle\" x=\"94\" y=\"-1347.8\">block1_conv2: Conv2D</text>\n<polyline fill=\"none\" points=\"173,-1328.5 173,-1374.5 \" stroke=\"#000000\"/>\n<text fill=\"#000000\" font-family=\"Times,serif\" font-size=\"14.00\" text-anchor=\"middle\" x=\"202\" y=\"-1359.3\">input:</text>\n<polyline fill=\"none\" points=\"173,-1351.5 231,-1351.5 \" stroke=\"#000000\"/>\n<text fill=\"#000000\" font-family=\"Times,serif\" font-size=\"14.00\" text-anchor=\"middle\" x=\"202\" y=\"-1336.3\">output:</text>\n<polyline fill=\"none\" points=\"231,-1328.5 231,-1374.5 \" stroke=\"#000000\"/>\n<text fill=\"#000000\" font-family=\"Times,serif\" font-size=\"14.00\" text-anchor=\"middle\" x=\"288\" y=\"-1359.3\">(?, 150, 150, 64)</text>\n<polyline fill=\"none\" points=\"231,-1351.5 345,-1351.5 \" stroke=\"#000000\"/>\n<text fill=\"#000000\" font-family=\"Times,serif\" font-size=\"14.00\" text-anchor=\"middle\" x=\"288\" y=\"-1336.3\">(?, 150, 150, 64)</text>\n</g>\n<!-- 140219433824552&#45;&gt;140219433826904 -->\n<g class=\"edge\" id=\"edge2\">\n<title>140219433824552-&gt;140219433826904</title>\n<path d=\"M180,-1411.3799C180,-1403.1745 180,-1393.7679 180,-1384.8786\" fill=\"none\" stroke=\"#000000\"/>\n<polygon fill=\"#000000\" points=\"183.5001,-1384.784 180,-1374.784 176.5001,-1384.784 183.5001,-1384.784\" stroke=\"#000000\"/>\n</g>\n<!-- 140219433805584 -->\n<g class=\"node\" id=\"node4\">\n<title>140219433805584</title>\n<polygon fill=\"none\" points=\"0,-1245.5 0,-1291.5 360,-1291.5 360,-1245.5 0,-1245.5\" stroke=\"#000000\"/>\n<text fill=\"#000000\" font-family=\"Times,serif\" font-size=\"14.00\" text-anchor=\"middle\" x=\"94\" y=\"-1264.8\">block1_pool: MaxPooling2D</text>\n<polyline fill=\"none\" points=\"188,-1245.5 188,-1291.5 \" stroke=\"#000000\"/>\n<text fill=\"#000000\" font-family=\"Times,serif\" font-size=\"14.00\" text-anchor=\"middle\" x=\"217\" y=\"-1276.3\">input:</text>\n<polyline fill=\"none\" points=\"188,-1268.5 246,-1268.5 \" stroke=\"#000000\"/>\n<text fill=\"#000000\" font-family=\"Times,serif\" font-size=\"14.00\" text-anchor=\"middle\" x=\"217\" y=\"-1253.3\">output:</text>\n<polyline fill=\"none\" points=\"246,-1245.5 246,-1291.5 \" stroke=\"#000000\"/>\n<text fill=\"#000000\" font-family=\"Times,serif\" font-size=\"14.00\" text-anchor=\"middle\" x=\"303\" y=\"-1276.3\">(?, 150, 150, 64)</text>\n<polyline fill=\"none\" points=\"246,-1268.5 360,-1268.5 \" stroke=\"#000000\"/>\n<text fill=\"#000000\" font-family=\"Times,serif\" font-size=\"14.00\" text-anchor=\"middle\" x=\"303\" y=\"-1253.3\">(?, 75, 75, 64)</text>\n</g>\n<!-- 140219433826904&#45;&gt;140219433805584 -->\n<g class=\"edge\" id=\"edge3\">\n<title>140219433826904-&gt;140219433805584</title>\n<path d=\"M180,-1328.3799C180,-1320.1745 180,-1310.7679 180,-1301.8786\" fill=\"none\" stroke=\"#000000\"/>\n<polygon fill=\"#000000\" points=\"183.5001,-1301.784 180,-1291.784 176.5001,-1301.784 183.5001,-1301.784\" stroke=\"#000000\"/>\n</g>\n<!-- 140219433757608 -->\n<g class=\"node\" id=\"node5\">\n<title>140219433757608</title>\n<polygon fill=\"none\" points=\"18.5,-1162.5 18.5,-1208.5 341.5,-1208.5 341.5,-1162.5 18.5,-1162.5\" stroke=\"#000000\"/>\n<text fill=\"#000000\" font-family=\"Times,serif\" font-size=\"14.00\" text-anchor=\"middle\" x=\"97.5\" y=\"-1181.8\">block2_conv1: Conv2D</text>\n<polyline fill=\"none\" points=\"176.5,-1162.5 176.5,-1208.5 \" stroke=\"#000000\"/>\n<text fill=\"#000000\" font-family=\"Times,serif\" font-size=\"14.00\" text-anchor=\"middle\" x=\"205.5\" y=\"-1193.3\">input:</text>\n<polyline fill=\"none\" points=\"176.5,-1185.5 234.5,-1185.5 \" stroke=\"#000000\"/>\n<text fill=\"#000000\" font-family=\"Times,serif\" font-size=\"14.00\" text-anchor=\"middle\" x=\"205.5\" y=\"-1170.3\">output:</text>\n<polyline fill=\"none\" points=\"234.5,-1162.5 234.5,-1208.5 \" stroke=\"#000000\"/>\n<text fill=\"#000000\" font-family=\"Times,serif\" font-size=\"14.00\" text-anchor=\"middle\" x=\"288\" y=\"-1193.3\">(?, 75, 75, 64)</text>\n<polyline fill=\"none\" points=\"234.5,-1185.5 341.5,-1185.5 \" stroke=\"#000000\"/>\n<text fill=\"#000000\" font-family=\"Times,serif\" font-size=\"14.00\" text-anchor=\"middle\" x=\"288\" y=\"-1170.3\">(?, 75, 75, 128)</text>\n</g>\n<!-- 140219433805584&#45;&gt;140219433757608 -->\n<g class=\"edge\" id=\"edge4\">\n<title>140219433805584-&gt;140219433757608</title>\n<path d=\"M180,-1245.3799C180,-1237.1745 180,-1227.7679 180,-1218.8786\" fill=\"none\" stroke=\"#000000\"/>\n<polygon fill=\"#000000\" points=\"183.5001,-1218.784 180,-1208.784 176.5001,-1218.784 183.5001,-1218.784\" stroke=\"#000000\"/>\n</g>\n<!-- 140219433746952 -->\n<g class=\"node\" id=\"node6\">\n<title>140219433746952</title>\n<polygon fill=\"none\" points=\"18.5,-1079.5 18.5,-1125.5 341.5,-1125.5 341.5,-1079.5 18.5,-1079.5\" stroke=\"#000000\"/>\n<text fill=\"#000000\" font-family=\"Times,serif\" font-size=\"14.00\" text-anchor=\"middle\" x=\"97.5\" y=\"-1098.8\">block2_conv2: Conv2D</text>\n<polyline fill=\"none\" points=\"176.5,-1079.5 176.5,-1125.5 \" stroke=\"#000000\"/>\n<text fill=\"#000000\" font-family=\"Times,serif\" font-size=\"14.00\" text-anchor=\"middle\" x=\"205.5\" y=\"-1110.3\">input:</text>\n<polyline fill=\"none\" points=\"176.5,-1102.5 234.5,-1102.5 \" stroke=\"#000000\"/>\n<text fill=\"#000000\" font-family=\"Times,serif\" font-size=\"14.00\" text-anchor=\"middle\" x=\"205.5\" y=\"-1087.3\">output:</text>\n<polyline fill=\"none\" points=\"234.5,-1079.5 234.5,-1125.5 \" stroke=\"#000000\"/>\n<text fill=\"#000000\" font-family=\"Times,serif\" font-size=\"14.00\" text-anchor=\"middle\" x=\"288\" y=\"-1110.3\">(?, 75, 75, 128)</text>\n<polyline fill=\"none\" points=\"234.5,-1102.5 341.5,-1102.5 \" stroke=\"#000000\"/>\n<text fill=\"#000000\" font-family=\"Times,serif\" font-size=\"14.00\" text-anchor=\"middle\" x=\"288\" y=\"-1087.3\">(?, 75, 75, 128)</text>\n</g>\n<!-- 140219433757608&#45;&gt;140219433746952 -->\n<g class=\"edge\" id=\"edge5\">\n<title>140219433757608-&gt;140219433746952</title>\n<path d=\"M180,-1162.3799C180,-1154.1745 180,-1144.7679 180,-1135.8786\" fill=\"none\" stroke=\"#000000\"/>\n<polygon fill=\"#000000\" points=\"183.5001,-1135.784 180,-1125.784 176.5001,-1135.784 183.5001,-1135.784\" stroke=\"#000000\"/>\n</g>\n<!-- 140219433704024 -->\n<g class=\"node\" id=\"node7\">\n<title>140219433704024</title>\n<polygon fill=\"none\" points=\"3.5,-996.5 3.5,-1042.5 356.5,-1042.5 356.5,-996.5 3.5,-996.5\" stroke=\"#000000\"/>\n<text fill=\"#000000\" font-family=\"Times,serif\" font-size=\"14.00\" text-anchor=\"middle\" x=\"97.5\" y=\"-1015.8\">block2_pool: MaxPooling2D</text>\n<polyline fill=\"none\" points=\"191.5,-996.5 191.5,-1042.5 \" stroke=\"#000000\"/>\n<text fill=\"#000000\" font-family=\"Times,serif\" font-size=\"14.00\" text-anchor=\"middle\" x=\"220.5\" y=\"-1027.3\">input:</text>\n<polyline fill=\"none\" points=\"191.5,-1019.5 249.5,-1019.5 \" stroke=\"#000000\"/>\n<text fill=\"#000000\" font-family=\"Times,serif\" font-size=\"14.00\" text-anchor=\"middle\" x=\"220.5\" y=\"-1004.3\">output:</text>\n<polyline fill=\"none\" points=\"249.5,-996.5 249.5,-1042.5 \" stroke=\"#000000\"/>\n<text fill=\"#000000\" font-family=\"Times,serif\" font-size=\"14.00\" text-anchor=\"middle\" x=\"303\" y=\"-1027.3\">(?, 75, 75, 128)</text>\n<polyline fill=\"none\" points=\"249.5,-1019.5 356.5,-1019.5 \" stroke=\"#000000\"/>\n<text fill=\"#000000\" font-family=\"Times,serif\" font-size=\"14.00\" text-anchor=\"middle\" x=\"303\" y=\"-1004.3\">(?, 37, 37, 128)</text>\n</g>\n<!-- 140219433746952&#45;&gt;140219433704024 -->\n<g class=\"edge\" id=\"edge6\">\n<title>140219433746952-&gt;140219433704024</title>\n<path d=\"M180,-1079.3799C180,-1071.1745 180,-1061.7679 180,-1052.8786\" fill=\"none\" stroke=\"#000000\"/>\n<polygon fill=\"#000000\" points=\"183.5001,-1052.784 180,-1042.784 176.5001,-1052.784 183.5001,-1052.784\" stroke=\"#000000\"/>\n</g>\n<!-- 140219389134104 -->\n<g class=\"node\" id=\"node8\">\n<title>140219389134104</title>\n<polygon fill=\"none\" points=\"18.5,-913.5 18.5,-959.5 341.5,-959.5 341.5,-913.5 18.5,-913.5\" stroke=\"#000000\"/>\n<text fill=\"#000000\" font-family=\"Times,serif\" font-size=\"14.00\" text-anchor=\"middle\" x=\"97.5\" y=\"-932.8\">block3_conv1: Conv2D</text>\n<polyline fill=\"none\" points=\"176.5,-913.5 176.5,-959.5 \" stroke=\"#000000\"/>\n<text fill=\"#000000\" font-family=\"Times,serif\" font-size=\"14.00\" text-anchor=\"middle\" x=\"205.5\" y=\"-944.3\">input:</text>\n<polyline fill=\"none\" points=\"176.5,-936.5 234.5,-936.5 \" stroke=\"#000000\"/>\n<text fill=\"#000000\" font-family=\"Times,serif\" font-size=\"14.00\" text-anchor=\"middle\" x=\"205.5\" y=\"-921.3\">output:</text>\n<polyline fill=\"none\" points=\"234.5,-913.5 234.5,-959.5 \" stroke=\"#000000\"/>\n<text fill=\"#000000\" font-family=\"Times,serif\" font-size=\"14.00\" text-anchor=\"middle\" x=\"288\" y=\"-944.3\">(?, 37, 37, 128)</text>\n<polyline fill=\"none\" points=\"234.5,-936.5 341.5,-936.5 \" stroke=\"#000000\"/>\n<text fill=\"#000000\" font-family=\"Times,serif\" font-size=\"14.00\" text-anchor=\"middle\" x=\"288\" y=\"-921.3\">(?, 37, 37, 256)</text>\n</g>\n<!-- 140219433704024&#45;&gt;140219389134104 -->\n<g class=\"edge\" id=\"edge7\">\n<title>140219433704024-&gt;140219389134104</title>\n<path d=\"M180,-996.3799C180,-988.1745 180,-978.7679 180,-969.8786\" fill=\"none\" stroke=\"#000000\"/>\n<polygon fill=\"#000000\" points=\"183.5001,-969.784 180,-959.784 176.5001,-969.784 183.5001,-969.784\" stroke=\"#000000\"/>\n</g>\n<!-- 140220247877224 -->\n<g class=\"node\" id=\"node9\">\n<title>140220247877224</title>\n<polygon fill=\"none\" points=\"18.5,-830.5 18.5,-876.5 341.5,-876.5 341.5,-830.5 18.5,-830.5\" stroke=\"#000000\"/>\n<text fill=\"#000000\" font-family=\"Times,serif\" font-size=\"14.00\" text-anchor=\"middle\" x=\"97.5\" y=\"-849.8\">block3_conv2: Conv2D</text>\n<polyline fill=\"none\" points=\"176.5,-830.5 176.5,-876.5 \" stroke=\"#000000\"/>\n<text fill=\"#000000\" font-family=\"Times,serif\" font-size=\"14.00\" text-anchor=\"middle\" x=\"205.5\" y=\"-861.3\">input:</text>\n<polyline fill=\"none\" points=\"176.5,-853.5 234.5,-853.5 \" stroke=\"#000000\"/>\n<text fill=\"#000000\" font-family=\"Times,serif\" font-size=\"14.00\" text-anchor=\"middle\" x=\"205.5\" y=\"-838.3\">output:</text>\n<polyline fill=\"none\" points=\"234.5,-830.5 234.5,-876.5 \" stroke=\"#000000\"/>\n<text fill=\"#000000\" font-family=\"Times,serif\" font-size=\"14.00\" text-anchor=\"middle\" x=\"288\" y=\"-861.3\">(?, 37, 37, 256)</text>\n<polyline fill=\"none\" points=\"234.5,-853.5 341.5,-853.5 \" stroke=\"#000000\"/>\n<text fill=\"#000000\" font-family=\"Times,serif\" font-size=\"14.00\" text-anchor=\"middle\" x=\"288\" y=\"-838.3\">(?, 37, 37, 256)</text>\n</g>\n<!-- 140219389134104&#45;&gt;140220247877224 -->\n<g class=\"edge\" id=\"edge8\">\n<title>140219389134104-&gt;140220247877224</title>\n<path d=\"M180,-913.3799C180,-905.1745 180,-895.7679 180,-886.8786\" fill=\"none\" stroke=\"#000000\"/>\n<polygon fill=\"#000000\" points=\"183.5001,-886.784 180,-876.784 176.5001,-886.784 183.5001,-886.784\" stroke=\"#000000\"/>\n</g>\n<!-- 140220247878512 -->\n<g class=\"node\" id=\"node10\">\n<title>140220247878512</title>\n<polygon fill=\"none\" points=\"18.5,-747.5 18.5,-793.5 341.5,-793.5 341.5,-747.5 18.5,-747.5\" stroke=\"#000000\"/>\n<text fill=\"#000000\" font-family=\"Times,serif\" font-size=\"14.00\" text-anchor=\"middle\" x=\"97.5\" y=\"-766.8\">block3_conv3: Conv2D</text>\n<polyline fill=\"none\" points=\"176.5,-747.5 176.5,-793.5 \" stroke=\"#000000\"/>\n<text fill=\"#000000\" font-family=\"Times,serif\" font-size=\"14.00\" text-anchor=\"middle\" x=\"205.5\" y=\"-778.3\">input:</text>\n<polyline fill=\"none\" points=\"176.5,-770.5 234.5,-770.5 \" stroke=\"#000000\"/>\n<text fill=\"#000000\" font-family=\"Times,serif\" font-size=\"14.00\" text-anchor=\"middle\" x=\"205.5\" y=\"-755.3\">output:</text>\n<polyline fill=\"none\" points=\"234.5,-747.5 234.5,-793.5 \" stroke=\"#000000\"/>\n<text fill=\"#000000\" font-family=\"Times,serif\" font-size=\"14.00\" text-anchor=\"middle\" x=\"288\" y=\"-778.3\">(?, 37, 37, 256)</text>\n<polyline fill=\"none\" points=\"234.5,-770.5 341.5,-770.5 \" stroke=\"#000000\"/>\n<text fill=\"#000000\" font-family=\"Times,serif\" font-size=\"14.00\" text-anchor=\"middle\" x=\"288\" y=\"-755.3\">(?, 37, 37, 256)</text>\n</g>\n<!-- 140220247877224&#45;&gt;140220247878512 -->\n<g class=\"edge\" id=\"edge9\">\n<title>140220247877224-&gt;140220247878512</title>\n<path d=\"M180,-830.3799C180,-822.1745 180,-812.7679 180,-803.8786\" fill=\"none\" stroke=\"#000000\"/>\n<polygon fill=\"#000000\" points=\"183.5001,-803.784 180,-793.784 176.5001,-803.784 183.5001,-803.784\" stroke=\"#000000\"/>\n</g>\n<!-- 140220247863192 -->\n<g class=\"node\" id=\"node11\">\n<title>140220247863192</title>\n<polygon fill=\"none\" points=\"3.5,-664.5 3.5,-710.5 356.5,-710.5 356.5,-664.5 3.5,-664.5\" stroke=\"#000000\"/>\n<text fill=\"#000000\" font-family=\"Times,serif\" font-size=\"14.00\" text-anchor=\"middle\" x=\"97.5\" y=\"-683.8\">block3_pool: MaxPooling2D</text>\n<polyline fill=\"none\" points=\"191.5,-664.5 191.5,-710.5 \" stroke=\"#000000\"/>\n<text fill=\"#000000\" font-family=\"Times,serif\" font-size=\"14.00\" text-anchor=\"middle\" x=\"220.5\" y=\"-695.3\">input:</text>\n<polyline fill=\"none\" points=\"191.5,-687.5 249.5,-687.5 \" stroke=\"#000000\"/>\n<text fill=\"#000000\" font-family=\"Times,serif\" font-size=\"14.00\" text-anchor=\"middle\" x=\"220.5\" y=\"-672.3\">output:</text>\n<polyline fill=\"none\" points=\"249.5,-664.5 249.5,-710.5 \" stroke=\"#000000\"/>\n<text fill=\"#000000\" font-family=\"Times,serif\" font-size=\"14.00\" text-anchor=\"middle\" x=\"303\" y=\"-695.3\">(?, 37, 37, 256)</text>\n<polyline fill=\"none\" points=\"249.5,-687.5 356.5,-687.5 \" stroke=\"#000000\"/>\n<text fill=\"#000000\" font-family=\"Times,serif\" font-size=\"14.00\" text-anchor=\"middle\" x=\"303\" y=\"-672.3\">(?, 18, 18, 256)</text>\n</g>\n<!-- 140220247878512&#45;&gt;140220247863192 -->\n<g class=\"edge\" id=\"edge10\">\n<title>140220247878512-&gt;140220247863192</title>\n<path d=\"M180,-747.3799C180,-739.1745 180,-729.7679 180,-720.8786\" fill=\"none\" stroke=\"#000000\"/>\n<polygon fill=\"#000000\" points=\"183.5001,-720.784 180,-710.784 176.5001,-720.784 183.5001,-720.784\" stroke=\"#000000\"/>\n</g>\n<!-- 140220247860392 -->\n<g class=\"node\" id=\"node12\">\n<title>140220247860392</title>\n<polygon fill=\"none\" points=\"18.5,-581.5 18.5,-627.5 341.5,-627.5 341.5,-581.5 18.5,-581.5\" stroke=\"#000000\"/>\n<text fill=\"#000000\" font-family=\"Times,serif\" font-size=\"14.00\" text-anchor=\"middle\" x=\"97.5\" y=\"-600.8\">block4_conv1: Conv2D</text>\n<polyline fill=\"none\" points=\"176.5,-581.5 176.5,-627.5 \" stroke=\"#000000\"/>\n<text fill=\"#000000\" font-family=\"Times,serif\" font-size=\"14.00\" text-anchor=\"middle\" x=\"205.5\" y=\"-612.3\">input:</text>\n<polyline fill=\"none\" points=\"176.5,-604.5 234.5,-604.5 \" stroke=\"#000000\"/>\n<text fill=\"#000000\" font-family=\"Times,serif\" font-size=\"14.00\" text-anchor=\"middle\" x=\"205.5\" y=\"-589.3\">output:</text>\n<polyline fill=\"none\" points=\"234.5,-581.5 234.5,-627.5 \" stroke=\"#000000\"/>\n<text fill=\"#000000\" font-family=\"Times,serif\" font-size=\"14.00\" text-anchor=\"middle\" x=\"288\" y=\"-612.3\">(?, 18, 18, 256)</text>\n<polyline fill=\"none\" points=\"234.5,-604.5 341.5,-604.5 \" stroke=\"#000000\"/>\n<text fill=\"#000000\" font-family=\"Times,serif\" font-size=\"14.00\" text-anchor=\"middle\" x=\"288\" y=\"-589.3\">(?, 18, 18, 512)</text>\n</g>\n<!-- 140220247863192&#45;&gt;140220247860392 -->\n<g class=\"edge\" id=\"edge11\">\n<title>140220247863192-&gt;140220247860392</title>\n<path d=\"M180,-664.3799C180,-656.1745 180,-646.7679 180,-637.8786\" fill=\"none\" stroke=\"#000000\"/>\n<polygon fill=\"#000000\" points=\"183.5001,-637.784 180,-627.784 176.5001,-637.784 183.5001,-637.784\" stroke=\"#000000\"/>\n</g>\n<!-- 140220247872624 -->\n<g class=\"node\" id=\"node13\">\n<title>140220247872624</title>\n<polygon fill=\"none\" points=\"18.5,-498.5 18.5,-544.5 341.5,-544.5 341.5,-498.5 18.5,-498.5\" stroke=\"#000000\"/>\n<text fill=\"#000000\" font-family=\"Times,serif\" font-size=\"14.00\" text-anchor=\"middle\" x=\"97.5\" y=\"-517.8\">block4_conv2: Conv2D</text>\n<polyline fill=\"none\" points=\"176.5,-498.5 176.5,-544.5 \" stroke=\"#000000\"/>\n<text fill=\"#000000\" font-family=\"Times,serif\" font-size=\"14.00\" text-anchor=\"middle\" x=\"205.5\" y=\"-529.3\">input:</text>\n<polyline fill=\"none\" points=\"176.5,-521.5 234.5,-521.5 \" stroke=\"#000000\"/>\n<text fill=\"#000000\" font-family=\"Times,serif\" font-size=\"14.00\" text-anchor=\"middle\" x=\"205.5\" y=\"-506.3\">output:</text>\n<polyline fill=\"none\" points=\"234.5,-498.5 234.5,-544.5 \" stroke=\"#000000\"/>\n<text fill=\"#000000\" font-family=\"Times,serif\" font-size=\"14.00\" text-anchor=\"middle\" x=\"288\" y=\"-529.3\">(?, 18, 18, 512)</text>\n<polyline fill=\"none\" points=\"234.5,-521.5 341.5,-521.5 \" stroke=\"#000000\"/>\n<text fill=\"#000000\" font-family=\"Times,serif\" font-size=\"14.00\" text-anchor=\"middle\" x=\"288\" y=\"-506.3\">(?, 18, 18, 512)</text>\n</g>\n<!-- 140220247860392&#45;&gt;140220247872624 -->\n<g class=\"edge\" id=\"edge12\">\n<title>140220247860392-&gt;140220247872624</title>\n<path d=\"M180,-581.3799C180,-573.1745 180,-563.7679 180,-554.8786\" fill=\"none\" stroke=\"#000000\"/>\n<polygon fill=\"#000000\" points=\"183.5001,-554.784 180,-544.784 176.5001,-554.784 183.5001,-554.784\" stroke=\"#000000\"/>\n</g>\n<!-- 140220247871728 -->\n<g class=\"node\" id=\"node14\">\n<title>140220247871728</title>\n<polygon fill=\"none\" points=\"18.5,-415.5 18.5,-461.5 341.5,-461.5 341.5,-415.5 18.5,-415.5\" stroke=\"#000000\"/>\n<text fill=\"#000000\" font-family=\"Times,serif\" font-size=\"14.00\" text-anchor=\"middle\" x=\"97.5\" y=\"-434.8\">block4_conv3: Conv2D</text>\n<polyline fill=\"none\" points=\"176.5,-415.5 176.5,-461.5 \" stroke=\"#000000\"/>\n<text fill=\"#000000\" font-family=\"Times,serif\" font-size=\"14.00\" text-anchor=\"middle\" x=\"205.5\" y=\"-446.3\">input:</text>\n<polyline fill=\"none\" points=\"176.5,-438.5 234.5,-438.5 \" stroke=\"#000000\"/>\n<text fill=\"#000000\" font-family=\"Times,serif\" font-size=\"14.00\" text-anchor=\"middle\" x=\"205.5\" y=\"-423.3\">output:</text>\n<polyline fill=\"none\" points=\"234.5,-415.5 234.5,-461.5 \" stroke=\"#000000\"/>\n<text fill=\"#000000\" font-family=\"Times,serif\" font-size=\"14.00\" text-anchor=\"middle\" x=\"288\" y=\"-446.3\">(?, 18, 18, 512)</text>\n<polyline fill=\"none\" points=\"234.5,-438.5 341.5,-438.5 \" stroke=\"#000000\"/>\n<text fill=\"#000000\" font-family=\"Times,serif\" font-size=\"14.00\" text-anchor=\"middle\" x=\"288\" y=\"-423.3\">(?, 18, 18, 512)</text>\n</g>\n<!-- 140220247872624&#45;&gt;140220247871728 -->\n<g class=\"edge\" id=\"edge13\">\n<title>140220247872624-&gt;140220247871728</title>\n<path d=\"M180,-498.3799C180,-490.1745 180,-480.7679 180,-471.8786\" fill=\"none\" stroke=\"#000000\"/>\n<polygon fill=\"#000000\" points=\"183.5001,-471.784 180,-461.784 176.5001,-471.784 183.5001,-471.784\" stroke=\"#000000\"/>\n</g>\n<!-- 140219384556400 -->\n<g class=\"node\" id=\"node15\">\n<title>140219384556400</title>\n<polygon fill=\"none\" points=\"3.5,-332.5 3.5,-378.5 356.5,-378.5 356.5,-332.5 3.5,-332.5\" stroke=\"#000000\"/>\n<text fill=\"#000000\" font-family=\"Times,serif\" font-size=\"14.00\" text-anchor=\"middle\" x=\"97.5\" y=\"-351.8\">block4_pool: MaxPooling2D</text>\n<polyline fill=\"none\" points=\"191.5,-332.5 191.5,-378.5 \" stroke=\"#000000\"/>\n<text fill=\"#000000\" font-family=\"Times,serif\" font-size=\"14.00\" text-anchor=\"middle\" x=\"220.5\" y=\"-363.3\">input:</text>\n<polyline fill=\"none\" points=\"191.5,-355.5 249.5,-355.5 \" stroke=\"#000000\"/>\n<text fill=\"#000000\" font-family=\"Times,serif\" font-size=\"14.00\" text-anchor=\"middle\" x=\"220.5\" y=\"-340.3\">output:</text>\n<polyline fill=\"none\" points=\"249.5,-332.5 249.5,-378.5 \" stroke=\"#000000\"/>\n<text fill=\"#000000\" font-family=\"Times,serif\" font-size=\"14.00\" text-anchor=\"middle\" x=\"303\" y=\"-363.3\">(?, 18, 18, 512)</text>\n<polyline fill=\"none\" points=\"249.5,-355.5 356.5,-355.5 \" stroke=\"#000000\"/>\n<text fill=\"#000000\" font-family=\"Times,serif\" font-size=\"14.00\" text-anchor=\"middle\" x=\"303\" y=\"-340.3\">(?, 9, 9, 512)</text>\n</g>\n<!-- 140220247871728&#45;&gt;140219384556400 -->\n<g class=\"edge\" id=\"edge14\">\n<title>140220247871728-&gt;140219384556400</title>\n<path d=\"M180,-415.3799C180,-407.1745 180,-397.7679 180,-388.8786\" fill=\"none\" stroke=\"#000000\"/>\n<polygon fill=\"#000000\" points=\"183.5001,-388.784 180,-378.784 176.5001,-388.784 183.5001,-388.784\" stroke=\"#000000\"/>\n</g>\n<!-- 140219384749416 -->\n<g class=\"node\" id=\"node16\">\n<title>140219384749416</title>\n<polygon fill=\"none\" points=\"26,-249.5 26,-295.5 334,-295.5 334,-249.5 26,-249.5\" stroke=\"#000000\"/>\n<text fill=\"#000000\" font-family=\"Times,serif\" font-size=\"14.00\" text-anchor=\"middle\" x=\"105\" y=\"-268.8\">block5_conv1: Conv2D</text>\n<polyline fill=\"none\" points=\"184,-249.5 184,-295.5 \" stroke=\"#000000\"/>\n<text fill=\"#000000\" font-family=\"Times,serif\" font-size=\"14.00\" text-anchor=\"middle\" x=\"213\" y=\"-280.3\">input:</text>\n<polyline fill=\"none\" points=\"184,-272.5 242,-272.5 \" stroke=\"#000000\"/>\n<text fill=\"#000000\" font-family=\"Times,serif\" font-size=\"14.00\" text-anchor=\"middle\" x=\"213\" y=\"-257.3\">output:</text>\n<polyline fill=\"none\" points=\"242,-249.5 242,-295.5 \" stroke=\"#000000\"/>\n<text fill=\"#000000\" font-family=\"Times,serif\" font-size=\"14.00\" text-anchor=\"middle\" x=\"288\" y=\"-280.3\">(?, 9, 9, 512)</text>\n<polyline fill=\"none\" points=\"242,-272.5 334,-272.5 \" stroke=\"#000000\"/>\n<text fill=\"#000000\" font-family=\"Times,serif\" font-size=\"14.00\" text-anchor=\"middle\" x=\"288\" y=\"-257.3\">(?, 9, 9, 512)</text>\n</g>\n<!-- 140219384556400&#45;&gt;140219384749416 -->\n<g class=\"edge\" id=\"edge15\">\n<title>140219384556400-&gt;140219384749416</title>\n<path d=\"M180,-332.3799C180,-324.1745 180,-314.7679 180,-305.8786\" fill=\"none\" stroke=\"#000000\"/>\n<polygon fill=\"#000000\" points=\"183.5001,-305.784 180,-295.784 176.5001,-305.784 183.5001,-305.784\" stroke=\"#000000\"/>\n</g>\n<!-- 140219352499760 -->\n<g class=\"node\" id=\"node17\">\n<title>140219352499760</title>\n<polygon fill=\"none\" points=\"26,-166.5 26,-212.5 334,-212.5 334,-166.5 26,-166.5\" stroke=\"#000000\"/>\n<text fill=\"#000000\" font-family=\"Times,serif\" font-size=\"14.00\" text-anchor=\"middle\" x=\"105\" y=\"-185.8\">block5_conv2: Conv2D</text>\n<polyline fill=\"none\" points=\"184,-166.5 184,-212.5 \" stroke=\"#000000\"/>\n<text fill=\"#000000\" font-family=\"Times,serif\" font-size=\"14.00\" text-anchor=\"middle\" x=\"213\" y=\"-197.3\">input:</text>\n<polyline fill=\"none\" points=\"184,-189.5 242,-189.5 \" stroke=\"#000000\"/>\n<text fill=\"#000000\" font-family=\"Times,serif\" font-size=\"14.00\" text-anchor=\"middle\" x=\"213\" y=\"-174.3\">output:</text>\n<polyline fill=\"none\" points=\"242,-166.5 242,-212.5 \" stroke=\"#000000\"/>\n<text fill=\"#000000\" font-family=\"Times,serif\" font-size=\"14.00\" text-anchor=\"middle\" x=\"288\" y=\"-197.3\">(?, 9, 9, 512)</text>\n<polyline fill=\"none\" points=\"242,-189.5 334,-189.5 \" stroke=\"#000000\"/>\n<text fill=\"#000000\" font-family=\"Times,serif\" font-size=\"14.00\" text-anchor=\"middle\" x=\"288\" y=\"-174.3\">(?, 9, 9, 512)</text>\n</g>\n<!-- 140219384749416&#45;&gt;140219352499760 -->\n<g class=\"edge\" id=\"edge16\">\n<title>140219384749416-&gt;140219352499760</title>\n<path d=\"M180,-249.3799C180,-241.1745 180,-231.7679 180,-222.8786\" fill=\"none\" stroke=\"#000000\"/>\n<polygon fill=\"#000000\" points=\"183.5001,-222.784 180,-212.784 176.5001,-222.784 183.5001,-222.784\" stroke=\"#000000\"/>\n</g>\n<!-- 140219352499928 -->\n<g class=\"node\" id=\"node18\">\n<title>140219352499928</title>\n<polygon fill=\"none\" points=\"26,-83.5 26,-129.5 334,-129.5 334,-83.5 26,-83.5\" stroke=\"#000000\"/>\n<text fill=\"#000000\" font-family=\"Times,serif\" font-size=\"14.00\" text-anchor=\"middle\" x=\"105\" y=\"-102.8\">block5_conv3: Conv2D</text>\n<polyline fill=\"none\" points=\"184,-83.5 184,-129.5 \" stroke=\"#000000\"/>\n<text fill=\"#000000\" font-family=\"Times,serif\" font-size=\"14.00\" text-anchor=\"middle\" x=\"213\" y=\"-114.3\">input:</text>\n<polyline fill=\"none\" points=\"184,-106.5 242,-106.5 \" stroke=\"#000000\"/>\n<text fill=\"#000000\" font-family=\"Times,serif\" font-size=\"14.00\" text-anchor=\"middle\" x=\"213\" y=\"-91.3\">output:</text>\n<polyline fill=\"none\" points=\"242,-83.5 242,-129.5 \" stroke=\"#000000\"/>\n<text fill=\"#000000\" font-family=\"Times,serif\" font-size=\"14.00\" text-anchor=\"middle\" x=\"288\" y=\"-114.3\">(?, 9, 9, 512)</text>\n<polyline fill=\"none\" points=\"242,-106.5 334,-106.5 \" stroke=\"#000000\"/>\n<text fill=\"#000000\" font-family=\"Times,serif\" font-size=\"14.00\" text-anchor=\"middle\" x=\"288\" y=\"-91.3\">(?, 9, 9, 512)</text>\n</g>\n<!-- 140219352499760&#45;&gt;140219352499928 -->\n<g class=\"edge\" id=\"edge17\">\n<title>140219352499760-&gt;140219352499928</title>\n<path d=\"M180,-166.3799C180,-158.1745 180,-148.7679 180,-139.8786\" fill=\"none\" stroke=\"#000000\"/>\n<polygon fill=\"#000000\" points=\"183.5001,-139.784 180,-129.784 176.5001,-139.784 183.5001,-139.784\" stroke=\"#000000\"/>\n</g>\n<!-- 140219352520240 -->\n<g class=\"node\" id=\"node19\">\n<title>140219352520240</title>\n<polygon fill=\"none\" points=\"11,-.5 11,-46.5 349,-46.5 349,-.5 11,-.5\" stroke=\"#000000\"/>\n<text fill=\"#000000\" font-family=\"Times,serif\" font-size=\"14.00\" text-anchor=\"middle\" x=\"105\" y=\"-19.8\">block5_pool: MaxPooling2D</text>\n<polyline fill=\"none\" points=\"199,-.5 199,-46.5 \" stroke=\"#000000\"/>\n<text fill=\"#000000\" font-family=\"Times,serif\" font-size=\"14.00\" text-anchor=\"middle\" x=\"228\" y=\"-31.3\">input:</text>\n<polyline fill=\"none\" points=\"199,-23.5 257,-23.5 \" stroke=\"#000000\"/>\n<text fill=\"#000000\" font-family=\"Times,serif\" font-size=\"14.00\" text-anchor=\"middle\" x=\"228\" y=\"-8.3\">output:</text>\n<polyline fill=\"none\" points=\"257,-.5 257,-46.5 \" stroke=\"#000000\"/>\n<text fill=\"#000000\" font-family=\"Times,serif\" font-size=\"14.00\" text-anchor=\"middle\" x=\"303\" y=\"-31.3\">(?, 9, 9, 512)</text>\n<polyline fill=\"none\" points=\"257,-23.5 349,-23.5 \" stroke=\"#000000\"/>\n<text fill=\"#000000\" font-family=\"Times,serif\" font-size=\"14.00\" text-anchor=\"middle\" x=\"303\" y=\"-8.3\">(?, 4, 4, 512)</text>\n</g>\n<!-- 140219352499928&#45;&gt;140219352520240 -->\n<g class=\"edge\" id=\"edge18\">\n<title>140219352499928-&gt;140219352520240</title>\n<path d=\"M180,-83.3799C180,-75.1745 180,-65.7679 180,-56.8786\" fill=\"none\" stroke=\"#000000\"/>\n<polygon fill=\"#000000\" points=\"183.5001,-56.784 180,-46.784 176.5001,-56.784 183.5001,-56.784\" stroke=\"#000000\"/>\n</g>\n</g>\n</svg>"
          },
          "metadata": {
            "tags": []
          },
          "execution_count": 12
        }
      ]
    },
    {
      "cell_type": "code",
      "metadata": {
        "id": "Q0e9SrkM2kwu",
        "outputId": "d0b24b53-a171-4503-ba80-27e4b7fa9956",
        "colab": {
          "base_uri": "https://localhost:8080/",
          "height": 408
        }
      },
      "source": [
        "from keras.activations import softmax, relu, sigmoid\n",
        " \n",
        "vgg_base = keras.applications.VGG16(include_top=False, weights='imagenet',input_shape=(IMAGE_HEIGHT, IMAGE_WIDTH, NUM_CHANNELS))\n",
        "alpha = 0.00002  # weight decay coefficient\n",
        "for layer in vgg_base.layers:\n",
        "    if isinstance(layer, keras.layers.Conv2D) or isinstance(layer, keras.layers.Dense):\n",
        "      # layer.add_loss(keras.regularizers.l2(alpha)(layer.kernel))\n",
        "      layer.activation = relu\n",
        "    # if hasattr(layer, 'bias_regularizer') and layer.use_bias:\n",
        "    #   layer.add_loss(keras.regularizers.l2(alpha)(layer.bias)\n",
        "    \n",
        "model = tf.keras.models.Sequential([\n",
        "        vgg_base,\n",
        "        tf.keras.layers.Flatten(),\n",
        "        tf.keras.layers.Dropout(0.50),        \n",
        "        tf.keras.layers.Dense(1024, activation='relu'),\n",
        "        tf.keras.layers.Dropout(0.20),        \n",
        "        tf.keras.layers.Dense(512, activation='relu'),\n",
        "        tf.keras.layers.Dropout(0.10),         \n",
        "        tf.keras.layers.Dense(1, activation='sigmoid')    \n",
        "    ])\n",
        "vgg_base.trainable = False\n",
        "# model_vgg16.layers[-1].activation=None\n",
        "# for layer in model.layers:\n",
        "#     if isinstance(layer, keras.layers.Conv2D) or isinstance(layer, keras.layers.Dense):\n",
        "      # layer.add_loss(keras.regularizers.l2(alpha)(layer.kernel))\n",
        "      # layer.activation = sigmoid\n",
        "    # if hasattr(layer, 'bias_regularizer') and layer.use_bias:\n",
        "    #   layer.add_loss(keras.regularizers.l2(alpha)(layer.bias))\n",
        " \n",
        "model.compile(optimizer=Adam(lr=1e-4, beta_1=0.9, beta_2=0.999),\n",
        "                  loss='binary_crossentropy',#mse, binary_crossentropy\n",
        "                  metrics=['acc'])\n",
        "model.summary()"
      ],
      "execution_count": null,
      "outputs": [
        {
          "output_type": "stream",
          "text": [
            "Model: \"sequential\"\n",
            "_________________________________________________________________\n",
            "Layer (type)                 Output Shape              Param #   \n",
            "=================================================================\n",
            "vgg16 (Functional)           (None, 4, 4, 512)         14714688  \n",
            "_________________________________________________________________\n",
            "flatten (Flatten)            (None, 8192)              0         \n",
            "_________________________________________________________________\n",
            "dense (Dense)                (None, 1024)              8389632   \n",
            "_________________________________________________________________\n",
            "dropout (Dropout)            (None, 1024)              0         \n",
            "_________________________________________________________________\n",
            "dense_1 (Dense)              (None, 512)               524800    \n",
            "_________________________________________________________________\n",
            "dropout_1 (Dropout)          (None, 512)               0         \n",
            "_________________________________________________________________\n",
            "dense_2 (Dense)              (None, 1)                 513       \n",
            "=================================================================\n",
            "Total params: 23,629,633\n",
            "Trainable params: 8,914,945\n",
            "Non-trainable params: 14,714,688\n",
            "_________________________________________________________________\n"
          ],
          "name": "stdout"
        }
      ]
    },
    {
      "cell_type": "code",
      "metadata": {
        "id": "cq_UdcKD2kwy",
        "outputId": "7538e583-a80b-406d-e151-45eca27b2afa",
        "colab": {
          "base_uri": "https://localhost:8080/",
          "height": 844
        }
      },
      "source": [
        "from IPython.display import SVG\n",
        "from keras.utils.vis_utils import model_to_dot\n",
        "\n",
        "SVG(model_to_dot(model, show_shapes=True, dpi=70).create(prog='dot', format='svg'))"
      ],
      "execution_count": null,
      "outputs": [
        {
          "output_type": "execute_result",
          "data": {
            "text/plain": [
              "<IPython.core.display.SVG object>"
            ],
            "image/svg+xml": "<svg height=\"618pt\" viewBox=\"0.00 0.00 345.00 636.00\" width=\"335pt\" xmlns=\"http://www.w3.org/2000/svg\" xmlns:xlink=\"http://www.w3.org/1999/xlink\">\n<g class=\"graph\" id=\"graph0\" transform=\"scale(.9722 .9722) rotate(0) translate(4 632)\">\n<title>G</title>\n<polygon fill=\"#ffffff\" points=\"-4,4 -4,-632 341,-632 341,4 -4,4\" stroke=\"transparent\"/>\n<!-- 140219352202936 -->\n<g class=\"node\" id=\"node1\">\n<title>140219352202936</title>\n<polygon fill=\"none\" points=\"0,-581.5 0,-627.5 337,-627.5 337,-581.5 0,-581.5\" stroke=\"#000000\"/>\n<text fill=\"#000000\" font-family=\"Times,serif\" font-size=\"14.00\" text-anchor=\"middle\" x=\"81.5\" y=\"-600.8\">vgg16_input: InputLayer</text>\n<polyline fill=\"none\" points=\"163,-581.5 163,-627.5 \" stroke=\"#000000\"/>\n<text fill=\"#000000\" font-family=\"Times,serif\" font-size=\"14.00\" text-anchor=\"middle\" x=\"192\" y=\"-612.3\">input:</text>\n<polyline fill=\"none\" points=\"163,-604.5 221,-604.5 \" stroke=\"#000000\"/>\n<text fill=\"#000000\" font-family=\"Times,serif\" font-size=\"14.00\" text-anchor=\"middle\" x=\"192\" y=\"-589.3\">output:</text>\n<polyline fill=\"none\" points=\"221,-581.5 221,-627.5 \" stroke=\"#000000\"/>\n<text fill=\"#000000\" font-family=\"Times,serif\" font-size=\"14.00\" text-anchor=\"middle\" x=\"279\" y=\"-612.3\">[(?, 150, 150, 3)]</text>\n<polyline fill=\"none\" points=\"221,-604.5 337,-604.5 \" stroke=\"#000000\"/>\n<text fill=\"#000000\" font-family=\"Times,serif\" font-size=\"14.00\" text-anchor=\"middle\" x=\"279\" y=\"-589.3\">[(?, 150, 150, 3)]</text>\n</g>\n<!-- 140219352061600 -->\n<g class=\"node\" id=\"node2\">\n<title>140219352061600</title>\n<polygon fill=\"none\" points=\"24.5,-498.5 24.5,-544.5 312.5,-544.5 312.5,-498.5 24.5,-498.5\" stroke=\"#000000\"/>\n<text fill=\"#000000\" font-family=\"Times,serif\" font-size=\"14.00\" text-anchor=\"middle\" x=\"86\" y=\"-517.8\">vgg16: Functional</text>\n<polyline fill=\"none\" points=\"147.5,-498.5 147.5,-544.5 \" stroke=\"#000000\"/>\n<text fill=\"#000000\" font-family=\"Times,serif\" font-size=\"14.00\" text-anchor=\"middle\" x=\"176.5\" y=\"-529.3\">input:</text>\n<polyline fill=\"none\" points=\"147.5,-521.5 205.5,-521.5 \" stroke=\"#000000\"/>\n<text fill=\"#000000\" font-family=\"Times,serif\" font-size=\"14.00\" text-anchor=\"middle\" x=\"176.5\" y=\"-506.3\">output:</text>\n<polyline fill=\"none\" points=\"205.5,-498.5 205.5,-544.5 \" stroke=\"#000000\"/>\n<text fill=\"#000000\" font-family=\"Times,serif\" font-size=\"14.00\" text-anchor=\"middle\" x=\"259\" y=\"-529.3\">(?, 150, 150, 3)</text>\n<polyline fill=\"none\" points=\"205.5,-521.5 312.5,-521.5 \" stroke=\"#000000\"/>\n<text fill=\"#000000\" font-family=\"Times,serif\" font-size=\"14.00\" text-anchor=\"middle\" x=\"259\" y=\"-506.3\">(?, 4, 4, 512)</text>\n</g>\n<!-- 140219352202936&#45;&gt;140219352061600 -->\n<g class=\"edge\" id=\"edge1\">\n<title>140219352202936-&gt;140219352061600</title>\n<path d=\"M168.5,-581.3799C168.5,-573.1745 168.5,-563.7679 168.5,-554.8786\" fill=\"none\" stroke=\"#000000\"/>\n<polygon fill=\"#000000\" points=\"172.0001,-554.784 168.5,-544.784 165.0001,-554.784 172.0001,-554.784\" stroke=\"#000000\"/>\n</g>\n<!-- 140219352561872 -->\n<g class=\"node\" id=\"node3\">\n<title>140219352561872</title>\n<polygon fill=\"none\" points=\"44.5,-415.5 44.5,-461.5 292.5,-461.5 292.5,-415.5 44.5,-415.5\" stroke=\"#000000\"/>\n<text fill=\"#000000\" font-family=\"Times,serif\" font-size=\"14.00\" text-anchor=\"middle\" x=\"93.5\" y=\"-434.8\">flatten: Flatten</text>\n<polyline fill=\"none\" points=\"142.5,-415.5 142.5,-461.5 \" stroke=\"#000000\"/>\n<text fill=\"#000000\" font-family=\"Times,serif\" font-size=\"14.00\" text-anchor=\"middle\" x=\"171.5\" y=\"-446.3\">input:</text>\n<polyline fill=\"none\" points=\"142.5,-438.5 200.5,-438.5 \" stroke=\"#000000\"/>\n<text fill=\"#000000\" font-family=\"Times,serif\" font-size=\"14.00\" text-anchor=\"middle\" x=\"171.5\" y=\"-423.3\">output:</text>\n<polyline fill=\"none\" points=\"200.5,-415.5 200.5,-461.5 \" stroke=\"#000000\"/>\n<text fill=\"#000000\" font-family=\"Times,serif\" font-size=\"14.00\" text-anchor=\"middle\" x=\"246.5\" y=\"-446.3\">(?, 4, 4, 512)</text>\n<polyline fill=\"none\" points=\"200.5,-438.5 292.5,-438.5 \" stroke=\"#000000\"/>\n<text fill=\"#000000\" font-family=\"Times,serif\" font-size=\"14.00\" text-anchor=\"middle\" x=\"246.5\" y=\"-423.3\">(?, 8192)</text>\n</g>\n<!-- 140219352061600&#45;&gt;140219352561872 -->\n<g class=\"edge\" id=\"edge2\">\n<title>140219352061600-&gt;140219352561872</title>\n<path d=\"M168.5,-498.3799C168.5,-490.1745 168.5,-480.7679 168.5,-471.8786\" fill=\"none\" stroke=\"#000000\"/>\n<polygon fill=\"#000000\" points=\"172.0001,-471.784 168.5,-461.784 165.0001,-471.784 172.0001,-471.784\" stroke=\"#000000\"/>\n</g>\n<!-- 140219352562040 -->\n<g class=\"node\" id=\"node4\">\n<title>140219352562040</title>\n<polygon fill=\"none\" points=\"59,-332.5 59,-378.5 278,-378.5 278,-332.5 59,-332.5\" stroke=\"#000000\"/>\n<text fill=\"#000000\" font-family=\"Times,serif\" font-size=\"14.00\" text-anchor=\"middle\" x=\"105\" y=\"-351.8\">dense: Dense</text>\n<polyline fill=\"none\" points=\"151,-332.5 151,-378.5 \" stroke=\"#000000\"/>\n<text fill=\"#000000\" font-family=\"Times,serif\" font-size=\"14.00\" text-anchor=\"middle\" x=\"180\" y=\"-363.3\">input:</text>\n<polyline fill=\"none\" points=\"151,-355.5 209,-355.5 \" stroke=\"#000000\"/>\n<text fill=\"#000000\" font-family=\"Times,serif\" font-size=\"14.00\" text-anchor=\"middle\" x=\"180\" y=\"-340.3\">output:</text>\n<polyline fill=\"none\" points=\"209,-332.5 209,-378.5 \" stroke=\"#000000\"/>\n<text fill=\"#000000\" font-family=\"Times,serif\" font-size=\"14.00\" text-anchor=\"middle\" x=\"243.5\" y=\"-363.3\">(?, 8192)</text>\n<polyline fill=\"none\" points=\"209,-355.5 278,-355.5 \" stroke=\"#000000\"/>\n<text fill=\"#000000\" font-family=\"Times,serif\" font-size=\"14.00\" text-anchor=\"middle\" x=\"243.5\" y=\"-340.3\">(?, 1024)</text>\n</g>\n<!-- 140219352561872&#45;&gt;140219352562040 -->\n<g class=\"edge\" id=\"edge3\">\n<title>140219352561872-&gt;140219352562040</title>\n<path d=\"M168.5,-415.3799C168.5,-407.1745 168.5,-397.7679 168.5,-388.8786\" fill=\"none\" stroke=\"#000000\"/>\n<polygon fill=\"#000000\" points=\"172.0001,-388.784 168.5,-378.784 165.0001,-388.784 172.0001,-388.784\" stroke=\"#000000\"/>\n</g>\n<!-- 140219351077832 -->\n<g class=\"node\" id=\"node5\">\n<title>140219351077832</title>\n<polygon fill=\"none\" points=\"45.5,-249.5 45.5,-295.5 291.5,-295.5 291.5,-249.5 45.5,-249.5\" stroke=\"#000000\"/>\n<text fill=\"#000000\" font-family=\"Times,serif\" font-size=\"14.00\" text-anchor=\"middle\" x=\"105\" y=\"-268.8\">dropout: Dropout</text>\n<polyline fill=\"none\" points=\"164.5,-249.5 164.5,-295.5 \" stroke=\"#000000\"/>\n<text fill=\"#000000\" font-family=\"Times,serif\" font-size=\"14.00\" text-anchor=\"middle\" x=\"193.5\" y=\"-280.3\">input:</text>\n<polyline fill=\"none\" points=\"164.5,-272.5 222.5,-272.5 \" stroke=\"#000000\"/>\n<text fill=\"#000000\" font-family=\"Times,serif\" font-size=\"14.00\" text-anchor=\"middle\" x=\"193.5\" y=\"-257.3\">output:</text>\n<polyline fill=\"none\" points=\"222.5,-249.5 222.5,-295.5 \" stroke=\"#000000\"/>\n<text fill=\"#000000\" font-family=\"Times,serif\" font-size=\"14.00\" text-anchor=\"middle\" x=\"257\" y=\"-280.3\">(?, 1024)</text>\n<polyline fill=\"none\" points=\"222.5,-272.5 291.5,-272.5 \" stroke=\"#000000\"/>\n<text fill=\"#000000\" font-family=\"Times,serif\" font-size=\"14.00\" text-anchor=\"middle\" x=\"257\" y=\"-257.3\">(?, 1024)</text>\n</g>\n<!-- 140219352562040&#45;&gt;140219351077832 -->\n<g class=\"edge\" id=\"edge4\">\n<title>140219352562040-&gt;140219351077832</title>\n<path d=\"M168.5,-332.3799C168.5,-324.1745 168.5,-314.7679 168.5,-305.8786\" fill=\"none\" stroke=\"#000000\"/>\n<polygon fill=\"#000000\" points=\"172.0001,-305.784 168.5,-295.784 165.0001,-305.784 172.0001,-305.784\" stroke=\"#000000\"/>\n</g>\n<!-- 140219351079064 -->\n<g class=\"node\" id=\"node6\">\n<title>140219351079064</title>\n<polygon fill=\"none\" points=\"51.5,-166.5 51.5,-212.5 285.5,-212.5 285.5,-166.5 51.5,-166.5\" stroke=\"#000000\"/>\n<text fill=\"#000000\" font-family=\"Times,serif\" font-size=\"14.00\" text-anchor=\"middle\" x=\"105\" y=\"-185.8\">dense_1: Dense</text>\n<polyline fill=\"none\" points=\"158.5,-166.5 158.5,-212.5 \" stroke=\"#000000\"/>\n<text fill=\"#000000\" font-family=\"Times,serif\" font-size=\"14.00\" text-anchor=\"middle\" x=\"187.5\" y=\"-197.3\">input:</text>\n<polyline fill=\"none\" points=\"158.5,-189.5 216.5,-189.5 \" stroke=\"#000000\"/>\n<text fill=\"#000000\" font-family=\"Times,serif\" font-size=\"14.00\" text-anchor=\"middle\" x=\"187.5\" y=\"-174.3\">output:</text>\n<polyline fill=\"none\" points=\"216.5,-166.5 216.5,-212.5 \" stroke=\"#000000\"/>\n<text fill=\"#000000\" font-family=\"Times,serif\" font-size=\"14.00\" text-anchor=\"middle\" x=\"251\" y=\"-197.3\">(?, 1024)</text>\n<polyline fill=\"none\" points=\"216.5,-189.5 285.5,-189.5 \" stroke=\"#000000\"/>\n<text fill=\"#000000\" font-family=\"Times,serif\" font-size=\"14.00\" text-anchor=\"middle\" x=\"251\" y=\"-174.3\">(?, 512)</text>\n</g>\n<!-- 140219351077832&#45;&gt;140219351079064 -->\n<g class=\"edge\" id=\"edge5\">\n<title>140219351077832-&gt;140219351079064</title>\n<path d=\"M168.5,-249.3799C168.5,-241.1745 168.5,-231.7679 168.5,-222.8786\" fill=\"none\" stroke=\"#000000\"/>\n<polygon fill=\"#000000\" points=\"172.0001,-222.784 168.5,-212.784 165.0001,-222.784 172.0001,-222.784\" stroke=\"#000000\"/>\n</g>\n<!-- 140219351079736 -->\n<g class=\"node\" id=\"node7\">\n<title>140219351079736</title>\n<polygon fill=\"none\" points=\"41.5,-83.5 41.5,-129.5 295.5,-129.5 295.5,-83.5 41.5,-83.5\" stroke=\"#000000\"/>\n<text fill=\"#000000\" font-family=\"Times,serif\" font-size=\"14.00\" text-anchor=\"middle\" x=\"108.5\" y=\"-102.8\">dropout_1: Dropout</text>\n<polyline fill=\"none\" points=\"175.5,-83.5 175.5,-129.5 \" stroke=\"#000000\"/>\n<text fill=\"#000000\" font-family=\"Times,serif\" font-size=\"14.00\" text-anchor=\"middle\" x=\"204.5\" y=\"-114.3\">input:</text>\n<polyline fill=\"none\" points=\"175.5,-106.5 233.5,-106.5 \" stroke=\"#000000\"/>\n<text fill=\"#000000\" font-family=\"Times,serif\" font-size=\"14.00\" text-anchor=\"middle\" x=\"204.5\" y=\"-91.3\">output:</text>\n<polyline fill=\"none\" points=\"233.5,-83.5 233.5,-129.5 \" stroke=\"#000000\"/>\n<text fill=\"#000000\" font-family=\"Times,serif\" font-size=\"14.00\" text-anchor=\"middle\" x=\"264.5\" y=\"-114.3\">(?, 512)</text>\n<polyline fill=\"none\" points=\"233.5,-106.5 295.5,-106.5 \" stroke=\"#000000\"/>\n<text fill=\"#000000\" font-family=\"Times,serif\" font-size=\"14.00\" text-anchor=\"middle\" x=\"264.5\" y=\"-91.3\">(?, 512)</text>\n</g>\n<!-- 140219351079064&#45;&gt;140219351079736 -->\n<g class=\"edge\" id=\"edge6\">\n<title>140219351079064-&gt;140219351079736</title>\n<path d=\"M168.5,-166.3799C168.5,-158.1745 168.5,-148.7679 168.5,-139.8786\" fill=\"none\" stroke=\"#000000\"/>\n<polygon fill=\"#000000\" points=\"172.0001,-139.784 168.5,-129.784 165.0001,-139.784 172.0001,-139.784\" stroke=\"#000000\"/>\n</g>\n<!-- 140219351079904 -->\n<g class=\"node\" id=\"node8\">\n<title>140219351079904</title>\n<polygon fill=\"none\" points=\"55,-.5 55,-46.5 282,-46.5 282,-.5 55,-.5\" stroke=\"#000000\"/>\n<text fill=\"#000000\" font-family=\"Times,serif\" font-size=\"14.00\" text-anchor=\"middle\" x=\"108.5\" y=\"-19.8\">dense_2: Dense</text>\n<polyline fill=\"none\" points=\"162,-.5 162,-46.5 \" stroke=\"#000000\"/>\n<text fill=\"#000000\" font-family=\"Times,serif\" font-size=\"14.00\" text-anchor=\"middle\" x=\"191\" y=\"-31.3\">input:</text>\n<polyline fill=\"none\" points=\"162,-23.5 220,-23.5 \" stroke=\"#000000\"/>\n<text fill=\"#000000\" font-family=\"Times,serif\" font-size=\"14.00\" text-anchor=\"middle\" x=\"191\" y=\"-8.3\">output:</text>\n<polyline fill=\"none\" points=\"220,-.5 220,-46.5 \" stroke=\"#000000\"/>\n<text fill=\"#000000\" font-family=\"Times,serif\" font-size=\"14.00\" text-anchor=\"middle\" x=\"251\" y=\"-31.3\">(?, 512)</text>\n<polyline fill=\"none\" points=\"220,-23.5 282,-23.5 \" stroke=\"#000000\"/>\n<text fill=\"#000000\" font-family=\"Times,serif\" font-size=\"14.00\" text-anchor=\"middle\" x=\"251\" y=\"-8.3\">(?, 1)</text>\n</g>\n<!-- 140219351079736&#45;&gt;140219351079904 -->\n<g class=\"edge\" id=\"edge7\">\n<title>140219351079736-&gt;140219351079904</title>\n<path d=\"M168.5,-83.3799C168.5,-75.1745 168.5,-65.7679 168.5,-56.8786\" fill=\"none\" stroke=\"#000000\"/>\n<polygon fill=\"#000000\" points=\"172.0001,-56.784 168.5,-46.784 165.0001,-56.784 172.0001,-56.784\" stroke=\"#000000\"/>\n</g>\n</g>\n</svg>"
          },
          "metadata": {
            "tags": []
          },
          "execution_count": 14
        }
      ]
    },
    {
      "cell_type": "code",
      "metadata": {
        "id": "hrWUlGFk2YUG",
        "outputId": "b3a710b4-9a0d-46e4-fcd2-7d2a9ff0f43d",
        "colab": {
          "base_uri": "https://localhost:8080/",
          "height": 1000
        }
      },
      "source": [
        "hist = model.fit_generator(\n",
        "    train_generator,\n",
        "    steps_per_epoch=train_steps,\n",
        "    epochs=50,\n",
        "    validation_data=eval_generator,\n",
        "    validation_steps=val_steps)"
      ],
      "execution_count": null,
      "outputs": [
        {
          "output_type": "stream",
          "text": [
            "WARNING:tensorflow:From <ipython-input-15-9a0d8f8a328f>:6: Model.fit_generator (from tensorflow.python.keras.engine.training) is deprecated and will be removed in a future version.\n",
            "Instructions for updating:\n",
            "Please use Model.fit, which supports generators.\n",
            "Epoch 1/50\n",
            "312/312 [==============================] - 51s 164ms/step - loss: 0.2966 - acc: 0.8713 - val_loss: 0.2344 - val_acc: 0.9012\n",
            "Epoch 2/50\n",
            "312/312 [==============================] - 51s 164ms/step - loss: 0.2075 - acc: 0.9121 - val_loss: 0.2890 - val_acc: 0.8778\n",
            "Epoch 3/50\n",
            "312/312 [==============================] - 50s 161ms/step - loss: 0.1737 - acc: 0.9285 - val_loss: 0.2412 - val_acc: 0.9016\n",
            "Epoch 4/50\n",
            "312/312 [==============================] - 51s 162ms/step - loss: 0.1356 - acc: 0.9450 - val_loss: 0.2539 - val_acc: 0.8988\n",
            "Epoch 5/50\n",
            "312/312 [==============================] - 50s 161ms/step - loss: 0.1008 - acc: 0.9615 - val_loss: 0.2608 - val_acc: 0.9081\n",
            "Epoch 6/50\n",
            "312/312 [==============================] - 50s 159ms/step - loss: 0.0832 - acc: 0.9659 - val_loss: 0.3321 - val_acc: 0.8898\n",
            "Epoch 7/50\n",
            "312/312 [==============================] - 49s 158ms/step - loss: 0.0545 - acc: 0.9798 - val_loss: 0.3189 - val_acc: 0.9040\n",
            "Epoch 8/50\n",
            "312/312 [==============================] - 49s 158ms/step - loss: 0.0377 - acc: 0.9873 - val_loss: 0.3918 - val_acc: 0.9004\n",
            "Epoch 9/50\n",
            "312/312 [==============================] - 49s 157ms/step - loss: 0.0223 - acc: 0.9936 - val_loss: 0.3668 - val_acc: 0.9042\n",
            "Epoch 10/50\n",
            "312/312 [==============================] - 49s 158ms/step - loss: 0.0175 - acc: 0.9944 - val_loss: 0.3923 - val_acc: 0.9028\n",
            "Epoch 11/50\n",
            "312/312 [==============================] - 49s 158ms/step - loss: 0.0114 - acc: 0.9970 - val_loss: 0.4351 - val_acc: 0.9056\n",
            "Epoch 12/50\n",
            "312/312 [==============================] - 49s 158ms/step - loss: 0.0149 - acc: 0.9946 - val_loss: 0.4446 - val_acc: 0.9018\n",
            "Epoch 13/50\n",
            "312/312 [==============================] - 49s 158ms/step - loss: 0.0261 - acc: 0.9904 - val_loss: 0.5079 - val_acc: 0.8884\n",
            "Epoch 14/50\n",
            "312/312 [==============================] - 50s 159ms/step - loss: 0.0186 - acc: 0.9931 - val_loss: 0.4277 - val_acc: 0.9042\n",
            "Epoch 15/50\n",
            "312/312 [==============================] - 50s 159ms/step - loss: 0.0157 - acc: 0.9943 - val_loss: 0.4676 - val_acc: 0.9040\n",
            "Epoch 16/50\n",
            "312/312 [==============================] - 50s 159ms/step - loss: 0.0043 - acc: 0.9993 - val_loss: 0.5181 - val_acc: 0.9052\n",
            "Epoch 17/50\n",
            "312/312 [==============================] - 50s 161ms/step - loss: 0.0187 - acc: 0.9929 - val_loss: 0.4772 - val_acc: 0.9060\n",
            "Epoch 18/50\n",
            "312/312 [==============================] - 51s 164ms/step - loss: 0.0173 - acc: 0.9937 - val_loss: 0.5238 - val_acc: 0.9016\n",
            "Epoch 19/50\n",
            "312/312 [==============================] - 52s 165ms/step - loss: 0.0078 - acc: 0.9974 - val_loss: 0.5750 - val_acc: 0.8928\n",
            "Epoch 20/50\n",
            "312/312 [==============================] - 51s 163ms/step - loss: 0.0275 - acc: 0.9898 - val_loss: 0.4564 - val_acc: 0.9026\n",
            "Epoch 21/50\n",
            "312/312 [==============================] - 51s 163ms/step - loss: 0.0022 - acc: 0.9996 - val_loss: 0.5231 - val_acc: 0.9046\n",
            "Epoch 22/50\n",
            "312/312 [==============================] - 51s 164ms/step - loss: 8.2281e-04 - acc: 1.0000 - val_loss: 0.5596 - val_acc: 0.9046\n",
            "Epoch 23/50\n",
            "312/312 [==============================] - 52s 165ms/step - loss: 4.9699e-04 - acc: 1.0000 - val_loss: 0.6486 - val_acc: 0.9044\n",
            "Epoch 24/50\n",
            "312/312 [==============================] - 51s 165ms/step - loss: 3.6242e-04 - acc: 1.0000 - val_loss: 0.6143 - val_acc: 0.9060\n",
            "Epoch 25/50\n",
            "312/312 [==============================] - 51s 164ms/step - loss: 0.0369 - acc: 0.9884 - val_loss: 0.4606 - val_acc: 0.9065\n",
            "Epoch 26/50\n",
            "312/312 [==============================] - 51s 164ms/step - loss: 0.0145 - acc: 0.9956 - val_loss: 0.4816 - val_acc: 0.9058\n",
            "Epoch 27/50\n",
            "312/312 [==============================] - 51s 164ms/step - loss: 0.0073 - acc: 0.9974 - val_loss: 0.5639 - val_acc: 0.9006\n",
            "Epoch 28/50\n",
            "312/312 [==============================] - 51s 165ms/step - loss: 0.0119 - acc: 0.9951 - val_loss: 0.5950 - val_acc: 0.9062\n",
            "Epoch 29/50\n",
            "312/312 [==============================] - 52s 166ms/step - loss: 0.0058 - acc: 0.9982 - val_loss: 0.6480 - val_acc: 0.9022\n",
            "Epoch 30/50\n",
            "312/312 [==============================] - 51s 165ms/step - loss: 0.0092 - acc: 0.9970 - val_loss: 0.5452 - val_acc: 0.9062\n",
            "Epoch 31/50\n",
            "312/312 [==============================] - 51s 164ms/step - loss: 0.0064 - acc: 0.9980 - val_loss: 0.6325 - val_acc: 0.9014\n",
            "Epoch 32/50\n",
            "312/312 [==============================] - 51s 164ms/step - loss: 0.0159 - acc: 0.9946 - val_loss: 0.7074 - val_acc: 0.8916\n",
            "Epoch 33/50\n",
            "312/312 [==============================] - 51s 164ms/step - loss: 0.0039 - acc: 0.9986 - val_loss: 0.5942 - val_acc: 0.9091\n",
            "Epoch 34/50\n",
            "312/312 [==============================] - 51s 165ms/step - loss: 0.0014 - acc: 0.9995 - val_loss: 0.6367 - val_acc: 0.9052\n",
            "Epoch 35/50\n",
            "312/312 [==============================] - 51s 165ms/step - loss: 0.0037 - acc: 0.9989 - val_loss: 0.8435 - val_acc: 0.8918\n",
            "Epoch 36/50\n",
            "312/312 [==============================] - 51s 165ms/step - loss: 0.0148 - acc: 0.9946 - val_loss: 0.5862 - val_acc: 0.9026\n",
            "Epoch 37/50\n",
            "312/312 [==============================] - 51s 165ms/step - loss: 0.0144 - acc: 0.9948 - val_loss: 0.6348 - val_acc: 0.8952\n",
            "Epoch 38/50\n",
            "312/312 [==============================] - 51s 164ms/step - loss: 0.0065 - acc: 0.9977 - val_loss: 0.5867 - val_acc: 0.9056\n",
            "Epoch 39/50\n",
            "312/312 [==============================] - 51s 164ms/step - loss: 0.0039 - acc: 0.9985 - val_loss: 0.6766 - val_acc: 0.9040\n",
            "Epoch 40/50\n",
            "312/312 [==============================] - 51s 165ms/step - loss: 3.4292e-04 - acc: 1.0000 - val_loss: 0.6493 - val_acc: 0.9075\n",
            "Epoch 41/50\n",
            "312/312 [==============================] - 51s 165ms/step - loss: 2.0146e-04 - acc: 1.0000 - val_loss: 0.6903 - val_acc: 0.9052\n",
            "Epoch 42/50\n",
            "312/312 [==============================] - 51s 164ms/step - loss: 1.5748e-04 - acc: 1.0000 - val_loss: 0.6965 - val_acc: 0.9046\n",
            "Epoch 43/50\n",
            "  8/312 [..............................] - ETA: 29s - loss: 7.7348e-05 - acc: 1.0000"
          ],
          "name": "stdout"
        }
      ]
    },
    {
      "cell_type": "code",
      "metadata": {
        "id": "rBVRlLmn2YUI"
      },
      "source": [
        "kru.show_plots(hist.history, plot_title='Using VGG16')"
      ],
      "execution_count": null,
      "outputs": []
    },
    {
      "cell_type": "code",
      "metadata": {
        "id": "agbd40QM2YUK"
      },
      "source": [
        "# 성능 평가\n",
        "loss, acc = model.evaluate_generator(train_generator, steps=train_steps, verbose=1)\n",
        "print('Training data  -> loss: %.3f, acc: %.3f' % (loss, acc))\n",
        "loss, acc = model.evaluate_generator(eval_generator, steps=val_steps, verbose=1)\n",
        "print('Cross-val data -> loss: %.3f, acc: %.3f' % (loss, acc))\n",
        "loss, acc = model.evaluate_generator(test_generator, steps=test_steps, verbose=1)\n",
        "print('Testing data   -> loss: %.3f, acc: %.3f' % (loss, acc))"
      ],
      "execution_count": null,
      "outputs": []
    },
    {
      "cell_type": "code",
      "metadata": {
        "id": "RTzUsW51wkfH"
      },
      "source": [
        "del model, vgg_base"
      ],
      "execution_count": null,
      "outputs": []
    },
    {
      "cell_type": "markdown",
      "metadata": {
        "id": "T-3yx8um7usX"
      },
      "source": [
        "# mse 인 vgg16"
      ]
    },
    {
      "cell_type": "code",
      "metadata": {
        "id": "j5fgtKwO79qJ"
      },
      "source": [
        "from keras.activations import softmax, relu, sigmoid\n",
        " \n",
        "vgg_base = keras.applications.VGG16(include_top=False, weights='imagenet',input_shape=(IMAGE_HEIGHT, IMAGE_WIDTH, NUM_CHANNELS))\n",
        "alpha = 0.00002  # weight decay coefficient\n",
        "for layer in vgg_base.layers:\n",
        "    if isinstance(layer, keras.layers.Conv2D) or isinstance(layer, keras.layers.Dense):\n",
        "      # layer.add_loss(keras.regularizers.l2(alpha)(layer.kernel))\n",
        "      layer.activation = relu\n",
        "    # if hasattr(layer, 'bias_regularizer') and layer.use_bias:\n",
        "    #   layer.add_loss(keras.regularizers.l2(alpha)(layer.bias)\n",
        "    \n",
        "model = tf.keras.models.Sequential([\n",
        "        vgg_base,\n",
        "        tf.keras.layers.Flatten(),\n",
        "        tf.keras.layers.Dense(1024, activation='relu'),\n",
        "        tf.keras.layers.Dropout(0.20),        \n",
        "        tf.keras.layers.Dense(512, activation='relu'),\n",
        "        tf.keras.layers.Dropout(0.10),         \n",
        "        tf.keras.layers.Dense(1, activation='sigmoid')    \n",
        "    ])\n",
        "vgg_base.trainable = False\n",
        "# model_vgg16.layers[-1].activation=None\n",
        "# for layer in model.layers:\n",
        "#     if isinstance(layer, keras.layers.Conv2D) or isinstance(layer, keras.layers.Dense):\n",
        "      # layer.add_loss(keras.regularizers.l2(alpha)(layer.kernel))\n",
        "      # layer.activation = sigmoid\n",
        "    # if hasattr(layer, 'bias_regularizer') and layer.use_bias:\n",
        "    #   layer.add_loss(keras.regularizers.l2(alpha)(layer.bias))\n",
        " \n",
        "model.compile(optimizer=Adam(lr=1e-4, beta_1=0.9, beta_2=0.999),\n",
        "                  loss='mse',#mse, binary_crossentropy\n",
        "                  metrics=['acc'])\n",
        "model.summary()"
      ],
      "execution_count": null,
      "outputs": []
    },
    {
      "cell_type": "code",
      "metadata": {
        "id": "Bo_otoFV79qN"
      },
      "source": [
        "from IPython.display import SVG\n",
        "from keras.utils.vis_utils import model_to_dot\n",
        "\n",
        "SVG(model_to_dot(model, show_shapes=True, dpi=70).create(prog='dot', format='svg'))"
      ],
      "execution_count": null,
      "outputs": []
    },
    {
      "cell_type": "code",
      "metadata": {
        "id": "NiD-J7-I79qP"
      },
      "source": [
        "hist = model.fit_generator(\n",
        "    train_generator,\n",
        "    steps_per_epoch=train_steps,\n",
        "    epochs=50,\n",
        "    validation_data=eval_generator,\n",
        "    validation_steps=val_steps)"
      ],
      "execution_count": null,
      "outputs": []
    },
    {
      "cell_type": "code",
      "metadata": {
        "id": "yLU_aOTk79qQ"
      },
      "source": [
        "kru.show_plots(hist.history, plot_title='Using VGG16 model')"
      ],
      "execution_count": null,
      "outputs": []
    },
    {
      "cell_type": "code",
      "metadata": {
        "id": "0mWRhVLU79qS"
      },
      "source": [
        "# 성능 평가\n",
        "loss, acc = model.evaluate_generator(train_generator, steps=train_steps, verbose=1)\n",
        "print('Training data  -> loss: %.3f, acc: %.3f' % (loss, acc))\n",
        "loss, acc = model.evaluate_generator(eval_generator, steps=val_steps, verbose=1)\n",
        "print('Cross-val data -> loss: %.3f, acc: %.3f' % (loss, acc))\n",
        "loss, acc = model.evaluate_generator(test_generator, steps=test_steps, verbose=1)\n",
        "print('Testing data   -> loss: %.3f, acc: %.3f' % (loss, acc))"
      ],
      "execution_count": null,
      "outputs": []
    },
    {
      "cell_type": "code",
      "metadata": {
        "id": "9SPXWpdTytP_"
      },
      "source": [
        "del model, vgg_base"
      ],
      "execution_count": null,
      "outputs": []
    },
    {
      "cell_type": "markdown",
      "metadata": {
        "id": "voZTC5W_8dVq"
      },
      "source": [
        "# 활성함수가 sigmoid 이며 vgg16"
      ]
    },
    {
      "cell_type": "code",
      "metadata": {
        "id": "tDjG0kwE8dVr"
      },
      "source": [
        "from keras.activations import softmax, relu, sigmoid\n",
        " \n",
        "vgg_base = keras.applications.VGG16(include_top=False, weights='imagenet',input_shape=(IMAGE_HEIGHT, IMAGE_WIDTH, NUM_CHANNELS))\n",
        "alpha = 0.00002  # weight decay coefficient\n",
        "for layer in vgg_base.layers:\n",
        "    if isinstance(layer, keras.layers.Conv2D) or isinstance(layer, keras.layers.Dense):\n",
        "      # layer.add_loss(keras.regularizers.l2(alpha)(layer.kernel))\n",
        "      layer.activation = sigmoid\n",
        "    # if hasattr(layer, 'bias_regularizer') and layer.use_bias:\n",
        "    #   layer.add_loss(keras.regularizers.l2(alpha)(layer.bias)\n",
        "    \n",
        "model = tf.keras.models.Sequential([\n",
        "        vgg_base,\n",
        "        tf.keras.layers.Flatten(),\n",
        "        tf.keras.layers.Dense(1024, activation='relu'),\n",
        "        tf.keras.layers.Dropout(0.20),        \n",
        "        tf.keras.layers.Dense(512, activation='relu'),\n",
        "        tf.keras.layers.Dropout(0.10),         \n",
        "        tf.keras.layers.Dense(1, activation='sigmoid')    \n",
        "    ])\n",
        "vgg_base.trainable = False\n",
        "# model_vgg16.layers[-1].activation=None\n",
        "for layer in model.layers:\n",
        "    if isinstance(layer, keras.layers.Conv2D) or isinstance(layer, keras.layers.Dense):\n",
        "      # layer.add_loss(keras.regularizers.l2(alpha)(layer.kernel))\n",
        "      layer.activation = sigmoid\n",
        "    # if hasattr(layer, 'bias_regularizer') and layer.use_bias:\n",
        "    #   layer.add_loss(keras.regularizers.l2(alpha)(layer.bias))\n",
        " \n",
        "model.compile(optimizer=Adam(lr=1e-4, beta_1=0.9, beta_2=0.999),\n",
        "                  loss='binary_crossentropy',#mse, binary_crossentropy\n",
        "                  metrics=['acc'])\n",
        "model.summary()"
      ],
      "execution_count": null,
      "outputs": []
    },
    {
      "cell_type": "code",
      "metadata": {
        "id": "otZ2ft-V8dVu"
      },
      "source": [
        "from IPython.display import SVG\n",
        "from keras.utils.vis_utils import model_to_dot\n",
        "\n",
        "SVG(model_to_dot(model, show_shapes=True, dpi=70).create(prog='dot', format='svg'))"
      ],
      "execution_count": null,
      "outputs": []
    },
    {
      "cell_type": "code",
      "metadata": {
        "id": "S98GxzEA8dVw"
      },
      "source": [
        "hist = model.fit_generator(\n",
        "    train_generator,\n",
        "    steps_per_epoch=train_steps,\n",
        "    epochs=50,\n",
        "    validation_data=eval_generator,\n",
        "    validation_steps=val_steps)"
      ],
      "execution_count": null,
      "outputs": []
    },
    {
      "cell_type": "code",
      "metadata": {
        "id": "InSvEYEK8dVz"
      },
      "source": [
        "kru.show_plots(hist.history, plot_title='Using VGG16 model')"
      ],
      "execution_count": null,
      "outputs": []
    },
    {
      "cell_type": "code",
      "metadata": {
        "id": "C7Ix6bBk8dV1"
      },
      "source": [
        "# 성능 평가\n",
        "loss, acc = model.evaluate_generator(train_generator, steps=train_steps, verbose=1)\n",
        "print('Training data  -> loss: %.3f, acc: %.3f' % (loss, acc))\n",
        "loss, acc = model.evaluate_generator(eval_generator, steps=val_steps, verbose=1)\n",
        "print('Cross-val data -> loss: %.3f, acc: %.3f' % (loss, acc))\n",
        "loss, acc = model.evaluate_generator(test_generator, steps=test_steps, verbose=1)\n",
        "print('Testing data   -> loss: %.3f, acc: %.3f' % (loss, acc))"
      ],
      "execution_count": null,
      "outputs": []
    },
    {
      "cell_type": "code",
      "metadata": {
        "id": "nijrJW-7yutX"
      },
      "source": [
        "del model, vgg_base"
      ],
      "execution_count": null,
      "outputs": []
    },
    {
      "cell_type": "markdown",
      "metadata": {
        "id": "wbCMhPkxhezL"
      },
      "source": [
        "# 활성함수가 sigmoid이며 mse 인 vgg16"
      ]
    },
    {
      "cell_type": "code",
      "metadata": {
        "id": "WAZMrJonrkYp"
      },
      "source": [
        "from keras.activations import softmax, relu, sigmoid\n",
        " \n",
        "vgg_base = keras.applications.VGG16(include_top=False, weights='imagenet',input_shape=(IMAGE_HEIGHT, IMAGE_WIDTH, NUM_CHANNELS))\n",
        "alpha = 0.00002  # weight decay coefficient\n",
        "for layer in vgg_base.layers:\n",
        "    if isinstance(layer, keras.layers.Conv2D) or isinstance(layer, keras.layers.Dense):\n",
        "      # layer.add_loss(keras.regularizers.l2(alpha)(layer.kernel))\n",
        "      layer.activation = sigmoid\n",
        "    # if hasattr(layer, 'bias_regularizer') and layer.use_bias:\n",
        "    #   layer.add_loss(keras.regularizers.l2(alpha)(layer.bias)\n",
        "    \n",
        "model = tf.keras.models.Sequential([\n",
        "        vgg_base,\n",
        "        tf.keras.layers.Flatten(),\n",
        "        tf.keras.layers.Dense(1024, activation='relu'),\n",
        "        tf.keras.layers.Dropout(0.20),        \n",
        "        tf.keras.layers.Dense(512, activation='relu'),\n",
        "        tf.keras.layers.Dropout(0.10),         \n",
        "        tf.keras.layers.Dense(1, activation='sigmoid')    \n",
        "    ])\n",
        "vgg_base.trainable = False\n",
        "# model_vgg16.layers[-1].activation=None\n",
        "for layer in model.layers:\n",
        "    if isinstance(layer, keras.layers.Conv2D) or isinstance(layer, keras.layers.Dense):\n",
        "      # layer.add_loss(keras.regularizers.l2(alpha)(layer.kernel))\n",
        "      layer.activation = sigmoid\n",
        "    # if hasattr(layer, 'bias_regularizer') and layer.use_bias:\n",
        "    #   layer.add_loss(keras.regularizers.l2(alpha)(layer.bias))\n",
        " \n",
        "model.compile(optimizer=Adam(lr=1e-4, beta_1=0.9, beta_2=0.999),\n",
        "                  loss='mse',#mse, binary_crossentropy\n",
        "                  metrics=['acc'])\n",
        "model.summary()"
      ],
      "execution_count": null,
      "outputs": []
    },
    {
      "cell_type": "code",
      "metadata": {
        "id": "tC95Tb90tQ20"
      },
      "source": [
        "from IPython.display import SVG\n",
        "from keras.utils.vis_utils import model_to_dot\n",
        "\n",
        "SVG(model_to_dot(model, show_shapes=True, dpi=70).create(prog='dot', format='svg'))"
      ],
      "execution_count": null,
      "outputs": []
    },
    {
      "cell_type": "code",
      "metadata": {
        "id": "h5Pw9I-Za6My"
      },
      "source": [
        "hist = model.fit_generator(\n",
        "    train_generator,\n",
        "    steps_per_epoch=train_steps,\n",
        "    epochs=50,\n",
        "    validation_data=eval_generator,\n",
        "    validation_steps=val_steps)"
      ],
      "execution_count": null,
      "outputs": []
    },
    {
      "cell_type": "code",
      "metadata": {
        "id": "jBQkhHKHQ3i4"
      },
      "source": [
        "kru.show_plots(hist.history, plot_title='Using VGG16 model')"
      ],
      "execution_count": null,
      "outputs": []
    },
    {
      "cell_type": "code",
      "metadata": {
        "id": "mSXUGOLZ81OS"
      },
      "source": [
        "# 성능 평가\n",
        "loss, acc = model.evaluate_generator(train_generator, steps=train_steps, verbose=1)\n",
        "print('Training data  -> loss: %.3f, acc: %.3f' % (loss, acc))\n",
        "loss, acc = model.evaluate_generator(eval_generator, steps=val_steps, verbose=1)\n",
        "print('Cross-val data -> loss: %.3f, acc: %.3f' % (loss, acc))\n",
        "loss, acc = model.evaluate_generator(test_generator, steps=test_steps, verbose=1)\n",
        "print('Testing data   -> loss: %.3f, acc: %.3f' % (loss, acc))"
      ],
      "execution_count": null,
      "outputs": []
    },
    {
      "cell_type": "code",
      "metadata": {
        "id": "XEpzkgCgyvbO"
      },
      "source": [
        "del model, vgg_base"
      ],
      "execution_count": null,
      "outputs": []
    }
  ]
}